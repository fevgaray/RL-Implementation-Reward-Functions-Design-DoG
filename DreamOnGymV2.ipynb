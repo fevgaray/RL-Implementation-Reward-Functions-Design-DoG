{
  "cells": [
    {
      "cell_type": "markdown",
      "metadata": {
        "id": "xuBdhTB1lLEG"
      },
      "source": [
        "# Instalación:\n",
        "\n",
        "\n",
        "### Las primeras 3 celdas solo se ejecutan 1 vez\n",
        "\n",
        "\n"
      ]
    },
    {
      "cell_type": "code",
      "execution_count": null,
      "metadata": {
        "colab": {
          "base_uri": "https://localhost:8080/"
        },
        "id": "0as1tIllSCtg",
        "outputId": "efedd664-51ab-44e8-a105-6caf0c6e81e9"
      },
      "outputs": [
        {
          "output_type": "stream",
          "name": "stdout",
          "text": [
            "Mounted at /content/drive\n"
          ]
        }
      ],
      "source": [
        "import os, sys\n",
        "from google.colab import drive\n",
        "\n",
        "drive.mount('/content/drive')\n",
        "nb_path = '/content/notebooks'\n",
        "os.symlink('/content/drive/My Drive/Colab Notebooks', nb_path)\n",
        "sys.path.insert(0,nb_path)"
      ]
    },
    {
      "cell_type": "markdown",
      "metadata": {
        "id": "xF_sIV7wlZst"
      },
      "source": [
        "## Instalación de biblioteca Stable Baseline\n",
        "\n",
        "\n",
        "\n",
        "### Biblioteca que contiene los modelos\n"
      ]
    },
    {
      "cell_type": "code",
      "execution_count": null,
      "metadata": {
        "colab": {
          "base_uri": "https://localhost:8080/"
        },
        "id": "U_jlT-dRZZIH",
        "outputId": "b0a7cb1a-00e1-4de6-f64f-41b027aeda23"
      },
      "outputs": [
        {
          "output_type": "stream",
          "name": "stdout",
          "text": [
            "Collecting git+https://github.com/Stable-Baselines-Team/stable-baselines3-contrib\n",
            "  Cloning https://github.com/Stable-Baselines-Team/stable-baselines3-contrib to /tmp/pip-req-build-4zonuzzl\n",
            "  Running command git clone --filter=blob:none --quiet https://github.com/Stable-Baselines-Team/stable-baselines3-contrib /tmp/pip-req-build-4zonuzzl\n",
            "  Resolved https://github.com/Stable-Baselines-Team/stable-baselines3-contrib to commit 707cb0f9cd9104c989a3e4d4cf30965b64ca7339\n",
            "  Installing build dependencies ... \u001b[?25l\u001b[?25hdone\n",
            "  Getting requirements to build wheel ... \u001b[?25l\u001b[?25hdone\n",
            "  Preparing metadata (pyproject.toml) ... \u001b[?25l\u001b[?25hdone\n",
            "Collecting stable-baselines3<3.0,>=2.2.1 (from sb3-contrib==2.2.1)\n",
            "  Using cached stable_baselines3-2.2.1-py3-none-any.whl (181 kB)\n",
            "Collecting gymnasium<0.30,>=0.28.1 (from stable-baselines3<3.0,>=2.2.1->sb3-contrib==2.2.1)\n",
            "  Using cached gymnasium-0.29.1-py3-none-any.whl (953 kB)\n",
            "Requirement already satisfied: numpy>=1.20 in /usr/local/lib/python3.10/dist-packages (from stable-baselines3<3.0,>=2.2.1->sb3-contrib==2.2.1) (1.23.5)\n",
            "Requirement already satisfied: torch>=1.13 in /usr/local/lib/python3.10/dist-packages (from stable-baselines3<3.0,>=2.2.1->sb3-contrib==2.2.1) (2.1.0+cu118)\n",
            "Requirement already satisfied: cloudpickle in /usr/local/lib/python3.10/dist-packages (from stable-baselines3<3.0,>=2.2.1->sb3-contrib==2.2.1) (2.2.1)\n",
            "Requirement already satisfied: pandas in /usr/local/lib/python3.10/dist-packages (from stable-baselines3<3.0,>=2.2.1->sb3-contrib==2.2.1) (1.5.3)\n",
            "Requirement already satisfied: matplotlib in /usr/local/lib/python3.10/dist-packages (from stable-baselines3<3.0,>=2.2.1->sb3-contrib==2.2.1) (3.7.1)\n",
            "Requirement already satisfied: typing-extensions>=4.3.0 in /usr/local/lib/python3.10/dist-packages (from gymnasium<0.30,>=0.28.1->stable-baselines3<3.0,>=2.2.1->sb3-contrib==2.2.1) (4.5.0)\n",
            "Collecting farama-notifications>=0.0.1 (from gymnasium<0.30,>=0.28.1->stable-baselines3<3.0,>=2.2.1->sb3-contrib==2.2.1)\n",
            "  Using cached Farama_Notifications-0.0.4-py3-none-any.whl (2.5 kB)\n",
            "Requirement already satisfied: filelock in /usr/local/lib/python3.10/dist-packages (from torch>=1.13->stable-baselines3<3.0,>=2.2.1->sb3-contrib==2.2.1) (3.13.1)\n",
            "Requirement already satisfied: sympy in /usr/local/lib/python3.10/dist-packages (from torch>=1.13->stable-baselines3<3.0,>=2.2.1->sb3-contrib==2.2.1) (1.12)\n",
            "Requirement already satisfied: networkx in /usr/local/lib/python3.10/dist-packages (from torch>=1.13->stable-baselines3<3.0,>=2.2.1->sb3-contrib==2.2.1) (3.2.1)\n",
            "Requirement already satisfied: jinja2 in /usr/local/lib/python3.10/dist-packages (from torch>=1.13->stable-baselines3<3.0,>=2.2.1->sb3-contrib==2.2.1) (3.1.2)\n",
            "Requirement already satisfied: fsspec in /usr/local/lib/python3.10/dist-packages (from torch>=1.13->stable-baselines3<3.0,>=2.2.1->sb3-contrib==2.2.1) (2023.6.0)\n",
            "Requirement already satisfied: triton==2.1.0 in /usr/local/lib/python3.10/dist-packages (from torch>=1.13->stable-baselines3<3.0,>=2.2.1->sb3-contrib==2.2.1) (2.1.0)\n",
            "Requirement already satisfied: contourpy>=1.0.1 in /usr/local/lib/python3.10/dist-packages (from matplotlib->stable-baselines3<3.0,>=2.2.1->sb3-contrib==2.2.1) (1.2.0)\n",
            "Requirement already satisfied: cycler>=0.10 in /usr/local/lib/python3.10/dist-packages (from matplotlib->stable-baselines3<3.0,>=2.2.1->sb3-contrib==2.2.1) (0.12.1)\n",
            "Requirement already satisfied: fonttools>=4.22.0 in /usr/local/lib/python3.10/dist-packages (from matplotlib->stable-baselines3<3.0,>=2.2.1->sb3-contrib==2.2.1) (4.44.3)\n",
            "Requirement already satisfied: kiwisolver>=1.0.1 in /usr/local/lib/python3.10/dist-packages (from matplotlib->stable-baselines3<3.0,>=2.2.1->sb3-contrib==2.2.1) (1.4.5)\n",
            "Requirement already satisfied: packaging>=20.0 in /usr/local/lib/python3.10/dist-packages (from matplotlib->stable-baselines3<3.0,>=2.2.1->sb3-contrib==2.2.1) (23.2)\n",
            "Requirement already satisfied: pillow>=6.2.0 in /usr/local/lib/python3.10/dist-packages (from matplotlib->stable-baselines3<3.0,>=2.2.1->sb3-contrib==2.2.1) (9.4.0)\n",
            "Requirement already satisfied: pyparsing>=2.3.1 in /usr/local/lib/python3.10/dist-packages (from matplotlib->stable-baselines3<3.0,>=2.2.1->sb3-contrib==2.2.1) (3.1.1)\n",
            "Requirement already satisfied: python-dateutil>=2.7 in /usr/local/lib/python3.10/dist-packages (from matplotlib->stable-baselines3<3.0,>=2.2.1->sb3-contrib==2.2.1) (2.8.2)\n",
            "Requirement already satisfied: pytz>=2020.1 in /usr/local/lib/python3.10/dist-packages (from pandas->stable-baselines3<3.0,>=2.2.1->sb3-contrib==2.2.1) (2023.3.post1)\n",
            "Requirement already satisfied: six>=1.5 in /usr/local/lib/python3.10/dist-packages (from python-dateutil>=2.7->matplotlib->stable-baselines3<3.0,>=2.2.1->sb3-contrib==2.2.1) (1.16.0)\n",
            "Requirement already satisfied: MarkupSafe>=2.0 in /usr/local/lib/python3.10/dist-packages (from jinja2->torch>=1.13->stable-baselines3<3.0,>=2.2.1->sb3-contrib==2.2.1) (2.1.3)\n",
            "Requirement already satisfied: mpmath>=0.19 in /usr/local/lib/python3.10/dist-packages (from sympy->torch>=1.13->stable-baselines3<3.0,>=2.2.1->sb3-contrib==2.2.1) (1.3.0)\n",
            "Building wheels for collected packages: sb3-contrib\n",
            "  Building wheel for sb3-contrib (pyproject.toml) ... \u001b[?25l\u001b[?25hdone\n",
            "  Created wheel for sb3-contrib: filename=sb3_contrib-2.2.1-py3-none-any.whl size=80668 sha256=5916a69122ff1d5b70b89c2bac2bdbdd7175d9ca11e0326604f1e4326bac5b9b\n",
            "  Stored in directory: /tmp/pip-ephem-wheel-cache-xhqkjy67/wheels/f8/e1/97/7e886248901c65ffe4ff7a9c16bccfbde992692ac10d99ee41\n",
            "Successfully built sb3-contrib\n",
            "Installing collected packages: farama-notifications, gymnasium, stable-baselines3, sb3-contrib\n",
            "Successfully installed farama-notifications-0.0.4 gymnasium-0.29.1 sb3-contrib-2.2.1 stable-baselines3-2.2.1\n"
          ]
        }
      ],
      "source": [
        "!pip install --target=$nb_path git+https://github.com/Stable-Baselines-Team/stable-baselines3-contrib"
      ]
    },
    {
      "cell_type": "markdown",
      "metadata": {
        "id": "ZBLhpjZZlmfG"
      },
      "source": [
        "## Instalación del Dream On Gym\n",
        "\n",
        "### Contiene el ambiente de redes opticas y el simulador"
      ]
    },
    {
      "cell_type": "code",
      "execution_count": null,
      "metadata": {
        "colab": {
          "base_uri": "https://localhost:8080/"
        },
        "id": "aKS63K7QsAIn",
        "outputId": "5d0871e3-9ecf-4739-82de-08ef6c5d57a9"
      },
      "outputs": [
        {
          "output_type": "stream",
          "name": "stdout",
          "text": [
            "Collecting dream-on-gym-v2==0.0.6\n",
            "  Downloading dream_on_gym_v2-0.0.6.tar.gz (27 kB)\n",
            "  Preparing metadata (setup.py) ... \u001b[?25l\u001b[?25hdone\n",
            "Requirement already satisfied: numpy in /usr/local/lib/python3.10/dist-packages (from dream-on-gym-v2==0.0.6) (1.23.5)\n",
            "Requirement already satisfied: jsonschema in /usr/local/lib/python3.10/dist-packages (from dream-on-gym-v2==0.0.6) (4.19.2)\n",
            "Requirement already satisfied: gymnasium in /usr/local/lib/python3.10/dist-packages (from dream-on-gym-v2==0.0.6) (0.29.1)\n",
            "Requirement already satisfied: importlib-metadata in /usr/local/lib/python3.10/dist-packages (from dream-on-gym-v2==0.0.6) (6.8.0)\n",
            "Collecting tensorflow==2.12.0 (from dream-on-gym-v2==0.0.6)\n",
            "  Downloading tensorflow-2.12.0-cp310-cp310-manylinux_2_17_x86_64.manylinux2014_x86_64.whl (585.9 MB)\n",
            "\u001b[2K     \u001b[90m━━━━━━━━━━━━━━━━━━━━━━━━━━━━━━━━━━━━━━━━\u001b[0m \u001b[32m585.9/585.9 MB\u001b[0m \u001b[31m1.9 MB/s\u001b[0m eta \u001b[36m0:00:00\u001b[0m\n",
            "\u001b[?25hRequirement already satisfied: protobuf in /usr/local/lib/python3.10/dist-packages (from dream-on-gym-v2==0.0.6) (3.20.3)\n",
            "Requirement already satisfied: stable-baselines3[extra] in /usr/local/lib/python3.10/dist-packages (from dream-on-gym-v2==0.0.6) (2.2.1)\n",
            "Collecting mpi4py (from dream-on-gym-v2==0.0.6)\n",
            "  Downloading mpi4py-3.1.5.tar.gz (2.5 MB)\n",
            "\u001b[2K     \u001b[90m━━━━━━━━━━━━━━━━━━━━━━━━━━━━━━━━━━━━━━━━\u001b[0m \u001b[32m2.5/2.5 MB\u001b[0m \u001b[31m56.3 MB/s\u001b[0m eta \u001b[36m0:00:00\u001b[0m\n",
            "\u001b[?25h  Installing build dependencies ... \u001b[?25l\u001b[?25hdone\n",
            "  Getting requirements to build wheel ... \u001b[?25l\u001b[?25hdone\n",
            "  Preparing metadata (pyproject.toml) ... \u001b[?25l\u001b[?25hdone\n",
            "Requirement already satisfied: absl-py>=1.0.0 in /usr/local/lib/python3.10/dist-packages (from tensorflow==2.12.0->dream-on-gym-v2==0.0.6) (1.4.0)\n",
            "Requirement already satisfied: astunparse>=1.6.0 in /usr/local/lib/python3.10/dist-packages (from tensorflow==2.12.0->dream-on-gym-v2==0.0.6) (1.6.3)\n",
            "Requirement already satisfied: flatbuffers>=2.0 in /usr/local/lib/python3.10/dist-packages (from tensorflow==2.12.0->dream-on-gym-v2==0.0.6) (23.5.26)\n",
            "Collecting gast<=0.4.0,>=0.2.1 (from tensorflow==2.12.0->dream-on-gym-v2==0.0.6)\n",
            "  Downloading gast-0.4.0-py3-none-any.whl (9.8 kB)\n",
            "Requirement already satisfied: google-pasta>=0.1.1 in /usr/local/lib/python3.10/dist-packages (from tensorflow==2.12.0->dream-on-gym-v2==0.0.6) (0.2.0)\n",
            "Requirement already satisfied: grpcio<2.0,>=1.24.3 in /usr/local/lib/python3.10/dist-packages (from tensorflow==2.12.0->dream-on-gym-v2==0.0.6) (1.59.2)\n",
            "Requirement already satisfied: h5py>=2.9.0 in /usr/local/lib/python3.10/dist-packages (from tensorflow==2.12.0->dream-on-gym-v2==0.0.6) (3.9.0)\n",
            "Requirement already satisfied: jax>=0.3.15 in /usr/local/lib/python3.10/dist-packages (from tensorflow==2.12.0->dream-on-gym-v2==0.0.6) (0.4.20)\n",
            "Collecting keras<2.13,>=2.12.0 (from tensorflow==2.12.0->dream-on-gym-v2==0.0.6)\n",
            "  Downloading keras-2.12.0-py2.py3-none-any.whl (1.7 MB)\n",
            "\u001b[2K     \u001b[90m━━━━━━━━━━━━━━━━━━━━━━━━━━━━━━━━━━━━━━━━\u001b[0m \u001b[32m1.7/1.7 MB\u001b[0m \u001b[31m75.2 MB/s\u001b[0m eta \u001b[36m0:00:00\u001b[0m\n",
            "\u001b[?25hRequirement already satisfied: libclang>=13.0.0 in /usr/local/lib/python3.10/dist-packages (from tensorflow==2.12.0->dream-on-gym-v2==0.0.6) (16.0.6)\n",
            "Requirement already satisfied: opt-einsum>=2.3.2 in /usr/local/lib/python3.10/dist-packages (from tensorflow==2.12.0->dream-on-gym-v2==0.0.6) (3.3.0)\n",
            "Requirement already satisfied: packaging in /usr/local/lib/python3.10/dist-packages (from tensorflow==2.12.0->dream-on-gym-v2==0.0.6) (23.2)\n",
            "Requirement already satisfied: setuptools in /usr/local/lib/python3.10/dist-packages (from tensorflow==2.12.0->dream-on-gym-v2==0.0.6) (67.7.2)\n",
            "Requirement already satisfied: six>=1.12.0 in /usr/local/lib/python3.10/dist-packages (from tensorflow==2.12.0->dream-on-gym-v2==0.0.6) (1.16.0)\n",
            "Collecting tensorboard<2.13,>=2.12 (from tensorflow==2.12.0->dream-on-gym-v2==0.0.6)\n",
            "  Downloading tensorboard-2.12.3-py3-none-any.whl (5.6 MB)\n",
            "\u001b[2K     \u001b[90m━━━━━━━━━━━━━━━━━━━━━━━━━━━━━━━━━━━━━━━━\u001b[0m \u001b[32m5.6/5.6 MB\u001b[0m \u001b[31m84.6 MB/s\u001b[0m eta \u001b[36m0:00:00\u001b[0m\n",
            "\u001b[?25hCollecting tensorflow-estimator<2.13,>=2.12.0 (from tensorflow==2.12.0->dream-on-gym-v2==0.0.6)\n",
            "  Downloading tensorflow_estimator-2.12.0-py2.py3-none-any.whl (440 kB)\n",
            "\u001b[2K     \u001b[90m━━━━━━━━━━━━━━━━━━━━━━━━━━━━━━━━━━━━━━━━\u001b[0m \u001b[32m440.7/440.7 kB\u001b[0m \u001b[31m38.9 MB/s\u001b[0m eta \u001b[36m0:00:00\u001b[0m\n",
            "\u001b[?25hRequirement already satisfied: termcolor>=1.1.0 in /usr/local/lib/python3.10/dist-packages (from tensorflow==2.12.0->dream-on-gym-v2==0.0.6) (2.3.0)\n",
            "Requirement already satisfied: typing-extensions>=3.6.6 in /usr/local/lib/python3.10/dist-packages (from tensorflow==2.12.0->dream-on-gym-v2==0.0.6) (4.5.0)\n",
            "Requirement already satisfied: wrapt<1.15,>=1.11.0 in /usr/local/lib/python3.10/dist-packages (from tensorflow==2.12.0->dream-on-gym-v2==0.0.6) (1.14.1)\n",
            "Requirement already satisfied: tensorflow-io-gcs-filesystem>=0.23.1 in /usr/local/lib/python3.10/dist-packages (from tensorflow==2.12.0->dream-on-gym-v2==0.0.6) (0.34.0)\n",
            "Requirement already satisfied: cloudpickle>=1.2.0 in /usr/local/lib/python3.10/dist-packages (from gymnasium->dream-on-gym-v2==0.0.6) (2.2.1)\n",
            "Requirement already satisfied: farama-notifications>=0.0.1 in /usr/local/lib/python3.10/dist-packages (from gymnasium->dream-on-gym-v2==0.0.6) (0.0.4)\n",
            "Requirement already satisfied: zipp>=0.5 in /usr/local/lib/python3.10/dist-packages (from importlib-metadata->dream-on-gym-v2==0.0.6) (3.17.0)\n",
            "Requirement already satisfied: attrs>=22.2.0 in /usr/local/lib/python3.10/dist-packages (from jsonschema->dream-on-gym-v2==0.0.6) (23.1.0)\n",
            "Requirement already satisfied: jsonschema-specifications>=2023.03.6 in /usr/local/lib/python3.10/dist-packages (from jsonschema->dream-on-gym-v2==0.0.6) (2023.11.1)\n",
            "Requirement already satisfied: referencing>=0.28.4 in /usr/local/lib/python3.10/dist-packages (from jsonschema->dream-on-gym-v2==0.0.6) (0.31.0)\n",
            "Requirement already satisfied: rpds-py>=0.7.1 in /usr/local/lib/python3.10/dist-packages (from jsonschema->dream-on-gym-v2==0.0.6) (0.13.0)\n",
            "Requirement already satisfied: torch>=1.13 in /usr/local/lib/python3.10/dist-packages (from stable-baselines3[extra]->dream-on-gym-v2==0.0.6) (2.1.0+cu118)\n",
            "Requirement already satisfied: pandas in /usr/local/lib/python3.10/dist-packages (from stable-baselines3[extra]->dream-on-gym-v2==0.0.6) (1.5.3)\n",
            "Requirement already satisfied: matplotlib in /usr/local/lib/python3.10/dist-packages (from stable-baselines3[extra]->dream-on-gym-v2==0.0.6) (3.7.1)\n",
            "Requirement already satisfied: opencv-python in /usr/local/lib/python3.10/dist-packages (from stable-baselines3[extra]->dream-on-gym-v2==0.0.6) (4.8.0.76)\n",
            "Requirement already satisfied: pygame in /usr/local/lib/python3.10/dist-packages (from stable-baselines3[extra]->dream-on-gym-v2==0.0.6) (2.5.2)\n",
            "Requirement already satisfied: psutil in /usr/local/lib/python3.10/dist-packages (from stable-baselines3[extra]->dream-on-gym-v2==0.0.6) (5.9.5)\n",
            "Requirement already satisfied: tqdm in /usr/local/lib/python3.10/dist-packages (from stable-baselines3[extra]->dream-on-gym-v2==0.0.6) (4.66.1)\n",
            "Requirement already satisfied: rich in /usr/local/lib/python3.10/dist-packages (from stable-baselines3[extra]->dream-on-gym-v2==0.0.6) (13.7.0)\n",
            "Collecting shimmy[atari]~=1.3.0 (from stable-baselines3[extra]->dream-on-gym-v2==0.0.6)\n",
            "  Downloading Shimmy-1.3.0-py3-none-any.whl (37 kB)\n",
            "Requirement already satisfied: pillow in /usr/local/lib/python3.10/dist-packages (from stable-baselines3[extra]->dream-on-gym-v2==0.0.6) (9.4.0)\n",
            "Collecting autorom[accept-rom-license]~=0.6.1 (from stable-baselines3[extra]->dream-on-gym-v2==0.0.6)\n",
            "  Downloading AutoROM-0.6.1-py3-none-any.whl (9.4 kB)\n",
            "Requirement already satisfied: wheel<1.0,>=0.23.0 in /usr/local/lib/python3.10/dist-packages (from astunparse>=1.6.0->tensorflow==2.12.0->dream-on-gym-v2==0.0.6) (0.41.3)\n",
            "Requirement already satisfied: click in /usr/local/lib/python3.10/dist-packages (from autorom[accept-rom-license]~=0.6.1->stable-baselines3[extra]->dream-on-gym-v2==0.0.6) (8.1.7)\n",
            "Requirement already satisfied: requests in /usr/local/lib/python3.10/dist-packages (from autorom[accept-rom-license]~=0.6.1->stable-baselines3[extra]->dream-on-gym-v2==0.0.6) (2.31.0)\n",
            "Collecting AutoROM.accept-rom-license (from autorom[accept-rom-license]~=0.6.1->stable-baselines3[extra]->dream-on-gym-v2==0.0.6)\n",
            "  Downloading AutoROM.accept-rom-license-0.6.1.tar.gz (434 kB)\n",
            "\u001b[2K     \u001b[90m━━━━━━━━━━━━━━━━━━━━━━━━━━━━━━━━━━━━━━━━\u001b[0m \u001b[32m434.7/434.7 kB\u001b[0m \u001b[31m38.6 MB/s\u001b[0m eta \u001b[36m0:00:00\u001b[0m\n",
            "\u001b[?25h  Installing build dependencies ... \u001b[?25l\u001b[?25hdone\n",
            "  Getting requirements to build wheel ... \u001b[?25l\u001b[?25hdone\n",
            "  Preparing metadata (pyproject.toml) ... \u001b[?25l\u001b[?25hdone\n",
            "Requirement already satisfied: ml-dtypes>=0.2.0 in /usr/local/lib/python3.10/dist-packages (from jax>=0.3.15->tensorflow==2.12.0->dream-on-gym-v2==0.0.6) (0.2.0)\n",
            "Requirement already satisfied: scipy>=1.9 in /usr/local/lib/python3.10/dist-packages (from jax>=0.3.15->tensorflow==2.12.0->dream-on-gym-v2==0.0.6) (1.11.3)\n",
            "Collecting ale-py~=0.8.1 (from shimmy[atari]~=1.3.0->stable-baselines3[extra]->dream-on-gym-v2==0.0.6)\n",
            "  Downloading ale_py-0.8.1-cp310-cp310-manylinux_2_17_x86_64.manylinux2014_x86_64.whl (1.7 MB)\n",
            "\u001b[2K     \u001b[90m━━━━━━━━━━━━━━━━━━━━━━━━━━━━━━━━━━━━━━━━\u001b[0m \u001b[32m1.7/1.7 MB\u001b[0m \u001b[31m77.5 MB/s\u001b[0m eta \u001b[36m0:00:00\u001b[0m\n",
            "\u001b[?25hRequirement already satisfied: google-auth<3,>=1.6.3 in /usr/local/lib/python3.10/dist-packages (from tensorboard<2.13,>=2.12->tensorflow==2.12.0->dream-on-gym-v2==0.0.6) (2.17.3)\n",
            "Requirement already satisfied: google-auth-oauthlib<1.1,>=0.5 in /usr/local/lib/python3.10/dist-packages (from tensorboard<2.13,>=2.12->tensorflow==2.12.0->dream-on-gym-v2==0.0.6) (1.0.0)\n",
            "Requirement already satisfied: markdown>=2.6.8 in /usr/local/lib/python3.10/dist-packages (from tensorboard<2.13,>=2.12->tensorflow==2.12.0->dream-on-gym-v2==0.0.6) (3.5.1)\n",
            "Requirement already satisfied: tensorboard-data-server<0.8.0,>=0.7.0 in /usr/local/lib/python3.10/dist-packages (from tensorboard<2.13,>=2.12->tensorflow==2.12.0->dream-on-gym-v2==0.0.6) (0.7.2)\n",
            "Requirement already satisfied: werkzeug>=1.0.1 in /usr/local/lib/python3.10/dist-packages (from tensorboard<2.13,>=2.12->tensorflow==2.12.0->dream-on-gym-v2==0.0.6) (3.0.1)\n",
            "Requirement already satisfied: filelock in /usr/local/lib/python3.10/dist-packages (from torch>=1.13->stable-baselines3[extra]->dream-on-gym-v2==0.0.6) (3.13.1)\n",
            "Requirement already satisfied: sympy in /usr/local/lib/python3.10/dist-packages (from torch>=1.13->stable-baselines3[extra]->dream-on-gym-v2==0.0.6) (1.12)\n",
            "Requirement already satisfied: networkx in /usr/local/lib/python3.10/dist-packages (from torch>=1.13->stable-baselines3[extra]->dream-on-gym-v2==0.0.6) (3.2.1)\n",
            "Requirement already satisfied: jinja2 in /usr/local/lib/python3.10/dist-packages (from torch>=1.13->stable-baselines3[extra]->dream-on-gym-v2==0.0.6) (3.1.2)\n",
            "Requirement already satisfied: fsspec in /usr/local/lib/python3.10/dist-packages (from torch>=1.13->stable-baselines3[extra]->dream-on-gym-v2==0.0.6) (2023.6.0)\n",
            "Requirement already satisfied: triton==2.1.0 in /usr/local/lib/python3.10/dist-packages (from torch>=1.13->stable-baselines3[extra]->dream-on-gym-v2==0.0.6) (2.1.0)\n",
            "Requirement already satisfied: contourpy>=1.0.1 in /usr/local/lib/python3.10/dist-packages (from matplotlib->stable-baselines3[extra]->dream-on-gym-v2==0.0.6) (1.2.0)\n",
            "Requirement already satisfied: cycler>=0.10 in /usr/local/lib/python3.10/dist-packages (from matplotlib->stable-baselines3[extra]->dream-on-gym-v2==0.0.6) (0.12.1)\n",
            "Requirement already satisfied: fonttools>=4.22.0 in /usr/local/lib/python3.10/dist-packages (from matplotlib->stable-baselines3[extra]->dream-on-gym-v2==0.0.6) (4.44.3)\n",
            "Requirement already satisfied: kiwisolver>=1.0.1 in /usr/local/lib/python3.10/dist-packages (from matplotlib->stable-baselines3[extra]->dream-on-gym-v2==0.0.6) (1.4.5)\n",
            "Requirement already satisfied: pyparsing>=2.3.1 in /usr/local/lib/python3.10/dist-packages (from matplotlib->stable-baselines3[extra]->dream-on-gym-v2==0.0.6) (3.1.1)\n",
            "Requirement already satisfied: python-dateutil>=2.7 in /usr/local/lib/python3.10/dist-packages (from matplotlib->stable-baselines3[extra]->dream-on-gym-v2==0.0.6) (2.8.2)\n",
            "Requirement already satisfied: pytz>=2020.1 in /usr/local/lib/python3.10/dist-packages (from pandas->stable-baselines3[extra]->dream-on-gym-v2==0.0.6) (2023.3.post1)\n",
            "Requirement already satisfied: markdown-it-py>=2.2.0 in /usr/local/lib/python3.10/dist-packages (from rich->stable-baselines3[extra]->dream-on-gym-v2==0.0.6) (3.0.0)\n",
            "Requirement already satisfied: pygments<3.0.0,>=2.13.0 in /usr/local/lib/python3.10/dist-packages (from rich->stable-baselines3[extra]->dream-on-gym-v2==0.0.6) (2.16.1)\n",
            "Requirement already satisfied: importlib-resources in /usr/local/lib/python3.10/dist-packages (from ale-py~=0.8.1->shimmy[atari]~=1.3.0->stable-baselines3[extra]->dream-on-gym-v2==0.0.6) (6.1.1)\n",
            "Requirement already satisfied: cachetools<6.0,>=2.0.0 in /usr/local/lib/python3.10/dist-packages (from google-auth<3,>=1.6.3->tensorboard<2.13,>=2.12->tensorflow==2.12.0->dream-on-gym-v2==0.0.6) (5.3.2)\n",
            "Requirement already satisfied: pyasn1-modules>=0.2.1 in /usr/local/lib/python3.10/dist-packages (from google-auth<3,>=1.6.3->tensorboard<2.13,>=2.12->tensorflow==2.12.0->dream-on-gym-v2==0.0.6) (0.3.0)\n",
            "Requirement already satisfied: rsa<5,>=3.1.4 in /usr/local/lib/python3.10/dist-packages (from google-auth<3,>=1.6.3->tensorboard<2.13,>=2.12->tensorflow==2.12.0->dream-on-gym-v2==0.0.6) (4.9)\n",
            "Requirement already satisfied: requests-oauthlib>=0.7.0 in /usr/local/lib/python3.10/dist-packages (from google-auth-oauthlib<1.1,>=0.5->tensorboard<2.13,>=2.12->tensorflow==2.12.0->dream-on-gym-v2==0.0.6) (1.3.1)\n",
            "Requirement already satisfied: mdurl~=0.1 in /usr/local/lib/python3.10/dist-packages (from markdown-it-py>=2.2.0->rich->stable-baselines3[extra]->dream-on-gym-v2==0.0.6) (0.1.2)\n",
            "Requirement already satisfied: charset-normalizer<4,>=2 in /usr/local/lib/python3.10/dist-packages (from requests->autorom[accept-rom-license]~=0.6.1->stable-baselines3[extra]->dream-on-gym-v2==0.0.6) (3.3.2)\n",
            "Requirement already satisfied: idna<4,>=2.5 in /usr/local/lib/python3.10/dist-packages (from requests->autorom[accept-rom-license]~=0.6.1->stable-baselines3[extra]->dream-on-gym-v2==0.0.6) (3.4)\n",
            "Requirement already satisfied: urllib3<3,>=1.21.1 in /usr/local/lib/python3.10/dist-packages (from requests->autorom[accept-rom-license]~=0.6.1->stable-baselines3[extra]->dream-on-gym-v2==0.0.6) (2.0.7)\n",
            "Requirement already satisfied: certifi>=2017.4.17 in /usr/local/lib/python3.10/dist-packages (from requests->autorom[accept-rom-license]~=0.6.1->stable-baselines3[extra]->dream-on-gym-v2==0.0.6) (2023.7.22)\n",
            "Requirement already satisfied: MarkupSafe>=2.1.1 in /usr/local/lib/python3.10/dist-packages (from werkzeug>=1.0.1->tensorboard<2.13,>=2.12->tensorflow==2.12.0->dream-on-gym-v2==0.0.6) (2.1.3)\n",
            "Requirement already satisfied: mpmath>=0.19 in /usr/local/lib/python3.10/dist-packages (from sympy->torch>=1.13->stable-baselines3[extra]->dream-on-gym-v2==0.0.6) (1.3.0)\n",
            "Requirement already satisfied: pyasn1<0.6.0,>=0.4.6 in /usr/local/lib/python3.10/dist-packages (from pyasn1-modules>=0.2.1->google-auth<3,>=1.6.3->tensorboard<2.13,>=2.12->tensorflow==2.12.0->dream-on-gym-v2==0.0.6) (0.5.0)\n",
            "Requirement already satisfied: oauthlib>=3.0.0 in /usr/local/lib/python3.10/dist-packages (from requests-oauthlib>=0.7.0->google-auth-oauthlib<1.1,>=0.5->tensorboard<2.13,>=2.12->tensorflow==2.12.0->dream-on-gym-v2==0.0.6) (3.2.2)\n",
            "Building wheels for collected packages: dream-on-gym-v2, mpi4py, AutoROM.accept-rom-license\n",
            "  Building wheel for dream-on-gym-v2 (setup.py) ... \u001b[?25l\u001b[?25hdone\n",
            "  Created wheel for dream-on-gym-v2: filename=dream_on_gym_v2-0.0.6-py3-none-any.whl size=29791 sha256=b9e813d6aba062974ff059bfdb2d0b15318ccbd5d0a2f87af6083155acbec529\n",
            "  Stored in directory: /root/.cache/pip/wheels/48/9e/40/7b6d252caab2449f6cebde32641c8b8f5f19f952fb05e10a67\n",
            "  Building wheel for mpi4py (pyproject.toml) ... \u001b[?25l\u001b[?25hdone\n",
            "  Created wheel for mpi4py: filename=mpi4py-3.1.5-cp310-cp310-linux_x86_64.whl size=2746528 sha256=7e9b575f5a2b4dd33a985081868eb6ee68e54709445ec7c6a2189d9ac53ebd2a\n",
            "  Stored in directory: /root/.cache/pip/wheels/18/2b/7f/c852523089e9182b45fca50ff56f49a51eeb6284fd25a66713\n",
            "  Building wheel for AutoROM.accept-rom-license (pyproject.toml) ... \u001b[?25l\u001b[?25hdone\n",
            "  Created wheel for AutoROM.accept-rom-license: filename=AutoROM.accept_rom_license-0.6.1-py3-none-any.whl size=446660 sha256=b8b38ecfdf41315d3daf6a828c859086a791fba7e46a4953f5e75570453c9108\n",
            "  Stored in directory: /root/.cache/pip/wheels/6b/1b/ef/a43ff1a2f1736d5711faa1ba4c1f61be1131b8899e6a057811\n",
            "Successfully built dream-on-gym-v2 mpi4py AutoROM.accept-rom-license\n",
            "Installing collected packages: tensorflow-estimator, mpi4py, keras, gast, ale-py, shimmy, AutoROM.accept-rom-license, autorom, tensorboard, tensorflow, dream-on-gym-v2\n",
            "  Attempting uninstall: tensorflow-estimator\n",
            "    Found existing installation: tensorflow-estimator 2.14.0\n",
            "    Uninstalling tensorflow-estimator-2.14.0:\n",
            "      Successfully uninstalled tensorflow-estimator-2.14.0\n",
            "  Attempting uninstall: keras\n",
            "    Found existing installation: keras 2.14.0\n",
            "    Uninstalling keras-2.14.0:\n",
            "      Successfully uninstalled keras-2.14.0\n",
            "  Attempting uninstall: gast\n",
            "    Found existing installation: gast 0.5.4\n",
            "    Uninstalling gast-0.5.4:\n",
            "      Successfully uninstalled gast-0.5.4\n",
            "  Attempting uninstall: tensorboard\n",
            "    Found existing installation: tensorboard 2.14.1\n",
            "    Uninstalling tensorboard-2.14.1:\n",
            "      Successfully uninstalled tensorboard-2.14.1\n",
            "  Attempting uninstall: tensorflow\n",
            "    Found existing installation: tensorflow 2.14.0\n",
            "    Uninstalling tensorflow-2.14.0:\n",
            "      Successfully uninstalled tensorflow-2.14.0\n",
            "Successfully installed AutoROM.accept-rom-license-0.6.1 ale-py-0.8.1 autorom-0.6.1 dream-on-gym-v2-0.0.6 gast-0.4.0 keras-2.12.0 mpi4py-3.1.5 shimmy-1.3.0 tensorboard-2.12.3 tensorflow-2.12.0 tensorflow-estimator-2.12.0\n"
          ]
        }
      ],
      "source": [
        "!pip install --target=$nb_path dream-on-gym-v2==0.0.6"
      ]
    },
    {
      "cell_type": "markdown",
      "metadata": {
        "id": "XLcX7NXflynO"
      },
      "source": [
        "\n",
        "\n",
        "---\n",
        "\n",
        "# Codigo\n",
        "\n"
      ]
    },
    {
      "cell_type": "code",
      "execution_count": null,
      "metadata": {
        "colab": {
          "base_uri": "https://localhost:8080/"
        },
        "id": "2ieN1imCaHt9",
        "outputId": "e9f2e77e-43a6-46ef-d0b5-553b0c7837f7"
      },
      "outputs": [
        {
          "output_type": "stream",
          "name": "stdout",
          "text": [
            "Drive already mounted at /content/drive; to attempt to forcibly remount, call drive.mount(\"/content/drive\", force_remount=True).\n"
          ]
        }
      ],
      "source": [
        "import os\n",
        "import sys\n",
        "from google.colab import drive\n",
        "drive.mount('/content/drive')\n",
        "sys.path.append('/content/drive/My Drive/Colab Notebooks')\n"
      ]
    },
    {
      "cell_type": "code",
      "execution_count": null,
      "metadata": {
        "id": "h_ylEWaU-RCH"
      },
      "outputs": [],
      "source": [
        "\n",
        "import numpy as np\n",
        "import matplotlib.pyplot as plt\n",
        "import torch as th\n",
        "\n",
        "from sb3_contrib import TRPO\n",
        "from sb3_contrib.trpo import MlpPolicy as MLP_TRPO\n",
        "\n",
        "from dreamongymv2.simNetPy import *\n",
        "from dreamongymv2.gym_basic import *\n",
        "import gymnasium\n",
        "\n",
        "sys.modules[\"gym\"] = gymnasium"
      ]
    },
    {
      "cell_type": "code",
      "execution_count": null,
      "metadata": {
        "id": "PkmGkFRkATzZ",
        "colab": {
          "base_uri": "https://localhost:8080/"
        },
        "outputId": "3ebb2daa-518d-48dd-9eb1-65726dcfabb0"
      },
      "outputs": [
        {
          "output_type": "stream",
          "name": "stderr",
          "text": [
            "/usr/local/lib/python3.10/dist-packages/ipykernel/ipkernel.py:283: DeprecationWarning: `should_run_async` will not call `transform_cell` automatically in the future. Please pass the result to `transformed_cell` argument and any exception that happen during thetransform in `preprocessing_exc_tuple` in IPython 7.17 and above.\n",
            "  and should_run_async(code)\n"
          ]
        }
      ],
      "source": [
        "bands = ['L','C','S','E']\n",
        "\n",
        "episodeRewardAccum = 0\n",
        "iteration = 0\n",
        "episodeIteration = 100\n",
        "episodeRewardsArray = []"
      ]
    },
    {
      "cell_type": "code",
      "execution_count": null,
      "metadata": {
        "id": "UmFwaqFlCM6J"
      },
      "outputs": [],
      "source": [
        "def getBand(actionBand):\n",
        "    if (actionBand == 0):\n",
        "        return 'C'\n",
        "    elif (actionBand == 1):\n",
        "        return 'L'\n",
        "    elif (actionBand == 2):\n",
        "        return 'S'\n",
        "    elif (actionBand == 3):\n",
        "        return 'E'\n",
        "\n",
        "    return 'NoBand'"
      ]
    },
    {
      "cell_type": "code",
      "execution_count": null,
      "metadata": {
        "id": "jaXvI3WWAWtn"
      },
      "outputs": [],
      "source": [
        "def reward():\n",
        "    global episodeRewardAccum\n",
        "    global episodeIteration\n",
        "    global episodeRewardsArray\n",
        "    global iteration\n",
        "\n",
        "    iteration = iteration + 1\n",
        "    if (iteration % episodeIteration) == 0:\n",
        "        episodeRewardsArray.append(episodeRewardAccum)\n",
        "        episodeRewardAccum = 0\n",
        "\n",
        "    value = env.getSimulator().lastConnectionIsAllocated()\n",
        "    if (value.name == Controller.Status.Not_Allocated.name):\n",
        "        #print(value.name)\n",
        "        value = -1\n",
        "    else:\n",
        "        value = 1\n",
        "    episodeRewardAccum = episodeRewardAccum + value\n",
        "    return value"
      ]
    },
    {
      "cell_type": "code",
      "execution_count": null,
      "metadata": {
        "id": "AZw9cFAOAZU7"
      },
      "outputs": [],
      "source": [
        "def state():\n",
        "    connectionEvent = env.getSimulator().connectionEvent\n",
        "    route = env.getSimulator().controller.path[connectionEvent.source][connectionEvent.destination][0]\n",
        "    slotsQuantity = 0\n",
        "    for i in range(4):\n",
        "        slotsQuantity = slotsQuantity + route[0].getSlots(getBand(i))\n",
        "    obs = [0] * slotsQuantity\n",
        "    slotInit = 0\n",
        "    for i in range(len(route)):\n",
        "        slotIterator = 0\n",
        "        for j in range(4):\n",
        "            slotInit = slotIterator\n",
        "            for k in range(slotInit, slotInit + route[i].getSlots(getBand(j))):\n",
        "                slotIterator = slotIterator + 1\n",
        "                if route[i].getSlot(k-slotInit,getBand(j)):\n",
        "                    obs[k] = obs[k] + 1\n",
        "    return obs\n"
      ]
    },
    {
      "cell_type": "code",
      "execution_count": null,
      "metadata": {
        "id": "wE2jMNY7AcB2"
      },
      "outputs": [],
      "source": [
        "# def stateAllNetwork():\n",
        "#     connectionEvent = env.getSimulator().connectionEvent\n",
        "#     routes = env.getSimulator().controller.path[connectionEvent.source][connectionEvent.destination]\n",
        "#     slotsQuantity = 0\n",
        "#     for i in range(4):\n",
        "#         slotsQuantity = slotsQuantity + routes[0][0].getSlots(getBand(i))\n",
        "#     obs = [0] * slotsQuantity\n",
        "#     slotInit = 0\n",
        "#     for i in range(len(env.getSimulator().controller.network.links)):\n",
        "#         slotIterator = 0\n",
        "#         for z in range(4):\n",
        "#             slotInit = slotIterator\n",
        "#             for k in range(slotInit, slotInit + env.getSimulator().controller.network.links[i].getSlots(getBand(z))):\n",
        "#                 slotIterator = slotIterator + 1\n",
        "#                 if env.getSimulator().controller.network.links[i].getSlot(k-slotInit,getBand(z)):\n",
        "#                     obs[k] = obs[k] + 1\n",
        "#     return obs"
      ]
    },
    {
      "cell_type": "code",
      "execution_count": null,
      "metadata": {
        "id": "iya2BfJ-CLzF"
      },
      "outputs": [],
      "source": [
        "def first_fit_algorithm(src: int, dst: int, b: BitRate, c: Connection, n: Network, path, action):\n",
        "    numberOfSlots = b.getNumberofSlots(0)\n",
        "    link_ids = path[src][dst][0]\n",
        "    c.bandSelected = \"C\"\n",
        "    general_link = []\n",
        "    for _ in range(n.getLink(0).getSlots(c.bandSelected)):\n",
        "        general_link.append(False)\n",
        "\n",
        "    for link in link_ids:\n",
        "        link = n.getLink(link.id)\n",
        "        link.bandSelected = c.bandSelected\n",
        "        for slot in range(link.getSlots(c.bandSelected)):\n",
        "            general_link[slot] = general_link[slot] or link.getSlot(slot,c.bandSelected)\n",
        "    currentNumberSlots = 0\n",
        "    currentSlotIndex = 0\n",
        "    for j in range(len(general_link)):\n",
        "        if not general_link[j]:\n",
        "            currentNumberSlots += 1\n",
        "        else:\n",
        "            currentNumberSlots = 0\n",
        "            currentSlotIndex = j + 1\n",
        "        if currentNumberSlots == numberOfSlots:\n",
        "            for k in link_ids:\n",
        "                c.addLink(\n",
        "                    k, fromSlot=currentSlotIndex, toSlot=currentSlotIndex+currentNumberSlots)\n",
        "            return Controller.Status.Allocated, c\n",
        "    return Controller.Status.Not_Allocated, c"
      ]
    },
    {
      "cell_type": "code",
      "execution_count": null,
      "metadata": {
        "id": "mh8-K_w-Dy4H"
      },
      "outputs": [],
      "source": [
        "def agent_algorithm(src: int, dst: int, b: BitRate, c: Connection, n: Network, path, action):\n",
        "    band = getBand(action[0])\n",
        "    c.bandSelected = band\n",
        "    numberOfSlots = b.getNumberofSlots(0)\n",
        "    actionSpace = len(path[src][dst])\n",
        "    link_ids = path[src][dst][0]\n",
        "    general_link = []\n",
        "    for _ in range(n.getLink(0).getSlots(band)):\n",
        "        general_link.append(False)\n",
        "    for link in link_ids:\n",
        "        link = n.getLink(link.id)\n",
        "        link.bandSelected = band\n",
        "        for slot in range(link.getSlots()):\n",
        "            general_link[slot] = general_link[slot] or link.getSlot(slot,band)\n",
        "    currentNumberSlots = 0\n",
        "    currentSlotIndex = 0\n",
        "    for j in range(len(general_link)):\n",
        "        if not general_link[j]:\n",
        "            currentNumberSlots += 1\n",
        "        else:\n",
        "            currentNumberSlots = 0\n",
        "            currentSlotIndex = j + 1\n",
        "        if currentNumberSlots == numberOfSlots:\n",
        "            for k in link_ids:\n",
        "                c.addLink(\n",
        "                    k, fromSlot=currentSlotIndex, toSlot=currentSlotIndex+currentNumberSlots)\n",
        "            return Controller.Status.Allocated, c\n",
        "    return Controller.Status.Not_Allocated, c"
      ]
    },
    {
      "cell_type": "code",
      "source": [
        "from stable_baselines3 import PPO\n",
        "from stable_baselines3.common.monitor import Monitor\n",
        "from stable_baselines3.ppo.policies import MlpPolicy"
      ],
      "metadata": {
        "id": "2xxzkpEQ9JaU"
      },
      "execution_count": null,
      "outputs": []
    },
    {
      "cell_type": "code",
      "execution_count": null,
      "metadata": {
        "colab": {
          "base_uri": "https://localhost:8080/"
        },
        "id": "vwQC3eVhqvRt",
        "outputId": "c17dac72-1d39-4c99-ec64-4f034bb5ccd6"
      },
      "outputs": [
        {
          "output_type": "stream",
          "name": "stderr",
          "text": [
            "/usr/local/lib/python3.10/dist-packages/gymnasium/core.py:311: UserWarning: \u001b[33mWARN: env.setRewardFunc to get variables from other wrappers is deprecated and will be removed in v1.0, to get this variable you can do `env.unwrapped.setRewardFunc` for environment variables or `env.get_wrapper_attr('setRewardFunc')` that will search the reminding wrappers.\u001b[0m\n",
            "  logger.warn(\n",
            "/usr/local/lib/python3.10/dist-packages/gymnasium/core.py:311: UserWarning: \u001b[33mWARN: env.setStateFunc to get variables from other wrappers is deprecated and will be removed in v1.0, to get this variable you can do `env.unwrapped.setStateFunc` for environment variables or `env.get_wrapper_attr('setStateFunc')` that will search the reminding wrappers.\u001b[0m\n",
            "  logger.warn(\n",
            "/usr/local/lib/python3.10/dist-packages/gymnasium/core.py:311: UserWarning: \u001b[33mWARN: env.initEnviroment to get variables from other wrappers is deprecated and will be removed in v1.0, to get this variable you can do `env.unwrapped.initEnviroment` for environment variables or `env.get_wrapper_attr('initEnviroment')` that will search the reminding wrappers.\u001b[0m\n",
            "  logger.warn(\n"
          ]
        },
        {
          "output_type": "stream",
          "name": "stdout",
          "text": [
            "meta: 0.95\n",
            "objetivo: 0.95 covered: 0.0 epsilon: 0.01\n",
            "meta: 0.2673105078629141\n",
            "objetivo: 0.95 covered: 0.6826894921370859 epsilon: 0.01\n"
          ]
        },
        {
          "output_type": "stream",
          "name": "stderr",
          "text": [
            "/usr/local/lib/python3.10/dist-packages/gymnasium/core.py:311: UserWarning: \u001b[33mWARN: env.getSimulator to get variables from other wrappers is deprecated and will be removed in v1.0, to get this variable you can do `env.unwrapped.getSimulator` for environment variables or `env.get_wrapper_attr('getSimulator')` that will search the reminding wrappers.\u001b[0m\n",
            "  logger.warn(\n"
          ]
        }
      ],
      "source": [
        "fileDirectory = '/content/drive/MyDrive/DREAMONGYM'\n",
        "\n",
        "env = gymnasium.make(\"rlonenv-v0\")\n",
        "\n",
        "obs, info = env.reset()\n",
        "\n",
        "#definir espacio (opciones del 0-3, 4 en total )\n",
        "env.action_space = gymnasium.spaces.MultiDiscrete(np.array([4]))\n",
        "\n",
        "\n",
        "#tamaño de los slots de las bandas\n",
        "env.observation_space = gymnasium.spaces.MultiDiscrete([100] * 2720)\n",
        "\n",
        "#Set funcion recompensa\n",
        "env.setRewardFunc(reward)\n",
        "#Set estados\n",
        "env.setStateFunc(state)\n",
        "#env.setStateFunc(stateAllNetwork)\n",
        "#Definir topologia y rutas\n",
        "env.initEnviroment(fileDirectory + \"/Topologias-rutas/Eurocore_4_bands.json\", fileDirectory + \"/Topologias-rutas/Eurocore_routes.json\")\n",
        "#Cantidad de conexiones para tener el simulador corriendo\n",
        "env.getSimulator().goalConnections = 100000\n",
        "env.getSimulator().setMu(1)\n",
        "env.getSimulator().setLambda(1000)\n",
        "env.getSimulator().setAllocator(first_fit_algorithm)\n",
        "env.getSimulator().init()"
      ]
    },
    {
      "cell_type": "markdown",
      "metadata": {
        "id": "BzdoR_ILqHy1"
      },
      "source": [
        "#Entrenamiento del modelo\n"
      ]
    },
    {
      "cell_type": "code",
      "execution_count": null,
      "metadata": {
        "colab": {
          "base_uri": "https://localhost:8080/"
        },
        "id": "REOY_-oPEDly",
        "outputId": "715524e3-933b-466a-e0dc-45ab2126e6c3"
      },
      "outputs": [
        {
          "output_type": "stream",
          "name": "stderr",
          "text": [
            "/usr/local/lib/python3.10/dist-packages/gymnasium/core.py:311: UserWarning: \u001b[33mWARN: env.start to get variables from other wrappers is deprecated and will be removed in v1.0, to get this variable you can do `env.unwrapped.start` for environment variables or `env.get_wrapper_attr('start')` that will search the reminding wrappers.\u001b[0m\n",
            "  logger.warn(\n"
          ]
        },
        {
          "output_type": "stream",
          "name": "stdout",
          "text": [
            "Nodes: 11\n",
            "Links: 50\n",
            "Goal Connections: 100000\n",
            "Lambda: 1000\n",
            "Mu: 1\n",
            "+----------+----------+----------+----------+----------+----------+----------+\n",
            "| progress |  arrives | blocking |  time(s) |  Wald CI |  A-C. CI |Wilson CI |\n",
            "+----------+----------+----------+----------+----------+----------+----------+\n",
            "|     5.0% |     5000 | 0.357329 |  0:00:01 | 0.013553 | 0.013548 | 0.013548 |\n",
            "+----------+----------+----------+----------+----------+----------+----------+\n",
            "|    10.0% |    10000 | 0.363364 |  0:00:04 | 0.009619 | 0.009617 | 0.009617 |\n",
            "+----------+----------+----------+----------+----------+----------+----------+\n",
            "|    15.0% |    15000 | 0.357976 |  0:00:07 | 0.007828 | 0.007828 | 0.007827 |\n",
            "+----------+----------+----------+----------+----------+----------+----------+\n",
            "|    20.0% |    20000 | 0.357182 |  0:00:09 | 0.006776 | 0.006776 | 0.006776 |\n",
            "+----------+----------+----------+----------+----------+----------+----------+\n",
            "|    25.0% |    25000 | 0.353986 |  0:00:11 | 0.006049 | 0.006048 | 0.006048 |\n",
            "+----------+----------+----------+----------+----------+----------+----------+\n",
            "|    30.0% |    30000 | 0.355721 |  0:00:13 | 0.005528 | 0.005528 | 0.005527 |\n",
            "+----------+----------+----------+----------+----------+----------+----------+\n",
            "|    35.0% |    35000 | 0.356618 |  0:00:15 | 0.005121 | 0.005120 | 0.005120 |\n",
            "+----------+----------+----------+----------+----------+----------+----------+\n",
            "|    40.0% |    40000 | 0.355291 |  0:00:17 | 0.004786 | 0.004786 | 0.004786 |\n",
            "+----------+----------+----------+----------+----------+----------+----------+\n",
            "|    45.0% |    45000 | 0.356014 |  0:00:20 | 0.004514 | 0.004514 | 0.004514 |\n",
            "+----------+----------+----------+----------+----------+----------+----------+\n",
            "|    50.0% |    50000 | 0.357413 |  0:00:23 | 0.004286 | 0.004286 | 0.004286 |\n",
            "+----------+----------+----------+----------+----------+----------+----------+\n",
            "|    55.0% |    55000 | 0.357157 |  0:00:25 | 0.004086 | 0.004086 | 0.004086 |\n",
            "+----------+----------+----------+----------+----------+----------+----------+\n",
            "|    60.0% |    60000 | 0.356677 |  0:00:27 | 0.003911 | 0.003911 | 0.003911 |\n",
            "+----------+----------+----------+----------+----------+----------+----------+\n",
            "|    65.0% |    65000 | 0.356118 |  0:00:29 | 0.003756 | 0.003756 | 0.003756 |\n",
            "+----------+----------+----------+----------+----------+----------+----------+\n",
            "|    70.0% |    70000 | 0.355681 |  0:00:31 | 0.003619 | 0.003619 | 0.003619 |\n",
            "+----------+----------+----------+----------+----------+----------+----------+\n",
            "|    75.0% |    75000 | 0.354822 |  0:00:34 | 0.003494 | 0.003494 | 0.003494 |\n",
            "+----------+----------+----------+----------+----------+----------+----------+\n",
            "|    80.0% |    80000 | 0.354721 |  0:00:37 | 0.003383 | 0.003383 | 0.003383 |\n",
            "+----------+----------+----------+----------+----------+----------+----------+\n",
            "|    85.0% |    85000 | 0.354925 |  0:00:39 | 0.003282 | 0.003282 | 0.003282 |\n",
            "+----------+----------+----------+----------+----------+----------+----------+\n",
            "|    90.0% |    90000 | 0.354585 |  0:00:41 | 0.003189 | 0.003189 | 0.003189 |\n",
            "+----------+----------+----------+----------+----------+----------+----------+\n",
            "|    95.0% |    95000 | 0.354417 |  0:00:43 | 0.003104 | 0.003104 | 0.003104 |\n",
            "+----------+----------+----------+----------+----------+----------+----------+\n"
          ]
        },
        {
          "output_type": "stream",
          "name": "stderr",
          "text": [
            "/usr/local/lib/python3.10/dist-packages/gymnasium/core.py:311: UserWarning: \u001b[33mWARN: env.getSimulator to get variables from other wrappers is deprecated and will be removed in v1.0, to get this variable you can do `env.unwrapped.getSimulator` for environment variables or `env.get_wrapper_attr('getSimulator')` that will search the reminding wrappers.\u001b[0m\n",
            "  logger.warn(\n",
            "/usr/local/lib/python3.10/dist-packages/gymnasium/utils/passive_env_checker.py:127: UserWarning: \u001b[33mWARN: The obs returned by the `step()` method should be an int or np.int64, actual type: <class 'list'>\u001b[0m\n",
            "  logger.warn(f\"{pre} should be an int or np.int64, actual type: {type(obs)}\")\n",
            "/usr/local/lib/python3.10/dist-packages/gymnasium/utils/passive_env_checker.py:159: UserWarning: \u001b[33mWARN: The obs returned by the `step()` method is not within the observation space.\u001b[0m\n",
            "  logger.warn(f\"{pre} is not within the observation space.\")\n",
            "/usr/local/lib/python3.10/dist-packages/stable_baselines3/common/save_util.py:283: UserWarning: Path '/content/drive/MyDrive/DREAMONGYM/models' does not exist. Will create it.\n",
            "  warnings.warn(f\"Path '{path.parent}' does not exist. Will create it.\")\n"
          ]
        }
      ],
      "source": [
        "env.start()\n",
        "env.getSimulator().setAllocator(agent_algorithm)\n",
        "\n",
        "policy_args = dict(net_arch=5*[128], activation_fn=th.nn.ReLU)\n",
        "\n",
        "\n",
        "model = PPO(MlpPolicy, env, verbose=0, tensorboard_log=\"./tb/PPO-DeepRMSA-v0/\", policy_kwargs=policy_args, gamma=.95)\n",
        "\n",
        "model.learn(total_timesteps=1000, log_interval=4)\n",
        "\n",
        "modelDirectory = fileDirectory + \"/models/\"\n",
        "\n",
        "model.save(modelDirectory+ \"PPO-Eurocore-RW1\")\n",
        "#model.load('TRPO100720231300')"
      ]
    },
    {
      "cell_type": "markdown",
      "metadata": {
        "id": "wSk6gzPFqKKk"
      },
      "source": [
        "# Ejecución del modelo"
      ]
    },
    {
      "cell_type": "code",
      "execution_count": null,
      "metadata": {
        "colab": {
          "base_uri": "https://localhost:8080/"
        },
        "id": "vUJ3XWpAG7Hw",
        "outputId": "30f23855-dc9b-467e-de4a-46d3cb3dee71"
      },
      "outputs": [
        {
          "output_type": "stream",
          "name": "stderr",
          "text": [
            "/usr/local/lib/python3.10/dist-packages/ipykernel/ipkernel.py:283: DeprecationWarning: `should_run_async` will not call `transform_cell` automatically in the future. Please pass the result to `transformed_cell` argument and any exception that happen during thetransform in `preprocessing_exc_tuple` in IPython 7.17 and above.\n",
            "  and should_run_async(code)\n"
          ]
        },
        {
          "output_type": "stream",
          "name": "stdout",
          "text": [
            "[87, 96, 94, 88, 90, 90, 90, 98, 92, 88, 90, 82, 80, 88, 92, 86, 92, 92, 90, 86, 92, 88, 92, 82, 88, 84, 90, 90, 84, 90, 96, 90, 96, 94, 90, 82, 100, 98, 96, 84, 98, 90, 92, 86, 90, 94, 92, 88, 90, 92, 90, 96, 86, 92, 92, 82, 92, 88, 82, 78, 90, 84, 90, 90, 84, 92, 84, 96, 94, 96, 96, 88, 92, 88, 82, 90, 92, 88, 90, 80, 88, 88, 86, 92, 86, 82, 90, 90, 90, 90, 86, 90, 88, 82, 78, 78, 86, 80, 90, 86, 94, 90, 96, 94, 92, 84, 82, 98, 90, 80, 98, 88, 90, 90, 96, 88, 92, 86, 88, 88, 80, 92, 92, 80, 98, 88, 90, 92, 86, 92, 86, 88, 94, 84, 92, 90, 84, 90, 88, 90, 94, 88, 88, 78, 82, 68, 92, 88, 92, 88, 94, 90, 88, 86, 90, 88, 86, 94, 88, 94, 88, 94, 92, 86, 88, 96, 88, 94, 86, 92, 78, 88, 90, 90, 88, 88, 88, 90, 86, 92, 90, 84, 82, 94, 80, 96, 88, 90, 84, 90, 96, 86, 90, 92, 94, 82, 90, 86, 82, 86, 90, 90, 94, 88, 92, 84, 92, 98, 96, 94, 92, 86, 86, 88, 84, 82, 92, 96, 90, 84, 86, 88, 88, 92, 88, 90, 94, 84, 86, 94, 100, 92, 92, 96, 90, 90, 98, 84, 94, 94, 90, 86, 92, 90, 90, 94, 88, 100, 86, 90, 94, 86, 92, 86, 90, 94, 88, 96, 90, 96, 92, 90, 86, 88, 88, 90, 86, 90, 94, 96, 90, 94, 86, 92, 90, 94, 94, 82, 90, 94, 88, 84, 92, 90, 94, 96, 88, 88, 84, 90, 86, 86, 86, 90, 84, 92, 86, 90, 88, 96, 92, 84, 84, 86, 88, 82, 88, 90, 72, 94, 86, 78, 86, 90, 90, 96, 80, 84, 88, 86, 86, 82, 90, 94, 80, 90, 94, 88, 86, 88, 92, 96, 92, 100, 82, 88, 90, 92, 96, 90, 90, 82, 92, 92, 86, 88, 90, 86, 78, 88, 92, 92, 92, 96, 90, 90, 88, 86, 88, 78, 92, 82, 84, 88, 86, 90, 90, 84, 92, 82, 86, 96, 90, 90, 96, 84, 90, 90, 90, 94, 84, 90, 94, 86, 86, 90, 86, 86, 88, 84, 84, 86, 88, 94, 82, 94, 94, 92, 92, 92, 86, 84, 94, 88, 90, 80, 90, 88, 88, 80, 86, 86, 90, 88, 96, 76, 90, 84, 88, 90, 84, 86, 92, 92, 92, 94, 88, 92, 84, 90, 88, 92, 100, 94, 94, 90, 90, 86, 90, 84, 94, 98, 84, 94, 90, 90, 96, 94, 90, 82, 92, 90, 96, 88, 88, 96, 86, 90, 76, 92, 90, 86, 90, 96, 84, 94, 90, 82, 92, 86, 86, 88, 88, 96, 88, 82, 84, 78, 84, 96, 82, 96, 90, 88, 88, 86, 86, 98, 80, 90, 92, 92, 84, 88, 90, 92, 92, 88, 82, 90, 86, 88, 90, 92, 94, 82, 80, 90, 86, 90, 90, 86, 86, 92, 92, 88, 88, 86, 88, 84, 88, 88, 94, 86, 90, 94, 88, 84, 82, 90, 94, 92, 76, 90, 84, 94, 74, 90, 94, 88, 96, 88, 84, 92, 94, 88, 94, 86, 92, 84, 86, 86, 94, 90, 90, 82, 86, 86, 94, 94, 86, 92, 96, 80, 86, 100, 96, 90, 90, 88, 94, 90, 90, 92, 86, 86, 84, 96, 90, 86, 92, 98, 94, 92, 94, 82, 90, 88, 92, 92, 92, 88, 96, 88, 96, 92, 86, 86, 98, 90, 86, 78, 88, 94, 90, 86, 90, 84, 82, 88, 88, 98, 90, 86, 84, 82, 90, 86, 88, 86, 94, 90, 94, 94, 90, 86, 80, 84, 86, 88, 94, 94, 80, 86, 96, 98, 78, 84, 96, 90, 88, 92, 94, 88, 90, 90, 90, 94, 96, 88, 88, 88, 88, 84, 96, 86, 92, 100, 90, 88, 92, 88, 90, 88, 80, 88, 90, 88, 90, 88, 80, 92, 90, 90, 84, 92, 86, 94, 96, 90, 94, 88, 90, 90, 90, 96, 90, 92, 96, 88, 92, 88, 84, 90, 86, 90, 92, 84, 90, 92, 82, 86, 88, 90, 90, 92, 90, 86, 96, 84, 88, 88, 88, 92, 88, 92, 94, 86, 88, 88, 88, 96, 96, 88, 88, 88, 88, 90, 90, 88, 90, 88, 84, 80, 86, 92, 90, 88, 94, 94, 94, 90, 90, 94, 86, 92, 92, 80, 90, 82, 84, 92, 88, 90, 88, 88, 90, 86, 90, 92, 84, 86, 84, 92, 94, 88, 86, 86, 86, 88, 86, 82, 86, 90, 90, 84, 92, 90, 84, 84, 80, 84, 88, 90, 84, 90, 86, 94, 90, 94, 96, 88, 88, 94, 94, 90, 86, 90, 92, 90, 90, 84, 92, 92, 90, 92, 88, 86, 92, 98, 88, 96, 92, 86, 84, 76, 86, 92, 82, 86, 86, 90, 86, 90, 94, 82, 90, 94, 86, 86, 86, 90, 86, 86, 82, 90, 86, 90, 88, 88, 88, 82, 94, 92, 94, 86, 86, 86, 84, 92, 94, 92, 92, 94, 84, 94, 94, 86, 84, 86, 90, 84, 84, 88, 82, 92, 94, 88, 86, 94, 94, 94, 94, 96, 88, 94, 84, 92, 92, 90, 82, 86, 92, 88, 88, 94, 90, 90, 92, 96, 88, 92, 86, 78, 94, 92, 82, 84, 92, 84, 92, 94, 94, 90, 86, 94, 84, 92, 78, 92, 86, 90, 84, 92, 82, 82, 78, 92, 70, 92, 88, 92, 82, 96, 90, 88, 96, 92, 94, 96, 96, 88, 90, 90, 92, 88, 92, 90, 90, 88, 90, 86, 76, 90, 92, 90, 84, 96, 92, 90, 88, 78, 84, 98, 86, 82, 90, 90, 90, 92, 84, 94, 92, 92, 86, 86, 90, 84, 86, 90, 92, 88, 92, 96, 92, 86, 96, 92, 80, 86, 86, 88, 80, 84, 90, 88, 86, 94, 92, 92, 92, 88, 90, 98, 88, 88, 86, 88, 90, 90, 88, 96, 90, 92, 82, 88, 86, 92, 86, 90, 90, 92, 86, 80, 86, 86, 92, 92, 88, 86]\n",
            "[0, 96, 86, 92, 84, 88, 82, 90, 84, 90, 94, 94, 92, 98, 92, 84, 90, 100, 96, 92, 88, 94, 92, 90, 88, 90, 98, 88, 90, 92, 86, 92, 92, 90, 94, 90, 82, 90, 86, 82, 80, 84, 94, 90, 80, 94, 84, 94, 96, 92, 96, 90, 92, 86, 94, 78, 96, 90, 88, 86, 82, 90, 86, 90, 86, 86, 86, 90, 88, 96, 88, 84, 86, 82, 90, 72, 80, 80, 92, 86, 94, 90, 92, 96, 92, 84, 84, 94, 94, 86, 88, 94, 90, 84, 96, 92, 90, 88, 86, 88, 86, 90, 92, 84, 88, 92, 92, 90, 90, 86, 86, 90, 92, 90, 88, 88, 82, 92, 92, 90, 90, 88, 92, 80, 76, 80, 78, 94, 88, 88, 92, 96, 84, 92, 80, 94, 88, 86, 96, 88, 90, 96, 94, 84, 86, 94, 92, 92, 92, 84, 88, 84, 86, 90, 92, 84, 94, 82, 92, 86, 96, 88, 78, 90, 90, 84, 90, 88, 88, 90, 90, 90, 88, 94, 96, 88, 84, 84, 84, 90, 88, 86, 94, 90, 88, 92, 84, 96, 100, 92, 92, 94, 82, 86, 86, 84, 86, 94, 94, 84, 92, 86, 88, 88, 90, 92, 90, 88, 86, 90, 96, 96, 90, 98, 94, 84, 96, 90, 92, 90, 92, 88, 90, 96, 90, 90, 88, 96, 94, 86, 94, 90, 88, 88, 88, 94, 92, 90, 94, 94, 92, 90, 90, 86, 86, 90, 92, 84, 94, 96, 92, 90, 90, 90, 88, 94, 96, 84, 88, 92, 92, 88, 84, 92, 92, 94, 94, 88, 86, 88, 92, 80, 90, 86, 88, 86, 86, 92, 90, 88, 96, 92, 80, 90, 80, 88, 84, 86, 86, 78, 94, 82, 76, 92, 88, 94, 96, 78, 86, 82, 88, 86, 86, 90, 88, 84, 94, 88, 88, 86, 94, 90, 100, 92, 88, 86, 92, 88, 96, 92, 92, 84, 88, 94, 90, 82, 94, 84, 84, 86, 90, 88, 92, 92, 92, 96, 88, 86, 84, 90, 84, 86, 78, 86, 92, 86, 90, 82, 92, 88, 78, 96, 92, 92, 92, 96, 82, 92, 88, 92, 88, 90, 90, 92, 84, 86, 90, 84, 84, 92, 82, 88, 82, 90, 92, 86, 96, 92, 94, 94, 86, 84, 90, 90, 92, 82, 80, 100, 82, 82, 88, 84, 86, 90, 94, 86, 78, 84, 96, 88, 82, 92, 82, 94, 94, 90, 96, 84, 92, 84, 90, 90, 96, 100, 92, 92, 88, 86, 92, 86, 92, 94, 94, 86, 92, 90, 92, 92, 90, 86, 92, 90, 92, 92, 92, 90, 92, 88, 84, 84, 88, 92, 84, 94, 92, 88, 92, 88, 86, 90, 84, 86, 88, 92, 94, 84, 88, 80, 76, 92, 86, 90, 94, 90, 86, 82, 94, 90, 88, 84, 92, 92, 90, 86, 86, 96, 90, 90, 86, 86, 86, 84, 92, 88, 92, 90, 84, 88, 84, 86, 92, 86, 86, 90, 92, 88, 88, 92, 86, 84, 82, 96, 88, 90, 88, 92, 90, 90, 80, 84, 92, 94, 80, 86, 88, 90, 82, 82, 96, 84, 98, 90, 84, 92, 90, 96, 88, 94, 82, 92, 82, 86, 94, 88, 90, 84, 84, 88, 94, 90, 88, 92, 96, 88, 82, 92, 96, 96, 86, 92, 90, 94, 88, 96, 82, 94, 78, 92, 90, 90, 90, 94, 98, 92, 96, 82, 92, 82, 98, 84, 96, 92, 92, 90, 94, 92, 92, 84, 90, 96, 88, 80, 84, 88, 94, 88, 88, 90, 78, 86, 90, 92, 92, 92, 84, 88, 82, 86, 84, 90, 92, 94, 88, 96, 88, 92, 78, 88, 84, 86, 90, 96, 86, 82, 92, 98, 96, 72, 90, 94, 88, 88, 94, 94, 88, 90, 92, 88, 96, 96, 84, 88, 86, 88, 92, 88, 94, 92, 96, 88, 90, 92, 88, 86, 82, 86, 88, 90, 92, 88, 82, 86, 90, 94, 86, 88, 88, 92, 94, 92, 94, 90, 90, 88, 94, 88, 94, 92, 96, 90, 90, 88, 86, 88, 90, 86, 94, 86, 86, 90, 92, 84, 82, 86, 96, 94, 86, 92, 88, 88, 88, 84, 94, 86, 96, 86, 90, 90, 90, 88, 88, 94, 92, 94, 90, 86, 90, 86, 90, 88, 90, 90, 86, 78, 86, 86, 94, 92, 90, 94, 92, 92, 90, 94, 90, 86, 96, 82, 86, 92, 76, 90, 88, 90, 92, 88, 86, 88, 90, 88, 96, 80, 82, 90, 94, 90, 86, 88, 86, 84, 88, 84, 84, 88, 90, 84, 90, 92, 86, 84, 86, 80, 90, 84, 94, 80, 94, 88, 88, 92, 98, 86, 92, 88, 98, 92, 92, 80, 92, 92, 90, 92, 80, 94, 94, 94, 84, 94, 82, 96, 96, 90, 94, 88, 88, 82, 80, 86, 86, 82, 88, 90, 88, 86, 94, 86, 88, 94, 88, 82, 88, 88, 88, 92, 80, 88, 86, 86, 90, 86, 94, 82, 84, 96, 94, 92, 84, 84, 88, 84, 94, 96, 92, 90, 92, 88, 94, 90, 86, 80, 88, 90, 82, 88, 84, 90, 92, 90, 86, 92, 92, 94, 94, 96, 92, 94, 86, 84, 96, 90, 84, 84, 90, 88, 90, 92, 94, 90, 92, 94, 88, 92, 90, 84, 82, 98, 80, 84, 92, 86, 88, 90, 96, 92, 88, 90, 92, 86, 90, 82, 88, 86, 86, 92, 86, 80, 80, 86, 80, 80, 94, 86, 90, 88, 94, 84, 98, 88, 98, 92, 100, 88, 92, 86, 92, 90, 94, 88, 88, 92, 90, 86, 78, 88, 90, 90, 88, 90, 94, 92, 88, 80, 80, 96, 90, 86, 88, 86, 96, 86, 88, 90, 96, 90, 86, 88, 88, 86, 80, 94, 92, 90, 86, 96, 96, 90, 88, 96, 84, 82, 84, 90, 86, 78, 88, 88, 92, 86, 96, 90, 94, 90, 90, 90, 94, 86, 84, 92, 90, 88, 92, 90, 94, 86, 94, 84, 84, 92, 88, 84, 90, 94, 88, 84, 84, 80, 92, 98, 90, 84]\n",
            "[0.0, 0.019801980198019802, 0.04477611940298507, 0.04318936877076412, 0.05236907730673317, 0.05389221556886228, 0.059900166389351084, 0.05848787446504993, 0.06117353308364544, 0.05993340732519423, 0.056943056943056944, 0.05449591280653951, 0.05328892589508743, 0.04996156802459646, 0.04925053533190578, 0.051299133910726186, 0.05121798875702686, 0.048206937095825984, 0.046640755136035536, 0.046291425565491845, 0.04697651174412794, 0.0461684911946692, 0.045888232621535664, 0.04606692742285962, 0.04664723032069971, 0.046781287485006, 0.04536716647443291, 0.04590892262125139, 0.04605498036415566, 0.04584625991037573, 0.04665111629456848, 0.04643663334408255, 0.04623555139019057, 0.0463495910330203, 0.04586886209938253, 0.045986860896886604, 0.04720910858094974, 0.047284517697919484, 0.04788213627992634, 0.04896180466547039, 0.05023744063984004, 0.0509631797122653, 0.050464175196381814, 0.050453382934201346, 0.0515791865485117, 0.051099755609864475, 0.05172788524233862, 0.051265688151457135, 0.05061445532180796, 0.050397877984084884, 0.04979004199160168, 0.04979415800823368, 0.04960584502980196, 0.049990567817392945, 0.0496204406591372, 0.05071805126340665, 0.05016961256918408, 0.05016663743202947, 0.05033614893983796, 0.0506693780715133, 0.05132477920346609, 0.05130306507129979, 0.0516045799064667, 0.05157911442628154, 0.051866895797531634, 0.05214582371942778, 0.052416300560521135, 0.05238024175496195, 0.05249228054697839, 0.052021446167222145, 0.05213540922725325, 0.05252781298408675, 0.052770448548812667, 0.05328037255170524, 0.0532360491825429, 0.05439274763364885, 0.05499276410998553, 0.055577197766523825, 0.055377515703114985, 0.05556258701430199, 0.05524309461317335, 0.05517837304036539, 0.05499329350079259, 0.054571738344777736, 0.05439828591834305, 0.05469944712386778, 0.05499360539472154, 0.054706355591311345, 0.054425633450744235, 0.054600606673407485, 0.05466059326741473, 0.05438962751346006, 0.054341919356591675, 0.05461778303408236, 0.054249547920433995, 0.05409956846647721, 0.0540568690761379, 0.054118132151324605, 0.0542801754922967, 0.05433794566205434, 0.05449455054494551, 0.05445005445005445, 0.054308401137143414, 0.05455780992136686, 0.05461013364099606, 0.05447100276164175, 0.05433449674559004, 0.054293991215774225, 0.05425423571891492, 0.05439867902027337, 0.0545404963185165, 0.05449959463111431, 0.05437014552272119, 0.05433147509069994, 0.05438119463204982, 0.054430049560907745, 0.054736660632704076, 0.054610717032732244, 0.05448690788916193, 0.05444920594907991, 0.054412132322306475, 0.0544583092306421, 0.0543398082124416, 0.05471099910576376, 0.055237480848318685, 0.05559555235581153, 0.056027299420680896, 0.05582237619085111, 0.05585501132724006, 0.05588714053174173, 0.05576494115837243, 0.05549194717960461, 0.055677600181804406, 0.055559732350951054, 0.05589135139168719, 0.05569957780905118, 0.055731196235570914, 0.055835340486095904, 0.055575682921527425, 0.055607510251061074, 0.05556745946718092, 0.055315225870505635, 0.055136962185761564, 0.05531081742535487, 0.055412818554267065, 0.055237569822770845, 0.05513321005410588, 0.055030270049656486, 0.054928721032362675, 0.055096973357492786, 0.05512965802279848, 0.05529435136745911, 0.05539109269127031, 0.055355859094176854, 0.05525615219790923, 0.05541577962712083, 0.055252868405871416, 0.05547417361951468, 0.05537624200999937, 0.0554682095465694, 0.05524654709080683, 0.055276069809328615, 0.055613850996852045, 0.055579412305993496, 0.055545393573562585, 0.05569359432761651, 0.05565929763267273, 0.05568528830608946, 0.05571096958514374, 0.055677178865155906, 0.05564378565966708, 0.055610782995146484, 0.055636300215103775, 0.055488122073868565, 0.05528417907016838, 0.05531112507856694, 0.05545139480711323, 0.05559007965651658, 0.05572720633672266, 0.05569521255795765, 0.05571912671518249, 0.05579802220871775, 0.05565628262183397, 0.0556253756625321, 0.05564914950274442, 0.05556456407761742, 0.05569593032632654, 0.055505053205710926, 0.05520982926440083, 0.05512935823501402, 0.0550497342245145, 0.0549185906497042, 0.05510129680745794, 0.05517848816123517, 0.05525488376887789, 0.05538177529357469, 0.0554563542676394, 0.05532714075427643, 0.05519923236200192, 0.055323853072709914, 0.05524723763811809, 0.055320630814387345, 0.05534379486164051, 0.05536673070292104, 0.055340424488995635, 0.05526559680015609, 0.05524003689141304, 0.05526303077146032, 0.055333878178933704, 0.05530835845174872, 0.05514023141755155, 0.0549736979290081, 0.05495023819631149, 0.05473921412140275, 0.05462361571889164, 0.05474163992372448, 0.054580806444146104, 0.05455969770978296, 0.05449291316912068, 0.0544723985206155, 0.05440661788100541, 0.054431926157187456, 0.054411963425070944, 0.05425765660732702, 0.05423865006026517, 0.054219812452779875, 0.05424538737224017, 0.05409453328047223, 0.05398886013771326, 0.0540587747259945, 0.05395417590539542, 0.05393705900177481, 0.053963191241756824, 0.05398909918029269, 0.05401478569291911, 0.0539125994638526, 0.0538536502690564, 0.05383739082739125, 0.05373723793117936, 0.05363792309945191, 0.05358110078746719, 0.05356624206464462, 0.05355150613611008, 0.053619192625817866, 0.053686324330970044, 0.053671278723317416, 0.0536157066785903, 0.05372252135541071, 0.05362686988427886, 0.05349182763744428, 0.05343786248550058, 0.05342416636787379, 0.05341057894527995, 0.05339709892889609, 0.053423093578992956, 0.05333124191208188, 0.05320104683410804, 0.05330531885918836, 0.053331266229991084, 0.05327979614686692, 0.053228721972231836, 0.05325466457223861, 0.053356742109079806, 0.05330595794836698, 0.05325555850157191, 0.053167804988491, 0.05308071125145671, 0.053106625220029215, 0.05316965784858774, 0.05319504851120776, 0.05314617977111959, 0.05331906571713221, 0.05330686371824565, 0.05336800849785722, 0.053392211963067045, 0.05345260172357369, 0.05351255389297489, 0.053463773870979385, 0.05345131470091004, 0.053474785849969536, 0.05335523731295311, 0.053307711469342725, 0.053473281089323074, 0.05346100844493128, 0.05362487236364917, 0.05364724044770359, 0.05373937974196706, 0.053796034981359535, 0.053852296795250165, 0.054046572782948686, 0.053963656425640494, 0.054087488402460394, 0.05431320845176535, 0.05426435957817139, 0.05428386789564981, 0.05420155248974611, 0.054086010607749736, 0.05427426685970169, 0.05432703600550317, 0.05444633958730477, 0.05446485117162761, 0.05451646124713465, 0.05456772954537929, 0.05455265502788687, 0.05457057333640341, 0.054653945772269764, 0.05457337995490343, 0.05459105566593922, 0.05460861660335704, 0.05465842529367981, 0.05457888455211122, 0.05456416192405389, 0.05438928239479504, 0.05434331171528066, 0.05436132607241807, 0.054410971080283164, 0.05436536818455112, 0.054383142487618684, 0.05427502279802522, 0.05423027491301213, 0.054185806693540825, 0.05426622223606741, 0.05428402844632154, 0.05420884802328101, 0.05419585815252616, 0.054306021353189134, 0.05423146529247569, 0.05431026574110884, 0.05438858571385019, 0.054436035378863865, 0.05442259325474986, 0.054439442917132416, 0.05439595192915876, 0.05435272214047626, 0.05430975120505374, 0.054207337094415095, 0.05422457664950448, 0.0542713866057387, 0.05434750451170084, 0.054334680392908764, 0.05441016440692921, 0.05445588105920648, 0.0546182860150288, 0.0546631293548293, 0.054620505217871575, 0.05466508217153126, 0.05465159966474958, 0.05475346531800236, 0.0547110715209333, 0.05472622560958139, 0.054884146167252366, 0.054784763966838554, 0.05474276298968779, 0.05470099997167219, 0.05465947289624587, 0.054561843328356945, 0.05466138591612595, 0.054620318758578194, 0.05463534538141393, 0.054594579538174426, 0.0546095941779395, 0.05459682557269882, 0.05458412751028977, 0.05454395195724636, 0.05461388423394962, 0.05465603682090902, 0.0546433157564001, 0.05471240565652162, 0.05478112007825874, 0.05474106392780684, 0.05483635577416827, 0.054850273577531604, 0.054944759549474476, 0.05493150317685853, 0.05489158043902569, 0.054931868483507104, 0.0548389670487487, 0.0547996074374685, 0.054734001745985555, 0.05466874224954487, 0.05470908660298413, 0.05477546521088685, 0.05476296432030575, 0.054750528706822274, 0.05471211687195646, 0.05480377133061479, 0.05492085697261729, 0.05477894628045787, 0.05486971985258112, 0.054960026734531243, 0.05497294941155355, 0.05503695557658372, 0.05507512563455014, 0.05506221215745147, 0.05499860409634273, 0.05503658135237083, 0.05517537435923335, 0.055237903327372107, 0.055149368106328985, 0.055161524773815196, 0.055248618784530384, 0.0552105932520386, 0.05529713191214149, 0.055234361430237466, 0.05517190168560184, 0.05515913187328708, 0.05507253515923253, 0.05513378049679369, 0.05509668880664689, 0.0551575756093983, 0.05514499646350089, 0.055132478528502955, 0.05504720759204874, 0.05491392460230987, 0.05487790149996377, 0.05484205199874702, 0.05485445061416793, 0.054890770005515455, 0.054855147006052485, 0.0548912913772941, 0.05485583676579129, 0.0547967981758153, 0.05473803938295301, 0.054774118815158035, 0.05473927501709865, 0.05472812404414014, 0.054693551794558815, 0.054659141472096676, 0.054648255881871916, 0.054684039999067624, 0.05464989186297993, 0.05463910350107886, 0.054605217471817784, 0.05457148795639823, 0.05453791387295224, 0.05452748212684766, 0.05449416297791335, 0.05450676185899636, 0.054564964270222144, 0.05462290152843899, 0.05463512192904707, 0.05460193646402576, 0.0546593968462252, 0.05460373355003273, 0.05457084299903155, 0.05458304307768365, 0.05455034640478913, 0.05456253775083331, 0.05459699560277673, 0.05458675753323979, 0.0546432301504411, 0.054677279882929426, 0.05468905555186832, 0.05465663009646586, 0.054602321534767954, 0.054658139381552055, 0.05466985373127782, 0.05476904225290475, 0.05491146481517871, 0.05487897867148864, 0.054911849742396907, 0.05490119520183944, 0.054847297677539444, 0.05483682857821645, 0.05486950712269132, 0.054945054945054944, 0.0548915259329199, 0.054881051797606044, 0.05489198948740411, 0.05494552354960448, 0.054913725239888515, 0.05488206195197554, 0.05487171881951654, 0.05490370182448574, 0.05493554988291386, 0.054862002905202, 0.0548517888279658, 0.05484161757615144, 0.05487332900985335, 0.05490490803949813, 0.0549363554925939, 0.05498846177834141, 0.05495736602975042, 0.054967806049564194, 0.05493688146939113, 0.05492670254221563, 0.05497829262772371, 0.0549886039301041, 0.05503985574066105, 0.055070448457086765, 0.05503969306748842, 0.055070161503839025, 0.055100506087274646, 0.055090160442993044, 0.05505961417785065, 0.05506959455364538, 0.05507953468680067, 0.055049194181203596, 0.05507921527680167, 0.055129155728342115, 0.05519889602207956, 0.05512864014690325, 0.055138343857692076, 0.05512812866543409, 0.05513779488502212, 0.0551078196471357, 0.05509772534139642, 0.05508767085461825, 0.055176079211039154, 0.05522484823480875, 0.05519499617654556, 0.05514569186512984, 0.055233296224683114, 0.05526208066119569, 0.055271298223769964, 0.05526106289198268, 0.05532838510881572, 0.0553954468965784, 0.05532711723711897, 0.05537465559430454, 0.05528739831926309, 0.05527724995681465, 0.05532461063964292, 0.05529530984111203, 0.05528520448083052, 0.05521799584769814, 0.055227086937510696, 0.05517921861065255, 0.05524516581125358, 0.05521634751706017, 0.055281975811777136, 0.055309692849475525, 0.055262119133099, 0.05527100804862948, 0.055261137431883295, 0.055307377432197526, 0.05535344489841607, 0.055362097540083054, 0.055314956971060016, 0.055305096380401104, 0.055313790485361385, 0.05528548455666254, 0.05522038338776037, 0.05522918546619768, 0.05529310122975681, 0.05526504100842186, 0.055200454204135455, 0.05513610354472496, 0.05516322694841335, 0.05513560773027814, 0.0551262704314467, 0.055080670042285985, 0.05508958171047626, 0.05502612972640639, 0.055089258316636885, 0.055044053260301616, 0.05514289311343321, 0.055115707078867524, 0.055106539309331376, 0.05509740433981503, 0.055088301994607236, 0.05504358211083581, 0.054963434814327146, 0.054936857249427186, 0.05487491356536232, 0.05493708075963257, 0.05491069062384057, 0.054972575439586606, 0.05489339976408866, 0.054937523066378446, 0.05487623024157471, 0.05485017775520569, 0.05482421635985385, 0.054815797281024765, 0.05477256493789307, 0.054746873967409265, 0.05472127220013542, 0.05476508206096948, 0.054756838116987595, 0.0546968100723649, 0.05470595334563197, 0.05478391077606237, 0.05482723664541846, 0.05483610915764738, 0.054793582301672916, 0.05480248200885455, 0.054811351342127265, 0.054803154971806274, 0.054897025560789785, 0.054922666847761495, 0.05491432348604261, 0.05488908817109694, 0.05486393810915356, 0.05483887286892295, 0.054881230955707815, 0.05488983378430615, 0.054948742470763916, 0.054973953535116665, 0.055015802411330916, 0.055007428924391914, 0.05498241695971734, 0.05494084956989068, 0.05494925333466222, 0.05489129533506907, 0.05489975331534246, 0.05487512603097469, 0.05496608966848732, 0.05497438262961071, 0.055015542507524544, 0.05504014712402095, 0.05503188472320126, 0.05497455033469174, 0.05499910132187383, 0.05505619810443549, 0.05503167700851778, 0.05495845596006569, 0.05490170614113407, 0.05503962658627899, 0.055031471982654005, 0.05499103407053198, 0.05499911291753359, 0.05500716574612325, 0.054966961945949425, 0.05492688720887305, 0.05493501706703418, 0.05492712116606134, 0.05490327630549033, 0.05491140492177158, 0.05485581439785991, 0.054800400629560736, 0.054840399358740334, 0.05484857609229648, 0.0548725494849765, 0.05488064959479313, 0.054857178908850016, 0.054865277712162014, 0.05482618197827078, 0.05480290733269493, 0.05474835817620413, 0.054756576579396254, 0.05474914454461649, 0.05472613531770175, 0.05473434993224405, 0.0547580908539525, 0.05481281346562942, 0.054836359126215095, 0.05484435225460906, 0.054836864963447245, 0.054813968920232714, 0.054821959600006166, 0.05487607882955647, 0.05489931030245311, 0.05489179613809604, 0.0548536775853356, 0.05487683674561551, 0.054884658249492374, 0.05489245590768434, 0.054869788892102096, 0.05483199343475023, 0.05480948695770929, 0.054771897395494006, 0.054764678295335927, 0.054757481004818656, 0.054765388154024826, 0.054728091444405956, 0.054736019007232975, 0.054698878395219294, 0.05467684142666527, 0.05462493076450951, 0.05461801766789734, 0.05461112520708646, 0.054619156197374105, 0.05464204401720212, 0.05465000520051708, 0.05464310618536817, 0.05466585680212145, 0.0546293693880268, 0.05465207308606963, 0.054674709812539635, 0.054667825216123477, 0.05464625520212938, 0.0546834848240114, 0.054735267811322416, 0.054757617018784496, 0.05470680253212672, 0.054670734733799506, 0.05469308027579773, 0.0546716932795738, 0.054679437798869204, 0.05468715983802848, 0.05469485949478993, 0.054731480007525216, 0.05469574139102036, 0.05471782513960838, 0.054667800175789975, 0.05468986057754565, 0.05468312236893148, 0.05467640349492834, 0.05466970387243736, 0.05467732936581737, 0.05468493307238468, 0.05464971969016134, 0.054628851440862665, 0.0545938180111236, 0.05458729279413645, 0.0546091544800783, 0.054602626025127124, 0.05462440418098754, 0.05461787262891767, 0.05462546367470134, 0.054618949028886914, 0.05461245270811944, 0.05463406412831281, 0.054711715123210054, 0.05473312698701699, 0.054754478958336246, 0.0547199061465622, 0.05469937657773253, 0.05469283157616189, 0.05465848875537197, 0.054638130025971864, 0.05461782776937907, 0.05461143197462639, 0.05457739173732037, 0.05457106946036657, 0.05459235045033862, 0.05454470324100219, 0.05459347189172088, 0.05461463441436244, 0.054594587179874074, 0.05468418240846016, 0.05467777458584698, 0.05468504528626658, 0.05467865377007135, 0.054658655876622934, 0.054665922912613435, 0.05468675697341069, 0.0546939661605677, 0.0546876058589992, 0.054694794387085424, 0.05464791016337617, 0.05470911323733823, 0.05475667443834989, 0.05475027254007348, 0.05471700649184823, 0.054710675024496315, 0.05473116982346081, 0.0547382230492229, 0.054758626221574576, 0.054792325870148595, 0.05479926934307543, 0.054832825128826514, 0.0548662916716533, 0.05487310925485717, 0.054866646330950515, 0.05489993510019735, 0.05489345379029378, 0.05487377973870887, 0.05489373491114893, 0.054926812558464315, 0.054946645438875806, 0.05500584749214859, 0.05499927822469521, 0.05503204414096801, 0.05499928011413463, 0.055058103815636396, 0.05502539131342933, 0.05503187702898267, 0.05503834585487168, 0.05501879039284274, 0.05496032519058194, 0.05497983164939495, 0.05496042797373091, 0.05496694738748528, 0.05490885130683066, 0.05488961432755706, 0.054870426927488045, 0.05492850799861006, 0.05490931993162042, 0.054890181127328276, 0.05488391174472122, 0.05486485448329727, 0.05492257132261736, 0.05489074213611576, 0.054858994145482835, 0.054827327040419864, 0.05485935293444104, 0.05482776584795619, 0.05487240009644548, 0.05482820243089441, 0.05478411665675118, 0.05477806854527756, 0.05474678350020833, 0.0547534079015397, 0.05476001561693178, 0.054804342083747376, 0.05486111983517795, 0.05488011442767343, 0.054899061415270484, 0.05494299195254127, 0.05494931313358583, 0.054943134292955144, 0.054949439533172904, 0.05496818221441825, 0.054937127647666076, 0.0549558390578999, 0.05496209724445106, 0.0549311656608964, 0.05493743889308301, 0.05498077897677408, 0.05498697546943865, 0.054993156681175326, 0.05499932266844004, 0.05498087354399085, 0.055036178916720926, 0.05504226942000712, 0.05506059974755211, 0.05507888520336349, 0.05507267637314947, 0.055090902430983746, 0.05506030414263241, 0.0551028611100961, 0.05513314923176117, 0.05509046062623783, 0.05506001140762855, 0.05504175706961128, 0.05507197249427973, 0.055102114847462545, 0.055108030096254874, 0.055138056235751076, 0.055107769785906195, 0.0550655226772241, 0.05504741529548924, 0.055041356046145906, 0.055023321063296604, 0.05502928108645405, 0.05499934211313262, 0.054993369254847616, 0.055011276715075, 0.05506489791540029, 0.055070772966988486, 0.055064743582121496, 0.05510623389270911, 0.055112039003096046, 0.05514152675916162, 0.05513544218411617, 0.05511755180198816, 0.055111509899528933, 0.05512906687421139, 0.05511124721734726, 0.055093469488594254, 0.0550639827969119, 0.055034565322003265, 0.054993493628445154, 0.05497593704991745, 0.054946725769289245, 0.0549643111645892, 0.054993523996219415, 0.05495273947856086, 0.054946973841980884, 0.054976104929012455, 0.05500516834879966, 0.054999361956357816, 0.05500515637130508, 0.0549993634332936, 0.05498202332921007, 0.05495317606032263, 0.054947463120379236, 0.05493024273913895, 0.05490155464263932, 0.05490741485730049, 0.05489029976693723, 0.05488469168931549, 0.05491346032691493, 0.05495360464983238, 0.05490222968880356, 0.0549537105740802, 0.054982269301376265, 0.054965205407683286, 0.05498230964380382, 0.05498801149986932, 0.05498234980306693, 0.05494268772462897, 0.0549257652801214, 0.0549315052997138, 0.05492593304030463, 0.05490908680488934, 0.05492610004396794, 0.05492055269647864, 0.05496001169840609, 0.054965674542982665, 0.05498254789508535, 0.054999383414984136, 0.05498258698110883, 0.05499938479435353, 0.05504966424956146, 0.055099831475095146, 0.055116442403094726, 0.05516642353648623, 0.05521629347838178, 0.05518827568582571, 0.05520471470904873, 0.05519894457932839, 0.05520426130386153, 0.055176380792247876, 0.05520380990265301, 0.05515391662343683, 0.05515925954509873, 0.05510952522549311, 0.055092903268390885, 0.055032362281733166, 0.055037815172171545, 0.055021326520542535, 0.05503773233589994, 0.05502127985470619, 0.055015792177134676, 0.054988482658486264, 0.05499394772139889, 0.05499940087798608, 0.05498307961828489, 0.05497766328626863, 0.054993974006796884, 0.055053632823939005, 0.05505899177690383, 0.05505351673683185, 0.055048053534556385, 0.05505340115117548, 0.055047949860303556, 0.055020958825874725, 0.05500479004531706, 0.05501016118106257, 0.05505848487126884, 0.05510670486368172, 0.055069077501848855, 0.05506365028211689, 0.055079624816846876, 0.05508488157177808, 0.05510079935112752, 0.055063378855236086, 0.055079285630610965, 0.05508452037744279, 0.05507911711884039, 0.05504187853632127, 0.05503653195618286, 0.05505238291967246, 0.05505761843790013, 0.055062842887495904, 0.055078615854109246, 0.05512600078058248, 0.05509952476791604, 0.05508363069862422, 0.05507828519153321, 0.05509395909706831, 0.05505713476248938, 0.055020387626964075, 0.055015130731615375, 0.05502034497547097, 0.05498375147595114, 0.055009864197659734, 0.05504634988164878, 0.05507234299642712, 0.05506706485884642, 0.055082587499090445, 0.0551396143342229, 0.05514465617576581, 0.05514968756800448, 0.055134004823966624, 0.055149377979545194, 0.05511306701377052, 0.055107790425279406, 0.055081906372099254, 0.055076672742814185, 0.05507144988220286, 0.05506623775706313, 0.05504050266424369, 0.05505584558107096, 0.05508140285447895, 0.05506596657147829, 0.0550607866995225, 0.055065831809685294, 0.0550504586687891, 0.055045310445357334, 0.05501980631561797, 0.05503504542171494, 0.055009603560939424, 0.05503497426422067, 0.055060293506151055, 0.055045035004711196, 0.05505005010070748, 0.05507527729749952, 0.05507015080655751, 0.055044853230542576, 0.055049848287819676, 0.0550749740687405, 0.055100049295278716, 0.05514517442035759, 0.055129968574612706, 0.05508470326275564, 0.055079608420757306, 0.055104553507972893]\n"
          ]
        }
      ],
      "source": [
        "obs, info = env.reset()\n",
        "probBloqueoArray = []\n",
        "rewardsArray = []\n",
        "rewardTemp = 0\n",
        "NoAlloCounter = 0\n",
        "ConnCounter = 1\n",
        "\n",
        "iterationAccum = 100\n",
        "_state = [0] * 2720\n",
        "for i in range(100000):\n",
        "    if (i % iterationAccum) == 0:\n",
        "        probBloqueoArray.append(NoAlloCounter/ConnCounter)\n",
        "        rewardsArray.append(rewardTemp)\n",
        "        rewardTemp = 0\n",
        "    action, _states = model.predict(_state)\n",
        "    _state, _reward, terminated, truncated, info = env.step(action)\n",
        "    rewardTemp = rewardTemp + _reward\n",
        "    if _reward == -1:\n",
        "      NoAlloCounter += 1\n",
        "      ConnCounter += 1\n",
        "    else:\n",
        "      ConnCounter += 1\n",
        "\n",
        "print(episodeRewardsArray)\n",
        "print(rewardsArray)\n",
        "print(probBloqueoArray)"
      ]
    },
    {
      "cell_type": "code",
      "source": [
        "fileDirectory = '/content/drive/MyDrive/DREAMONGYM'\n",
        "\n",
        "env = gymnasium.make(\"rlonenv-v0\")\n",
        "\n",
        "obs, info = env.reset()\n",
        "\n",
        "#definir espacio (opciones del 0-3, 4 en total )\n",
        "env.action_space = gymnasium.spaces.MultiDiscrete(np.array([4]))\n",
        "\n",
        "\n",
        "#tamaño de los slots de las bandas\n",
        "env.observation_space = gymnasium.spaces.MultiDiscrete([100] * 2720)\n",
        "\n",
        "#Set funcion recompensa\n",
        "env.setRewardFunc(reward)\n",
        "#Set estados\n",
        "env.setStateFunc(state)\n",
        "#env.setStateFunc(stateAllNetwork)\n",
        "#Definir topologia y rutas\n",
        "env.initEnviroment(fileDirectory + \"/Topologias-rutas/NSFNet_4_bands.json\", fileDirectory + \"/Topologias-rutas/NSFNet_routes.json\")\n",
        "#Cantidad de conexiones para tener el simulador corriendo\n",
        "env.getSimulator().goalConnections = 100000\n",
        "env.getSimulator().setMu(1)\n",
        "env.getSimulator().setLambda(1000)\n",
        "env.getSimulator().setAllocator(first_fit_algorithm)\n",
        "env.getSimulator().init()"
      ],
      "metadata": {
        "colab": {
          "base_uri": "https://localhost:8080/"
        },
        "id": "vgb9YEOtYII9",
        "outputId": "aded8510-4b45-4e4a-ebd2-75b7ccf081d3"
      },
      "execution_count": null,
      "outputs": [
        {
          "output_type": "stream",
          "name": "stderr",
          "text": [
            "/usr/local/lib/python3.10/dist-packages/gymnasium/core.py:311: UserWarning: \u001b[33mWARN: env.setRewardFunc to get variables from other wrappers is deprecated and will be removed in v1.0, to get this variable you can do `env.unwrapped.setRewardFunc` for environment variables or `env.get_wrapper_attr('setRewardFunc')` that will search the reminding wrappers.\u001b[0m\n",
            "  logger.warn(\n",
            "/usr/local/lib/python3.10/dist-packages/gymnasium/core.py:311: UserWarning: \u001b[33mWARN: env.setStateFunc to get variables from other wrappers is deprecated and will be removed in v1.0, to get this variable you can do `env.unwrapped.setStateFunc` for environment variables or `env.get_wrapper_attr('setStateFunc')` that will search the reminding wrappers.\u001b[0m\n",
            "  logger.warn(\n",
            "/usr/local/lib/python3.10/dist-packages/gymnasium/core.py:311: UserWarning: \u001b[33mWARN: env.initEnviroment to get variables from other wrappers is deprecated and will be removed in v1.0, to get this variable you can do `env.unwrapped.initEnviroment` for environment variables or `env.get_wrapper_attr('initEnviroment')` that will search the reminding wrappers.\u001b[0m\n",
            "  logger.warn(\n"
          ]
        },
        {
          "output_type": "stream",
          "name": "stdout",
          "text": [
            "meta: 0.95\n",
            "objetivo: 0.95 covered: 0.0 epsilon: 0.01\n",
            "meta: 0.2673105078629141\n",
            "objetivo: 0.95 covered: 0.6826894921370859 epsilon: 0.01\n"
          ]
        }
      ]
    },
    {
      "cell_type": "code",
      "source": [
        "env.start()\n",
        "env.getSimulator().setAllocator(agent_algorithm)\n",
        "\n",
        "policy_args = dict(net_arch=5*[128], activation_fn=th.nn.ReLU)\n",
        "\n",
        "\n",
        "model = PPO(MlpPolicy, env, verbose=0, tensorboard_log=\"./tb/PPO-DeepRMSA-v0/\", policy_kwargs=policy_args, gamma=.95)\n",
        "\n",
        "model.learn(total_timesteps=1000, log_interval=4)\n",
        "\n",
        "modelDirectory = fileDirectory + \"/models/\"\n",
        "\n",
        "model.save(modelDirectory+ \"PPO-NSFNet-RW1\")\n",
        "#model.load('TRPO100720231300')"
      ],
      "metadata": {
        "colab": {
          "base_uri": "https://localhost:8080/"
        },
        "id": "S4hk1XENYISm",
        "outputId": "90c7b446-9ce9-416b-8c60-97588d2ded71"
      },
      "execution_count": null,
      "outputs": [
        {
          "output_type": "stream",
          "name": "stderr",
          "text": [
            "/usr/local/lib/python3.10/dist-packages/gymnasium/core.py:311: UserWarning: \u001b[33mWARN: env.start to get variables from other wrappers is deprecated and will be removed in v1.0, to get this variable you can do `env.unwrapped.start` for environment variables or `env.get_wrapper_attr('start')` that will search the reminding wrappers.\u001b[0m\n",
            "  logger.warn(\n"
          ]
        },
        {
          "output_type": "stream",
          "name": "stdout",
          "text": [
            "Nodes: 14\n",
            "Links: 44\n",
            "Goal Connections: 100000\n",
            "Lambda: 1000\n",
            "Mu: 1\n",
            "+----------+----------+----------+----------+----------+----------+----------+\n",
            "| progress |  arrives | blocking |  time(s) |  Wald CI |  A-C. CI |Wilson CI |\n",
            "+----------+----------+----------+----------+----------+----------+----------+\n",
            "|     5.0% |     5000 | 0.418316 |  0:00:02 | 0.013951 | 0.013945 | 0.013945 |\n",
            "+----------+----------+----------+----------+----------+----------+----------+\n",
            "|    10.0% |    10000 | 0.425957 |  0:00:04 | 0.009889 | 0.009887 | 0.009887 |\n",
            "+----------+----------+----------+----------+----------+----------+----------+\n",
            "|    15.0% |    15000 | 0.426772 |  0:00:06 | 0.008077 | 0.008076 | 0.008076 |\n",
            "+----------+----------+----------+----------+----------+----------+----------+\n",
            "|    20.0% |    20000 | 0.424179 |  0:00:08 | 0.006989 | 0.006988 | 0.006988 |\n",
            "+----------+----------+----------+----------+----------+----------+----------+\n",
            "|    25.0% |    25000 | 0.422743 |  0:00:10 | 0.006248 | 0.006248 | 0.006248 |\n",
            "+----------+----------+----------+----------+----------+----------+----------+\n",
            "|    30.0% |    30000 | 0.422253 |  0:00:12 | 0.005703 | 0.005703 | 0.005703 |\n",
            "+----------+----------+----------+----------+----------+----------+----------+\n",
            "|    35.0% |    35000 | 0.424874 |  0:00:15 | 0.005284 | 0.005284 | 0.005284 |\n",
            "+----------+----------+----------+----------+----------+----------+----------+\n",
            "|    40.0% |    40000 | 0.423389 |  0:00:17 | 0.004941 | 0.004941 | 0.004941 |\n",
            "+----------+----------+----------+----------+----------+----------+----------+\n",
            "|    45.0% |    45000 | 0.424013 |  0:00:19 | 0.004659 | 0.004659 | 0.004659 |\n",
            "+----------+----------+----------+----------+----------+----------+----------+\n",
            "|    50.0% |    50000 | 0.425231 |  0:00:21 | 0.004422 | 0.004422 | 0.004422 |\n",
            "+----------+----------+----------+----------+----------+----------+----------+\n",
            "|    55.0% |    55000 | 0.424865 |  0:00:23 | 0.004216 | 0.004215 | 0.004215 |\n",
            "+----------+----------+----------+----------+----------+----------+----------+\n",
            "|    60.0% |    60000 | 0.425310 |  0:00:25 | 0.004037 | 0.004037 | 0.004037 |\n",
            "+----------+----------+----------+----------+----------+----------+----------+\n",
            "|    65.0% |    65000 | 0.424624 |  0:00:28 | 0.003877 | 0.003877 | 0.003877 |\n",
            "+----------+----------+----------+----------+----------+----------+----------+\n",
            "|    70.0% |    70000 | 0.423580 |  0:00:30 | 0.003735 | 0.003735 | 0.003735 |\n",
            "+----------+----------+----------+----------+----------+----------+----------+\n",
            "|    75.0% |    75000 | 0.423648 |  0:00:32 | 0.003609 | 0.003609 | 0.003609 |\n",
            "+----------+----------+----------+----------+----------+----------+----------+\n",
            "|    80.0% |    80000 | 0.424307 |  0:00:34 | 0.003495 | 0.003495 | 0.003495 |\n",
            "+----------+----------+----------+----------+----------+----------+----------+\n",
            "|    85.0% |    85000 | 0.424571 |  0:00:36 | 0.003391 | 0.003391 | 0.003391 |\n",
            "+----------+----------+----------+----------+----------+----------+----------+\n",
            "|    90.0% |    90000 | 0.424806 |  0:00:38 | 0.003295 | 0.003295 | 0.003295 |\n",
            "+----------+----------+----------+----------+----------+----------+----------+\n",
            "|    95.0% |    95000 | 0.424932 |  0:00:41 | 0.003208 | 0.003208 | 0.003208 |\n",
            "+----------+----------+----------+----------+----------+----------+----------+\n"
          ]
        }
      ]
    },
    {
      "cell_type": "code",
      "source": [
        "obs, info = env.reset()\n",
        "probBloqueoArray = []\n",
        "rewardsArray = []\n",
        "rewardTemp = 0\n",
        "NoAlloCounter = 0\n",
        "ConnCounter = 1\n",
        "\n",
        "iterationAccum = 100\n",
        "_state = [0] * 2720\n",
        "for i in range(100000):\n",
        "    if (i % iterationAccum) == 0:\n",
        "        probBloqueoArray.append(NoAlloCounter/ConnCounter)\n",
        "        rewardsArray.append(rewardTemp)\n",
        "        rewardTemp = 0\n",
        "    action, _states = model.predict(_state)\n",
        "    _state, _reward, terminated, truncated, info = env.step(action)\n",
        "    rewardTemp = rewardTemp + _reward\n",
        "    if _reward == -1:\n",
        "      NoAlloCounter += 1\n",
        "      ConnCounter += 1\n",
        "    else:\n",
        "      ConnCounter += 1\n",
        "\n",
        "print(episodeRewardsArray)\n",
        "print(rewardsArray)\n",
        "print(probBloqueoArray)"
      ],
      "metadata": {
        "colab": {
          "base_uri": "https://localhost:8080/"
        },
        "id": "1curfEO2YIWE",
        "outputId": "55a25aec-16f2-4202-a895-694e3bd2cbe3"
      },
      "execution_count": null,
      "outputs": [
        {
          "output_type": "stream",
          "name": "stdout",
          "text": [
            "[87, 96, 94, 88, 90, 90, 90, 98, 92, 88, 90, 82, 80, 88, 92, 86, 92, 92, 90, 86, 92, 88, 92, 82, 88, 84, 90, 90, 84, 90, 96, 90, 96, 94, 90, 82, 100, 98, 96, 84, 98, 90, 92, 86, 90, 94, 92, 88, 90, 92, 90, 96, 86, 92, 92, 82, 92, 88, 82, 78, 90, 84, 90, 90, 84, 92, 84, 96, 94, 96, 96, 88, 92, 88, 82, 90, 92, 88, 90, 80, 88, 88, 86, 92, 86, 82, 90, 90, 90, 90, 86, 90, 88, 82, 78, 78, 86, 80, 90, 86, 94, 90, 96, 94, 92, 84, 82, 98, 90, 80, 98, 88, 90, 90, 96, 88, 92, 86, 88, 88, 80, 92, 92, 80, 98, 88, 90, 92, 86, 92, 86, 88, 94, 84, 92, 90, 84, 90, 88, 90, 94, 88, 88, 78, 82, 68, 92, 88, 92, 88, 94, 90, 88, 86, 90, 88, 86, 94, 88, 94, 88, 94, 92, 86, 88, 96, 88, 94, 86, 92, 78, 88, 90, 90, 88, 88, 88, 90, 86, 92, 90, 84, 82, 94, 80, 96, 88, 90, 84, 90, 96, 86, 90, 92, 94, 82, 90, 86, 82, 86, 90, 90, 94, 88, 92, 84, 92, 98, 96, 94, 92, 86, 86, 88, 84, 82, 92, 96, 90, 84, 86, 88, 88, 92, 88, 90, 94, 84, 86, 94, 100, 92, 92, 96, 90, 90, 98, 84, 94, 94, 90, 86, 92, 90, 90, 94, 88, 100, 86, 90, 94, 86, 92, 86, 90, 94, 88, 96, 90, 96, 92, 90, 86, 88, 88, 90, 86, 90, 94, 96, 90, 94, 86, 92, 90, 94, 94, 82, 90, 94, 88, 84, 92, 90, 94, 96, 88, 88, 84, 90, 86, 86, 86, 90, 84, 92, 86, 90, 88, 96, 92, 84, 84, 86, 88, 82, 88, 90, 72, 94, 86, 78, 86, 90, 90, 96, 80, 84, 88, 86, 86, 82, 90, 94, 80, 90, 94, 88, 86, 88, 92, 96, 92, 100, 82, 88, 90, 92, 96, 90, 90, 82, 92, 92, 86, 88, 90, 86, 78, 88, 92, 92, 92, 96, 90, 90, 88, 86, 88, 78, 92, 82, 84, 88, 86, 90, 90, 84, 92, 82, 86, 96, 90, 90, 96, 84, 90, 90, 90, 94, 84, 90, 94, 86, 86, 90, 86, 86, 88, 84, 84, 86, 88, 94, 82, 94, 94, 92, 92, 92, 86, 84, 94, 88, 90, 80, 90, 88, 88, 80, 86, 86, 90, 88, 96, 76, 90, 84, 88, 90, 84, 86, 92, 92, 92, 94, 88, 92, 84, 90, 88, 92, 100, 94, 94, 90, 90, 86, 90, 84, 94, 98, 84, 94, 90, 90, 96, 94, 90, 82, 92, 90, 96, 88, 88, 96, 86, 90, 76, 92, 90, 86, 90, 96, 84, 94, 90, 82, 92, 86, 86, 88, 88, 96, 88, 82, 84, 78, 84, 96, 82, 96, 90, 88, 88, 86, 86, 98, 80, 90, 92, 92, 84, 88, 90, 92, 92, 88, 82, 90, 86, 88, 90, 92, 94, 82, 80, 90, 86, 90, 90, 86, 86, 92, 92, 88, 88, 86, 88, 84, 88, 88, 94, 86, 90, 94, 88, 84, 82, 90, 94, 92, 76, 90, 84, 94, 74, 90, 94, 88, 96, 88, 84, 92, 94, 88, 94, 86, 92, 84, 86, 86, 94, 90, 90, 82, 86, 86, 94, 94, 86, 92, 96, 80, 86, 100, 96, 90, 90, 88, 94, 90, 90, 92, 86, 86, 84, 96, 90, 86, 92, 98, 94, 92, 94, 82, 90, 88, 92, 92, 92, 88, 96, 88, 96, 92, 86, 86, 98, 90, 86, 78, 88, 94, 90, 86, 90, 84, 82, 88, 88, 98, 90, 86, 84, 82, 90, 86, 88, 86, 94, 90, 94, 94, 90, 86, 80, 84, 86, 88, 94, 94, 80, 86, 96, 98, 78, 84, 96, 90, 88, 92, 94, 88, 90, 90, 90, 94, 96, 88, 88, 88, 88, 84, 96, 86, 92, 100, 90, 88, 92, 88, 90, 88, 80, 88, 90, 88, 90, 88, 80, 92, 90, 90, 84, 92, 86, 94, 96, 90, 94, 88, 90, 90, 90, 96, 90, 92, 96, 88, 92, 88, 84, 90, 86, 90, 92, 84, 90, 92, 82, 86, 88, 90, 90, 92, 90, 86, 96, 84, 88, 88, 88, 92, 88, 92, 94, 86, 88, 88, 88, 96, 96, 88, 88, 88, 88, 90, 90, 88, 90, 88, 84, 80, 86, 92, 90, 88, 94, 94, 94, 90, 90, 94, 86, 92, 92, 80, 90, 82, 84, 92, 88, 90, 88, 88, 90, 86, 90, 92, 84, 86, 84, 92, 94, 88, 86, 86, 86, 88, 86, 82, 86, 90, 90, 84, 92, 90, 84, 84, 80, 84, 88, 90, 84, 90, 86, 94, 90, 94, 96, 88, 88, 94, 94, 90, 86, 90, 92, 90, 90, 84, 92, 92, 90, 92, 88, 86, 92, 98, 88, 96, 92, 86, 84, 76, 86, 92, 82, 86, 86, 90, 86, 90, 94, 82, 90, 94, 86, 86, 86, 90, 86, 86, 82, 90, 86, 90, 88, 88, 88, 82, 94, 92, 94, 86, 86, 86, 84, 92, 94, 92, 92, 94, 84, 94, 94, 86, 84, 86, 90, 84, 84, 88, 82, 92, 94, 88, 86, 94, 94, 94, 94, 96, 88, 94, 84, 92, 92, 90, 82, 86, 92, 88, 88, 94, 90, 90, 92, 96, 88, 92, 86, 78, 94, 92, 82, 84, 92, 84, 92, 94, 94, 90, 86, 94, 84, 92, 78, 92, 86, 90, 84, 92, 82, 82, 78, 92, 70, 92, 88, 92, 82, 96, 90, 88, 96, 92, 94, 96, 96, 88, 90, 90, 92, 88, 92, 90, 90, 88, 90, 86, 76, 90, 92, 90, 84, 96, 92, 90, 88, 78, 84, 98, 86, 82, 90, 90, 90, 92, 84, 94, 92, 92, 86, 86, 90, 84, 86, 90, 92, 88, 92, 96, 92, 86, 96, 92, 80, 86, 86, 88, 80, 84, 90, 88, 86, 94, 92, 92, 92, 88, 90, 98, 88, 88, 86, 88, 90, 90, 88, 96, 90, 92, 82, 88, 86, 92, 86, 90, 90, 92, 86, 80, 86, 86, 92, 92, 88, 86, 90, 86, 82, 88, 84, 86, 90, 76, 80, 76, 78, 84, 88, 90, 84, 90, 82, 76, 86, 94, 82, 88, 84, 80, 84, 84, 82, 80, 74, 80, 90, 86, 92, 92, 84, 80, 86, 86, 82, 80, 86, 86, 92, 78, 86, 68, 88, 74, 90, 80, 82, 84, 86, 86, 88, 94, 82, 78, 82, 88, 86, 80, 92, 88, 84, 90, 80, 68, 82, 86, 86, 76, 78, 72, 76, 86, 92, 90, 90, 82, 88, 80, 96, 84, 88, 90, 82, 80, 82, 78, 80, 94, 82, 82, 90, 80, 80, 88, 88, 90, 82, 84, 78, 86, 84, 82, 78, 90, 90, 84, 84, 80, 80, 82, 90, 80, 84, 82, 82, 84, 82, 84, 80, 78, 78, 80, 84, 80, 82, 84, 84, 78, 90, 88, 90, 80, 82, 82, 82, 78, 86, 74, 80, 78, 88, 80, 80, 86, 92, 88, 86, 86, 84, 84, 84, 84, 88, 96, 78, 82, 78, 88, 90, 86, 76, 80, 94, 94, 90, 94, 86, 84, 86, 78, 88, 82, 78, 84, 80, 82, 84, 82, 80, 94, 86, 84, 86, 84, 86, 76, 90, 80, 80, 68, 84, 96, 82, 78, 76, 84, 90, 74, 88, 82, 84, 86, 82, 86, 90, 80, 78, 78, 86, 72, 76, 90, 82, 86, 84, 80, 84, 90, 80, 82, 88, 78, 82, 86, 90, 78, 88, 82, 96, 82, 86, 88, 84, 88, 80, 84, 82, 80, 76, 84, 88, 74, 86, 80, 78, 82, 86, 88, 80, 76, 90, 84, 80, 82, 86, 90, 86, 78, 96, 86, 82, 88, 84, 90, 92, 76, 86, 84, 82, 86, 88, 82, 88, 86, 86, 96, 90, 86, 82, 90, 86, 90, 82, 84, 76, 88, 88, 84, 86, 78, 80, 78, 86, 82, 88, 84, 94, 82, 78, 92, 76, 72, 82, 84, 84, 70, 86, 94, 84, 92, 80, 76, 88, 88, 94, 70, 80, 90, 92, 88, 94, 86, 88, 74, 84, 82, 86, 74, 82, 90, 82, 80, 82, 88, 82, 82, 88, 92, 86, 86, 76, 82, 94, 80, 90, 90, 86, 80, 88, 78, 90, 86, 82, 84, 84, 88, 80, 74, 86, 74, 84, 80, 74, 84, 84, 84, 90, 80, 86, 78, 90, 82, 82, 84, 90, 90, 86, 80, 86, 88, 80, 92, 86, 90, 78, 90, 78, 84, 84, 92, 84, 94, 82, 84, 84, 86, 80, 78, 84, 86, 80, 84, 86, 82, 72, 76, 92, 84, 82, 78, 88, 84, 86, 84, 80, 86, 86, 88, 78, 92, 88, 82, 94, 86, 84, 80, 78, 84, 84, 92, 84, 70, 76, 72, 84, 80, 96, 82, 78, 78, 88, 88, 88, 88, 76, 84, 84, 82, 76, 82, 82, 78, 86, 92, 88, 92, 82, 80, 94, 92, 94, 82, 94, 88, 86, 92, 88, 92, 88, 86, 84, 86, 82, 78, 84, 88, 88, 84, 86, 80, 86, 88, 72, 82, 82, 86, 80, 82, 76, 80, 82, 86, 80, 78, 94, 80, 88, 98, 72, 84, 80, 84, 82, 86, 90, 70, 86, 88, 80, 88, 86, 96, 80, 84, 82, 82, 86, 90, 90, 80, 84, 90, 78, 88, 88, 84, 86, 92, 90, 78, 88, 90, 82, 72, 80, 86, 88, 92, 84, 80, 84, 88, 78, 80, 82, 96, 74, 90, 90, 94, 82, 84, 86, 84, 86, 94, 82, 84, 82, 82, 74, 92, 74, 88, 90, 78, 86, 90, 70, 92, 88, 88, 78, 84, 84, 80, 80, 78, 86, 88, 78, 82, 84, 82, 92, 84, 82, 90, 90, 84, 92, 86, 76, 74, 86, 80, 84, 84, 80, 90, 80, 82, 84, 84, 78, 84, 78, 78, 86, 86, 84, 84, 84, 82, 78, 88, 82, 90, 92, 92, 84, 92, 84, 84, 70, 78, 86, 90, 74, 88, 76, 90, 84, 72, 74, 86, 88, 86, 80, 72, 90, 76, 82, 82, 84, 78, 76, 76, 78, 90, 82, 82, 74, 84, 90, 94, 80, 80, 86, 76, 90, 84, 90, 90, 78, 80, 84, 86, 72, 78, 74, 84, 82, 72, 84, 84, 88, 76, 80, 92, 86, 80, 90, 80, 80, 88, 90, 90, 90, 74, 86, 74, 88, 82, 84, 86, 86, 86, 88, 84, 82, 82, 86, 84, 90, 84, 86, 80, 84, 84, 78, 78, 88, 68, 84, 88, 88, 94, 86, 80, 84, 92, 86, 78, 88, 76, 80, 88, 84, 80, 88, 78, 86, 82, 86, 84, 86, 90, 82, 86, 84, 80, 84, 88, 78, 80, 82, 84, 86, 86, 82, 86, 84, 92, 86, 80, 82, 90, 78, 84, 90, 84, 86, 84, 78, 90, 82, 86, 92, 100, 82, 86, 90, 84, 92, 80, 78, 82, 88, 86, 88, 80, 82, 82, 86, 86, 94, 84, 82, 90, 90, 82, 88, 86, 90, 90, 80, 84, 80, 88, 82, 86, 88, 88, 86, 94, 88, 82, 84, 80, 80, 88, 86, 72, 82, 94, 90, 80, 78, 88, 84, 92, 80, 86, 82, 88, 92, 90, 88, 92, 86, 86, 90, 78, 92, 92, 80, 86, 94, 90, 92, 88, 78, 88, 92, 78, 86, 78, 86, 88, 88, 90, 78, 82, 88, 78, 84, 88, 88, 90, 92, 86, 90, 84, 88, 88, 80, 78, 86, 94, 88, 86, 78, 90, 90, 84, 86, 82, 94, 82, 82, 82, 82, 84, 88, 82, 80, 74, 86, 84, 74, 80, 84, 82, 88, 76, 86, 84, 92, 86, 78, 72, 82, 84, 78, 82, 90, 82, 88, 90, 88, 84, 88, 88, 84, 82, 86, 82, 78, 88, 82, 86, 86, 88, 76, 84, 82, 90, 76, 80, 82, 90, 80, 90, 82, 86, 90, 84, 82, 84, 80, 86, 84, 78, 86, 84, 94, 88, 92, 84, 82, 90, 86, 78, 88, 88, 80, 88, 82, 78, 88, 76, 72, 86, 86, 90, 86, 86, 78, 84, 84, 90, 82, 92, 94, 96, 92, 88, 88, 88, 92, 90, 92, 84, 80, 82, 82, 86, 86, 94, 84, 88, 84, 80, 82, 92, 78, 82, 74, 82, 80, 70, 80, 88, 86, 68, 88, 90, 88, 86, 74, 82, 94, 84, 86, 88]\n",
            "[0, 88, 84, 82, 82, 86, 82, 80, 72, 82, 88, 86, 94, 90, 84, 80, 86, 86, 84, 78, 86, 86, 94, 76, 86, 68, 88, 76, 88, 80, 82, 86, 84, 88, 86, 94, 84, 76, 82, 88, 86, 80, 92, 88, 84, 90, 82, 66, 82, 86, 86, 76, 80, 70, 76, 86, 92, 90, 90, 82, 88, 80, 96, 84, 88, 92, 80, 80, 82, 78, 80, 96, 80, 82, 90, 80, 80, 88, 88, 90, 82, 84, 80, 84, 84, 82, 78, 90, 90, 84, 84, 82, 78, 82, 90, 80, 86, 80, 82, 84, 82, 84, 80, 80, 76, 80, 84, 82, 82, 82, 84, 78, 90, 88, 94, 76, 82, 82, 84, 78, 84, 78, 78, 76, 88, 82, 80, 84, 92, 88, 86, 86, 86, 84, 82, 84, 88, 96, 82, 78, 78, 88, 90, 86, 76, 80, 94, 94, 90, 96, 86, 82, 88, 76, 88, 84, 76, 84, 82, 80, 84, 82, 80, 94, 88, 82, 86, 84, 86, 76, 90, 80, 80, 70, 82, 96, 82, 78, 76, 86, 88, 76, 88, 80, 84, 86, 82, 86, 90, 80, 78, 78, 86, 72, 76, 90, 82, 86, 86, 78, 84, 90, 80, 84, 86, 78, 82, 86, 90, 78, 88, 82, 96, 82, 86, 88, 84, 88, 80, 86, 80, 80, 76, 84, 88, 74, 86, 80, 78, 84, 84, 88, 80, 78, 88, 84, 80, 82, 86, 92, 86, 76, 96, 86, 82, 88, 84, 90, 92, 78, 84, 86, 82, 84, 90, 80, 88, 86, 86, 96, 90, 86, 82, 90, 86, 92, 82, 82, 76, 88, 88, 84, 86, 78, 80, 78, 86, 82, 88, 84, 94, 82, 78, 92, 76, 72, 84, 84, 84, 70, 84, 94, 84, 92, 82, 76, 86, 88, 94, 72, 78, 90, 92, 88, 94, 86, 88, 76, 82, 84, 86, 76, 80, 88, 82, 82, 82, 88, 80, 82, 88, 94, 84, 86, 76, 84, 94, 80, 88, 90, 86, 82, 86, 78, 90, 86, 82, 84, 84, 88, 82, 72, 86, 74, 86, 80, 72, 84, 84, 86, 88, 82, 84, 78, 90, 82, 84, 82, 90, 90, 86, 80, 86, 88, 80, 94, 86, 88, 80, 88, 78, 84, 84, 92, 84, 96, 82, 82, 84, 86, 82, 76, 84, 86, 80, 84, 86, 82, 74, 74, 94, 82, 82, 78, 90, 82, 86, 84, 82, 84, 86, 90, 76, 92, 88, 84, 92, 86, 84, 80, 80, 82, 84, 92, 84, 72, 74, 74, 82, 80, 96, 84, 76, 78, 88, 88, 88, 88, 76, 84, 84, 84, 74, 82, 82, 80, 84, 92, 88, 92, 82, 82, 92, 92, 94, 82, 94, 88, 86, 92, 88, 92, 88, 88, 82, 90, 78, 78, 84, 88, 88, 84, 88, 78, 86, 90, 70, 82, 82, 86, 82, 80, 78, 78, 82, 86, 80, 78, 94, 82, 86, 98, 74, 82, 80, 84, 84, 84, 90, 72, 84, 88, 80, 88, 86, 96, 80, 86, 82, 82, 84, 92, 88, 82, 82, 90, 78, 88, 90, 82, 86, 92, 90, 78, 88, 90, 82, 72, 80, 88, 86, 92, 86, 78, 84, 88, 80, 78, 84, 94, 76, 88, 90, 96, 80, 84, 86, 84, 86, 94, 82, 84, 84, 80, 78, 88, 74, 90, 88, 78, 86, 90, 70, 92, 88, 88, 78, 86, 82, 80, 82, 76, 86, 88, 78, 82, 88, 82, 88, 84, 82, 90, 90, 84, 92, 86, 78, 74, 84, 80, 84, 84, 80, 90, 80, 84, 82, 84, 78, 86, 76, 80, 86, 84, 86, 84, 82, 84, 76, 88, 82, 90, 92, 92, 84, 92, 84, 86, 72, 74, 88, 88, 74, 88, 78, 88, 84, 72, 76, 84, 88, 86, 80, 72, 90, 78, 80, 82, 84, 80, 76, 76, 78, 90, 82, 80, 76, 82, 90, 94, 80, 80, 86, 76, 90, 86, 88, 90, 78, 84, 82, 84, 72, 78, 74, 88, 78, 72, 84, 84, 90, 76, 78, 92, 86, 80, 90, 80, 80, 88, 92, 88, 90, 76, 84, 74, 88, 84, 82, 86, 86, 86, 88, 84, 84, 80, 86, 86, 88, 86, 84, 84, 80, 84, 78, 78, 88, 68, 84, 90, 86, 94, 88, 80, 82, 92, 88, 78, 86, 76, 80, 88, 84, 80, 88, 78, 86, 82, 86, 86, 84, 90, 82, 86, 84, 80, 86, 86, 80, 80, 80, 84, 86, 86, 82, 88, 82, 92, 86, 80, 82, 90, 78, 84, 90, 84, 86, 84, 78, 92, 82, 84, 92, 100, 82, 86, 90, 84, 92, 80, 78, 82, 88, 86, 90, 78, 82, 82, 86, 86, 94, 84, 82, 90, 90, 82, 88, 86, 92, 88, 80, 84, 80, 88, 82, 88, 86, 88, 86, 94, 88, 82, 84, 80, 80, 88, 86, 72, 84, 92, 90, 82, 78, 86, 84, 92, 80, 86, 84, 88, 92, 88, 90, 90, 88, 84, 90, 78, 92, 92, 80, 86, 94, 90, 92, 88, 80, 86, 94, 76, 86, 80, 84, 88, 88, 90, 80, 80, 88, 78, 86, 88, 86, 90, 94, 84, 90, 84, 88, 88, 80, 80, 84, 94, 88, 86, 80, 88, 90, 84, 86, 82, 94, 82, 84, 82, 80, 84, 88, 82, 80, 76, 84, 88, 70, 80, 84, 82, 88, 76, 86, 84, 92, 86, 78, 72, 82, 84, 78, 82, 90, 82, 88, 90, 90, 82, 88, 90, 82, 82, 86, 84, 78, 86, 82, 86, 86, 88, 76, 84, 82, 90, 76, 80, 82, 90, 82, 90, 80, 86, 90, 86, 80, 84, 82, 84, 84, 78, 86, 84, 94, 90, 90, 84, 82, 90, 88, 76, 88, 88, 80, 88, 82, 78, 90, 76, 70, 88, 84, 90, 88, 84, 78, 86, 84, 88, 82, 92, 94, 96, 92, 88, 88, 88, 92, 90, 92, 84, 80, 82, 82, 86, 86, 94, 84, 88, 84, 80, 86, 88, 78, 84, 72, 82, 80, 70, 80, 88, 86, 68, 88, 90, 88, 86, 76, 80, 94, 84, 88, 86]\n",
            "[0.0, 0.0594059405940594, 0.06965174129353234, 0.07641196013289037, 0.0798004987531172, 0.07784431137724551, 0.07986688851913477, 0.08273894436519258, 0.0898876404494382, 0.08990011098779134, 0.08691308691308691, 0.08537693006357856, 0.08076602830974189, 0.07840122982321292, 0.07851534618129907, 0.07994670219853431, 0.07932542161149282, 0.078777189888301, 0.07884508606329817, 0.08048395581273014, 0.079960019990005, 0.0794859590671109, 0.07723761926397092, 0.07909604519774012, 0.07871720116618076, 0.08196721311475409, 0.08112264513648597, 0.08256201406886339, 0.0817565155301678, 0.08238538435022406, 0.08263912029323559, 0.08223153821347952, 0.08216182442986567, 0.08149045743714026, 0.08115260217583063, 0.07969151670951156, 0.07970008331019161, 0.08078897595244529, 0.08103130755064457, 0.08049218149192515, 0.0802299425143714, 0.08071202145818093, 0.07974291835277315, 0.0792838874680307, 0.07930015905476029, 0.07864918906909575, 0.0788958921973484, 0.08083386513507765, 0.08102478650281192, 0.08079983676800653, 0.08058388322335533, 0.08135659674573613, 0.0817150547971544, 0.0830032069420864, 0.08368820588779856, 0.08343937465915288, 0.08266381003392251, 0.08209086125241186, 0.08153766591966902, 0.08168107100491442, 0.08131978003666056, 0.08162596295689231, 0.08063215610385421, 0.08062212347246468, 0.08029995313232308, 0.07968004922319644, 0.07998788062414786, 0.08028652439934338, 0.08042934862520218, 0.08085784668888567, 0.0811312669618626, 0.08027038445289396, 0.08054436883766143, 0.08067388029037119, 0.08025942440210783, 0.08052259698706839, 0.08077884488883041, 0.08050902480197376, 0.08024612229201385, 0.07986330844196937, 0.07999000124984378, 0.07999012467596593, 0.08023411779051336, 0.08023129743404409, 0.08022854422092608, 0.08034348900129397, 0.0806882920590629, 0.0803355936099299, 0.07999091012384957, 0.07999101224581508, 0.07999111209865571, 0.08010108779255026, 0.08042604064775567, 0.08052897537899151, 0.08020423359217105, 0.08041258814861593, 0.08030413498593897, 0.08050716420987528, 0.0806040199979594, 0.0805979194020806, 0.0806919308069193, 0.08068508068508068, 0.08087442407607097, 0.08106009125327639, 0.08143447745409095, 0.08161127511665556, 0.0815960758419017, 0.08167460984954678, 0.08175168965836496, 0.08182735528850564, 0.08181074447777474, 0.08206467885776056, 0.08177841264172842, 0.0815857003804973, 0.08113323392684853, 0.0814711764194418, 0.08154469442289458, 0.08161695581574224, 0.08160325396152869, 0.08184186202840098, 0.08182651445712857, 0.08205933393934385, 0.08228833702155561, 0.08259491098284692, 0.08241270865252802, 0.08247340212782978, 0.08261249107213713, 0.0825919218959137, 0.08225919850011718, 0.08208665994884118, 0.08199369279286209, 0.08190214487443706, 0.08181198394061057, 0.08179836102548681, 0.08185956271920006, 0.08184578920079993, 0.08168517020807294, 0.0812349463542807, 0.08129845663357728, 0.08150492770304295, 0.08170844939647168, 0.0815544996808737, 0.08133230054221534, 0.08125305922662751, 0.08152211651968613, 0.08164954141093718, 0.08129580165742073, 0.08094687436228828, 0.08073778798729815, 0.0803301791826052, 0.08026131591227252, 0.08032580623799748, 0.08019209262548517, 0.08045225802235148, 0.08031945977533926, 0.08031739887749177, 0.08057175822062689, 0.0805681166804662, 0.08062780836655908, 0.0807496383875228, 0.08074495344040998, 0.08080243463138935, 0.08092093080674033, 0.08060855162259985, 0.08048289738430583, 0.08054057329858796, 0.08047707969399434, 0.08047422310041315, 0.0804118802452235, 0.08064611561446068, 0.08046585494970884, 0.08058008303607976, 0.08069298296610662, 0.08109357840587249, 0.08114476179529911, 0.08079538312096451, 0.08084767910914152, 0.08101237218236258, 0.08123139149485983, 0.08116864979610078, 0.08105105271929337, 0.08126622838517208, 0.0811493873962969, 0.08125239057974974, 0.08124558447910439, 0.08118480082157721, 0.08123219181764421, 0.08117212983262927, 0.08100632945056115, 0.08110681974498704, 0.08125888111152045, 0.08140935029579603, 0.08134992969116192, 0.08165380032122688, 0.08185145095613629, 0.08168811855802266, 0.08173052395285955, 0.0816709811684686, 0.0816120397959699, 0.08175468569418622, 0.08174591270436478, 0.08158798069747773, 0.0816791247958022, 0.08167085365252943, 0.08161364638988285, 0.08175210965318765, 0.0817921460123295, 0.08173518187527172, 0.08158261622037402, 0.08171857805846611, 0.08161516118280082, 0.08165489787213877, 0.08136408659968869, 0.08140462889066241, 0.0813513387224896, 0.08125203478907958, 0.08124623860006482, 0.08114833417814847, 0.08123480574285583, 0.08118350760239258, 0.08126903322576247, 0.08135378489661102, 0.0815278591054457, 0.0815210080265459, 0.08142493638676845, 0.08164081596373494, 0.08158931020751294, 0.08167041099511035, 0.08179465812902943, 0.08178682153617746, 0.08177905308464849, 0.08168477555084196, 0.0817637170811603, 0.08188489764387795, 0.0817913764369044, 0.0817837538828135, 0.0818609380958434, 0.08189527868022446, 0.0818453006176211, 0.08167022300322162, 0.0816215991000375, 0.08178083896933737, 0.08152555679517376, 0.08147812847207934, 0.08151305274374002, 0.0814252479490633, 0.08141945449371976, 0.08129225537427634, 0.08112576105802186, 0.08124171720011245, 0.08123675052997881, 0.0811919843830923, 0.08122693543906988, 0.08122208608355401, 0.08109916932404236, 0.0811732873220658, 0.08109058239912503, 0.08104743006108711, 0.08100461222433239, 0.08076908227481565, 0.08065074420214607, 0.08060993831653959, 0.08064577687874509, 0.08052925744268279, 0.08048937540244688, 0.08033659107203502, 0.08037291831134168, 0.08040897344668739, 0.08055669564568486, 0.08048027954351139, 0.08040442946557536, 0.08040293716099037, 0.08036469247454138, 0.08047324273836123, 0.08054450567497537, 0.08065161266863023, 0.08061302126734539, 0.08064690805386088, 0.0805726412718967, 0.08057058886778251, 0.080389986071926, 0.08042418419273335, 0.08052905925321797, 0.08038585209003216, 0.08052533361501356, 0.08073400933300585, 0.08073144295653999, 0.08072889446360754, 0.0807263636679282, 0.08096605653783606, 0.08096272542326127, 0.08078760180062541, 0.08078490462655388, 0.08064571175045221, 0.08067752797523894, 0.08081081997220434, 0.08077429816560251, 0.08070435338877478, 0.08053421026140062, 0.08073308584997158, 0.08083063897870071, 0.08072821500946813, 0.08059335783583325, 0.0805253952014785, 0.08035919871056874, 0.08032523523818891, 0.0802588150714029, 0.08038826096869808, 0.08041946690042531, 0.08041810944629624, 0.08038450372568627, 0.08051188064692454, 0.0805743405660075, 0.08050860994856394, 0.08053883634279163, 0.08056887082949747, 0.08059871523053068, 0.08053373710608498, 0.08059494984434452, 0.0806244318359926, 0.08055998250054686, 0.08040247967353042, 0.08040122977547282, 0.08036902882263706, 0.08049134285978828, 0.08048983108212054, 0.08033495905033589, 0.08039509495122474, 0.08033291667936954, 0.0802407221664995, 0.0802096906154359, 0.08023926769584, 0.08020842745700431, 0.08029788895228372, 0.08020717942576569, 0.08017671114295095, 0.08020594625159966, 0.08020533515325955, 0.08020472767077898, 0.08014512846228725, 0.08017411252610217, 0.08034954986657283, 0.080319288909681, 0.08046412641030874, 0.08043370832243249, 0.08049042056751979, 0.08066240860090748, 0.08066049969741507, 0.08065860176431712, 0.08062806223317383, 0.08056912659638296, 0.0805959944161135, 0.08059430129825858, 0.08067760120109913, 0.08059094375865089, 0.080617447395848, 0.08061571304176848, 0.08064199882356236, 0.08055640903885367, 0.08047129606417648, 0.08044220993861281, 0.08049638514168582, 0.08046739040358002, 0.08041100796121319, 0.08046482239498914, 0.08032656639544122, 0.08029835250402995, 0.08024304514863355, 0.08029673106709057, 0.08024172786645348, 0.08032215345531202, 0.08032128514056225, 0.08032042149404586, 0.08021232674727219, 0.08021175904387583, 0.08005119863470307, 0.08007765750910881, 0.08010397602185619, 0.08010370096029205, 0.08007704282208912, 0.08010315518012684, 0.08020786855988032, 0.08020732441559121, 0.08018067413383463, 0.08023228561756204, 0.08023168229396639, 0.08020517603170903, 0.08023048500038758, 0.0803587536403701, 0.08048636281843655, 0.08035691392528396, 0.08038157591877446, 0.08040611208897733, 0.08048141268670009, 0.08040405065861272, 0.08042834358623832, 0.08040201005025126, 0.08040099745598348, 0.08042511494686064, 0.08042404952256836, 0.08039799005024874, 0.08032218647914018, 0.08042088505261064, 0.08032058757847199, 0.08027029033934803, 0.08026962297227229, 0.08017043915174503, 0.0801454509717206, 0.08014509448297835, 0.08019363829735214, 0.08024194531840687, 0.08026568696625386, 0.08026504211062838, 0.08016755042250794, 0.08016714572111784, 0.0803113177995711, 0.08043075887598856, 0.08054962710726361, 0.08057223511399249, 0.08061860098804324, 0.08047427442203757, 0.0804731479062255, 0.08056681121300444, 0.08063639157466726, 0.08058772198768897, 0.08053928142867227, 0.08049106828478204, 0.08044308095829138, 0.08053550150697414, 0.0805342532808093, 0.08053301086021256, 0.08053177420477484, 0.08064628133608018, 0.08066788295882313, 0.08068938503721113, 0.08073377623502909, 0.08073209330061237, 0.08063888698199126, 0.0805917673112486, 0.08049930525500558, 0.08052089725233517, 0.08054239132899481, 0.08045066853691094, 0.08035935983386379, 0.0802459404067476, 0.0802678591492326, 0.08015515347189525, 0.0801100646517975, 0.0800874980469186, 0.0799982183024877, 0.07995377880491544, 0.07986519145916941, 0.07982124289285636, 0.07977748835566544, 0.0798000044051893, 0.07973451132942133, 0.07980088155961491, 0.07986696133563817, 0.07986725180672911, 0.07982396897671075, 0.07978087432881893, 0.07978134964534392, 0.07973853379796975, 0.07980389192458047, 0.07978276330251503, 0.07971871572654352, 0.07986953069676617, 0.07989122288601958, 0.07991282237559026, 0.0798916867444191, 0.079913193336312, 0.07995583957877753, 0.08001949111247643, 0.0800828735121879, 0.08010379527858062, 0.08008252457842993, 0.08012436713514422, 0.08018699817613886, 0.08008200665258049, 0.08010271184317655, 0.08008166496531323, 0.07993596806719196, 0.08003983319848136, 0.08006045423490196, 0.080101650792339, 0.08010144120739779, 0.0801012324849283, 0.08010102461961767, 0.08003934345607672, 0.08016195987812111, 0.08016162935450297, 0.08012056780920959, 0.08016097233796061, 0.0801200787002292, 0.08009959312564523, 0.07997818225894426, 0.0800185480131449, 0.07999839037443915, 0.08001847352462801, 0.08003847618284203, 0.08003839923201536, 0.07995848386259756, 0.07991872671859127, 0.07993876861295005, 0.07995873097755997, 0.07989940793251618, 0.07995889409300211, 0.07991952821443364, 0.07986063266471133, 0.07988055244494215, 0.07986117919256486, 0.07978317449756366, 0.07972500537098885, 0.07978401980468217, 0.07974553024260228, 0.07968777305295043, 0.07970775760159687, 0.07982437477031393, 0.07986332310187062, 0.07982505154043275, 0.07980615757389281, 0.07972975566687779, 0.079711116645275, 0.07976902927286285, 0.07976947004828153, 0.07973181463210224, 0.07977034657135795, 0.0798277072541318, 0.07982803355997045, 0.07973384246044499, 0.07980981490915266, 0.0797725089922977, 0.07971654668145335, 0.07960451023432956, 0.07964270332016254, 0.07964337115194109, 0.07962538012350516, 0.07962607772667175, 0.07960818572145499, 0.07951614997866459, 0.07953556415621933, 0.07953642261695718, 0.07953727791000166, 0.07957496178707574, 0.07963088913806732, 0.0795948698189024, 0.07968718521638798, 0.07963291347507358, 0.07959708764438606, 0.079652465346715, 0.07963491572880493, 0.07958113282880529, 0.079708700929331, 0.07963689625865716, 0.07960145123734229, 0.07956613394353255, 0.0796208701282351, 0.07960359778100931, 0.07962222899231197, 0.07965868231337543, 0.07967714862234603, 0.07974902408156717, 0.07973167737228876, 0.07969663061046874, 0.0797503590361873, 0.07976849967257217, 0.07973357361177365, 0.07975167986455266, 0.07971690639249308, 0.07971740391205778, 0.07973544323783793, 0.07968336806710916, 0.07963147497421373, 0.07963211811312193, 0.07956307381404505, 0.07954644267056225, 0.07959931251193555, 0.07968666054314483, 0.07968720264355288, 0.07972228458921263, 0.07972276340063103, 0.07972324056384572, 0.07975807975807976, 0.07970703761513524, 0.07974178524340336, 0.07974222662860464, 0.07975973106260985, 0.0797601403723957, 0.07981156783047907, 0.07979491010339383, 0.07986305316859037, 0.07989712526014789, 0.07988040742555025, 0.07988060909596803, 0.07986397535395028, 0.07986420396295861, 0.0798812100468113, 0.07988140902162442, 0.07994849584455109, 0.07991519340244738, 0.07993200113331445, 0.07988219829952913, 0.07981594990116443, 0.07974992122850368, 0.07975033525935, 0.07968463331184608, 0.07968515371033481, 0.0796691982010181, 0.07976842486143321, 0.07985090556805308, 0.07981836363338306, 0.07978592821721413, 0.07986797601346383, 0.07983556548832808, 0.07988469243171935, 0.07985236012422563, 0.07985259979545786, 0.07995008184632339, 0.08001488649050986, 0.08001486244164069, 0.0799825809261141, 0.0799665061754239, 0.07999871384704425, 0.08009502255180495, 0.08004679412188907, 0.08009471848450425, 0.08012651555086979, 0.08014226248385194, 0.08014203595484148, 0.0801736061429866, 0.08023682163775178, 0.08029983676962331, 0.08034682995522223, 0.08029888943302634, 0.08031419062790808, 0.08034519141430843, 0.08040754076193771, 0.08042259933125069, 0.08037491575367157, 0.08029608300339587, 0.08032686989265793, 0.08035756072448168, 0.08034142770361832, 0.08040310415079081, 0.08035589509479667, 0.08033983969240786, 0.08030835435983963, 0.08026151064125747, 0.08030740266353914, 0.08030692901496125, 0.08032184120244304, 0.08032134683030982, 0.08041287710311192, 0.08045818593895959, 0.08053393678995734, 0.08050258774675195, 0.0805475526287709, 0.08063804203893396, 0.08063707238491816, 0.08063610567366201, 0.08058968803502978, 0.08064930939017564, 0.08069364511110104, 0.08063226798992473, 0.08061625577928043, 0.08064540382851386, 0.08059939039954354, 0.08062847633468763, 0.08065747518749719, 0.08062659750975322, 0.08056596170206415, 0.08053531243945694, 0.0804898736625943, 0.08054858025883717, 0.08054776635361494, 0.08062102783662464, 0.0805905238088194, 0.080589651556107, 0.08060353092137285, 0.08058791475825099, 0.08057234452434522, 0.08055682001732721, 0.08052667849445022, 0.08052590738056543, 0.08052513852136664, 0.0805535685610429, 0.08053818457456888, 0.0805228453734298, 0.08049301608988241, 0.08047778696971017, 0.08047709453486182, 0.08047640410413742, 0.08050461698530369, 0.08050388883277297, 0.08054638982147232, 0.08058876850692796, 0.08055918736799758, 0.08067316107372921, 0.0806721966734001, 0.0806283171914565, 0.08061313409808431, 0.0805409337955236, 0.08051167362288286, 0.0805393948876972, 0.08055283305634864, 0.0804953121232323, 0.08046628234727553, 0.08050805504872632, 0.08049321337269248, 0.08054893442969775, 0.08057632991084633, 0.08054739033206285, 0.08054662153621438, 0.08057390499431985, 0.0805450904048963, 0.08058628550649641, 0.08057150039803913, 0.08058465014434946, 0.08056990849709614, 0.0805552078552454, 0.08055443674393412, 0.08051205947212937, 0.08052520048198779, 0.0805106430063208, 0.08050993770804271, 0.08053682018179059, 0.08052230685527748, 0.08050783345483556, 0.08053460804109834, 0.08056130917271367, 0.08058793715154587, 0.08058713287095935, 0.08057266977227087, 0.08055824613579624, 0.08057110938543072, 0.08054312186228758, 0.08055597070691975, 0.08050094299941656, 0.08048671427216433, 0.08051311890231526, 0.08052593883866434, 0.0804847437956303, 0.08052452123286748, 0.0805238152918534, 0.08048278920982245, 0.08048214117931303, 0.08046809024007721, 0.08046746362163826, 0.08050694509431693, 0.08045286444773768, 0.08046559379208278, 0.08046497383523522, 0.08041116474514967, 0.08030437842790933, 0.0803172371719208, 0.08030357213811738, 0.0802634885781934, 0.08026314051333536, 0.0802100236144642, 0.08023609702111961, 0.08027525953605874, 0.08028803826493738, 0.08026141389220613, 0.08024796529534345, 0.08020837423593932, 0.08024731702853558, 0.08026004882442787, 0.08027274742180676, 0.08025937162276534, 0.0802460306107853, 0.08018077687302762, 0.08018054240541628, 0.08019326174531417, 0.08015420240359115, 0.08011524398909575, 0.0801279983484084, 0.08010206054045696, 0.0800890593428656, 0.08003753165126412, 0.08001180986123413, 0.08003743541749465, 0.08003738748543553, 0.08006291479648597, 0.08003729198860807, 0.08004999936225303, 0.08002445828715558, 0.08001170468569102, 0.07998627717563944, 0.0799736043958833, 0.07991026729699244, 0.07988506474601588, 0.0798978521131212, 0.0798979810860974, 0.07992333009672009, 0.0799486152567348, 0.07992352297455378, 0.07991105639376389, 0.07998644935446231, 0.07998646633500833, 0.07993642132138522, 0.07989900126248421, 0.07991161159036717, 0.07994912781636139, 0.07993673802318775, 0.07993681670625988, 0.0798872063701072, 0.07991215989876056, 0.07989987732494021, 0.07990000123760845, 0.07987540327066414, 0.079826174985494, 0.07980172870864724, 0.07976502752429157, 0.07972841662464177, 0.07970418053832262, 0.07970454350253371, 0.07966814132179753, 0.07970526676540067, 0.0796567279128617, 0.07960830759087191, 0.07963317520518043, 0.07962144188255929, 0.07956107589931996, 0.07952515765300543, 0.07947719081079113, 0.07945358238081962, 0.07947845667727993, 0.07946699556232693, 0.07940725353558532, 0.07945621886346364, 0.07944482596595222, 0.07946956113644842, 0.07947019867549669, 0.07944682536824288, 0.07942350811141353, 0.0793882707991521, 0.07941292568270715, 0.07943752165446052, 0.07941432679800957, 0.07945078127793472, 0.07943953048177999, 0.07941641597602882, 0.0794052327169511, 0.07937035147863014, 0.0793118564945913, 0.0793126708559662, 0.07927802271840759, 0.07927887510182878, 0.07925614084739567, 0.07923346014770144, 0.0792578910836343, 0.07928226460323616, 0.07928310700578632, 0.07922533147325354, 0.0792028196391143, 0.07919205623326044, 0.07921636429480965, 0.07919394172763446, 0.07915991655108914, 0.07916089451810805, 0.07915024243904141, 0.07916284363712384, 0.07910581083746128, 0.07911843431709946, 0.07911945463594171, 0.07913203315568607, 0.07915612983683791, 0.07915710314759922, 0.07913503300653218, 0.07914753570154544, 0.07917150377581866, 0.07921837866385001, 0.07921927500831412, 0.07919726005429491, 0.07927826912735553, 0.0793019508348476, 0.07930274768552871, 0.07931494509754734, 0.07929294654958371, 0.07933925666374672, 0.0793286439926819, 0.07932940602263311, 0.07928481536490516, 0.07927430040429893, 0.07930905758984627, 0.07937763415102654, 0.079389623141951, 0.0793903112704479, 0.07942478125246337, 0.07943667675279244, 0.07940360220671677, 0.07941549477559175, 0.07939372876985684, 0.079360813428741, 0.07932797172291138, 0.07933989564362409, 0.07931831117956273, 0.07928562669312493, 0.0792975579336533, 0.07930946263111645, 0.0792991188986789, 0.07929989678249964, 0.07933393199631933, 0.07932359553050354, 0.07933540558179666, 0.07932509033049359, 0.07931479784991335, 0.07929350282797323, 0.07933833327826786, 0.07933906117644471, 0.07935077636509488, 0.07931855852295804, 0.0793631648775781, 0.0793857679543488, 0.07939738077263925, 0.07936525283876679, 0.07937686269800548, 0.07934482721017219, 0.07936732715329899, 0.0793571343075701, 0.0793252247258182, 0.0793150997274731, 0.07933753430006182, 0.07933825202327169, 0.07934979058668196, 0.07935049350817829, 0.07935119491150204, 0.07938425691200743, 0.07937414467516514, 0.0793748183550231, 0.07932172772335781, 0.07929023318761345, 0.0792588062359846, 0.07925960064736712, 0.07927109988115759, 0.07923979422679972, 0.07921923911069326, 0.07926276133659192, 0.07924222556262726, 0.07922173352786445, 0.07924383783151243, 0.07922338763668824, 0.07923482765575737, 0.07926745209488764, 0.07923644876643256, 0.07927958434302282, 0.0793543408632044, 0.07933390354906496, 0.07933460617504035, 0.0793036954299744, 0.07928337596446353, 0.07928412950442161, 0.07931639373535992, 0.07930661797882499, 0.07930734478674228, 0.07928712788347766, 0.07929833369943828, 0.07925727003897556, 0.07920585380110855, 0.07914411737103888, 0.07910334267351382, 0.07908346427196387, 0.07906362719722249, 0.07904383132054703, 0.07900332984097676, 0.07897327488834313, 0.07893293030092856, 0.07893403377421122, 0.07895579591119926, 0.07896719332101836, 0.07897856723126566, 0.07896932060431922, 0.0789600930031584, 0.07890977482245815, 0.07891089413866387, 0.07889149854873283, 0.07889263429677974, 0.07891423833942335, 0.07890512366949214, 0.07888581321947682, 0.07891756206569321, 0.07891866545702898, 0.0789808657752976, 0.07899207536037273, 0.0790134246603185, 0.07908549151785262, 0.07910670277177716, 0.07908734460643763, 0.07907814698231799, 0.07915996804885694, 0.07914061474126524, 0.0791112097758852, 0.07909194463765486, 0.07908278869296381, 0.0791239524753272, 0.07914493321675159, 0.0790955914097248, 0.07909649853060652, 0.079077363954269, 0.07906827759481887]\n"
          ]
        }
      ]
    },
    {
      "cell_type": "code",
      "source": [
        "def rewardBandSelectShorter(): ########### This one\n",
        "    global episodeRewardAccum\n",
        "    global episodeIteration\n",
        "    global episodeRewardsArray\n",
        "    global iteration\n",
        "\n",
        "    iteration = iteration + 1\n",
        "    if (iteration % episodeIteration) == 0:\n",
        "        episodeRewardsArray.append(episodeRewardAccum)\n",
        "        episodeRewardAccum = 0\n",
        "\n",
        "    reward = 0\n",
        "    connectionsNow = env.getSimulator().controller.connections\n",
        "\n",
        "    value = env.getSimulator().lastConnectionIsAllocated()\n",
        "    if (value.name == Controller.Status.Not_Allocated.name):\n",
        "        reward -= 1.0\n",
        "    elif connectionsNow[-1].bandSelected == \"C\" or connectionsNow[-1].bandSelected == \"L\" or connectionsNow[-1].bandSelected == \"S\":\n",
        "        reward +=1.0\n",
        "    elif connectionsNow[-1].bandSelected == \"E\":\n",
        "        reward +=0.8\n",
        "\n",
        "    episodeRewardAccum = episodeRewardAccum + reward\n",
        "    return reward"
      ],
      "metadata": {
        "id": "F5avxfppYIZ4"
      },
      "execution_count": null,
      "outputs": []
    },
    {
      "cell_type": "code",
      "source": [
        "fileDirectory = '/content/drive/MyDrive/DREAMONGYM'\n",
        "\n",
        "env = gymnasium.make(\"rlonenv-v0\")\n",
        "\n",
        "obs, info = env.reset()\n",
        "\n",
        "#definir espacio (opciones del 0-3, 4 en total )\n",
        "env.action_space = gymnasium.spaces.MultiDiscrete(np.array([4]))\n",
        "\n",
        "\n",
        "#tamaño de los slots de las bandas\n",
        "env.observation_space = gymnasium.spaces.MultiDiscrete([100] * 2720)\n",
        "\n",
        "#Set funcion recompensa\n",
        "env.setRewardFunc(rewardBandSelectShorter)\n",
        "#Set estados\n",
        "env.setStateFunc(state)\n",
        "#env.setStateFunc(stateAllNetwork)\n",
        "#Definir topologia y rutas\n",
        "env.initEnviroment(fileDirectory + \"/Topologias-rutas/NSFNet_4_bands.json\", fileDirectory + \"/Topologias-rutas/NSFNet_routes.json\")\n",
        "#Cantidad de conexiones para tener el simulador corriendo\n",
        "env.getSimulator().goalConnections = 100000\n",
        "env.getSimulator().setMu(1)\n",
        "env.getSimulator().setLambda(1000)\n",
        "env.getSimulator().setAllocator(first_fit_algorithm)\n",
        "env.getSimulator().init()"
      ],
      "metadata": {
        "colab": {
          "base_uri": "https://localhost:8080/"
        },
        "id": "zRbS3BvBYIdQ",
        "outputId": "6f7b3bf3-649b-4233-ca39-6f00f6a62a4c"
      },
      "execution_count": null,
      "outputs": [
        {
          "output_type": "stream",
          "name": "stdout",
          "text": [
            "meta: 0.95\n",
            "objetivo: 0.95 covered: 0.0 epsilon: 0.01\n",
            "meta: 0.2673105078629141\n",
            "objetivo: 0.95 covered: 0.6826894921370859 epsilon: 0.01\n"
          ]
        }
      ]
    },
    {
      "cell_type": "code",
      "source": [
        "env.start()\n",
        "env.getSimulator().setAllocator(agent_algorithm)\n",
        "\n",
        "policy_args = dict(net_arch=5*[128], activation_fn=th.nn.ReLU)\n",
        "\n",
        "\n",
        "model = PPO(MlpPolicy, env, verbose=0, tensorboard_log=\"./tb/PPO-DeepRMSA-v0/\", policy_kwargs=policy_args, gamma=.95)\n",
        "\n",
        "model.learn(total_timesteps=1000, log_interval=4)\n",
        "\n",
        "modelDirectory = fileDirectory + \"/models/\"\n",
        "\n",
        "model.save(modelDirectory+ \"PPO-NSFNet-RW2\")\n",
        "#model.load('TRPO100720231300')"
      ],
      "metadata": {
        "colab": {
          "base_uri": "https://localhost:8080/"
        },
        "id": "rmEnGxMdCC8r",
        "outputId": "eca1667d-7966-46a8-fcaf-f8f1697af130"
      },
      "execution_count": null,
      "outputs": [
        {
          "output_type": "stream",
          "name": "stdout",
          "text": [
            "Nodes: 14\n",
            "Links: 44\n",
            "Goal Connections: 100000\n",
            "Lambda: 1000\n",
            "Mu: 1\n",
            "+----------+----------+----------+----------+----------+----------+----------+\n",
            "| progress |  arrives | blocking |  time(s) |  Wald CI |  A-C. CI |Wilson CI |\n",
            "+----------+----------+----------+----------+----------+----------+----------+\n",
            "|     5.0% |     5000 | 0.418316 |  0:00:01 | 0.013951 | 0.013945 | 0.013945 |\n",
            "+----------+----------+----------+----------+----------+----------+----------+\n",
            "|    10.0% |    10000 | 0.425957 |  0:00:04 | 0.009889 | 0.009887 | 0.009887 |\n",
            "+----------+----------+----------+----------+----------+----------+----------+\n",
            "|    15.0% |    15000 | 0.426772 |  0:00:07 | 0.008077 | 0.008076 | 0.008076 |\n",
            "+----------+----------+----------+----------+----------+----------+----------+\n",
            "|    20.0% |    20000 | 0.424179 |  0:00:09 | 0.006989 | 0.006988 | 0.006988 |\n",
            "+----------+----------+----------+----------+----------+----------+----------+\n",
            "|    25.0% |    25000 | 0.422743 |  0:00:11 | 0.006248 | 0.006248 | 0.006248 |\n",
            "+----------+----------+----------+----------+----------+----------+----------+\n",
            "|    30.0% |    30000 | 0.422253 |  0:00:13 | 0.005703 | 0.005703 | 0.005703 |\n",
            "+----------+----------+----------+----------+----------+----------+----------+\n",
            "|    35.0% |    35000 | 0.424874 |  0:00:15 | 0.005284 | 0.005284 | 0.005284 |\n",
            "+----------+----------+----------+----------+----------+----------+----------+\n",
            "|    40.0% |    40000 | 0.423389 |  0:00:17 | 0.004941 | 0.004941 | 0.004941 |\n",
            "+----------+----------+----------+----------+----------+----------+----------+\n",
            "|    45.0% |    45000 | 0.424013 |  0:00:20 | 0.004659 | 0.004659 | 0.004659 |\n",
            "+----------+----------+----------+----------+----------+----------+----------+\n",
            "|    50.0% |    50000 | 0.425231 |  0:00:22 | 0.004422 | 0.004422 | 0.004422 |\n",
            "+----------+----------+----------+----------+----------+----------+----------+\n",
            "|    55.0% |    55000 | 0.424865 |  0:00:24 | 0.004216 | 0.004215 | 0.004215 |\n",
            "+----------+----------+----------+----------+----------+----------+----------+\n",
            "|    60.0% |    60000 | 0.425310 |  0:00:26 | 0.004037 | 0.004037 | 0.004037 |\n",
            "+----------+----------+----------+----------+----------+----------+----------+\n",
            "|    65.0% |    65000 | 0.424624 |  0:00:28 | 0.003877 | 0.003877 | 0.003877 |\n",
            "+----------+----------+----------+----------+----------+----------+----------+\n",
            "|    70.0% |    70000 | 0.423580 |  0:00:30 | 0.003735 | 0.003735 | 0.003735 |\n",
            "+----------+----------+----------+----------+----------+----------+----------+\n",
            "|    75.0% |    75000 | 0.423648 |  0:00:33 | 0.003609 | 0.003609 | 0.003609 |\n",
            "+----------+----------+----------+----------+----------+----------+----------+\n",
            "|    80.0% |    80000 | 0.424307 |  0:00:36 | 0.003495 | 0.003495 | 0.003495 |\n",
            "+----------+----------+----------+----------+----------+----------+----------+\n",
            "|    85.0% |    85000 | 0.424571 |  0:00:38 | 0.003391 | 0.003391 | 0.003391 |\n",
            "+----------+----------+----------+----------+----------+----------+----------+\n",
            "|    90.0% |    90000 | 0.424806 |  0:00:40 | 0.003295 | 0.003295 | 0.003295 |\n",
            "+----------+----------+----------+----------+----------+----------+----------+\n",
            "|    95.0% |    95000 | 0.424932 |  0:00:42 | 0.003208 | 0.003208 | 0.003208 |\n",
            "+----------+----------+----------+----------+----------+----------+----------+\n"
          ]
        }
      ]
    },
    {
      "cell_type": "code",
      "source": [
        "obs, info = env.reset()\n",
        "probBloqueoArray = []\n",
        "rewardsArray = []\n",
        "rewardTemp = 0\n",
        "NoAlloCounter = 0\n",
        "ConnCounter = 1\n",
        "\n",
        "iterationAccum = 100\n",
        "_state = [0] * 2720\n",
        "for i in range(100000):\n",
        "    if (i % iterationAccum) == 0:\n",
        "        probBloqueoArray.append(NoAlloCounter/ConnCounter)\n",
        "        rewardsArray.append(rewardTemp)\n",
        "        rewardTemp = 0\n",
        "    action, _states = model.predict(_state)\n",
        "    _state, _reward, terminated, truncated, info = env.step(action)\n",
        "    rewardTemp = rewardTemp + _reward\n",
        "    if _reward == -1:\n",
        "      NoAlloCounter += 1\n",
        "      ConnCounter += 1\n",
        "    else:\n",
        "      ConnCounter += 1\n",
        "\n",
        "print(episodeRewardsArray)\n",
        "print(rewardsArray)\n",
        "print(probBloqueoArray)"
      ],
      "metadata": {
        "colab": {
          "base_uri": "https://localhost:8080/"
        },
        "id": "7yt60yNwCDBC",
        "outputId": "bcee2ee7-d480-4d9d-9b7c-e75e3d16528f"
      },
      "execution_count": null,
      "outputs": [
        {
          "output_type": "stream",
          "name": "stdout",
          "text": [
            "[87, 96, 94, 88, 90, 90, 90, 98, 92, 88, 90, 82, 80, 88, 92, 86, 92, 92, 90, 86, 92, 88, 92, 82, 88, 84, 90, 90, 84, 90, 96, 90, 96, 94, 90, 82, 100, 98, 96, 84, 98, 90, 92, 86, 90, 94, 92, 88, 90, 92, 90, 96, 86, 92, 92, 82, 92, 88, 82, 78, 90, 84, 90, 90, 84, 92, 84, 96, 94, 96, 96, 88, 92, 88, 82, 90, 92, 88, 90, 80, 88, 88, 86, 92, 86, 82, 90, 90, 90, 90, 86, 90, 88, 82, 78, 78, 86, 80, 90, 86, 94, 90, 96, 94, 92, 84, 82, 98, 90, 80, 98, 88, 90, 90, 96, 88, 92, 86, 88, 88, 80, 92, 92, 80, 98, 88, 90, 92, 86, 92, 86, 88, 94, 84, 92, 90, 84, 90, 88, 90, 94, 88, 88, 78, 82, 68, 92, 88, 92, 88, 94, 90, 88, 86, 90, 88, 86, 94, 88, 94, 88, 94, 92, 86, 88, 96, 88, 94, 86, 92, 78, 88, 90, 90, 88, 88, 88, 90, 86, 92, 90, 84, 82, 94, 80, 96, 88, 90, 84, 90, 96, 86, 90, 92, 94, 82, 90, 86, 82, 86, 90, 90, 94, 88, 92, 84, 92, 98, 96, 94, 92, 86, 86, 88, 84, 82, 92, 96, 90, 84, 86, 88, 88, 92, 88, 90, 94, 84, 86, 94, 100, 92, 92, 96, 90, 90, 98, 84, 94, 94, 90, 86, 92, 90, 90, 94, 88, 100, 86, 90, 94, 86, 92, 86, 90, 94, 88, 96, 90, 96, 92, 90, 86, 88, 88, 90, 86, 90, 94, 96, 90, 94, 86, 92, 90, 94, 94, 82, 90, 94, 88, 84, 92, 90, 94, 96, 88, 88, 84, 90, 86, 86, 86, 90, 84, 92, 86, 90, 88, 96, 92, 84, 84, 86, 88, 82, 88, 90, 72, 94, 86, 78, 86, 90, 90, 96, 80, 84, 88, 86, 86, 82, 90, 94, 80, 90, 94, 88, 86, 88, 92, 96, 92, 100, 82, 88, 90, 92, 96, 90, 90, 82, 92, 92, 86, 88, 90, 86, 78, 88, 92, 92, 92, 96, 90, 90, 88, 86, 88, 78, 92, 82, 84, 88, 86, 90, 90, 84, 92, 82, 86, 96, 90, 90, 96, 84, 90, 90, 90, 94, 84, 90, 94, 86, 86, 90, 86, 86, 88, 84, 84, 86, 88, 94, 82, 94, 94, 92, 92, 92, 86, 84, 94, 88, 90, 80, 90, 88, 88, 80, 86, 86, 90, 88, 96, 76, 90, 84, 88, 90, 84, 86, 92, 92, 92, 94, 88, 92, 84, 90, 88, 92, 100, 94, 94, 90, 90, 86, 90, 84, 94, 98, 84, 94, 90, 90, 96, 94, 90, 82, 92, 90, 96, 88, 88, 96, 86, 90, 76, 92, 90, 86, 90, 96, 84, 94, 90, 82, 92, 86, 86, 88, 88, 96, 88, 82, 84, 78, 84, 96, 82, 96, 90, 88, 88, 86, 86, 98, 80, 90, 92, 92, 84, 88, 90, 92, 92, 88, 82, 90, 86, 88, 90, 92, 94, 82, 80, 90, 86, 90, 90, 86, 86, 92, 92, 88, 88, 86, 88, 84, 88, 88, 94, 86, 90, 94, 88, 84, 82, 90, 94, 92, 76, 90, 84, 94, 74, 90, 94, 88, 96, 88, 84, 92, 94, 88, 94, 86, 92, 84, 86, 86, 94, 90, 90, 82, 86, 86, 94, 94, 86, 92, 96, 80, 86, 100, 96, 90, 90, 88, 94, 90, 90, 92, 86, 86, 84, 96, 90, 86, 92, 98, 94, 92, 94, 82, 90, 88, 92, 92, 92, 88, 96, 88, 96, 92, 86, 86, 98, 90, 86, 78, 88, 94, 90, 86, 90, 84, 82, 88, 88, 98, 90, 86, 84, 82, 90, 86, 88, 86, 94, 90, 94, 94, 90, 86, 80, 84, 86, 88, 94, 94, 80, 86, 96, 98, 78, 84, 96, 90, 88, 92, 94, 88, 90, 90, 90, 94, 96, 88, 88, 88, 88, 84, 96, 86, 92, 100, 90, 88, 92, 88, 90, 88, 80, 88, 90, 88, 90, 88, 80, 92, 90, 90, 84, 92, 86, 94, 96, 90, 94, 88, 90, 90, 90, 96, 90, 92, 96, 88, 92, 88, 84, 90, 86, 90, 92, 84, 90, 92, 82, 86, 88, 90, 90, 92, 90, 86, 96, 84, 88, 88, 88, 92, 88, 92, 94, 86, 88, 88, 88, 96, 96, 88, 88, 88, 88, 90, 90, 88, 90, 88, 84, 80, 86, 92, 90, 88, 94, 94, 94, 90, 90, 94, 86, 92, 92, 80, 90, 82, 84, 92, 88, 90, 88, 88, 90, 86, 90, 92, 84, 86, 84, 92, 94, 88, 86, 86, 86, 88, 86, 82, 86, 90, 90, 84, 92, 90, 84, 84, 80, 84, 88, 90, 84, 90, 86, 94, 90, 94, 96, 88, 88, 94, 94, 90, 86, 90, 92, 90, 90, 84, 92, 92, 90, 92, 88, 86, 92, 98, 88, 96, 92, 86, 84, 76, 86, 92, 82, 86, 86, 90, 86, 90, 94, 82, 90, 94, 86, 86, 86, 90, 86, 86, 82, 90, 86, 90, 88, 88, 88, 82, 94, 92, 94, 86, 86, 86, 84, 92, 94, 92, 92, 94, 84, 94, 94, 86, 84, 86, 90, 84, 84, 88, 82, 92, 94, 88, 86, 94, 94, 94, 94, 96, 88, 94, 84, 92, 92, 90, 82, 86, 92, 88, 88, 94, 90, 90, 92, 96, 88, 92, 86, 78, 94, 92, 82, 84, 92, 84, 92, 94, 94, 90, 86, 94, 84, 92, 78, 92, 86, 90, 84, 92, 82, 82, 78, 92, 70, 92, 88, 92, 82, 96, 90, 88, 96, 92, 94, 96, 96, 88, 90, 90, 92, 88, 92, 90, 90, 88, 90, 86, 76, 90, 92, 90, 84, 96, 92, 90, 88, 78, 84, 98, 86, 82, 90, 90, 90, 92, 84, 94, 92, 92, 86, 86, 90, 84, 86, 90, 92, 88, 92, 96, 92, 86, 96, 92, 80, 86, 86, 88, 80, 84, 90, 88, 86, 94, 92, 92, 92, 88, 90, 98, 88, 88, 86, 88, 90, 90, 88, 96, 90, 92, 82, 88, 86, 92, 86, 90, 90, 92, 86, 80, 86, 86, 92, 92, 88, 86, 90, 86, 82, 88, 84, 86, 90, 76, 80, 76, 78, 84, 88, 90, 84, 90, 82, 76, 86, 94, 82, 88, 84, 80, 84, 84, 82, 80, 74, 80, 90, 86, 92, 92, 84, 80, 86, 86, 82, 80, 86, 86, 92, 78, 86, 68, 88, 74, 90, 80, 82, 84, 86, 86, 88, 94, 82, 78, 82, 88, 86, 80, 92, 88, 84, 90, 80, 68, 82, 86, 86, 76, 78, 72, 76, 86, 92, 90, 90, 82, 88, 80, 96, 84, 88, 90, 82, 80, 82, 78, 80, 94, 82, 82, 90, 80, 80, 88, 88, 90, 82, 84, 78, 86, 84, 82, 78, 90, 90, 84, 84, 80, 80, 82, 90, 80, 84, 82, 82, 84, 82, 84, 80, 78, 78, 80, 84, 80, 82, 84, 84, 78, 90, 88, 90, 80, 82, 82, 82, 78, 86, 74, 80, 78, 88, 80, 80, 86, 92, 88, 86, 86, 84, 84, 84, 84, 88, 96, 78, 82, 78, 88, 90, 86, 76, 80, 94, 94, 90, 94, 86, 84, 86, 78, 88, 82, 78, 84, 80, 82, 84, 82, 80, 94, 86, 84, 86, 84, 86, 76, 90, 80, 80, 68, 84, 96, 82, 78, 76, 84, 90, 74, 88, 82, 84, 86, 82, 86, 90, 80, 78, 78, 86, 72, 76, 90, 82, 86, 84, 80, 84, 90, 80, 82, 88, 78, 82, 86, 90, 78, 88, 82, 96, 82, 86, 88, 84, 88, 80, 84, 82, 80, 76, 84, 88, 74, 86, 80, 78, 82, 86, 88, 80, 76, 90, 84, 80, 82, 86, 90, 86, 78, 96, 86, 82, 88, 84, 90, 92, 76, 86, 84, 82, 86, 88, 82, 88, 86, 86, 96, 90, 86, 82, 90, 86, 90, 82, 84, 76, 88, 88, 84, 86, 78, 80, 78, 86, 82, 88, 84, 94, 82, 78, 92, 76, 72, 82, 84, 84, 70, 86, 94, 84, 92, 80, 76, 88, 88, 94, 70, 80, 90, 92, 88, 94, 86, 88, 74, 84, 82, 86, 74, 82, 90, 82, 80, 82, 88, 82, 82, 88, 92, 86, 86, 76, 82, 94, 80, 90, 90, 86, 80, 88, 78, 90, 86, 82, 84, 84, 88, 80, 74, 86, 74, 84, 80, 74, 84, 84, 84, 90, 80, 86, 78, 90, 82, 82, 84, 90, 90, 86, 80, 86, 88, 80, 92, 86, 90, 78, 90, 78, 84, 84, 92, 84, 94, 82, 84, 84, 86, 80, 78, 84, 86, 80, 84, 86, 82, 72, 76, 92, 84, 82, 78, 88, 84, 86, 84, 80, 86, 86, 88, 78, 92, 88, 82, 94, 86, 84, 80, 78, 84, 84, 92, 84, 70, 76, 72, 84, 80, 96, 82, 78, 78, 88, 88, 88, 88, 76, 84, 84, 82, 76, 82, 82, 78, 86, 92, 88, 92, 82, 80, 94, 92, 94, 82, 94, 88, 86, 92, 88, 92, 88, 86, 84, 86, 82, 78, 84, 88, 88, 84, 86, 80, 86, 88, 72, 82, 82, 86, 80, 82, 76, 80, 82, 86, 80, 78, 94, 80, 88, 98, 72, 84, 80, 84, 82, 86, 90, 70, 86, 88, 80, 88, 86, 96, 80, 84, 82, 82, 86, 90, 90, 80, 84, 90, 78, 88, 88, 84, 86, 92, 90, 78, 88, 90, 82, 72, 80, 86, 88, 92, 84, 80, 84, 88, 78, 80, 82, 96, 74, 90, 90, 94, 82, 84, 86, 84, 86, 94, 82, 84, 82, 82, 74, 92, 74, 88, 90, 78, 86, 90, 70, 92, 88, 88, 78, 84, 84, 80, 80, 78, 86, 88, 78, 82, 84, 82, 92, 84, 82, 90, 90, 84, 92, 86, 76, 74, 86, 80, 84, 84, 80, 90, 80, 82, 84, 84, 78, 84, 78, 78, 86, 86, 84, 84, 84, 82, 78, 88, 82, 90, 92, 92, 84, 92, 84, 84, 70, 78, 86, 90, 74, 88, 76, 90, 84, 72, 74, 86, 88, 86, 80, 72, 90, 76, 82, 82, 84, 78, 76, 76, 78, 90, 82, 82, 74, 84, 90, 94, 80, 80, 86, 76, 90, 84, 90, 90, 78, 80, 84, 86, 72, 78, 74, 84, 82, 72, 84, 84, 88, 76, 80, 92, 86, 80, 90, 80, 80, 88, 90, 90, 90, 74, 86, 74, 88, 82, 84, 86, 86, 86, 88, 84, 82, 82, 86, 84, 90, 84, 86, 80, 84, 84, 78, 78, 88, 68, 84, 88, 88, 94, 86, 80, 84, 92, 86, 78, 88, 76, 80, 88, 84, 80, 88, 78, 86, 82, 86, 84, 86, 90, 82, 86, 84, 80, 84, 88, 78, 80, 82, 84, 86, 86, 82, 86, 84, 92, 86, 80, 82, 90, 78, 84, 90, 84, 86, 84, 78, 90, 82, 86, 92, 100, 82, 86, 90, 84, 92, 80, 78, 82, 88, 86, 88, 80, 82, 82, 86, 86, 94, 84, 82, 90, 90, 82, 88, 86, 90, 90, 80, 84, 80, 88, 82, 86, 88, 88, 86, 94, 88, 82, 84, 80, 80, 88, 86, 72, 82, 94, 90, 80, 78, 88, 84, 92, 80, 86, 82, 88, 92, 90, 88, 92, 86, 86, 90, 78, 92, 92, 80, 86, 94, 90, 92, 88, 78, 88, 92, 78, 86, 78, 86, 88, 88, 90, 78, 82, 88, 78, 84, 88, 88, 90, 92, 86, 90, 84, 88, 88, 80, 78, 86, 94, 88, 86, 78, 90, 90, 84, 86, 82, 94, 82, 82, 82, 82, 84, 88, 82, 80, 74, 86, 84, 74, 80, 84, 82, 88, 76, 86, 84, 92, 86, 78, 72, 82, 84, 78, 82, 90, 82, 88, 90, 88, 84, 88, 88, 84, 82, 86, 82, 78, 88, 82, 86, 86, 88, 76, 84, 82, 90, 76, 80, 82, 90, 80, 90, 82, 86, 90, 84, 82, 84, 80, 86, 84, 78, 86, 84, 94, 88, 92, 84, 82, 90, 86, 78, 88, 88, 80, 88, 82, 78, 88, 76, 72, 86, 86, 90, 86, 86, 78, 84, 84, 90, 82, 92, 94, 96, 92, 88, 88, 88, 92, 90, 92, 84, 80, 82, 82, 86, 86, 94, 84, 88, 84, 80, 82, 92, 78, 82, 74, 82, 80, 70, 80, 88, 86, 68, 88, 90, 88, 86, 74, 82, 94, 84, 86, 88, 87.8, 81.99999999999996, 90.39999999999995, 83.39999999999996, 80.19999999999997, 66.19999999999997, 77.59999999999995, 72.39999999999996, 85.19999999999996, 77.19999999999996, 84.79999999999995, 68.99999999999996, 77.59999999999998, 83.59999999999997, 78.79999999999995, 80.39999999999996, 77.99999999999999, 81.59999999999997, 72.59999999999995, 78.39999999999996, 81.79999999999997, 72.99999999999994, 83.79999999999997, 82.59999999999997, 77.59999999999997, 79.79999999999997, 78.19999999999997, 78.79999999999995, 83.39999999999996, 80.19999999999997, 73.39999999999996, 77.79999999999998, 81.79999999999995, 79.59999999999998, 79.39999999999998, 77.99999999999997, 80.79999999999995, 79.39999999999996, 88.19999999999996, 75.59999999999998, 83.19999999999995, 77.39999999999996, 82.39999999999996, 79.39999999999996, 86.19999999999995, 85.19999999999997, 70.99999999999996, 80.59999999999997, 80.39999999999998, 81.99999999999997, 74.39999999999996, 78.99999999999999, 81.59999999999998, 80.59999999999995, 87.59999999999995, 83.39999999999999, 87.39999999999996, 74.99999999999996, 78.19999999999997, 86.39999999999996, 78.99999999999997, 83.59999999999997, 85.79999999999995, 81.79999999999995, 83.99999999999997, 77.39999999999996, 80.39999999999996, 80.39999999999998, 71.79999999999997, 81.79999999999997, 82.39999999999996, 74.19999999999997, 73.59999999999998, 70.39999999999996, 76.99999999999999, 77.79999999999997, 84.79999999999997, 83.99999999999996, 83.59999999999997, 81.19999999999996, 80.19999999999996, 76.59999999999998, 87.39999999999996, 76.19999999999995, 66.39999999999999, 88.99999999999994, 73.39999999999996, 78.19999999999993, 82.39999999999999, 81.39999999999996, 72.99999999999999, 79.19999999999996, 73.99999999999996, 77.39999999999996, 84.59999999999997, 77.79999999999997, 75.99999999999997, 78.19999999999997, 82.19999999999996, 75.99999999999997, 90.39999999999996, 85.59999999999995, 71.19999999999999, 78.39999999999998, 77.79999999999995, 77.39999999999996, 76.99999999999997, 78.59999999999997, 86.59999999999997, 73.39999999999996, 80.99999999999997, 82.39999999999995, 76.79999999999998, 78.39999999999996, 76.59999999999998, 78.39999999999996, 82.39999999999998, 74.39999999999996, 78.59999999999995, 81.79999999999997, 80.79999999999997, 75.59999999999998, 78.19999999999996, 79.59999999999995, 66.99999999999997, 75.39999999999996, 73.99999999999994, 72.79999999999997, 79.19999999999997, 84.99999999999996, 79.19999999999997, 71.59999999999998, 74.99999999999999, 77.59999999999997, 86.79999999999997, 81.79999999999997, 75.39999999999999, 81.39999999999995, 76.99999999999996, 83.59999999999997, 83.39999999999996, 64.19999999999996, 90.79999999999998, 72.59999999999997, 71.59999999999998, 75.59999999999998, 73.99999999999999, 79.99999999999997, 78.99999999999997, 79.79999999999997, 85.19999999999996, 80.59999999999997, 77.19999999999997, 83.39999999999996, 76.39999999999998, 70.99999999999996, 74.79999999999995, 74.39999999999996, 89.59999999999997, 84.99999999999996, 80.99999999999996, 71.59999999999997, 82.19999999999995, 85.99999999999997, 76.59999999999995, 74.59999999999998, 78.99999999999997, 85.99999999999997, 75.99999999999997, 82.99999999999997, 83.79999999999997, 86.39999999999998, 78.39999999999998, 76.39999999999995, 72.59999999999998, 75.19999999999997, 79.59999999999998, 78.39999999999995, 82.59999999999998, 75.99999999999997, 81.19999999999996, 77.79999999999998, 77.59999999999998, 85.59999999999997, 81.6, 85.59999999999997, 77.79999999999995, 80.99999999999997, 76.79999999999995, 75.79999999999998, 84.39999999999998, 79.99999999999997, 76.59999999999998, 70.99999999999996, 75.79999999999997, 76.19999999999997, 76.79999999999997, 82.59999999999997, 81.19999999999997, 78.79999999999995, 86.19999999999997, 78.19999999999997, 70.99999999999997, 77.59999999999997, 79.59999999999997, 82.79999999999997, 84.19999999999997, 86.99999999999997, 67.99999999999997, 87.79999999999994, 80.59999999999998, 84.79999999999995, 83.79999999999997, 86.39999999999996, 74.19999999999997, 68.39999999999998, 78.99999999999994, 78.99999999999996, 87.59999999999997, 71.99999999999997, 68.59999999999997, 75.99999999999997, 71.39999999999998, 73.99999999999996, 78.59999999999997, 81.19999999999997, 88.99999999999997, 68.79999999999997, 80.79999999999998, 75.19999999999996, 76.99999999999999, 81.99999999999997, 73.39999999999996, 83.79999999999997, 76.19999999999997, 72.79999999999997, 77.19999999999995, 82.19999999999996, 87.39999999999998, 81.79999999999997, 88.59999999999997, 78.19999999999997, 76.59999999999998, 72.99999999999996, 88.19999999999997, 80.79999999999995, 72.79999999999997, 86.19999999999997, 79.39999999999996, 73.99999999999996, 80.39999999999995, 86.99999999999997, 82.39999999999995, 83.59999999999997, 88.99999999999999, 75.39999999999996, 88.79999999999995, 76.59999999999997, 82.19999999999996, 85.59999999999997, 89.19999999999996, 82.39999999999999, 80.59999999999997, 78.59999999999997, 71.99999999999997, 77.6, 69.59999999999998, 82.99999999999996, 79.79999999999998, 73.39999999999996, 77.39999999999996, 83.59999999999994, 77.79999999999997, 78.99999999999996, 74.19999999999997, 78.59999999999995, 85.39999999999998, 70.39999999999998, 85.99999999999997, 79.39999999999996, 80.59999999999995, 82.79999999999994, 84.59999999999997, 79.39999999999998, 83.79999999999997, 88.39999999999996, 72.79999999999995, 82.79999999999997, 79.79999999999997, 78.59999999999997, 77.99999999999997, 79.39999999999995, 73.79999999999997, 81.59999999999995, 81.79999999999997, 71.19999999999997, 83.59999999999997, 82.99999999999994, 84.39999999999996, 70.99999999999997, 84.99999999999997, 85.39999999999995, 85.19999999999997, 74.39999999999999, 81.79999999999995, 76.79999999999998, 74.79999999999998, 75.79999999999998, 75.59999999999998, 77.39999999999996, 81.99999999999997, 73.19999999999997, 80.39999999999995, 77.79999999999997, 80.79999999999997, 86.59999999999997, 84.79999999999997, 80.39999999999995, 80.39999999999996, 80.39999999999998, 58.19999999999999, 74.59999999999998, 83.99999999999997, 81.59999999999998, 81.79999999999997, 79.19999999999996, 74.39999999999999, 76.99999999999999, 70.99999999999997, 81.2, 80.59999999999995, 85.59999999999998, 77.19999999999997, 86.79999999999997, 70.19999999999996, 82.39999999999996, 80.99999999999996, 84.59999999999994, 87.39999999999996, 71.59999999999997, 76.79999999999997, 87.59999999999995, 88.39999999999993, 82.19999999999996, 75.99999999999997, 74.99999999999996, 86.19999999999996, 78.39999999999998, 68.99999999999997, 90.79999999999997, 77.59999999999998, 84.79999999999995, 77.59999999999995, 70.79999999999998, 85.99999999999997, 81.39999999999996, 80.19999999999997, 89.99999999999997, 76.39999999999998, 74.19999999999997, 69.39999999999998, 83.79999999999997, 71.19999999999997, 83.39999999999996, 79.39999999999998, 78.99999999999999, 70.59999999999998, 71.19999999999997, 74.59999999999997, 82.79999999999997, 81.19999999999996, 85.99999999999997, 64.79999999999995, 76.79999999999997, 86.39999999999998, 84.79999999999997, 80.39999999999995, 85.19999999999997, 80.39999999999998, 82.39999999999998, 81.59999999999997, 80.39999999999998, 85.39999999999998, 86.19999999999996, 74.59999999999995, 77.59999999999995, 74.79999999999994, 81.39999999999996, 84.19999999999997, 75.99999999999996, 74.99999999999997, 87.39999999999996, 72.39999999999998, 83.59999999999997, 75.59999999999998, 83.39999999999996, 80.39999999999998, 76.19999999999996, 75.39999999999996, 82.59999999999998, 71.99999999999999, 76.19999999999996, 88.99999999999996, 73.19999999999997, 87.39999999999998, 79.99999999999997, 73.39999999999995, 81.59999999999997, 77.39999999999998, 75.19999999999996, 81.59999999999998, 72.59999999999997, 79.79999999999995, 66.79999999999997, 82.79999999999995, 78.59999999999997, 86.19999999999996, 74.79999999999995, 77.19999999999996, 75.79999999999997, 75.39999999999996, 74.99999999999999, 78.79999999999995, 70.19999999999997, 84.99999999999996, 83.59999999999998, 78.39999999999995, 88.79999999999997, 77.39999999999996, 78.39999999999999, 77.80000000000001, 73.39999999999996, 86.79999999999997, 82.59999999999997, 68.99999999999999, 73.79999999999997, 77.79999999999997, 74.99999999999996, 74.39999999999998, 75.19999999999997, 85.99999999999996, 79.99999999999997, 84.39999999999998, 80.99999999999999, 85.79999999999995, 81.19999999999997, 80.99999999999996, 80.19999999999996, 78.8, 84.79999999999995, 79.39999999999998, 84.39999999999999, 82.19999999999997, 69.59999999999997, 79.19999999999996, 86.99999999999996, 69.59999999999998, 83.79999999999998, 86.59999999999997, 75.59999999999998, 80.99999999999996, 71.19999999999997, 83.39999999999996, 82.99999999999997, 73.19999999999997, 90.99999999999999, 80.99999999999996, 79.19999999999996, 76.59999999999998, 80.19999999999999, 76.99999999999996, 78.19999999999996, 80.59999999999997, 81.19999999999997, 83.19999999999996, 83.79999999999995, 75.59999999999995, 79.19999999999997, 81.39999999999996, 81.59999999999995, 78.79999999999997, 77.99999999999997, 86.99999999999997, 77.79999999999998, 81.19999999999995, 77.39999999999996, 78.79999999999995, 67.8, 83.79999999999997, 72.79999999999998, 69.59999999999998, 69.79999999999995, 89.39999999999995, 79.59999999999994, 79.39999999999999, 73.59999999999998, 77.19999999999996, 79.19999999999997, 82.19999999999996, 77.39999999999996, 82.19999999999996, 79.59999999999997, 81.79999999999997, 77.99999999999997, 77.39999999999998, 88.79999999999997, 79.39999999999998, 72.99999999999997, 78.79999999999997, 76.99999999999996, 69.19999999999997, 87.19999999999996, 74.99999999999997, 74.19999999999996, 75.99999999999997, 79.39999999999996, 70.79999999999995, 82.39999999999998, 84.99999999999994, 83.99999999999996, 80.99999999999997, 82.39999999999998, 84.79999999999995, 86.99999999999996, 69.19999999999997, 74.39999999999998, 82.19999999999996, 74.79999999999995, 76.79999999999997, 83.79999999999997, 79.39999999999999, 85.59999999999995, 83.39999999999996, 72.99999999999997, 77.99999999999997, 77.39999999999996, 85.59999999999997, 75.39999999999996, 77.99999999999996, 79.19999999999996, 80.99999999999994, 84.79999999999997, 82.79999999999995, 77.19999999999997, 68.79999999999995, 80.59999999999995, 79.59999999999997, 78.79999999999997, 79.79999999999995, 82.99999999999994, 74.39999999999998, 82.59999999999995, 78.79999999999998, 75.19999999999996, 79.39999999999996, 81.79999999999998, 83.19999999999997, 88.99999999999996, 72.79999999999997, 76.59999999999995, 85.79999999999995, 81.39999999999996, 84.19999999999997, 74.19999999999999, 78.19999999999997, 78.19999999999997, 70.19999999999997, 75.99999999999997, 77.19999999999997, 82.59999999999998, 82.39999999999996, 80.59999999999998, 76.39999999999999, 82.99999999999996, 83.59999999999997, 77.39999999999995, 80.19999999999996, 81.79999999999995, 65.79999999999998, 80.99999999999996, 78.99999999999996, 75.99999999999997, 81.19999999999996, 74.59999999999997, 79.99999999999997, 80.39999999999996, 78.19999999999995, 88.19999999999997, 81.59999999999997, 79.59999999999997, 84.39999999999998, 87.39999999999998, 79.39999999999996, 72.99999999999996, 70.99999999999997, 78.19999999999996, 80.79999999999995, 78.39999999999998, 81.19999999999996, 84.39999999999998, 83.39999999999996, 85.39999999999996, 80.79999999999997, 72.39999999999995, 82.59999999999997, 82.39999999999996, 74.19999999999996, 78.39999999999998, 76.39999999999995, 81.79999999999997, 69.19999999999997, 77.39999999999998, 80.39999999999992, 83.59999999999998, 75.59999999999997, 73.19999999999996, 75.19999999999996, 86.39999999999998, 80.79999999999997, 80.79999999999995, 77.39999999999995, 82.79999999999995, 81.19999999999996, 81.59999999999997, 78.19999999999995, 80.19999999999997, 74.39999999999998, 77.99999999999994, 82.59999999999998, 78.99999999999996, 79.59999999999998, 82.39999999999996, 80.19999999999997, 76.59999999999998, 86.59999999999997, 80.39999999999996, 79.19999999999995, 72.59999999999998, 71.19999999999996, 89.19999999999996, 79.59999999999997, 75.79999999999997, 80.19999999999997, 65.39999999999999, 78.19999999999997, 77.79999999999997, 81.59999999999998, 82.79999999999998, 82.39999999999996, 75.59999999999995, 82.99999999999996, 65.0, 74.39999999999995, 69.59999999999997, 81.59999999999998, 80.39999999999996, 77.19999999999996, 64.99999999999996, 76.19999999999996, 85.59999999999997, 74.99999999999997, 73.39999999999996, 79.19999999999999, 79.99999999999996, 75.6, 75.39999999999998, 83.39999999999996, 79.19999999999997, 81.99999999999997, 73.79999999999997, 72.19999999999997, 77.79999999999995, 79.79999999999995, 74.79999999999997, 85.99999999999997, 75.99999999999996, 80.59999999999995, 80.19999999999996, 71.79999999999998, 75.39999999999996, 89.59999999999998, 69.79999999999998, 82.79999999999997, 79.59999999999998, 81.19999999999997, 82.19999999999996, 85.59999999999995, 74.39999999999996, 72.19999999999997, 75.99999999999997, 81.99999999999997, 87.99999999999997, 75.39999999999999, 80.59999999999994, 75.79999999999995, 83.59999999999998, 73.6, 71.79999999999997, 85.79999999999997, 81.19999999999996, 81.79999999999997, 84.99999999999997, 76.79999999999995, 82.79999999999997, 76.79999999999995, 76.39999999999998, 81.99999999999996, 85.99999999999996, 75.99999999999999, 93.79999999999997, 86.59999999999998, 85.79999999999995, 74.19999999999997, 76.19999999999997, 76.19999999999996, 75.19999999999997, 75.19999999999997, 86.19999999999999, 81.79999999999995, 81.79999999999995, 82.59999999999997, 79.99999999999996, 83.39999999999992, 79.79999999999997, 74.79999999999997, 88.79999999999997, 80.99999999999999, 85.99999999999997, 80.99999999999996, 72.99999999999996, 78.79999999999997, 92.99999999999996, 69.59999999999995, 79.39999999999995, 79.39999999999996, 81.19999999999996, 76.59999999999998, 82.99999999999996, 83.39999999999998, 72.39999999999995, 78.99999999999996, 71.39999999999996, 78.19999999999995, 82.19999999999996, 65.39999999999998, 71.59999999999997, 67.59999999999997, 77.99999999999999, 83.59999999999997, 75.99999999999999, 76.19999999999997, 71.39999999999996, 81.79999999999995, 83.39999999999995, 80.79999999999995, 88.99999999999996, 78.39999999999996, 79.99999999999997, 80.99999999999997, 77.39999999999996, 75.99999999999997, 67.99999999999997, 84.99999999999997, 66.39999999999998, 76.79999999999995, 79.59999999999995, 75.79999999999997, 76.59999999999995, 74.39999999999998, 92.79999999999998, 76.19999999999996, 84.99999999999997, 76.59999999999995, 79.59999999999997, 79.39999999999999, 73.59999999999997, 76.79999999999995, 85.99999999999996, 83.19999999999996, 76.79999999999995, 81.99999999999997, 74.39999999999998, 82.19999999999996, 84.19999999999997, 76.59999999999998, 77.39999999999998, 79.59999999999997, 71.39999999999996, 77.19999999999997, 82.59999999999995, 87.59999999999998, 81.19999999999999, 80.39999999999996, 84.39999999999995, 84.19999999999997, 80.99999999999996, 87.59999999999995, 92.59999999999997, 85.19999999999997, 73.79999999999998, 78.99999999999997, 79.79999999999997, 85.59999999999995, 77.99999999999997, 75.59999999999997, 84.99999999999996, 76.99999999999996, 75.59999999999997, 74.79999999999997, 77.39999999999998, 87.19999999999996, 73.19999999999995, 83.39999999999996, 80.79999999999995, 76.19999999999997, 76.39999999999998, 82.19999999999996, 89.59999999999997, 67.19999999999997, 84.59999999999998, 81.99999999999997, 86.39999999999998, 77.19999999999996, 72.19999999999997, 82.39999999999996, 85.59999999999997, 77.39999999999996, 73.79999999999997, 70.59999999999997, 74.19999999999997, 85.79999999999995, 79.59999999999995, 75.39999999999996, 81.19999999999996, 83.59999999999997, 75.79999999999997, 84.19999999999996, 83.79999999999997, 74.39999999999998, 79.99999999999996, 75.99999999999999, 76.59999999999995, 88.79999999999998, 83.99999999999994, 77.59999999999997, 84.79999999999997, 84.39999999999995, 81.59999999999998, 74.79999999999998, 80.99999999999996, 83.19999999999996, 75.19999999999996, 80.19999999999996, 85.19999999999997, 74.79999999999997, 76.99999999999996, 89.99999999999997, 79.99999999999997, 79.79999999999997, 82.59999999999997, 80.79999999999998, 76.59999999999998, 77.99999999999999, 72.39999999999999, 81.19999999999996, 69.19999999999997, 83.99999999999997, 77.39999999999998, 82.19999999999996, 79.19999999999997, 75.59999999999997, 79.19999999999997, 78.59999999999998, 79.19999999999997, 82.79999999999993, 81.99999999999996, 82.99999999999996, 78.8, 82.19999999999996, 86.99999999999997, 84.59999999999998, 70.79999999999997, 75.99999999999997, 85.19999999999996, 87.39999999999998, 78.59999999999998, 81.99999999999997, 83.39999999999996, 80.79999999999995, 83.39999999999998, 83.19999999999995, 73.79999999999997, 77.39999999999996, 79.79999999999997, 66.79999999999998, 82.99999999999996, 74.19999999999997, 76.99999999999997, 80.59999999999997, 74.39999999999995, 68.59999999999998, 77.99999999999996, 75.19999999999997, 73.79999999999997, 67.39999999999996, 70.59999999999998, 76.99999999999996, 79.19999999999996, 80.19999999999999, 75.79999999999995, 87.99999999999997, 81.39999999999996, 76.79999999999995, 81.19999999999996, 78.99999999999997, 76.19999999999995, 81.19999999999997, 78.19999999999999, 80.59999999999997, 80.79999999999995, 72.19999999999995, 88.39999999999998, 68.19999999999996, 76.6, 61.39999999999997, 79.19999999999996, 81.79999999999995, 81.59999999999997, 76.59999999999997, 72.39999999999998, 75.99999999999994, 79.99999999999997, 85.19999999999996, 77.39999999999996, 82.59999999999997, 80.99999999999996, 90.19999999999996, 68.79999999999997, 69.99999999999997, 77.59999999999997, 81.19999999999997, 65.19999999999996, 76.79999999999997, 76.79999999999997, 74.79999999999997, 80.19999999999997, 72.39999999999998, 74.99999999999997, 82.39999999999996, 80.79999999999998, 80.99999999999996, 89.19999999999996, 86.79999999999997, 81.59999999999997, 84.79999999999995, 78.59999999999997, 75.79999999999995, 79.99999999999997, 78.39999999999998, 73.99999999999997, 84.19999999999995, 84.39999999999996, 78.19999999999997, 76.59999999999995, 76.79999999999998, 68.59999999999997, 76.79999999999995, 67.19999999999996, 81.19999999999997, 83.99999999999996, 79.79999999999995, 87.59999999999997, 76.79999999999995, 75.59999999999997, 71.19999999999996, 80.39999999999995, 83.79999999999994, 82.19999999999997, 83.59999999999998, 79.99999999999996, 86.59999999999995, 71.99999999999996, 79.19999999999996, 84.59999999999995, 87.19999999999995, 79.59999999999998, 83.99999999999999, 72.59999999999998, 85.99999999999996, 69.59999999999997, 78.99999999999996, 71.79999999999997, 86.99999999999996, 75.59999999999995, 80.99999999999997, 75.99999999999997, 76.59999999999998, 78.99999999999994, 78.39999999999996, 78.19999999999996, 84.79999999999995, 86.19999999999997, 86.79999999999995, 75.99999999999997, 87.99999999999996, 70.59999999999997, 73.59999999999995, 86.99999999999994, 89.99999999999997, 71.19999999999996, 75.19999999999996, 75.99999999999996, 84.99999999999997, 78.39999999999996, 71.79999999999997, 71.99999999999999, 91.59999999999997, 78.59999999999998, 81.59999999999997, 83.99999999999994, 81.6]\n",
            "[0, 79.39999999999996, 82.19999999999997, 78.79999999999997, 76.19999999999997, 83.39999999999996, 76.79999999999997, 80.19999999999997, 81.39999999999998, 79.99999999999997, 74.79999999999995, 76.59999999999997, 81.59999999999997, 78.19999999999997, 78.99999999999997, 83.39999999999996, 77.59999999999998, 84.19999999999999, 77.39999999999998, 83.39999999999996, 79.39999999999998, 79.59999999999997, 81.99999999999997, 81.39999999999996, 87.19999999999995, 74.19999999999997, 84.99999999999997, 76.19999999999996, 82.59999999999997, 73.59999999999997, 81.19999999999997, 75.79999999999995, 86.39999999999996, 78.99999999999997, 85.99999999999999, 88.39999999999995, 77.99999999999994, 82.39999999999996, 77.39999999999996, 82.79999999999995, 85.99999999999997, 81.59999999999997, 84.39999999999998, 81.19999999999996, 85.59999999999997, 75.79999999999997, 78.19999999999997, 74.19999999999997, 81.99999999999997, 77.59999999999997, 78.79999999999995, 71.39999999999996, 77.39999999999996, 71.59999999999998, 76.79999999999998, 82.79999999999995, 83.99999999999997, 86.99999999999996, 79.99999999999997, 80.79999999999994, 76.99999999999997, 81.99999999999996, 83.59999999999997, 68.19999999999996, 78.59999999999997, 86.39999999999996, 70.79999999999995, 80.79999999999994, 79.19999999999997, 79.59999999999997, 70.59999999999998, 87.79999999999997, 68.99999999999997, 82.79999999999997, 77.39999999999995, 79.99999999999997, 81.79999999999997, 72.79999999999998, 85.79999999999997, 76.39999999999996, 92.39999999999996, 73.39999999999996, 80.99999999999997, 73.59999999999997, 82.19999999999996, 76.39999999999998, 77.19999999999996, 80.59999999999995, 77.59999999999995, 80.39999999999995, 81.79999999999995, 80.79999999999997, 80.79999999999998, 71.19999999999996, 82.99999999999996, 79.79999999999998, 74.79999999999994, 82.79999999999995, 72.59999999999997, 82.99999999999997, 77.79999999999997, 82.59999999999997, 72.19999999999999, 74.19999999999999, 73.79999999999997, 73.19999999999996, 74.79999999999998, 74.99999999999999, 83.99999999999997, 78.59999999999997, 75.59999999999994, 70.99999999999997, 78.19999999999995, 86.19999999999995, 81.79999999999997, 78.39999999999999, 77.79999999999998, 80.59999999999997, 80.59999999999997, 81.79999999999997, 75.19999999999996, 72.39999999999998, 82.59999999999997, 74.59999999999995, 73.19999999999996, 75.79999999999995, 72.59999999999997, 79.19999999999996, 84.19999999999997, 79.19999999999996, 86.79999999999995, 76.59999999999997, 83.19999999999996, 78.19999999999997, 75.99999999999996, 71.19999999999997, 75.6, 81.39999999999998, 85.79999999999998, 82.39999999999995, 81.19999999999996, 73.39999999999998, 86.19999999999995, 80.19999999999997, 75.39999999999998, 75.39999999999996, 80.39999999999999, 83.99999999999993, 81.99999999999997, 80.59999999999997, 87.79999999999997, 74.59999999999995, 81.99999999999996, 74.99999999999994, 73.59999999999997, 71.59999999999997, 87.39999999999996, 80.59999999999997, 78.79999999999998, 77.99999999999997, 75.99999999999996, 80.39999999999998, 80.19999999999996, 85.59999999999997, 81.79999999999998, 82.19999999999996, 77.59999999999995, 81.79999999999997, 74.59999999999997, 80.59999999999997, 84.19999999999997, 76.39999999999996, 76.39999999999998, 75.99999999999997, 74.59999999999998, 74.79999999999998, 75.59999999999995, 83.79999999999997, 80.19999999999997, 82.59999999999995, 84.19999999999996, 72.59999999999997, 73.39999999999998, 81.39999999999998, 79.19999999999997, 85.59999999999994, 82.79999999999995, 85.99999999999997, 69.59999999999998, 84.59999999999998, 79.79999999999997, 88.99999999999997, 84.59999999999998, 76.39999999999995, 74.39999999999995, 78.99999999999997, 71.99999999999997, 82.59999999999998, 85.19999999999996, 75.19999999999996, 61.79999999999998, 73.59999999999997, 77.19999999999996, 78.99999999999997, 78.79999999999998, 81.79999999999997, 82.59999999999998, 68.19999999999997, 77.19999999999997, 77.39999999999993, 77.99999999999996, 85.39999999999996, 75.59999999999997, 78.79999999999998, 73.39999999999996, 74.39999999999995, 86.39999999999996, 77.19999999999996, 86.59999999999995, 87.99999999999997, 76.19999999999997, 82.19999999999997, 76.59999999999998, 80.39999999999996, 86.19999999999996, 69.39999999999995, 86.59999999999998, 76.39999999999998, 82.59999999999997, 71.99999999999997, 85.19999999999997, 90.19999999999996, 78.59999999999997, 90.19999999999997, 78.59999999999998, 82.79999999999995, 83.79999999999995, 76.59999999999998, 84.19999999999997, 86.39999999999996, 92.79999999999998, 78.19999999999996, 82.99999999999996, 69.79999999999997, 72.39999999999998, 74.39999999999996, 74.59999999999998, 81.59999999999995, 82.79999999999997, 75.19999999999997, 73.39999999999998, 89.59999999999995, 79.19999999999996, 71.59999999999997, 76.39999999999998, 82.19999999999996, 77.99999999999996, 75.99999999999997, 83.79999999999995, 77.99999999999997, 83.39999999999998, 82.59999999999994, 79.39999999999995, 83.59999999999998, 90.99999999999996, 79.19999999999997, 77.99999999999996, 85.79999999999997, 72.99999999999997, 77.39999999999996, 80.59999999999995, 76.99999999999997, 78.39999999999996, 80.79999999999997, 72.79999999999995, 76.19999999999997, 84.39999999999998, 87.39999999999996, 78.59999999999995, 76.59999999999995, 87.39999999999995, 81.19999999999996, 79.79999999999997, 82.59999999999997, 74.19999999999997, 73.59999999999997, 78.99999999999996, 79.6, 70.59999999999998, 78.79999999999997, 81.59999999999997, 77.59999999999997, 79.19999999999997, 78.59999999999995, 78.39999999999995, 90.79999999999995, 85.59999999999997, 80.79999999999998, 76.19999999999997, 67.99999999999996, 66.79999999999998, 78.19999999999997, 85.59999999999995, 79.79999999999997, 84.19999999999996, 74.79999999999995, 80.79999999999997, 68.19999999999999, 71.59999999999997, 92.39999999999996, 74.59999999999997, 81.99999999999996, 81.19999999999997, 78.19999999999997, 79.99999999999999, 75.99999999999996, 87.19999999999997, 85.79999999999995, 81.39999999999996, 72.59999999999998, 80.59999999999997, 90.79999999999995, 85.39999999999996, 75.99999999999997, 81.39999999999996, 75.79999999999998, 81.79999999999997, 77.19999999999995, 77.99999999999997, 83.19999999999997, 80.59999999999997, 82.19999999999995, 72.99999999999997, 82.39999999999996, 82.19999999999997, 80.19999999999995, 85.59999999999997, 81.79999999999997, 76.19999999999997, 74.79999999999997, 72.99999999999999, 81.39999999999996, 75.19999999999997, 76.79999999999998, 88.59999999999998, 67.59999999999995, 69.19999999999997, 78.19999999999997, 75.79999999999997, 82.79999999999995, 79.79999999999997, 74.39999999999998, 78.79999999999997, 72.19999999999997, 94.99999999999997, 83.79999999999997, 77.99999999999996, 82.19999999999996, 86.39999999999998, 79.79999999999997, 80.39999999999996, 75.39999999999996, 93.59999999999997, 78.39999999999996, 79.79999999999995, 76.19999999999996, 72.79999999999995, 81.79999999999997, 80.99999999999994, 76.59999999999997, 79.19999999999996, 80.19999999999996, 77.79999999999995, 85.39999999999996, 79.39999999999996, 81.79999999999997, 79.59999999999997, 69.59999999999998, 76.79999999999995, 84.39999999999996, 74.99999999999999, 74.79999999999995, 85.39999999999996, 78.59999999999995, 86.59999999999998, 71.19999999999996, 83.39999999999996, 77.59999999999997, 76.19999999999996, 80.19999999999996, 73.99999999999996, 81.59999999999995, 72.19999999999995, 74.39999999999996, 81.59999999999997, 77.59999999999998, 83.39999999999996, 76.59999999999997, 70.79999999999998, 78.79999999999997, 75.59999999999998, 78.99999999999996, 76.39999999999996, 76.39999999999998, 80.79999999999997, 81.19999999999996, 83.99999999999994, 79.39999999999996, 81.19999999999995, 77.19999999999995, 77.39999999999998, 80.99999999999996, 84.39999999999998, 71.99999999999997, 78.19999999999996, 72.19999999999997, 79.99999999999999, 68.99999999999996, 77.99999999999997, 74.39999999999996, 86.99999999999997, 84.39999999999998, 78.19999999999997, 83.39999999999999, 84.59999999999995, 83.99999999999997, 81.99999999999996, 76.39999999999996, 84.19999999999996, 77.19999999999995, 85.59999999999997, 80.79999999999997, 77.99999999999997, 75.59999999999997, 81.39999999999998, 82.79999999999995, 75.0, 85.19999999999997, 79.19999999999996, 80.19999999999996, 74.59999999999997, 79.59999999999997, 79.19999999999996, 84.39999999999998, 74.59999999999998, 82.59999999999997, 82.99999999999996, 79.99999999999999, 75.59999999999997, 80.59999999999998, 81.19999999999997, 79.19999999999996, 74.59999999999995, 85.19999999999996, 84.59999999999995, 85.39999999999996, 73.79999999999997, 78.59999999999998, 84.39999999999998, 76.19999999999996, 79.39999999999996, 81.19999999999995, 86.99999999999994, 74.59999999999998, 80.99999999999996, 81.19999999999996, 70.19999999999996, 76.59999999999997, 78.19999999999997, 69.99999999999997, 72.39999999999999, 76.79999999999995, 85.99999999999997, 71.79999999999997, 80.79999999999995, 79.99999999999997, 74.99999999999997, 78.99999999999997, 82.99999999999997, 74.39999999999999, 84.59999999999994, 85.99999999999997, 77.39999999999998, 77.59999999999997, 81.39999999999996, 80.59999999999995, 77.79999999999997, 78.79999999999998, 77.59999999999997, 71.99999999999996, 80.19999999999997, 77.99999999999997, 70.99999999999999, 77.19999999999996, 83.79999999999997, 71.39999999999996, 76.99999999999997, 82.99999999999999, 84.99999999999996, 84.19999999999997, 78.39999999999998, 88.39999999999996, 84.59999999999997, 76.79999999999995, 73.59999999999998, 78.99999999999999, 75.19999999999996, 74.79999999999997, 79.99999999999994, 81.79999999999995, 83.19999999999996, 84.59999999999997, 83.99999999999997, 68.99999999999997, 79.39999999999996, 81.59999999999995, 86.99999999999996, 73.39999999999998, 72.59999999999997, 79.59999999999997, 85.99999999999994, 81.19999999999997, 82.39999999999995, 68.39999999999998, 80.39999999999996, 78.39999999999998, 78.99999999999996, 82.79999999999995, 76.79999999999997, 80.79999999999997, 77.59999999999997, 79.79999999999998, 76.39999999999998, 84.79999999999997, 75.39999999999998, 82.99999999999999, 86.19999999999996, 78.59999999999995, 76.79999999999995, 80.19999999999996, 82.39999999999996, 87.79999999999997, 71.99999999999997, 84.39999999999998, 72.79999999999995, 77.99999999999996, 63.39999999999997, 85.59999999999995, 77.99999999999997, 76.19999999999996, 88.99999999999997, 81.59999999999997, 76.99999999999997, 80.99999999999994, 76.39999999999998, 84.79999999999994, 83.39999999999996, 70.59999999999997, 75.79999999999997, 78.19999999999996, 81.59999999999997, 74.39999999999998, 81.39999999999996, 70.39999999999998, 77.19999999999996, 88.19999999999995, 80.99999999999997, 80.39999999999996, 84.99999999999997, 83.99999999999997, 81.79999999999997, 87.79999999999994, 77.39999999999996, 70.39999999999996, 72.19999999999997, 77.59999999999998, 80.99999999999997, 77.99999999999997, 85.19999999999996, 82.99999999999997, 84.59999999999997, 80.79999999999995, 81.59999999999997, 75.79999999999995, 77.79999999999997, 79.39999999999996, 80.99999999999997, 77.79999999999997, 76.59999999999998, 78.79999999999995, 67.99999999999997, 79.59999999999997, 85.39999999999993, 78.59999999999997, 72.39999999999998, 76.39999999999996, 79.39999999999996, 83.79999999999995, 80.79999999999998, 77.99999999999997, 80.39999999999996, 82.99999999999996, 83.59999999999998, 77.19999999999996, 79.99999999999994, 72.99999999999997, 79.99999999999997, 86.19999999999996, 76.39999999999996, 78.79999999999997, 78.59999999999997, 85.99999999999997, 73.99999999999996, 84.79999999999997, 83.39999999999995, 81.79999999999998, 72.79999999999998, 78.19999999999996, 69.39999999999998, 90.79999999999995, 74.39999999999998, 79.19999999999996, 70.79999999999997, 75.39999999999998, 75.99999999999997, 79.59999999999997, 81.99999999999997, 83.99999999999996, 77.39999999999998, 76.79999999999997, 73.39999999999996, 70.79999999999997, 74.59999999999997, 76.59999999999995, 79.59999999999995, 80.99999999999996, 71.59999999999997, 69.8, 79.19999999999997, 81.19999999999996, 79.39999999999998, 67.99999999999999, 81.99999999999997, 71.19999999999997, 82.39999999999996, 75.79999999999997, 81.59999999999997, 86.59999999999997, 69.39999999999995, 82.79999999999997, 73.99999999999996, 78.99999999999997, 68.79999999999997, 86.79999999999997, 80.99999999999999, 80.59999999999997, 79.79999999999998, 69.39999999999996, 77.99999999999997, 82.99999999999997, 77.59999999999995, 77.59999999999997, 80.79999999999997, 85.19999999999997, 78.99999999999997, 82.39999999999998, 75.79999999999995, 75.59999999999997, 76.19999999999997, 75.99999999999997, 87.59999999999997, 76.79999999999997, 83.59999999999995, 73.19999999999996, 81.39999999999998, 84.79999999999997, 70.19999999999996, 75.19999999999997, 85.59999999999997, 80.99999999999997, 81.19999999999996, 87.39999999999996, 75.59999999999995, 81.99999999999997, 80.59999999999997, 75.79999999999998, 81.79999999999998, 76.99999999999996, 89.19999999999999, 89.39999999999998, 85.19999999999996, 74.39999999999995, 82.59999999999997, 75.39999999999996, 74.39999999999995, 74.99999999999994, 77.19999999999996, 89.19999999999997, 83.79999999999997, 74.59999999999995, 82.19999999999995, 86.99999999999997, 79.79999999999997, 78.19999999999997, 77.39999999999999, 89.79999999999997, 80.79999999999997, 83.79999999999995, 79.39999999999995, 75.79999999999995, 83.59999999999997, 85.79999999999997, 67.99999999999999, 82.39999999999996, 73.39999999999996, 87.59999999999997, 76.19999999999997, 82.19999999999995, 80.59999999999998, 77.59999999999997, 75.79999999999997, 74.99999999999997, 78.99999999999996, 76.99999999999997, 63.99999999999998, 67.59999999999998, 71.59999999999997, 85.99999999999997, 80.79999999999997, 74.59999999999997, 75.59999999999997, 76.59999999999998, 83.39999999999998, 80.79999999999997, 82.99999999999996, 83.99999999999997, 75.59999999999997, 81.19999999999996, 81.39999999999995, 79.59999999999997, 71.99999999999997, 69.39999999999996, 80.19999999999993, 68.19999999999997, 79.19999999999997, 81.19999999999996, 72.19999999999997, 74.59999999999997, 85.79999999999997, 83.99999999999996, 85.19999999999996, 80.59999999999997, 76.99999999999997, 81.59999999999998, 75.39999999999998, 71.39999999999998, 79.59999999999994, 91.59999999999997, 77.19999999999997, 77.19999999999995, 73.79999999999997, 80.99999999999996, 87.59999999999998, 72.19999999999997, 84.79999999999998, 77.19999999999997, 76.99999999999996, 69.19999999999996, 85.19999999999996, 78.59999999999997, 90.79999999999994, 78.79999999999997, 80.59999999999998, 88.19999999999996, 83.39999999999996, 79.79999999999997, 89.99999999999997, 88.99999999999996, 83.39999999999996, 75.39999999999996, 81.99999999999996, 79.99999999999997, 77.59999999999997, 77.99999999999997, 81.19999999999995, 87.19999999999997, 72.99999999999997, 72.99999999999997, 76.99999999999997, 81.39999999999998, 80.19999999999997, 81.79999999999997, 80.19999999999997, 79.19999999999997, 73.79999999999997, 80.99999999999997, 83.39999999999996, 79.19999999999995, 76.19999999999999, 82.19999999999996, 87.79999999999997, 79.99999999999996, 73.79999999999997, 78.59999999999998, 83.59999999999997, 81.79999999999997, 77.19999999999997, 74.59999999999995, 68.59999999999998, 78.99999999999996, 87.19999999999997, 75.39999999999996, 77.99999999999996, 77.79999999999997, 85.59999999999998, 77.79999999999997, 80.59999999999997, 76.39999999999998, 84.79999999999995, 72.59999999999997, 82.59999999999998, 80.59999999999998, 83.79999999999995, 86.59999999999997, 78.39999999999999, 81.79999999999995, 85.79999999999995, 74.59999999999998, 82.59999999999997, 78.99999999999997, 82.79999999999995, 76.59999999999998, 77.99999999999999, 81.39999999999998, 75.59999999999997, 85.19999999999996, 87.59999999999995, 79.99999999999996, 79.59999999999997, 83.59999999999997, 72.99999999999999, 77.39999999999996, 74.39999999999996, 80.39999999999998, 76.6, 76.39999999999998, 78.79999999999995, 78.99999999999996, 81.19999999999996, 79.39999999999996, 72.59999999999998, 80.79999999999997, 81.39999999999995, 77.79999999999997, 82.39999999999995, 87.79999999999995, 75.39999999999996, 82.39999999999996, 85.59999999999998, 82.39999999999998, 81.59999999999997, 67.99999999999997, 83.39999999999995, 85.19999999999996, 84.19999999999997, 81.39999999999995, 86.59999999999997, 78.99999999999996, 80.99999999999996, 85.99999999999997, 77.19999999999997, 77.39999999999996, 75.39999999999998, 73.99999999999997, 74.39999999999996, 75.19999999999996, 75.19999999999996, 79.19999999999995, 85.39999999999996, 68.59999999999997, 69.79999999999997, 73.99999999999996, 79.79999999999997, 69.99999999999996, 70.39999999999995, 67.99999999999997, 85.99999999999996, 74.79999999999995, 80.59999999999997, 80.59999999999997, 89.19999999999995, 74.19999999999997, 78.39999999999996, 82.99999999999996, 79.19999999999997, 71.59999999999995, 81.39999999999996, 77.59999999999995, 87.59999999999995, 78.19999999999996, 72.59999999999997, 84.39999999999996, 68.39999999999996, 74.59999999999997, 73.39999999999998, 71.99999999999996, 80.99999999999997, 78.99999999999996, 69.99999999999999, 79.39999999999996, 76.39999999999998, 85.19999999999996, 81.59999999999995, 74.39999999999998, 89.79999999999997, 81.39999999999995, 83.19999999999996, 65.99999999999996, 77.79999999999998, 72.99999999999996, 79.79999999999997, 64.19999999999997, 80.79999999999995, 74.59999999999995, 77.59999999999997, 72.99999999999999, 77.19999999999996, 77.99999999999997, 82.19999999999997, 78.59999999999997, 88.59999999999995, 87.99999999999997, 86.39999999999998, 83.39999999999996, 76.39999999999996, 83.59999999999997, 73.39999999999996, 84.19999999999997, 77.59999999999997, 78.19999999999997, 79.19999999999999, 84.19999999999997, 80.39999999999998, 66.19999999999997, 77.79999999999995, 73.19999999999997, 71.39999999999998, 68.19999999999996, 88.79999999999997, 81.19999999999997, 86.39999999999995, 82.59999999999997, 70.99999999999997, 79.79999999999997, 72.79999999999997, 82.19999999999996, 82.19999999999996, 84.99999999999994, 83.39999999999995, 82.99999999999996, 78.19999999999999, 74.59999999999998, 80.99999999999997, 85.39999999999998, 82.39999999999996, 83.39999999999996, 78.79999999999997, 78.59999999999998, 79.59999999999997, 73.59999999999997, 73.59999999999998, 81.39999999999998, 77.79999999999994, 79.59999999999998, 83.79999999999997, 72.39999999999998, 77.79999999999995, 76.79999999999995, 84.19999999999997, 78.59999999999997, 83.59999999999998, 86.39999999999998, 86.79999999999994, 77.59999999999997, 75.59999999999997, 72.39999999999996, 80.19999999999997, 86.99999999999996, 86.19999999999997, 67.19999999999997, 82.39999999999995, 81.99999999999996, 74.59999999999998, 81.39999999999996, 70.99999999999996, 79.99999999999996, 84.59999999999998, 85.79999999999995, 75.59999999999997, 83.19999999999996]\n",
            "[0.0, 0.06930693069306931, 0.06965174129353234, 0.07308970099667775, 0.0798004987531172, 0.07584830339321358, 0.07986688851913477, 0.07845934379457917, 0.07740324594257178, 0.07769145394006659, 0.07992007992007992, 0.08174386920980926, 0.08076602830974189, 0.08147578785549578, 0.08208422555317631, 0.08061292471685542, 0.08119925046845722, 0.07995296884185774, 0.08051082731815658, 0.07943187795896896, 0.07946026986506746, 0.0794859590671109, 0.07905497501135847, 0.07866145154280747, 0.07663473552686381, 0.07796881247501, 0.07689350249903883, 0.0777489818585709, 0.07747233131024633, 0.07859358841778696, 0.07830723092302566, 0.07900677200902935, 0.07810059356451109, 0.07815813389881854, 0.07733019700088209, 0.07626392459297343, 0.07636767564565398, 0.07592542556065929, 0.07629571165482768, 0.0758779800051269, 0.07523119220194951, 0.07510363326018045, 0.07474410854558439, 0.07463380609160661, 0.07407407407407407, 0.07465007776049767, 0.074983699195827, 0.07572856838970432, 0.07560924807331806, 0.07590287696388492, 0.07598480303939212, 0.07684767692609293, 0.07710055758507979, 0.07790982833427655, 0.07831882984632475, 0.07798582075986184, 0.07766470273165506, 0.07700403437993335, 0.0770556800551629, 0.07693611252330114, 0.07715380769871688, 0.07703655138501884, 0.07676181261086922, 0.07760672909062054, 0.07780034369629746, 0.07721888940163052, 0.07786698985002273, 0.07760035815549918, 0.0777826790177915, 0.0778148094479061, 0.07856020568490216, 0.07801718067877764, 0.07873906401888627, 0.07861936720997123, 0.07877313876503175, 0.07878949473403546, 0.07867385870280226, 0.07921049214387742, 0.07883604666068453, 0.07910391089735476, 0.07836520434945632, 0.0787557091717072, 0.0787708815998049, 0.07914709071196241, 0.07891917628853708, 0.07916715680508175, 0.07929310545285433, 0.07918630042523848, 0.07930916941256676, 0.07920458375463431, 0.0791023219642262, 0.079002307438743, 0.0790131507444843, 0.07945382216965918, 0.07924688862886926, 0.07925481528260184, 0.07947088844911988, 0.07927017833213071, 0.07958371594735231, 0.07948692051307948, 0.0795920407959204, 0.0794970794970795, 0.07989412802666405, 0.08018638967090573, 0.08047303143928468, 0.08075421388439197, 0.08093576077728516, 0.0812073637977759, 0.08101101749837979, 0.08100174295936152, 0.08108353786019452, 0.08143410503558238, 0.0814213016694938, 0.08105477391381294, 0.08095781071835804, 0.0810364316146422, 0.08119989656064132, 0.0811041791299889, 0.08101008389119566, 0.08091756995210486, 0.08107657695192068, 0.08131559375258243, 0.08122285058601754, 0.0813754979269978, 0.08160632207080074, 0.08175345972322214, 0.08205697960479327, 0.08204078419022125, 0.0818686040153113, 0.08185411983567166, 0.08153218983155142, 0.08159682466987253, 0.08143322475570032, 0.08149763175701075, 0.08163569882844564, 0.08191985778831197, 0.08205279023601206, 0.0819648200861251, 0.08173320773856967, 0.08157686497374289, 0.0814941789872152, 0.08169633359336217, 0.08140271811844237, 0.08139290958674218, 0.08152211651968613, 0.08164954141093718, 0.08163824395589343, 0.08142303244677233, 0.08134585500979663, 0.08133682303201127, 0.0810612625824945, 0.08118667637904775, 0.08111308466548253, 0.08117116528331482, 0.08135835335367833, 0.08160763821688924, 0.08134093968335362, 0.08126870899942679, 0.08132396683754192, 0.08137852965222313, 0.08143241047434535, 0.08142351406744923, 0.08141472748595766, 0.08122201091957548, 0.08121456008779952, 0.08108599478819466, 0.0810794530449973, 0.08101311298724627, 0.08112612344503303, 0.08111946038695936, 0.08099523557437797, 0.08110636804865212, 0.08121620835997907, 0.08126697878735334, 0.08143210160335614, 0.0815953374092909, 0.08169990341457872, 0.08157731201627026, 0.08156845121060614, 0.08144796380090498, 0.08132881506582967, 0.08154245621788851, 0.0816988077578155, 0.08163488333970821, 0.08162599858703332, 0.08140100535106211, 0.08128595236815225, 0.0811186567563232, 0.0813786500718047, 0.08121263425215597, 0.0812062523025104, 0.08093817077639914, 0.08082912348315192, 0.08087663851613906, 0.0809752074635328, 0.08097020665606892, 0.08116932809550532, 0.08106187503172428, 0.08090500479773749, 0.08100095472589317, 0.08144592770361482, 0.08158798069747773, 0.08162962229592595, 0.08162159499532043, 0.08166266359492182, 0.08160577532803277, 0.08154943934760449, 0.08183179556543162, 0.0819191385029566, 0.08190995646141333, 0.0819484786438741, 0.08179707122885171, 0.08188293005046932, 0.081921036571053, 0.08205224054950704, 0.08213571461792475, 0.08194065089579186, 0.08197778904197964, 0.08178523920921059, 0.08159444774211223, 0.08167810554065724, 0.08162526582507579, 0.08170803116976713, 0.08165553114210125, 0.08151421811526272, 0.08168525843295854, 0.08150081854785186, 0.08158230914937668, 0.08148765405026095, 0.08165582288983014, 0.08151819486109299, 0.0812951820267521, 0.08128959958622473, 0.08106948199648084, 0.08110764497243708, 0.08101782902855198, 0.08088640311851193, 0.08096704780389014, 0.08087895466577034, 0.08070792017070415, 0.08045498104245656, 0.08049458528691755, 0.08040990041733813, 0.08061396650343607, 0.0807753780582763, 0.08089465736092405, 0.08101296695256291, 0.08092789765596535, 0.0808838353292206, 0.08096060399180756, 0.08107675692972281, 0.08083343293095893, 0.08083012578865918, 0.08098494130666772, 0.08105980079524429, 0.08097721657974197, 0.08101246045076364, 0.08108633905295513, 0.08100461222433239, 0.08103934211034323, 0.080958424675974, 0.08083981456649171, 0.08083660928972176, 0.08075738565073572, 0.08052725275557744, 0.08052526319761519, 0.080523288598173, 0.08040897344668739, 0.08051938360508937, 0.08055462622207353, 0.08051553646161254, 0.08055053319065718, 0.0805485092459836, 0.08050987143328084, 0.08061749571183534, 0.0806879749827279, 0.08061302126734539, 0.08043030937511281, 0.08042876155533973, 0.08046306583993405, 0.08031856005142674, 0.08028184050389665, 0.08028084110492535, 0.08024451432811562, 0.08034928347593395, 0.08045331742745869, 0.08045173245690711, 0.08048500052262987, 0.08065692163466547, 0.08065464862807516, 0.08061790972725079, 0.08065014947939933, 0.08064792301633505, 0.08064571175045221, 0.08064351552668277, 0.08043795125588964, 0.08033512381338469, 0.08030032658833036, 0.08036643065668937, 0.08056586736229558, 0.0807639745341822, 0.08079465798478457, 0.08069269229495712, 0.08069040625721924, 0.08062234794908062, 0.08068587915150323, 0.08068363778961472, 0.08090941663138008, 0.08103632998928606, 0.08083880780557264, 0.08090061610915777, 0.08086556702356837, 0.0808307426044037, 0.08086003642056164, 0.08085729753829496, 0.0809180660931399, 0.08078858263978989, 0.08065991609097505, 0.08062639539637119, 0.08074981975486661, 0.08074747664135495, 0.08055823806111959, 0.08046333964783703, 0.08052382279186403, 0.08049134285978828, 0.08055136765022615, 0.08051900248458636, 0.08054799547414453, 0.08057681168257065, 0.08054466429591806, 0.08054301384806521, 0.08048095223709253, 0.08056986235354356, 0.08053812197831897, 0.08050657165953115, 0.08047520969523297, 0.0803845123657034, 0.08035369870330257, 0.08041182213543978, 0.08049910032152444, 0.0806152760212935, 0.08058414709246063, 0.08064091693225345, 0.08069735576222267, 0.08057905293450772, 0.08075128257151967, 0.08089361579145112, 0.08091985821734243, 0.08097468463549898, 0.08091458697458526, 0.08091197394360161, 0.0809948434517535, 0.08099201727223658, 0.0811025183422566, 0.08090166944436598, 0.08084279316075603, 0.08084042583073509, 0.08081006134281953, 0.08072400212284574, 0.08072198546001504, 0.08071998000055554, 0.08077338577878729, 0.0805778845888235, 0.08057629266411394, 0.08054723771324963, 0.08057313498260321, 0.08065353405644654, 0.08062450614424675, 0.08059563598815249, 0.08062112137882442, 0.08061944271776439, 0.08061777310584621, 0.08064299346791753, 0.08056084287284523, 0.08055934333306596, 0.0805311858350444, 0.08052977314433127, 0.08066099042465717, 0.08068569614560461, 0.08063111791245614, 0.08070840241046288, 0.08075903519592662, 0.0806785162692076, 0.08067674473251352, 0.08059685945678498, 0.08069920261811382, 0.08061967306546462, 0.08064391101005142, 0.08069379655163526, 0.08066630677874605, 0.08074151944821928, 0.08068847344057696, 0.08076324583556542, 0.08081219307396759, 0.08078475165604934, 0.08080808080808081, 0.08075553647635161, 0.08077882169214881, 0.08090248988718876, 0.08090022806445954, 0.08094797630059249, 0.0809456123288696, 0.08096813512101689, 0.08101535942036178, 0.08098809435410015, 0.08096096392681662, 0.08088470727321988, 0.08088253359868308, 0.08085586137594666, 0.08087821813647587, 0.08092485549132948, 0.080898274981144, 0.08084755224387757, 0.0809423500641631, 0.08096422791720007, 0.08105828775210236, 0.08105574385231125, 0.0811491331143138, 0.08117030693045621, 0.08121524545953557, 0.08111711625913669, 0.0810669580295005, 0.08108812587379446, 0.08106191342994255, 0.08098865592792623, 0.08093927201712901, 0.08089011995023591, 0.08091145406430762, 0.08086259666830214, 0.08088389548029183, 0.08081207413781075, 0.08081019001879307, 0.0808314622346705, 0.08087573035264775, 0.08085067164351052, 0.08080274016689272, 0.08086970482328387, 0.08082194915448158, 0.08082007260108216, 0.08081820459670623, 0.08086179859548646, 0.0808598444479717, 0.08085789914255334, 0.08081081691158214, 0.08087655683430553, 0.08085211568279364, 0.08080536310845049, 0.08080356144157849, 0.0808464096783554, 0.0808445246208325, 0.08082042621275083, 0.0808186071262278, 0.08086104289728104, 0.08079291847862079, 0.08072509416092156, 0.08065756796553922, 0.08072191399311418, 0.08074221570643969, 0.08069692801467217, 0.0807171957037973, 0.0807156366165953, 0.08069239278974426, 0.08060431592389775, 0.08066780415109825, 0.08064481368936015, 0.08062192210920195, 0.08070642260895688, 0.08074773559452689, 0.08076750496784257, 0.08087247606660838, 0.0809557243462905, 0.08097492622237319, 0.08088811677718692, 0.08094966279782669, 0.0809476593320816, 0.08094566430180418, 0.08098569357786602, 0.0809836271776273, 0.08093972929436623, 0.0810003966514269, 0.08093581383721173, 0.08087149955302385, 0.08089043795771872, 0.08090929794414194, 0.08088675853804674, 0.08086431207603967, 0.08088310940104113, 0.08090182953122113, 0.08092047294112825, 0.08097993906055091, 0.08097793922573009, 0.08099631372069815, 0.08109591268470152, 0.0811139733473966, 0.0810712333758426, 0.08114987576008566, 0.08116771839277434, 0.08114524858654755, 0.08108270918254654, 0.08104046011101981, 0.08105837883242335, 0.08097642761621525, 0.08091472281428656, 0.08093278463648834, 0.08099045653856074, 0.0810082968654086, 0.08104582913381159, 0.08108321334884913, 0.08106139642920415, 0.08102001925305986, 0.08097880433716986, 0.08091818164028101, 0.08087732661471456, 0.08099257324418627, 0.08099064220540457, 0.08096930156695986, 0.08088990523439468, 0.08094620993791223, 0.08100229725294879, 0.08100036608157839, 0.08092152073998576, 0.08090055853054644, 0.08086051991341162, 0.08097359515114434, 0.08095265357531345, 0.0809508390316375, 0.08094903138723598, 0.08090928065881103, 0.08092649760421204, 0.08090584298973555, 0.08092300145280278, 0.08092126325304608, 0.08095712486607394, 0.08089904504605917, 0.08093481395479485, 0.08091437543223491, 0.08085670043469338, 0.08085510511908531, 0.08087210274901953, 0.08085193224615499, 0.08081331827188386, 0.08073787915195653, 0.08081031715282005, 0.08077199314929744, 0.08082572011543905, 0.08082420506045761, 0.0809692130180766, 0.0809125975759127, 0.08092918012445029, 0.0809639168685452, 0.08087125688623843, 0.0808515271955137, 0.08088621582942337, 0.08086653044248748, 0.08090106676774787, 0.08082737247977514, 0.08078991385047031, 0.0808603077144037, 0.08089460762351929, 0.08089300728072843, 0.08087355582936019, 0.08092547369922105, 0.08090603370046796, 0.08099323280225929, 0.08100920196450417, 0.08091892178899489, 0.08089963074857334, 0.08089804412620588, 0.08084364711888875, 0.08080701569392454, 0.0807880563498886, 0.08069911209961296, 0.08071537210887922, 0.08078393047241758, 0.08085224996080208, 0.0808681588146293, 0.08084929081092342, 0.08086514965078595, 0.08081175066175325, 0.08079307783976097, 0.08073998724159928, 0.0807215022116659, 0.0807030807030807, 0.0807190271178882, 0.08073491892262119, 0.08073366267243295, 0.08071534615450249, 0.08073116301255515, 0.08074692607268584, 0.08074565796845555, 0.08084608735445162, 0.08084465575878581, 0.08075877096670664, 0.08077435456400398, 0.08084038989242605, 0.08085578393640443, 0.08085434808140803, 0.08081941676018828, 0.08081804652096118, 0.08083337506886362, 0.08081531974467092, 0.08078068584549342, 0.08074616700719257, 0.0807615130760684, 0.08074369629641893, 0.08080858167633592, 0.08080724740515834, 0.0807400207574834, 0.0807716978339172, 0.0807704306990033, 0.08078556089244439, 0.08073517618369584, 0.08078299374193232, 0.08074909055317206, 0.08071529779645283, 0.08069787483130356, 0.08074544244411616, 0.08076044148393056, 0.08084011585573049, 0.0807418296958046, 0.08078901953194303, 0.08078774898954928, 0.08086686709216893, 0.08091362899471918, 0.08094421563756991, 0.08094270491672133, 0.08092522483666395, 0.08089185180459642, 0.08090635499434723, 0.08092081206976041, 0.08096696877827336, 0.08104467441086512, 0.0810746665400864, 0.08108876637019952, 0.08108704910017192, 0.08106958945528417, 0.08113079983019135, 0.08120751636552016, 0.08120562373630508, 0.08118808782335175, 0.08118623146513336, 0.08127798318278966, 0.08126041650441582, 0.08132066375328532, 0.08130308535581746, 0.081332072370971, 0.08131453073481834, 0.08125067618738505, 0.08132590546442185, 0.08129304633210582, 0.08133721019676621, 0.08133515614199474, 0.08140979432830785, 0.08134638060672884, 0.08134432195226372, 0.08132700264118105, 0.08132497980213717, 0.08139906546323496, 0.08141213659366879, 0.08137964522541388, 0.08139270617111861, 0.08140572759867476, 0.08138849866316218, 0.08135623897075459, 0.0813692564871011, 0.08135216011789297, 0.08136514466749749, 0.08139308256248032, 0.08142093681232317, 0.08144870779211073, 0.0813868449724631, 0.08141458398533553, 0.08138271751908453, 0.08141038023209164, 0.08139345113573983, 0.08136175760359106, 0.08143370660197334, 0.08146113055937135, 0.08141472839633633, 0.08139791755644246, 0.08138115615946824, 0.08132039177104594, 0.08133311828272313, 0.0813165253803019, 0.08129998099442991, 0.0813418782207559, 0.08132534511158729, 0.08133797179080363, 0.08127788840278484, 0.08121797941974718, 0.0811727366270054, 0.08119998263411528, 0.08116934726376787, 0.08119651953074271, 0.08122361349260097, 0.0812506294873455, 0.08126320024137584, 0.08120399994261202, 0.0811736221544104, 0.0812005550707429, 0.0811702689961572, 0.08111153906506327, 0.0810957108873093, 0.08110837683674485, 0.08113521114756893, 0.08106267996198635, 0.0810611747708956, 0.08103138569468607, 0.08102992895580571, 0.08104258049956982, 0.0810129434796693, 0.08096932532594478, 0.08105223241246612, 0.08102270655390527, 0.08106329043010602, 0.0810058600579013, 0.08103238781581262, 0.0810030543507064, 0.08100165735853261, 0.0810002642522357, 0.08102665240760545, 0.08105296736522379, 0.08103765875818894, 0.081050054632716, 0.08115910001243076, 0.08124025875505166, 0.08129364609302903, 0.08125060177989299, 0.08123514786884796, 0.08127460528662159, 0.08130025616087451, 0.08132583685585697, 0.0812967035969454, 0.08128129220610905, 0.0812522990149998, 0.0812233847158542, 0.0812488960747816, 0.08123363319357946, 0.08121841167463856, 0.08121676296667163, 0.0812691720382157, 0.08133493475121793, 0.08131965876470668, 0.08139863528081721, 0.08139675541995403, 0.08138145796700716, 0.08143322475570032, 0.0814580795437812, 0.08141602384994853, 0.08138743140946049, 0.08134558205890588, 0.08134379036231208, 0.08135530112631481, 0.08134022124540179, 0.08137823105794353, 0.08142938504125773, 0.08141426700705016, 0.0813331395886448, 0.08134457329058983, 0.08134280180761781, 0.08138050815120854, 0.08136555367209367, 0.08131126888098582, 0.0813619742860513, 0.08133401395269696, 0.08135841361550829, 0.08136969491259906, 0.08143309735205538, 0.08139216937279463, 0.08139035903304248, 0.08131063232945027, 0.08132190243965708, 0.0813201901529773, 0.08125380008020595, 0.08122634074495162, 0.08122475839021431, 0.08115874795427894, 0.08109290742718885, 0.08106579606945927, 0.081090101539133, 0.0810758836425174, 0.08107450608827031, 0.0810859196173962, 0.0810973039935633, 0.0810703945102741, 0.08101807620285092, 0.08105494841032557, 0.08109172691579522, 0.08110303168741513, 0.08108895958226131, 0.0810875811698586, 0.08106092211223626, 0.08105958258102802, 0.0810582464281661, 0.08109469654034585, 0.08109331958088578, 0.0810668207685833, 0.08106548223987152, 0.0810892094084034, 0.08107533072176819, 0.08102398720015999, 0.081022708830102, 0.08105883966534083, 0.08106997422198976, 0.0810437681123369, 0.08103004931615757, 0.08104117814915447, 0.0810646708219229, 0.08113760968304848, 0.08113620350799125, 0.08108541869853458, 0.0811087409526393, 0.08110737552493195, 0.08111831342787912, 0.08108008501124064, 0.08109102955791954, 0.08107743777649784, 0.08110059852388588, 0.08106257869708194, 0.0810979108924189, 0.08108437701979244, 0.08107087611600346, 0.0810452427586039, 0.08099537065163243, 0.08100629846725162, 0.08099295766111926, 0.0809433299838985, 0.08097846458930363, 0.08096520573423026, 0.08096404144702718, 0.08093878387007386, 0.08096172127892565, 0.08097258446412904, 0.080971416909761, 0.08099423268306136, 0.08095711428605645, 0.08090812310857526, 0.08090703814769239, 0.08090595577618405, 0.08088103836664641, 0.08092760800466661, 0.08093839550064803, 0.08097291006045058, 0.08097175596968008, 0.08099430101539082, 0.0810167927006781, 0.08101559083225966, 0.08101439180174969, 0.08100140328533861, 0.08100022379006136, 0.08104610533993718, 0.0810448760884126, 0.08103191277097686, 0.0810424262318144, 0.08100607721221063, 0.08094642167927861, 0.08096868027242672, 0.08095588149496505, 0.08091980279950117, 0.08090709072071338, 0.08089440820455576, 0.08096305501678261, 0.08093873620955673, 0.08090288640919573, 0.08087869353363966, 0.08086611715471498, 0.08083047539866745, 0.0808295175372833, 0.08081704127832628, 0.0807815790382159, 0.08079217480258848, 0.08080274623712701, 0.08082476118393138, 0.0808581803186676, 0.08089152298028626, 0.08091336099016011, 0.08093514914213308, 0.08093408284968244, 0.08089885081035524, 0.08095471041285082, 0.081010443063147, 0.08103199736665873, 0.08103082731488305, 0.08108628441354004, 0.0811303039558376, 0.08119682263477249, 0.08115032561709236, 0.08117157641965705, 0.08117025709169942, 0.08115769226442897, 0.08110021235716453, 0.08113264722056991, 0.08113137745092544, 0.08110771435930168, 0.08110647531906802, 0.08113875822616506, 0.08112632671510363, 0.08113621921717706, 0.08109041101992183, 0.08108919811792972, 0.0811213208742125, 0.08109787904684743, 0.08115209365749826, 0.08118404004385334, 0.08121591575314432, 0.08124772101965724, 0.08123530645357115, 0.08123394449895811, 0.08128765101705929, 0.08128623447486827, 0.08129580993615455, 0.08126145706413761, 0.08124910911064571, 0.08128059933626137, 0.08122449426155075, 0.08120129834646615, 0.08117815307693148, 0.08124229833916752, 0.08125183821526999, 0.08128311987900023, 0.08128172519863915, 0.08135633706474414, 0.08134402012993351, 0.08136423224017074, 0.08137357820802806, 0.08141533605042107, 0.08142460664571657, 0.08143385723994348, 0.0814215364058577, 0.08143077038998504, 0.08137546908097762, 0.08133102759368857, 0.08129741097198528, 0.08127458440959905, 0.08128392629629233, 0.0812611629822141, 0.08129186653988739, 0.08126914333891848, 0.08127845118921972, 0.08128773921470485, 0.08128636929394369, 0.08126374852552046, 0.08126240698081762, 0.08133529867127602, 0.08134447728307963, 0.08137480026666384, 0.08141562985592118, 0.08146693276734142, 0.08142319173848377, 0.08141115478235214, 0.08136756455195208, 0.08135561140261406, 0.08139620382138843, 0.08139473877503908, 0.0814247230112892, 0.08140228898126721, 0.08137990188387151, 0.08134711236037241, 0.08132482959468064, 0.08130259329933995, 0.08131165300361455, 0.08133109957232496, 0.08131932100497916, 0.08128679868329508, 0.0812647171709837, 0.08124268142299043, 0.08125174687632633, 0.08126079358021117, 0.0812594911209595, 0.08128915078275765, 0.08131874929124443, 0.08130709261490612, 0.08130574788325223, 0.08130440591566376, 0.08128253303354176, 0.08132224284879129, 0.08133113390231657, 0.0813297714455328, 0.08130796208627723, 0.08130662608144963, 0.08128488484811379, 0.08125299436295247, 0.08120080243582041, 0.08120975371562852, 0.08122884930031199, 0.08125805829382443, 0.08124664050060344, 0.0812048510146807, 0.08117326747704982, 0.08123274789941456, 0.08121130089595055, 0.08118989717560872, 0.08121893932520842, 0.08120764141348023, 0.08124666753855594, 0.08124541461894855, 0.08122408409554122, 0.08119276637145063, 0.08121161110610114, 0.08118036856487923]\n"
          ]
        }
      ]
    },
    {
      "cell_type": "code",
      "source": [],
      "metadata": {
        "id": "tTCN1iWgLsIe"
      },
      "execution_count": null,
      "outputs": []
    },
    {
      "cell_type": "code",
      "source": [],
      "metadata": {
        "id": "qA_jhMlfLsQT"
      },
      "execution_count": null,
      "outputs": []
    }
  ],
  "metadata": {
    "colab": {
      "provenance": []
    },
    "kernelspec": {
      "display_name": "Python 3",
      "name": "python3"
    },
    "language_info": {
      "name": "python"
    }
  },
  "nbformat": 4,
  "nbformat_minor": 0
}