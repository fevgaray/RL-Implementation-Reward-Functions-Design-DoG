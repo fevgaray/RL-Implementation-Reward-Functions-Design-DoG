{
  "cells": [
    {
      "cell_type": "markdown",
      "metadata": {
        "id": "xuBdhTB1lLEG"
      },
      "source": [
        "# Instalación:\n",
        "\n",
        "\n",
        "### Las primeras 3 celdas solo se ejecutan 1 vez\n",
        "\n",
        "\n"
      ]
    },
    {
      "cell_type": "code",
      "execution_count": null,
      "metadata": {
        "colab": {
          "base_uri": "https://localhost:8080/",
          "height": 235
        },
        "id": "0as1tIllSCtg",
        "outputId": "0469c245-427a-4cee-f483-63ee8539544c"
      },
      "outputs": [
        {
          "output_type": "stream",
          "name": "stdout",
          "text": [
            "Drive already mounted at /content/drive; to attempt to forcibly remount, call drive.mount(\"/content/drive\", force_remount=True).\n"
          ]
        },
        {
          "output_type": "error",
          "ename": "FileExistsError",
          "evalue": "ignored",
          "traceback": [
            "\u001b[0;31m---------------------------------------------------------------------------\u001b[0m",
            "\u001b[0;31mFileExistsError\u001b[0m                           Traceback (most recent call last)",
            "\u001b[0;32m<ipython-input-26-c54f6f741097>\u001b[0m in \u001b[0;36m<cell line: 6>\u001b[0;34m()\u001b[0m\n\u001b[1;32m      4\u001b[0m \u001b[0mdrive\u001b[0m\u001b[0;34m.\u001b[0m\u001b[0mmount\u001b[0m\u001b[0;34m(\u001b[0m\u001b[0;34m'/content/drive'\u001b[0m\u001b[0;34m)\u001b[0m\u001b[0;34m\u001b[0m\u001b[0;34m\u001b[0m\u001b[0m\n\u001b[1;32m      5\u001b[0m \u001b[0mnb_path\u001b[0m \u001b[0;34m=\u001b[0m \u001b[0;34m'/content/notebooks'\u001b[0m\u001b[0;34m\u001b[0m\u001b[0;34m\u001b[0m\u001b[0m\n\u001b[0;32m----> 6\u001b[0;31m \u001b[0mos\u001b[0m\u001b[0;34m.\u001b[0m\u001b[0msymlink\u001b[0m\u001b[0;34m(\u001b[0m\u001b[0;34m'/content/drive/My Drive/DREAMONGYM/Colab Notebooks'\u001b[0m\u001b[0;34m,\u001b[0m \u001b[0mnb_path\u001b[0m\u001b[0;34m)\u001b[0m\u001b[0;34m\u001b[0m\u001b[0;34m\u001b[0m\u001b[0m\n\u001b[0m\u001b[1;32m      7\u001b[0m \u001b[0msys\u001b[0m\u001b[0;34m.\u001b[0m\u001b[0mpath\u001b[0m\u001b[0;34m.\u001b[0m\u001b[0minsert\u001b[0m\u001b[0;34m(\u001b[0m\u001b[0;36m0\u001b[0m\u001b[0;34m,\u001b[0m\u001b[0mnb_path\u001b[0m\u001b[0;34m)\u001b[0m\u001b[0;34m\u001b[0m\u001b[0;34m\u001b[0m\u001b[0m\n",
            "\u001b[0;31mFileExistsError\u001b[0m: [Errno 17] File exists: '/content/drive/My Drive/DREAMONGYM/Colab Notebooks' -> '/content/notebooks'"
          ]
        }
      ],
      "source": [
        "import os, sys\n",
        "from google.colab import drive\n",
        "\n",
        "drive.mount('/content/drive')\n",
        "nb_path = '/content/notebooks'\n",
        "os.symlink('/content/drive/My Drive/DREAMONGYM/Colab Notebooks', nb_path)\n",
        "sys.path.insert(0,nb_path)"
      ]
    },
    {
      "cell_type": "markdown",
      "metadata": {
        "id": "xF_sIV7wlZst"
      },
      "source": [
        "## Instalación de biblioteca Stable Baseline\n",
        "\n",
        "\n",
        "\n",
        "### Biblioteca que contiene los modelos\n"
      ]
    },
    {
      "cell_type": "code",
      "execution_count": null,
      "metadata": {
        "colab": {
          "base_uri": "https://localhost:8080/"
        },
        "id": "U_jlT-dRZZIH",
        "outputId": "81e15640-3b48-4d14-fd87-292ba4b43b55"
      },
      "outputs": [
        {
          "output_type": "stream",
          "name": "stdout",
          "text": [
            "Collecting git+https://github.com/Stable-Baselines-Team/stable-baselines3-contrib\n",
            "  Cloning https://github.com/Stable-Baselines-Team/stable-baselines3-contrib to /tmp/pip-req-build-tzcqvoee\n",
            "  Running command git clone --filter=blob:none --quiet https://github.com/Stable-Baselines-Team/stable-baselines3-contrib /tmp/pip-req-build-tzcqvoee\n",
            "  Resolved https://github.com/Stable-Baselines-Team/stable-baselines3-contrib to commit 707cb0f9cd9104c989a3e4d4cf30965b64ca7339\n",
            "  Installing build dependencies ... \u001b[?25l\u001b[?25hdone\n",
            "  Getting requirements to build wheel ... \u001b[?25l\u001b[?25hdone\n",
            "  Preparing metadata (pyproject.toml) ... \u001b[?25l\u001b[?25hdone\n",
            "Requirement already satisfied: stable-baselines3<3.0,>=2.2.1 in /usr/local/lib/python3.10/dist-packages (from sb3-contrib==2.2.1) (2.2.1)\n",
            "Requirement already satisfied: gymnasium<0.30,>=0.28.1 in /usr/local/lib/python3.10/dist-packages (from stable-baselines3<3.0,>=2.2.1->sb3-contrib==2.2.1) (0.29.1)\n",
            "Requirement already satisfied: numpy>=1.20 in /usr/local/lib/python3.10/dist-packages (from stable-baselines3<3.0,>=2.2.1->sb3-contrib==2.2.1) (1.23.5)\n",
            "Requirement already satisfied: torch>=1.13 in /usr/local/lib/python3.10/dist-packages (from stable-baselines3<3.0,>=2.2.1->sb3-contrib==2.2.1) (2.1.0+cu118)\n",
            "Requirement already satisfied: cloudpickle in /usr/local/lib/python3.10/dist-packages (from stable-baselines3<3.0,>=2.2.1->sb3-contrib==2.2.1) (2.2.1)\n",
            "Requirement already satisfied: pandas in /usr/local/lib/python3.10/dist-packages (from stable-baselines3<3.0,>=2.2.1->sb3-contrib==2.2.1) (1.5.3)\n",
            "Requirement already satisfied: matplotlib in /usr/local/lib/python3.10/dist-packages (from stable-baselines3<3.0,>=2.2.1->sb3-contrib==2.2.1) (3.7.1)\n",
            "Requirement already satisfied: typing-extensions>=4.3.0 in /usr/local/lib/python3.10/dist-packages (from gymnasium<0.30,>=0.28.1->stable-baselines3<3.0,>=2.2.1->sb3-contrib==2.2.1) (4.5.0)\n",
            "Requirement already satisfied: farama-notifications>=0.0.1 in /usr/local/lib/python3.10/dist-packages (from gymnasium<0.30,>=0.28.1->stable-baselines3<3.0,>=2.2.1->sb3-contrib==2.2.1) (0.0.4)\n",
            "Requirement already satisfied: filelock in /usr/local/lib/python3.10/dist-packages (from torch>=1.13->stable-baselines3<3.0,>=2.2.1->sb3-contrib==2.2.1) (3.13.1)\n",
            "Requirement already satisfied: sympy in /usr/local/lib/python3.10/dist-packages (from torch>=1.13->stable-baselines3<3.0,>=2.2.1->sb3-contrib==2.2.1) (1.12)\n",
            "Requirement already satisfied: networkx in /usr/local/lib/python3.10/dist-packages (from torch>=1.13->stable-baselines3<3.0,>=2.2.1->sb3-contrib==2.2.1) (3.2.1)\n",
            "Requirement already satisfied: jinja2 in /usr/local/lib/python3.10/dist-packages (from torch>=1.13->stable-baselines3<3.0,>=2.2.1->sb3-contrib==2.2.1) (3.1.2)\n",
            "Requirement already satisfied: fsspec in /usr/local/lib/python3.10/dist-packages (from torch>=1.13->stable-baselines3<3.0,>=2.2.1->sb3-contrib==2.2.1) (2023.6.0)\n",
            "Requirement already satisfied: triton==2.1.0 in /usr/local/lib/python3.10/dist-packages (from torch>=1.13->stable-baselines3<3.0,>=2.2.1->sb3-contrib==2.2.1) (2.1.0)\n",
            "Requirement already satisfied: contourpy>=1.0.1 in /usr/local/lib/python3.10/dist-packages (from matplotlib->stable-baselines3<3.0,>=2.2.1->sb3-contrib==2.2.1) (1.2.0)\n",
            "Requirement already satisfied: cycler>=0.10 in /usr/local/lib/python3.10/dist-packages (from matplotlib->stable-baselines3<3.0,>=2.2.1->sb3-contrib==2.2.1) (0.12.1)\n",
            "Requirement already satisfied: fonttools>=4.22.0 in /usr/local/lib/python3.10/dist-packages (from matplotlib->stable-baselines3<3.0,>=2.2.1->sb3-contrib==2.2.1) (4.44.3)\n",
            "Requirement already satisfied: kiwisolver>=1.0.1 in /usr/local/lib/python3.10/dist-packages (from matplotlib->stable-baselines3<3.0,>=2.2.1->sb3-contrib==2.2.1) (1.4.5)\n",
            "Requirement already satisfied: packaging>=20.0 in /usr/local/lib/python3.10/dist-packages (from matplotlib->stable-baselines3<3.0,>=2.2.1->sb3-contrib==2.2.1) (23.2)\n",
            "Requirement already satisfied: pillow>=6.2.0 in /usr/local/lib/python3.10/dist-packages (from matplotlib->stable-baselines3<3.0,>=2.2.1->sb3-contrib==2.2.1) (9.4.0)\n",
            "Requirement already satisfied: pyparsing>=2.3.1 in /usr/local/lib/python3.10/dist-packages (from matplotlib->stable-baselines3<3.0,>=2.2.1->sb3-contrib==2.2.1) (3.1.1)\n",
            "Requirement already satisfied: python-dateutil>=2.7 in /usr/local/lib/python3.10/dist-packages (from matplotlib->stable-baselines3<3.0,>=2.2.1->sb3-contrib==2.2.1) (2.8.2)\n",
            "Requirement already satisfied: pytz>=2020.1 in /usr/local/lib/python3.10/dist-packages (from pandas->stable-baselines3<3.0,>=2.2.1->sb3-contrib==2.2.1) (2023.3.post1)\n",
            "Requirement already satisfied: six>=1.5 in /usr/local/lib/python3.10/dist-packages (from python-dateutil>=2.7->matplotlib->stable-baselines3<3.0,>=2.2.1->sb3-contrib==2.2.1) (1.16.0)\n",
            "Requirement already satisfied: MarkupSafe>=2.0 in /usr/local/lib/python3.10/dist-packages (from jinja2->torch>=1.13->stable-baselines3<3.0,>=2.2.1->sb3-contrib==2.2.1) (2.1.3)\n",
            "Requirement already satisfied: mpmath>=0.19 in /usr/local/lib/python3.10/dist-packages (from sympy->torch>=1.13->stable-baselines3<3.0,>=2.2.1->sb3-contrib==2.2.1) (1.3.0)\n"
          ]
        }
      ],
      "source": [
        "!pip install --target=$nb_path git+https://github.com/Stable-Baselines-Team/stable-baselines3-contrib"
      ]
    },
    {
      "cell_type": "markdown",
      "metadata": {
        "id": "ZBLhpjZZlmfG"
      },
      "source": [
        "## Instalación del Dream On Gym\n",
        "\n",
        "### Contiene el ambiente de redes opticas y el simulador"
      ]
    },
    {
      "cell_type": "code",
      "execution_count": null,
      "metadata": {
        "colab": {
          "base_uri": "https://localhost:8080/"
        },
        "id": "aKS63K7QsAIn",
        "outputId": "634d0026-9eca-47b1-affd-d21876015a7d"
      },
      "outputs": [
        {
          "output_type": "stream",
          "name": "stdout",
          "text": [
            "Requirement already satisfied: dream-on-gym-v2==0.0.6 in /usr/local/lib/python3.10/dist-packages (0.0.6)\n",
            "Requirement already satisfied: numpy in /usr/local/lib/python3.10/dist-packages (from dream-on-gym-v2==0.0.6) (1.23.5)\n",
            "Requirement already satisfied: jsonschema in /usr/local/lib/python3.10/dist-packages (from dream-on-gym-v2==0.0.6) (4.19.2)\n",
            "Requirement already satisfied: gymnasium in /usr/local/lib/python3.10/dist-packages (from dream-on-gym-v2==0.0.6) (0.29.1)\n",
            "Requirement already satisfied: importlib-metadata in /usr/local/lib/python3.10/dist-packages (from dream-on-gym-v2==0.0.6) (6.8.0)\n",
            "Requirement already satisfied: tensorflow==2.12.0 in /usr/local/lib/python3.10/dist-packages (from dream-on-gym-v2==0.0.6) (2.12.0)\n",
            "Requirement already satisfied: protobuf in /usr/local/lib/python3.10/dist-packages (from dream-on-gym-v2==0.0.6) (3.20.3)\n",
            "Requirement already satisfied: stable-baselines3[extra] in /usr/local/lib/python3.10/dist-packages (from dream-on-gym-v2==0.0.6) (2.2.1)\n",
            "Requirement already satisfied: mpi4py in /usr/local/lib/python3.10/dist-packages (from dream-on-gym-v2==0.0.6) (3.1.5)\n",
            "Requirement already satisfied: absl-py>=1.0.0 in /usr/local/lib/python3.10/dist-packages (from tensorflow==2.12.0->dream-on-gym-v2==0.0.6) (1.4.0)\n",
            "Requirement already satisfied: astunparse>=1.6.0 in /usr/local/lib/python3.10/dist-packages (from tensorflow==2.12.0->dream-on-gym-v2==0.0.6) (1.6.3)\n",
            "Requirement already satisfied: flatbuffers>=2.0 in /usr/local/lib/python3.10/dist-packages (from tensorflow==2.12.0->dream-on-gym-v2==0.0.6) (23.5.26)\n",
            "Requirement already satisfied: gast<=0.4.0,>=0.2.1 in /usr/local/lib/python3.10/dist-packages (from tensorflow==2.12.0->dream-on-gym-v2==0.0.6) (0.4.0)\n",
            "Requirement already satisfied: google-pasta>=0.1.1 in /usr/local/lib/python3.10/dist-packages (from tensorflow==2.12.0->dream-on-gym-v2==0.0.6) (0.2.0)\n",
            "Requirement already satisfied: grpcio<2.0,>=1.24.3 in /usr/local/lib/python3.10/dist-packages (from tensorflow==2.12.0->dream-on-gym-v2==0.0.6) (1.59.2)\n",
            "Requirement already satisfied: h5py>=2.9.0 in /usr/local/lib/python3.10/dist-packages (from tensorflow==2.12.0->dream-on-gym-v2==0.0.6) (3.9.0)\n",
            "Requirement already satisfied: jax>=0.3.15 in /usr/local/lib/python3.10/dist-packages (from tensorflow==2.12.0->dream-on-gym-v2==0.0.6) (0.4.20)\n",
            "Requirement already satisfied: keras<2.13,>=2.12.0 in /usr/local/lib/python3.10/dist-packages (from tensorflow==2.12.0->dream-on-gym-v2==0.0.6) (2.12.0)\n",
            "Requirement already satisfied: libclang>=13.0.0 in /usr/local/lib/python3.10/dist-packages (from tensorflow==2.12.0->dream-on-gym-v2==0.0.6) (16.0.6)\n",
            "Requirement already satisfied: opt-einsum>=2.3.2 in /usr/local/lib/python3.10/dist-packages (from tensorflow==2.12.0->dream-on-gym-v2==0.0.6) (3.3.0)\n",
            "Requirement already satisfied: packaging in /usr/local/lib/python3.10/dist-packages (from tensorflow==2.12.0->dream-on-gym-v2==0.0.6) (23.2)\n",
            "Requirement already satisfied: setuptools in /usr/local/lib/python3.10/dist-packages (from tensorflow==2.12.0->dream-on-gym-v2==0.0.6) (67.7.2)\n",
            "Requirement already satisfied: six>=1.12.0 in /usr/local/lib/python3.10/dist-packages (from tensorflow==2.12.0->dream-on-gym-v2==0.0.6) (1.16.0)\n",
            "Requirement already satisfied: tensorboard<2.13,>=2.12 in /usr/local/lib/python3.10/dist-packages (from tensorflow==2.12.0->dream-on-gym-v2==0.0.6) (2.12.3)\n",
            "Requirement already satisfied: tensorflow-estimator<2.13,>=2.12.0 in /usr/local/lib/python3.10/dist-packages (from tensorflow==2.12.0->dream-on-gym-v2==0.0.6) (2.12.0)\n",
            "Requirement already satisfied: termcolor>=1.1.0 in /usr/local/lib/python3.10/dist-packages (from tensorflow==2.12.0->dream-on-gym-v2==0.0.6) (2.3.0)\n",
            "Requirement already satisfied: typing-extensions>=3.6.6 in /usr/local/lib/python3.10/dist-packages (from tensorflow==2.12.0->dream-on-gym-v2==0.0.6) (4.5.0)\n",
            "Requirement already satisfied: wrapt<1.15,>=1.11.0 in /usr/local/lib/python3.10/dist-packages (from tensorflow==2.12.0->dream-on-gym-v2==0.0.6) (1.14.1)\n",
            "Requirement already satisfied: tensorflow-io-gcs-filesystem>=0.23.1 in /usr/local/lib/python3.10/dist-packages (from tensorflow==2.12.0->dream-on-gym-v2==0.0.6) (0.34.0)\n",
            "Requirement already satisfied: cloudpickle>=1.2.0 in /usr/local/lib/python3.10/dist-packages (from gymnasium->dream-on-gym-v2==0.0.6) (2.2.1)\n",
            "Requirement already satisfied: farama-notifications>=0.0.1 in /usr/local/lib/python3.10/dist-packages (from gymnasium->dream-on-gym-v2==0.0.6) (0.0.4)\n",
            "Requirement already satisfied: zipp>=0.5 in /usr/local/lib/python3.10/dist-packages (from importlib-metadata->dream-on-gym-v2==0.0.6) (3.17.0)\n",
            "Requirement already satisfied: attrs>=22.2.0 in /usr/local/lib/python3.10/dist-packages (from jsonschema->dream-on-gym-v2==0.0.6) (23.1.0)\n",
            "Requirement already satisfied: jsonschema-specifications>=2023.03.6 in /usr/local/lib/python3.10/dist-packages (from jsonschema->dream-on-gym-v2==0.0.6) (2023.11.1)\n",
            "Requirement already satisfied: referencing>=0.28.4 in /usr/local/lib/python3.10/dist-packages (from jsonschema->dream-on-gym-v2==0.0.6) (0.31.0)\n",
            "Requirement already satisfied: rpds-py>=0.7.1 in /usr/local/lib/python3.10/dist-packages (from jsonschema->dream-on-gym-v2==0.0.6) (0.13.0)\n",
            "Requirement already satisfied: torch>=1.13 in /usr/local/lib/python3.10/dist-packages (from stable-baselines3[extra]->dream-on-gym-v2==0.0.6) (2.1.0+cu118)\n",
            "Requirement already satisfied: pandas in /usr/local/lib/python3.10/dist-packages (from stable-baselines3[extra]->dream-on-gym-v2==0.0.6) (1.5.3)\n",
            "Requirement already satisfied: matplotlib in /usr/local/lib/python3.10/dist-packages (from stable-baselines3[extra]->dream-on-gym-v2==0.0.6) (3.7.1)\n",
            "Requirement already satisfied: opencv-python in /usr/local/lib/python3.10/dist-packages (from stable-baselines3[extra]->dream-on-gym-v2==0.0.6) (4.8.0.76)\n",
            "Requirement already satisfied: pygame in /usr/local/lib/python3.10/dist-packages (from stable-baselines3[extra]->dream-on-gym-v2==0.0.6) (2.5.2)\n",
            "Requirement already satisfied: psutil in /usr/local/lib/python3.10/dist-packages (from stable-baselines3[extra]->dream-on-gym-v2==0.0.6) (5.9.5)\n",
            "Requirement already satisfied: tqdm in /usr/local/lib/python3.10/dist-packages (from stable-baselines3[extra]->dream-on-gym-v2==0.0.6) (4.66.1)\n",
            "Requirement already satisfied: rich in /usr/local/lib/python3.10/dist-packages (from stable-baselines3[extra]->dream-on-gym-v2==0.0.6) (13.7.0)\n",
            "Requirement already satisfied: shimmy[atari]~=1.3.0 in /usr/local/lib/python3.10/dist-packages (from stable-baselines3[extra]->dream-on-gym-v2==0.0.6) (1.3.0)\n",
            "Requirement already satisfied: pillow in /usr/local/lib/python3.10/dist-packages (from stable-baselines3[extra]->dream-on-gym-v2==0.0.6) (9.4.0)\n",
            "Requirement already satisfied: autorom[accept-rom-license]~=0.6.1 in /usr/local/lib/python3.10/dist-packages (from stable-baselines3[extra]->dream-on-gym-v2==0.0.6) (0.6.1)\n",
            "Requirement already satisfied: wheel<1.0,>=0.23.0 in /usr/local/lib/python3.10/dist-packages (from astunparse>=1.6.0->tensorflow==2.12.0->dream-on-gym-v2==0.0.6) (0.41.3)\n",
            "Requirement already satisfied: click in /usr/local/lib/python3.10/dist-packages (from autorom[accept-rom-license]~=0.6.1->stable-baselines3[extra]->dream-on-gym-v2==0.0.6) (8.1.7)\n",
            "Requirement already satisfied: requests in /usr/local/lib/python3.10/dist-packages (from autorom[accept-rom-license]~=0.6.1->stable-baselines3[extra]->dream-on-gym-v2==0.0.6) (2.31.0)\n",
            "Requirement already satisfied: AutoROM.accept-rom-license in /usr/local/lib/python3.10/dist-packages (from autorom[accept-rom-license]~=0.6.1->stable-baselines3[extra]->dream-on-gym-v2==0.0.6) (0.6.1)\n",
            "Requirement already satisfied: ml-dtypes>=0.2.0 in /usr/local/lib/python3.10/dist-packages (from jax>=0.3.15->tensorflow==2.12.0->dream-on-gym-v2==0.0.6) (0.2.0)\n",
            "Requirement already satisfied: scipy>=1.9 in /usr/local/lib/python3.10/dist-packages (from jax>=0.3.15->tensorflow==2.12.0->dream-on-gym-v2==0.0.6) (1.11.3)\n",
            "Requirement already satisfied: ale-py~=0.8.1 in /usr/local/lib/python3.10/dist-packages (from shimmy[atari]~=1.3.0->stable-baselines3[extra]->dream-on-gym-v2==0.0.6) (0.8.1)\n",
            "Requirement already satisfied: google-auth<3,>=1.6.3 in /usr/local/lib/python3.10/dist-packages (from tensorboard<2.13,>=2.12->tensorflow==2.12.0->dream-on-gym-v2==0.0.6) (2.17.3)\n",
            "Requirement already satisfied: google-auth-oauthlib<1.1,>=0.5 in /usr/local/lib/python3.10/dist-packages (from tensorboard<2.13,>=2.12->tensorflow==2.12.0->dream-on-gym-v2==0.0.6) (1.0.0)\n",
            "Requirement already satisfied: markdown>=2.6.8 in /usr/local/lib/python3.10/dist-packages (from tensorboard<2.13,>=2.12->tensorflow==2.12.0->dream-on-gym-v2==0.0.6) (3.5.1)\n",
            "Requirement already satisfied: tensorboard-data-server<0.8.0,>=0.7.0 in /usr/local/lib/python3.10/dist-packages (from tensorboard<2.13,>=2.12->tensorflow==2.12.0->dream-on-gym-v2==0.0.6) (0.7.2)\n",
            "Requirement already satisfied: werkzeug>=1.0.1 in /usr/local/lib/python3.10/dist-packages (from tensorboard<2.13,>=2.12->tensorflow==2.12.0->dream-on-gym-v2==0.0.6) (3.0.1)\n",
            "Requirement already satisfied: filelock in /usr/local/lib/python3.10/dist-packages (from torch>=1.13->stable-baselines3[extra]->dream-on-gym-v2==0.0.6) (3.13.1)\n",
            "Requirement already satisfied: sympy in /usr/local/lib/python3.10/dist-packages (from torch>=1.13->stable-baselines3[extra]->dream-on-gym-v2==0.0.6) (1.12)\n",
            "Requirement already satisfied: networkx in /usr/local/lib/python3.10/dist-packages (from torch>=1.13->stable-baselines3[extra]->dream-on-gym-v2==0.0.6) (3.2.1)\n",
            "Requirement already satisfied: jinja2 in /usr/local/lib/python3.10/dist-packages (from torch>=1.13->stable-baselines3[extra]->dream-on-gym-v2==0.0.6) (3.1.2)\n",
            "Requirement already satisfied: fsspec in /usr/local/lib/python3.10/dist-packages (from torch>=1.13->stable-baselines3[extra]->dream-on-gym-v2==0.0.6) (2023.6.0)\n",
            "Requirement already satisfied: triton==2.1.0 in /usr/local/lib/python3.10/dist-packages (from torch>=1.13->stable-baselines3[extra]->dream-on-gym-v2==0.0.6) (2.1.0)\n",
            "Requirement already satisfied: contourpy>=1.0.1 in /usr/local/lib/python3.10/dist-packages (from matplotlib->stable-baselines3[extra]->dream-on-gym-v2==0.0.6) (1.2.0)\n",
            "Requirement already satisfied: cycler>=0.10 in /usr/local/lib/python3.10/dist-packages (from matplotlib->stable-baselines3[extra]->dream-on-gym-v2==0.0.6) (0.12.1)\n",
            "Requirement already satisfied: fonttools>=4.22.0 in /usr/local/lib/python3.10/dist-packages (from matplotlib->stable-baselines3[extra]->dream-on-gym-v2==0.0.6) (4.44.3)\n",
            "Requirement already satisfied: kiwisolver>=1.0.1 in /usr/local/lib/python3.10/dist-packages (from matplotlib->stable-baselines3[extra]->dream-on-gym-v2==0.0.6) (1.4.5)\n",
            "Requirement already satisfied: pyparsing>=2.3.1 in /usr/local/lib/python3.10/dist-packages (from matplotlib->stable-baselines3[extra]->dream-on-gym-v2==0.0.6) (3.1.1)\n",
            "Requirement already satisfied: python-dateutil>=2.7 in /usr/local/lib/python3.10/dist-packages (from matplotlib->stable-baselines3[extra]->dream-on-gym-v2==0.0.6) (2.8.2)\n",
            "Requirement already satisfied: pytz>=2020.1 in /usr/local/lib/python3.10/dist-packages (from pandas->stable-baselines3[extra]->dream-on-gym-v2==0.0.6) (2023.3.post1)\n",
            "Requirement already satisfied: markdown-it-py>=2.2.0 in /usr/local/lib/python3.10/dist-packages (from rich->stable-baselines3[extra]->dream-on-gym-v2==0.0.6) (3.0.0)\n",
            "Requirement already satisfied: pygments<3.0.0,>=2.13.0 in /usr/local/lib/python3.10/dist-packages (from rich->stable-baselines3[extra]->dream-on-gym-v2==0.0.6) (2.16.1)\n",
            "Requirement already satisfied: importlib-resources in /usr/local/lib/python3.10/dist-packages (from ale-py~=0.8.1->shimmy[atari]~=1.3.0->stable-baselines3[extra]->dream-on-gym-v2==0.0.6) (6.1.1)\n",
            "Requirement already satisfied: cachetools<6.0,>=2.0.0 in /usr/local/lib/python3.10/dist-packages (from google-auth<3,>=1.6.3->tensorboard<2.13,>=2.12->tensorflow==2.12.0->dream-on-gym-v2==0.0.6) (5.3.2)\n",
            "Requirement already satisfied: pyasn1-modules>=0.2.1 in /usr/local/lib/python3.10/dist-packages (from google-auth<3,>=1.6.3->tensorboard<2.13,>=2.12->tensorflow==2.12.0->dream-on-gym-v2==0.0.6) (0.3.0)\n",
            "Requirement already satisfied: rsa<5,>=3.1.4 in /usr/local/lib/python3.10/dist-packages (from google-auth<3,>=1.6.3->tensorboard<2.13,>=2.12->tensorflow==2.12.0->dream-on-gym-v2==0.0.6) (4.9)\n",
            "Requirement already satisfied: requests-oauthlib>=0.7.0 in /usr/local/lib/python3.10/dist-packages (from google-auth-oauthlib<1.1,>=0.5->tensorboard<2.13,>=2.12->tensorflow==2.12.0->dream-on-gym-v2==0.0.6) (1.3.1)\n",
            "Requirement already satisfied: mdurl~=0.1 in /usr/local/lib/python3.10/dist-packages (from markdown-it-py>=2.2.0->rich->stable-baselines3[extra]->dream-on-gym-v2==0.0.6) (0.1.2)\n",
            "Requirement already satisfied: charset-normalizer<4,>=2 in /usr/local/lib/python3.10/dist-packages (from requests->autorom[accept-rom-license]~=0.6.1->stable-baselines3[extra]->dream-on-gym-v2==0.0.6) (3.3.2)\n",
            "Requirement already satisfied: idna<4,>=2.5 in /usr/local/lib/python3.10/dist-packages (from requests->autorom[accept-rom-license]~=0.6.1->stable-baselines3[extra]->dream-on-gym-v2==0.0.6) (3.4)\n",
            "Requirement already satisfied: urllib3<3,>=1.21.1 in /usr/local/lib/python3.10/dist-packages (from requests->autorom[accept-rom-license]~=0.6.1->stable-baselines3[extra]->dream-on-gym-v2==0.0.6) (2.0.7)\n",
            "Requirement already satisfied: certifi>=2017.4.17 in /usr/local/lib/python3.10/dist-packages (from requests->autorom[accept-rom-license]~=0.6.1->stable-baselines3[extra]->dream-on-gym-v2==0.0.6) (2023.7.22)\n",
            "Requirement already satisfied: MarkupSafe>=2.1.1 in /usr/local/lib/python3.10/dist-packages (from werkzeug>=1.0.1->tensorboard<2.13,>=2.12->tensorflow==2.12.0->dream-on-gym-v2==0.0.6) (2.1.3)\n",
            "Requirement already satisfied: mpmath>=0.19 in /usr/local/lib/python3.10/dist-packages (from sympy->torch>=1.13->stable-baselines3[extra]->dream-on-gym-v2==0.0.6) (1.3.0)\n",
            "Requirement already satisfied: pyasn1<0.6.0,>=0.4.6 in /usr/local/lib/python3.10/dist-packages (from pyasn1-modules>=0.2.1->google-auth<3,>=1.6.3->tensorboard<2.13,>=2.12->tensorflow==2.12.0->dream-on-gym-v2==0.0.6) (0.5.0)\n",
            "Requirement already satisfied: oauthlib>=3.0.0 in /usr/local/lib/python3.10/dist-packages (from requests-oauthlib>=0.7.0->google-auth-oauthlib<1.1,>=0.5->tensorboard<2.13,>=2.12->tensorflow==2.12.0->dream-on-gym-v2==0.0.6) (3.2.2)\n"
          ]
        }
      ],
      "source": [
        "!pip install --target=$nb_path dream-on-gym-v2==0.0.6"
      ]
    },
    {
      "cell_type": "markdown",
      "metadata": {
        "id": "XLcX7NXflynO"
      },
      "source": [
        "\n",
        "\n",
        "---\n",
        "\n",
        "# Codigo\n",
        "\n"
      ]
    },
    {
      "cell_type": "code",
      "execution_count": null,
      "metadata": {
        "colab": {
          "base_uri": "https://localhost:8080/"
        },
        "id": "2ieN1imCaHt9",
        "outputId": "bc316faf-e701-4f4d-83f8-bc5b1c5aa9ff"
      },
      "outputs": [
        {
          "output_type": "stream",
          "name": "stdout",
          "text": [
            "Drive already mounted at /content/drive; to attempt to forcibly remount, call drive.mount(\"/content/drive\", force_remount=True).\n"
          ]
        }
      ],
      "source": [
        "import os\n",
        "import sys\n",
        "from google.colab import drive\n",
        "drive.mount('/content/drive')\n",
        "sys.path.append('/content/drive/My Drive/DREAMONGYM/Colab Notebooks')\n"
      ]
    },
    {
      "cell_type": "code",
      "execution_count": null,
      "metadata": {
        "id": "h_ylEWaU-RCH"
      },
      "outputs": [],
      "source": [
        "\n",
        "import numpy as np\n",
        "import matplotlib.pyplot as plt\n",
        "import torch as th\n",
        "\n",
        "from dreamongymv2.simNetPy import *\n",
        "from dreamongymv2.gym_basic import *\n",
        "import gymnasium\n",
        "\n",
        "sys.modules[\"gym\"] = gymnasium"
      ]
    },
    {
      "cell_type": "code",
      "execution_count": null,
      "metadata": {
        "id": "PkmGkFRkATzZ",
        "colab": {
          "base_uri": "https://localhost:8080/"
        },
        "outputId": "d5f505e9-cdd6-46b9-9e50-94b3c0ce2df8"
      },
      "outputs": [
        {
          "output_type": "stream",
          "name": "stderr",
          "text": [
            "/usr/local/lib/python3.10/dist-packages/ipykernel/ipkernel.py:283: DeprecationWarning: `should_run_async` will not call `transform_cell` automatically in the future. Please pass the result to `transformed_cell` argument and any exception that happen during thetransform in `preprocessing_exc_tuple` in IPython 7.17 and above.\n",
            "  and should_run_async(code)\n"
          ]
        }
      ],
      "source": [
        "bands = ['L','C','S','E']\n",
        "\n",
        "episodeRewardAccum = 0\n",
        "iteration = 0\n",
        "episodeIteration = 100\n",
        "episodeRewardsArray = []"
      ]
    },
    {
      "cell_type": "code",
      "execution_count": null,
      "metadata": {
        "id": "UmFwaqFlCM6J"
      },
      "outputs": [],
      "source": [
        "def getBand(actionBand):\n",
        "    if (actionBand == 0):\n",
        "        return 'C'\n",
        "    elif (actionBand == 1):\n",
        "        return 'L'\n",
        "    elif (actionBand == 2):\n",
        "        return 'S'\n",
        "    elif (actionBand == 3):\n",
        "        return 'E'\n",
        "\n",
        "    return 'NoBand'"
      ]
    },
    {
      "cell_type": "code",
      "execution_count": null,
      "metadata": {
        "id": "AZw9cFAOAZU7"
      },
      "outputs": [],
      "source": [
        "def state():\n",
        "    connectionEvent = env.getSimulator().connectionEvent\n",
        "    route = env.getSimulator().controller.path[connectionEvent.source][connectionEvent.destination][0]\n",
        "    slotsQuantity = 0\n",
        "    for i in range(4):\n",
        "        slotsQuantity = slotsQuantity + route[0].getSlots(getBand(i))\n",
        "    obs = [0] * slotsQuantity\n",
        "    slotInit = 0\n",
        "    for i in range(len(route)):\n",
        "        slotIterator = 0\n",
        "        for j in range(4):\n",
        "            slotInit = slotIterator\n",
        "            for k in range(slotInit, slotInit + route[i].getSlots(getBand(j))):\n",
        "                slotIterator = slotIterator + 1\n",
        "                if route[i].getSlot(k-slotInit,getBand(j)):\n",
        "                    obs[k] = obs[k] + 1\n",
        "    return obs\n"
      ]
    },
    {
      "cell_type": "code",
      "execution_count": null,
      "metadata": {
        "id": "wE2jMNY7AcB2"
      },
      "outputs": [],
      "source": [
        "# def stateAllNetwork():\n",
        "#     connectionEvent = env.getSimulator().connectionEvent\n",
        "#     routes = env.getSimulator().controller.path[connectionEvent.source][connectionEvent.destination]\n",
        "#     slotsQuantity = 0\n",
        "#     for i in range(4):\n",
        "#         slotsQuantity = slotsQuantity + routes[0][0].getSlots(getBand(i))\n",
        "#     obs = [0] * slotsQuantity\n",
        "#     slotInit = 0\n",
        "#     for i in range(len(env.getSimulator().controller.network.links)):\n",
        "#         slotIterator = 0\n",
        "#         for z in range(4):\n",
        "#             slotInit = slotIterator\n",
        "#             for k in range(slotInit, slotInit + env.getSimulator().controller.network.links[i].getSlots(getBand(z))):\n",
        "#                 slotIterator = slotIterator + 1\n",
        "#                 if env.getSimulator().controller.network.links[i].getSlot(k-slotInit,getBand(z)):\n",
        "#                     obs[k] = obs[k] + 1\n",
        "#     return obs"
      ]
    },
    {
      "cell_type": "code",
      "execution_count": null,
      "metadata": {
        "id": "iya2BfJ-CLzF"
      },
      "outputs": [],
      "source": [
        "def first_fit_algorithm(src: int, dst: int, b: BitRate, c: Connection, n: Network, path, action):\n",
        "    numberOfSlots = b.getNumberofSlots(0)\n",
        "    link_ids = path[src][dst][0]\n",
        "    c.bandSelected = \"C\"\n",
        "    general_link = []\n",
        "    for _ in range(n.getLink(0).getSlots(c.bandSelected)):\n",
        "        general_link.append(False)\n",
        "\n",
        "    for link in link_ids:\n",
        "        link = n.getLink(link.id)\n",
        "        link.bandSelected = c.bandSelected\n",
        "        for slot in range(link.getSlots(c.bandSelected)):\n",
        "            general_link[slot] = general_link[slot] or link.getSlot(slot,c.bandSelected)\n",
        "    currentNumberSlots = 0\n",
        "    currentSlotIndex = 0\n",
        "    for j in range(len(general_link)):\n",
        "        if not general_link[j]:\n",
        "            currentNumberSlots += 1\n",
        "        else:\n",
        "            currentNumberSlots = 0\n",
        "            currentSlotIndex = j + 1\n",
        "        if currentNumberSlots == numberOfSlots:\n",
        "            for k in link_ids:\n",
        "                c.addLink(\n",
        "                    k, fromSlot=currentSlotIndex, toSlot=currentSlotIndex+currentNumberSlots)\n",
        "            return Controller.Status.Allocated, c\n",
        "    return Controller.Status.Not_Allocated, c"
      ]
    },
    {
      "cell_type": "code",
      "execution_count": null,
      "metadata": {
        "id": "mh8-K_w-Dy4H"
      },
      "outputs": [],
      "source": [
        "def agent_algorithm(src: int, dst: int, b: BitRate, c: Connection, n: Network, path, action):\n",
        "    band = getBand(action[0])\n",
        "    c.bandSelected = band\n",
        "    numberOfSlots = b.getNumberofSlots(0)\n",
        "    actionSpace = len(path[src][dst])\n",
        "    link_ids = path[src][dst][0]\n",
        "    general_link = []\n",
        "    for _ in range(n.getLink(0).getSlots(band)):\n",
        "        general_link.append(False)\n",
        "    for link in link_ids:\n",
        "        link = n.getLink(link.id)\n",
        "        link.bandSelected = band\n",
        "        for slot in range(link.getSlots()):\n",
        "            general_link[slot] = general_link[slot] or link.getSlot(slot,band)\n",
        "    currentNumberSlots = 0\n",
        "    currentSlotIndex = 0\n",
        "    for j in range(len(general_link)):\n",
        "        if not general_link[j]:\n",
        "            currentNumberSlots += 1\n",
        "        else:\n",
        "            currentNumberSlots = 0\n",
        "            currentSlotIndex = j + 1\n",
        "        if currentNumberSlots == numberOfSlots:\n",
        "            for k in link_ids:\n",
        "                c.addLink(\n",
        "                    k, fromSlot=currentSlotIndex, toSlot=currentSlotIndex+currentNumberSlots)\n",
        "            return Controller.Status.Allocated, c\n",
        "    return Controller.Status.Not_Allocated, c"
      ]
    },
    {
      "cell_type": "markdown",
      "metadata": {
        "id": "BzdoR_ILqHy1"
      },
      "source": [
        "#Entrenamiento del modelo\n"
      ]
    },
    {
      "cell_type": "code",
      "source": [
        "from stable_baselines3 import PPO\n",
        "from stable_baselines3.common.monitor import Monitor\n",
        "from stable_baselines3.ppo.policies import MlpPolicy\n"
      ],
      "metadata": {
        "id": "30b68Zbc5QV8"
      },
      "execution_count": null,
      "outputs": []
    },
    {
      "cell_type": "markdown",
      "source": [
        "# PPO"
      ],
      "metadata": {
        "id": "3DNRGFYELopZ"
      }
    },
    {
      "cell_type": "code",
      "source": [
        "def rewardBandSelectShorter(): ########### This one\n",
        "    global episodeRewardAccum\n",
        "    global episodeIteration\n",
        "    global episodeRewardsArray\n",
        "    global iteration\n",
        "\n",
        "    iteration = iteration + 1\n",
        "    if (iteration % episodeIteration) == 0:\n",
        "        episodeRewardsArray.append(episodeRewardAccum)\n",
        "        episodeRewardAccum = 0\n",
        "\n",
        "    reward = 0\n",
        "    connectionsNow = env.getSimulator().controller.connections\n",
        "\n",
        "    value = env.getSimulator().lastConnectionIsAllocated()\n",
        "    if (value.name == Controller.Status.Not_Allocated.name):\n",
        "        reward -= 1.0\n",
        "    elif connectionsNow[-1].bandSelected == \"C\" or connectionsNow[-1].bandSelected == \"L\" or connectionsNow[-1].bandSelected == \"S\":\n",
        "        reward +=1.0\n",
        "    elif connectionsNow[-1].bandSelected == \"E\":\n",
        "        reward +=0.8\n",
        "\n",
        "    episodeRewardAccum = episodeRewardAccum + reward\n",
        "    return reward"
      ],
      "metadata": {
        "id": "CbUUNWxA_cVa"
      },
      "execution_count": null,
      "outputs": []
    },
    {
      "cell_type": "code",
      "source": [
        "fileDirectory = '/content/drive/MyDrive/DREAMONGYM'\n",
        "\n",
        "env = gymnasium.make(\"rlonenv-v0\")\n",
        "\n",
        "obs, info = env.reset()\n",
        "\n",
        "#definir espacio (opciones del 0-3, 4 en total )\n",
        "env.action_space = gymnasium.spaces.MultiDiscrete(np.array([4]))\n",
        "\n",
        "\n",
        "#tamaño de los slots de las bandas\n",
        "env.observation_space = gymnasium.spaces.MultiDiscrete([100] * 2720)\n",
        "\n",
        "#Set funcion recompensa\n",
        "env.setRewardFunc(rewardBandSelectShorter)\n",
        "#Set estados\n",
        "env.setStateFunc(state)\n",
        "#env.setStateFunc(stateAllNetwork)\n",
        "#Definir topologia y rutas\n",
        "env.initEnviroment(fileDirectory + \"/Topologias-rutas/Eurocore_4_bands.json\", fileDirectory + \"/Topologias-rutas/Eurocore_routes.json\")\n",
        "#Cantidad de conexiones para tener el simulador corriendo\n",
        "env.getSimulator().goalConnections = 100000\n",
        "env.getSimulator().setMu(1)\n",
        "env.getSimulator().setLambda(1000)\n",
        "env.getSimulator().setAllocator(first_fit_algorithm)\n",
        "env.getSimulator().init()"
      ],
      "metadata": {
        "colab": {
          "base_uri": "https://localhost:8080/"
        },
        "id": "RY-SIXui_ciZ",
        "outputId": "7c9ad528-1902-4463-d574-798e163a17e2"
      },
      "execution_count": null,
      "outputs": [
        {
          "output_type": "stream",
          "name": "stderr",
          "text": [
            "/usr/local/lib/python3.10/dist-packages/gymnasium/core.py:311: UserWarning: \u001b[33mWARN: env.setRewardFunc to get variables from other wrappers is deprecated and will be removed in v1.0, to get this variable you can do `env.unwrapped.setRewardFunc` for environment variables or `env.get_wrapper_attr('setRewardFunc')` that will search the reminding wrappers.\u001b[0m\n",
            "  logger.warn(\n",
            "/usr/local/lib/python3.10/dist-packages/gymnasium/core.py:311: UserWarning: \u001b[33mWARN: env.setStateFunc to get variables from other wrappers is deprecated and will be removed in v1.0, to get this variable you can do `env.unwrapped.setStateFunc` for environment variables or `env.get_wrapper_attr('setStateFunc')` that will search the reminding wrappers.\u001b[0m\n",
            "  logger.warn(\n",
            "/usr/local/lib/python3.10/dist-packages/gymnasium/core.py:311: UserWarning: \u001b[33mWARN: env.initEnviroment to get variables from other wrappers is deprecated and will be removed in v1.0, to get this variable you can do `env.unwrapped.initEnviroment` for environment variables or `env.get_wrapper_attr('initEnviroment')` that will search the reminding wrappers.\u001b[0m\n",
            "  logger.warn(\n"
          ]
        },
        {
          "output_type": "stream",
          "name": "stdout",
          "text": [
            "meta: 0.95\n",
            "objetivo: 0.95 covered: 0.0 epsilon: 0.01\n",
            "meta: 0.2673105078629141\n",
            "objetivo: 0.95 covered: 0.6826894921370859 epsilon: 0.01\n"
          ]
        },
        {
          "output_type": "stream",
          "name": "stderr",
          "text": [
            "/usr/local/lib/python3.10/dist-packages/gymnasium/core.py:311: UserWarning: \u001b[33mWARN: env.getSimulator to get variables from other wrappers is deprecated and will be removed in v1.0, to get this variable you can do `env.unwrapped.getSimulator` for environment variables or `env.get_wrapper_attr('getSimulator')` that will search the reminding wrappers.\u001b[0m\n",
            "  logger.warn(\n"
          ]
        }
      ]
    },
    {
      "cell_type": "code",
      "source": [
        "env.start()\n",
        "env.getSimulator().setAllocator(agent_algorithm)\n",
        "\n",
        "policy_args = dict(net_arch=5*[128], activation_fn=th.nn.ReLU)\n",
        "\n",
        "\n",
        "model = PPO(MlpPolicy, env, verbose=0, tensorboard_log=\"./tb/PPO-DeepRMSA-v0/\", policy_kwargs=policy_args, gamma=.95)\n",
        "\n",
        "model.learn(total_timesteps=1000, log_interval=4)\n",
        "\n",
        "modelDirectory = fileDirectory + \"/models/\"\n",
        "\n",
        "model.save(modelDirectory+ \"PPO-Eurocore-RW2\")\n",
        "#model.load('TRPO100720231300')"
      ],
      "metadata": {
        "colab": {
          "base_uri": "https://localhost:8080/"
        },
        "id": "wjqlEHmM_cnT",
        "outputId": "5b306b0f-ff99-4b54-a98a-cea013f9863b"
      },
      "execution_count": null,
      "outputs": [
        {
          "output_type": "stream",
          "name": "stdout",
          "text": [
            "Nodes: 11\n",
            "Links: 50\n",
            "Goal Connections: 100000\n",
            "Lambda: 1000\n",
            "Mu: 1\n",
            "+----------+----------+----------+----------+----------+----------+----------+\n",
            "| progress |  arrives | blocking |  time(s) |  Wald CI |  A-C. CI |Wilson CI |\n",
            "+----------+----------+----------+----------+----------+----------+----------+\n",
            "|     5.0% |     5000 | 0.357329 |  0:00:03 | 0.013553 | 0.013548 | 0.013548 |\n",
            "+----------+----------+----------+----------+----------+----------+----------+\n",
            "|    10.0% |    10000 | 0.363364 |  0:00:05 | 0.009619 | 0.009617 | 0.009617 |\n",
            "+----------+----------+----------+----------+----------+----------+----------+\n",
            "|    15.0% |    15000 | 0.357976 |  0:00:09 | 0.007828 | 0.007828 | 0.007827 |\n",
            "+----------+----------+----------+----------+----------+----------+----------+\n",
            "|    20.0% |    20000 | 0.357182 |  0:00:14 | 0.006776 | 0.006776 | 0.006776 |\n",
            "+----------+----------+----------+----------+----------+----------+----------+\n",
            "|    25.0% |    25000 | 0.353986 |  0:00:17 | 0.006049 | 0.006048 | 0.006048 |\n",
            "+----------+----------+----------+----------+----------+----------+----------+\n",
            "|    30.0% |    30000 | 0.355721 |  0:00:20 | 0.005528 | 0.005528 | 0.005527 |\n",
            "+----------+----------+----------+----------+----------+----------+----------+\n",
            "|    35.0% |    35000 | 0.356618 |  0:00:23 | 0.005121 | 0.005120 | 0.005120 |\n",
            "+----------+----------+----------+----------+----------+----------+----------+\n",
            "|    40.0% |    40000 | 0.355291 |  0:00:26 | 0.004786 | 0.004786 | 0.004786 |\n",
            "+----------+----------+----------+----------+----------+----------+----------+\n",
            "|    45.0% |    45000 | 0.356014 |  0:00:32 | 0.004514 | 0.004514 | 0.004514 |\n",
            "+----------+----------+----------+----------+----------+----------+----------+\n",
            "|    50.0% |    50000 | 0.357413 |  0:00:35 | 0.004286 | 0.004286 | 0.004286 |\n",
            "+----------+----------+----------+----------+----------+----------+----------+\n",
            "|    55.0% |    55000 | 0.357157 |  0:00:37 | 0.004086 | 0.004086 | 0.004086 |\n",
            "+----------+----------+----------+----------+----------+----------+----------+\n",
            "|    60.0% |    60000 | 0.356677 |  0:00:40 | 0.003911 | 0.003911 | 0.003911 |\n",
            "+----------+----------+----------+----------+----------+----------+----------+\n",
            "|    65.0% |    65000 | 0.356118 |  0:00:44 | 0.003756 | 0.003756 | 0.003756 |\n",
            "+----------+----------+----------+----------+----------+----------+----------+\n",
            "|    70.0% |    70000 | 0.355681 |  0:00:49 | 0.003619 | 0.003619 | 0.003619 |\n",
            "+----------+----------+----------+----------+----------+----------+----------+\n",
            "|    75.0% |    75000 | 0.354822 |  0:00:53 | 0.003494 | 0.003494 | 0.003494 |\n",
            "+----------+----------+----------+----------+----------+----------+----------+\n",
            "|    80.0% |    80000 | 0.354721 |  0:00:56 | 0.003383 | 0.003383 | 0.003383 |\n",
            "+----------+----------+----------+----------+----------+----------+----------+\n",
            "|    85.0% |    85000 | 0.354925 |  0:00:58 | 0.003282 | 0.003282 | 0.003282 |\n",
            "+----------+----------+----------+----------+----------+----------+----------+\n",
            "|    90.0% |    90000 | 0.354585 |  0:01:03 | 0.003189 | 0.003189 | 0.003189 |\n",
            "+----------+----------+----------+----------+----------+----------+----------+\n",
            "|    95.0% |    95000 | 0.354417 |  0:01:07 | 0.003104 | 0.003104 | 0.003104 |\n",
            "+----------+----------+----------+----------+----------+----------+----------+\n"
          ]
        },
        {
          "output_type": "stream",
          "name": "stderr",
          "text": [
            "/usr/local/lib/python3.10/dist-packages/gymnasium/core.py:311: UserWarning: \u001b[33mWARN: env.getSimulator to get variables from other wrappers is deprecated and will be removed in v1.0, to get this variable you can do `env.unwrapped.getSimulator` for environment variables or `env.get_wrapper_attr('getSimulator')` that will search the reminding wrappers.\u001b[0m\n",
            "  logger.warn(\n",
            "/usr/local/lib/python3.10/dist-packages/gymnasium/utils/passive_env_checker.py:127: UserWarning: \u001b[33mWARN: The obs returned by the `step()` method should be an int or np.int64, actual type: <class 'list'>\u001b[0m\n",
            "  logger.warn(f\"{pre} should be an int or np.int64, actual type: {type(obs)}\")\n",
            "/usr/local/lib/python3.10/dist-packages/gymnasium/utils/passive_env_checker.py:159: UserWarning: \u001b[33mWARN: The obs returned by the `step()` method is not within the observation space.\u001b[0m\n",
            "  logger.warn(f\"{pre} is not within the observation space.\")\n"
          ]
        }
      ]
    },
    {
      "cell_type": "code",
      "source": [
        "obs, info = env.reset()\n",
        "probBloqueoArray = []\n",
        "rewardsArray = []\n",
        "rewardTemp = 0\n",
        "NoAlloCounter = 0\n",
        "ConnCounter = 1\n",
        "\n",
        "iterationAccum = 100\n",
        "_state = [0] * 2720\n",
        "for i in range(100000):\n",
        "    if (i % iterationAccum) == 0:\n",
        "        probBloqueoArray.append(NoAlloCounter/ConnCounter)\n",
        "        rewardsArray.append(rewardTemp)\n",
        "        rewardTemp = 0\n",
        "    action, _states = model.predict(_state)\n",
        "    _state, _reward, terminated, truncated, info = env.step(action)\n",
        "    rewardTemp = rewardTemp + _reward\n",
        "    if _reward == -1:\n",
        "      NoAlloCounter += 1\n",
        "      ConnCounter += 1\n",
        "    else:\n",
        "      ConnCounter += 1\n",
        "\n",
        "print(episodeRewardsArray)\n",
        "print(rewardsArray)\n",
        "print(probBloqueoArray)"
      ],
      "metadata": {
        "colab": {
          "base_uri": "https://localhost:8080/"
        },
        "id": "4k82UxNb_csC",
        "outputId": "00ea1ca8-0f3c-4678-9d79-9f678a2523f4"
      },
      "execution_count": null,
      "outputs": [
        {
          "output_type": "stream",
          "name": "stdout",
          "text": [
            "[90.79999999999995, 90.99999999999996, 87.59999999999994, 84.59999999999995, 88.79999999999995, 76.39999999999996, 75.79999999999997, 86.19999999999996, 79.99999999999997, 85.59999999999995, 86.59999999999995, 84.19999999999996, 76.59999999999994, 91.39999999999995, 83.59999999999995, 82.79999999999997, 90.39999999999996, 82.59999999999997, 89.79999999999994, 82.59999999999997, 80.99999999999994, 85.59999999999998, 89.39999999999996, 80.19999999999997, 80.39999999999995, 78.39999999999998, 85.19999999999996, 87.59999999999997, 80.19999999999997, 83.79999999999997, 89.79999999999995, 84.59999999999998, 85.99999999999997, 83.99999999999996, 80.99999999999996, 84.59999999999997, 88.79999999999995, 83.19999999999996, 87.99999999999996, 89.79999999999995, 85.19999999999999, 82.99999999999994, 87.59999999999997, 77.79999999999998, 81.59999999999997, 89.19999999999996, 80.19999999999996, 89.99999999999997, 86.59999999999994, 79.99999999999997, 77.39999999999999, 87.19999999999997, 78.39999999999996, 85.59999999999997, 81.39999999999996, 84.79999999999997, 90.39999999999995, 88.99999999999996, 86.99999999999994, 76.39999999999996, 90.79999999999997, 85.19999999999996, 85.39999999999998, 88.19999999999997, 84.99999999999996, 89.99999999999999, 84.99999999999996, 77.19999999999999, 82.79999999999995, 84.19999999999997, 83.99999999999996, 82.59999999999995, 87.19999999999996, 73.19999999999997, 75.79999999999998, 83.79999999999998, 84.19999999999997, 82.99999999999999, 88.39999999999998, 82.99999999999997, 83.19999999999996, 80.79999999999998, 84.79999999999995, 82.79999999999997, 85.19999999999995, 81.79999999999995, 78.59999999999998, 80.99999999999999, 83.99999999999996, 90.59999999999998, 83.19999999999997, 83.19999999999996, 85.99999999999999, 88.39999999999998, 90.59999999999995, 85.19999999999995, 82.99999999999997, 74.19999999999995, 85.19999999999997, 83.19999999999997, 83.59999999999997, 85.59999999999994, 88.99999999999997, 86.19999999999996, 91.39999999999996, 77.99999999999996, 75.59999999999997, 90.79999999999994, 84.19999999999997, 85.79999999999995, 87.59999999999995, 73.59999999999998, 80.79999999999994, 86.19999999999997, 87.19999999999996, 79.19999999999995, 83.99999999999996, 83.19999999999995, 76.19999999999999, 77.99999999999996, 77.59999999999997, 82.39999999999995, 90.39999999999996, 73.79999999999997, 95.39999999999998, 90.99999999999997, 85.79999999999997, 81.6, 86.59999999999995, 75.19999999999997, 79.39999999999998, 81.99999999999999, 84.99999999999997, 86.39999999999996, 79.39999999999995, 90.99999999999996, 90.19999999999997, 85.59999999999997, 79.79999999999997, 74.39999999999998, 71.99999999999994, 82.19999999999996, 72.79999999999998, 83.79999999999997, 81.99999999999997, 86.19999999999996, 88.19999999999999, 75.59999999999997, 86.99999999999996, 70.39999999999998, 82.19999999999996, 86.19999999999996, 77.39999999999998, 83.79999999999997, 85.59999999999997, 84.39999999999998, 83.19999999999996, 87.59999999999997, 85.99999999999999, 87.59999999999997, 83.99999999999997, 76.59999999999997, 85.59999999999995, 83.59999999999995, 79.99999999999997, 84.59999999999998, 86.59999999999997, 85.39999999999998, 79.79999999999997, 77.39999999999995, 74.39999999999996, 80.79999999999997, 87.19999999999997, 81.39999999999998, 88.99999999999996, 76.79999999999997, 93.99999999999996, 84.99999999999997, 92.19999999999997, 95.19999999999996, 81.59999999999998, 73.19999999999996, 87.79999999999997, 87.79999999999997, 79.19999999999997, 83.79999999999997, 81.19999999999997, 81.99999999999996, 73.19999999999997, 86.59999999999997, 82.79999999999995, 80.99999999999997, 83.59999999999998, 83.79999999999997, 82.19999999999997, 80.79999999999997, 86.99999999999996, 82.39999999999998, 81.59999999999998, 88.79999999999997, 78.99999999999997, 85.39999999999998, 85.39999999999998, 79.99999999999997, 89.19999999999995, 84.59999999999997, 92.19999999999997, 85.79999999999997, 94.19999999999996, 89.39999999999996, 82.59999999999997, 82.59999999999998, 79.79999999999995, 89.59999999999995, 78.39999999999995, 75.99999999999996, 86.99999999999996, 85.99999999999997, 83.59999999999997, 75.79999999999997, 82.99999999999997, 86.79999999999995, 84.99999999999997, 83.59999999999997, 90.39999999999996, 84.59999999999997, 77.19999999999999, 86.39999999999996, 83.19999999999995, 80.99999999999997, 86.79999999999998, 84.19999999999996, 74.99999999999996, 78.19999999999997, 87.79999999999997, 81.19999999999996, 84.79999999999995, 82.99999999999996, 86.99999999999996, 95.99999999999997, 79.59999999999997, 79.99999999999997, 82.39999999999996, 84.59999999999997, 90.19999999999997, 88.19999999999997, 69.39999999999998, 90.39999999999995, 79.39999999999996, 86.19999999999997, 85.39999999999996, 86.99999999999996, 78.99999999999996, 79.39999999999996, 74.79999999999998, 80.39999999999998, 83.99999999999994, 82.99999999999999, 78.39999999999998, 86.19999999999996, 83.19999999999997, 77.79999999999998, 87.39999999999996, 84.39999999999998, 79.59999999999997, 85.79999999999998, 75.39999999999998, 88.99999999999996, 84.99999999999996, 83.19999999999997, 85.59999999999997, 93.59999999999995, 80.19999999999997, 84.39999999999996, 81.39999999999996, 79.19999999999997, 76.39999999999998, 83.59999999999998, 80.79999999999998, 90.19999999999997, 81.19999999999999, 89.99999999999997, 79.99999999999997, 81.79999999999997, 87.59999999999997, 83.59999999999998, 86.99999999999999, 85.39999999999998, 82.39999999999998, 86.59999999999995, 89.59999999999997, 74.79999999999998, 82.39999999999996, 82.19999999999996, 83.79999999999995, 90.19999999999996, 77.39999999999998, 80.99999999999996, 89.39999999999998, 89.19999999999996, 86.19999999999996, 82.39999999999995, 84.39999999999998, 85.19999999999997, 88.39999999999996, 77.59999999999997, 80.39999999999998, 82.39999999999996, 81.19999999999997, 86.59999999999998, 79.19999999999995, 67.59999999999995, 81.39999999999998, 86.19999999999996, 82.19999999999999, 91.39999999999996, 85.19999999999996, 74.19999999999997, 82.79999999999998, 79.99999999999997, 83.59999999999998, 88.19999999999996, 82.59999999999997, 86.19999999999996, 91.39999999999998, 79.59999999999998, 81.99999999999994, 88.39999999999998, 81.99999999999997, 81.19999999999997, 85.99999999999997, 80.59999999999998, 79.19999999999997, 88.99999999999997, 86.19999999999995, 85.59999999999998, 86.99999999999996, 86.19999999999999, 84.79999999999998, 76.99999999999999, 95.19999999999999, 80.59999999999995, 80.19999999999996, 84.59999999999998, 77.99999999999997, 78.59999999999998, 84.79999999999995, 82.39999999999998, 84.59999999999997, 90.19999999999996, 87.39999999999999, 88.19999999999996, 78.19999999999997, 78.79999999999995, 88.19999999999995, 82.59999999999997, 87.19999999999995, 83.59999999999997, 89.59999999999997, 80.59999999999995, 89.19999999999995, 77.59999999999998, 78.99999999999997, 82.19999999999997, 86.39999999999996, 81.19999999999996, 78.39999999999995, 79.39999999999998, 82.99999999999994, 75.99999999999997, 87.39999999999996, 89.59999999999995, 84.99999999999997, 89.99999999999997, 86.79999999999995, 87.99999999999996, 83.19999999999996, 86.19999999999995, 86.59999999999997, 79.59999999999997, 73.99999999999997, 77.79999999999998, 92.99999999999996, 76.79999999999997, 79.39999999999998, 90.99999999999997, 82.19999999999995, 88.59999999999997, 78.99999999999997, 87.99999999999997, 77.19999999999996, 83.19999999999996, 83.59999999999998, 84.59999999999995, 81.59999999999997, 83.39999999999996, 83.59999999999995, 88.79999999999997, 91.59999999999995, 78.19999999999996, 80.99999999999997, 77.59999999999997, 81.59999999999997, 86.39999999999998, 86.99999999999997, 76.19999999999996, 86.99999999999997, 87.39999999999995, 80.79999999999998, 82.59999999999998, 74.99999999999997, 85.39999999999995, 78.99999999999997, 86.99999999999997, 78.19999999999997, 78.59999999999998, 85.39999999999996, 84.39999999999996, 77.59999999999997, 81.19999999999996, 83.59999999999997, 84.39999999999993, 87.99999999999996, 79.59999999999997, 83.59999999999994, 89.79999999999997, 91.39999999999996, 82.39999999999998, 85.79999999999997, 79.19999999999995, 78.99999999999996, 83.59999999999995, 90.79999999999997, 87.99999999999994, 88.19999999999997, 87.59999999999997, 85.39999999999996, 88.99999999999996, 80.39999999999995, 85.19999999999997, 86.39999999999998, 90.39999999999998, 81.99999999999994, 87.99999999999997, 87.59999999999997, 76.79999999999995, 89.79999999999997, 79.99999999999997, 83.79999999999997, 89.39999999999995, 86.19999999999996, 85.79999999999997, 87.59999999999997, 93.99999999999997, 78.79999999999997, 85.79999999999997, 78.79999999999998, 79.99999999999997, 85.99999999999997, 91.39999999999998, 90.59999999999995, 86.39999999999998, 86.99999999999997, 91.39999999999996, 86.19999999999996, 83.39999999999996, 81.19999999999996, 81.99999999999997, 87.99999999999996, 78.79999999999997, 77.99999999999996, 90.59999999999995, 83.59999999999997, 92.19999999999997, 85.99999999999997, 80.59999999999995, 80.19999999999997, 87.99999999999994, 74.59999999999998, 86.59999999999995, 80.79999999999997, 75.79999999999994, 68.79999999999998, 85.59999999999997, 77.79999999999998, 81.59999999999997, 81.39999999999998, 85.39999999999996, 83.99999999999997, 84.8, 86.59999999999998, 76.99999999999997, 90.39999999999995, 83.39999999999995, 84.39999999999996, 80.39999999999998, 79.39999999999998, 80.99999999999996, 85.19999999999996, 92.59999999999997, 89.39999999999998, 86.19999999999997, 86.59999999999997, 88.59999999999997, 80.39999999999998, 86.99999999999997, 77.59999999999995, 84.99999999999996, 81.59999999999997, 79.99999999999996, 84.19999999999997, 86.39999999999998, 88.59999999999998, 83.39999999999996, 80.39999999999998, 87.99999999999996, 81.79999999999995, 78.59999999999998, 76.39999999999998, 82.99999999999997, 81.79999999999995, 83.99999999999997, 86.99999999999996, 83.79999999999997, 81.39999999999995, 85.79999999999995, 77.39999999999998, 78.39999999999999, 82.79999999999995, 84.59999999999998, 80.39999999999998, 87.19999999999996, 81.59999999999998, 87.59999999999997, 75.79999999999995, 80.79999999999995, 78.39999999999998, 67.59999999999997, 92.19999999999997, 92.19999999999995, 83.79999999999997, 83.59999999999998, 82.39999999999998, 83.39999999999995, 85.99999999999997, 87.19999999999995, 82.19999999999997, 82.39999999999998, 78.99999999999996, 89.8, 82.39999999999998, 74.39999999999996, 89.79999999999997, 81.79999999999994, 92.99999999999997, 81.19999999999996, 85.59999999999997, 84.59999999999997, 81.79999999999997, 83.79999999999995, 80.59999999999997, 84.19999999999997, 82.79999999999995, 77.99999999999997, 75.79999999999998, 86.99999999999997, 80.19999999999997, 85.99999999999997, 90.99999999999996, 88.39999999999998, 87.19999999999997, 79.79999999999997, 78.99999999999999, 82.19999999999996, 82.19999999999997, 79.99999999999996, 86.39999999999996, 79.59999999999995, 82.99999999999997, 87.59999999999997, 84.19999999999997, 88.59999999999997, 83.59999999999998, 90.99999999999994, 89.99999999999997, 76.59999999999997, 87.39999999999995, 90.79999999999998, 85.39999999999996, 79.59999999999997, 88.79999999999997, 84.59999999999997, 85.79999999999998, 80.59999999999997, 87.59999999999997, 84.59999999999995, 84.19999999999996, 78.79999999999997, 81.19999999999997, 82.19999999999996, 81.59999999999997, 75.79999999999998, 81.39999999999996, 81.99999999999999, 85.39999999999998, 80.79999999999995, 91.59999999999997, 84.39999999999995, 84.79999999999998, 73.59999999999997, 80.79999999999998, 82.79999999999998, 75.79999999999995, 74.39999999999998, 82.39999999999996, 86.19999999999996, 83.59999999999995, 83.79999999999997, 84.99999999999996, 81.79999999999997, 91.79999999999997, 81.99999999999996, 83.99999999999997, 86.99999999999997, 83.99999999999996, 88.39999999999998, 82.99999999999996, 84.99999999999997, 86.99999999999994, 84.79999999999997, 84.39999999999996, 81.39999999999998, 83.19999999999996, 84.39999999999995, 86.19999999999997, 91.79999999999997, 81.99999999999997, 84.79999999999998, 86.39999999999998, 84.59999999999995, 87.39999999999996, 89.79999999999995, 86.39999999999999, 85.6, 82.99999999999997, 84.79999999999998, 80.79999999999995, 85.59999999999997, 88.19999999999996, 84.79999999999995, 83.99999999999997, 76.19999999999996, 81.19999999999997, 83.99999999999996, 89.39999999999996, 87.19999999999999, 74.39999999999998, 82.19999999999999, 79.79999999999997, 84.79999999999995, 76.99999999999997, 84.19999999999996, 82.19999999999996, 86.99999999999997, 84.79999999999997, 81.79999999999995, 85.59999999999998, 80.19999999999997, 76.39999999999998, 76.79999999999998, 79.39999999999998, 79.19999999999999, 77.19999999999997, 86.79999999999995, 86.79999999999995, 84.79999999999997, 84.99999999999997, 81.99999999999997, 77.79999999999997, 76.19999999999996, 89.79999999999997, 81.19999999999997, 83.99999999999996, 85.79999999999998, 79.6, 90.19999999999997, 79.79999999999995, 80.39999999999996, 82.79999999999998, 82.99999999999996, 78.99999999999999, 80.19999999999997, 89.59999999999997, 89.79999999999995, 75.99999999999999, 79.59999999999997, 81.99999999999999, 82.59999999999997, 80.79999999999997, 86.79999999999997, 77.19999999999996, 85.79999999999997, 76.19999999999997, 88.19999999999999, 80.39999999999998, 82.79999999999995, 84.79999999999997, 81.59999999999997, 81.39999999999998, 82.79999999999998, 84.39999999999998, 79.39999999999996, 89.99999999999997, 76.19999999999996, 83.99999999999997, 83.59999999999997, 87.59999999999997, 75.39999999999998, 86.99999999999996, 89.79999999999997, 80.99999999999996, 81.19999999999997, 85.19999999999995, 83.79999999999995, 85.99999999999999, 83.99999999999996, 92.99999999999996, 84.39999999999996, 84.19999999999996, 74.39999999999995, 86.79999999999997, 81.8, 77.79999999999994, 71.99999999999999, 82.59999999999995, 82.59999999999997, 87.39999999999996, 89.39999999999998, 81.19999999999996, 85.99999999999996, 86.39999999999995, 85.39999999999996, 87.39999999999996, 86.99999999999997, 85.59999999999997, 81.39999999999996, 85.99999999999996, 74.19999999999997, 85.39999999999998, 75.19999999999997, 81.59999999999995, 83.99999999999997, 80.99999999999996, 84.59999999999998, 78.19999999999996, 81.59999999999997, 82.59999999999997, 90.19999999999997, 90.99999999999996, 86.99999999999997, 74.99999999999996, 87.19999999999996, 80.19999999999997, 89.99999999999997, 78.39999999999993, 78.39999999999998, 84.79999999999995, 85.39999999999998, 83.79999999999995, 79.59999999999997, 83.79999999999997, 83.39999999999996, 92.39999999999995, 83.59999999999998, 87.99999999999997, 88.19999999999996, 87.59999999999997, 86.59999999999995, 86.19999999999996, 83.59999999999997, 75.99999999999996, 86.59999999999997, 84.59999999999997, 77.99999999999997, 84.79999999999997, 87.99999999999996, 86.99999999999996, 84.59999999999998, 77.39999999999996, 90.59999999999998, 81.79999999999998, 78.99999999999996, 92.99999999999997, 86.19999999999996, 83.59999999999995, 87.59999999999997, 80.39999999999996, 87.39999999999995, 79.19999999999996, 82.79999999999995, 79.19999999999997, 81.39999999999998, 89.19999999999997, 80.99999999999999, 81.79999999999995, 88.59999999999998, 84.19999999999997, 83.59999999999994, 82.19999999999997, 82.59999999999997, 77.99999999999997, 91.79999999999998, 88.79999999999997, 91.19999999999997, 84.19999999999999, 77.19999999999995, 87.79999999999998, 82.79999999999995, 83.99999999999997, 82.99999999999997, 77.59999999999997, 86.99999999999996, 77.39999999999998, 82.39999999999996, 87.19999999999996, 77.39999999999998, 82.39999999999995, 81.39999999999996, 79.59999999999997, 77.99999999999997, 81.99999999999997, 84.19999999999999, 69.39999999999996, 80.39999999999996, 69.99999999999997, 82.39999999999996, 86.59999999999995, 86.79999999999998, 86.39999999999998, 77.59999999999997, 85.39999999999996, 78.59999999999998, 78.19999999999997, 92.79999999999998, 82.39999999999996, 82.59999999999995, 89.59999999999997, 85.19999999999996, 79.39999999999996, 84.59999999999997, 75.39999999999998, 81.79999999999997, 74.59999999999997, 83.19999999999996, 80.19999999999996, 85.19999999999996, 79.59999999999997, 91.79999999999995, 89.19999999999997, 85.39999999999995, 85.19999999999996, 77.99999999999999, 77.99999999999997, 81.79999999999998, 80.39999999999996, 74.19999999999997, 87.39999999999998, 90.59999999999997, 89.39999999999996, 87.19999999999996, 91.79999999999995, 86.19999999999997, 78.39999999999996, 84.39999999999999, 82.99999999999999, 75.39999999999998, 74.79999999999997, 88.19999999999997, 69.39999999999998, 77.39999999999996, 78.39999999999998, 82.59999999999997, 87.79999999999997, 85.19999999999997, 81.39999999999996, 82.79999999999997, 83.99999999999996, 76.19999999999997, 90.39999999999996, 77.39999999999998, 79.19999999999997, 82.79999999999997, 88.39999999999995, 79.19999999999996, 84.59999999999997, 88.99999999999996, 85.79999999999997, 77.99999999999997, 87.79999999999997, 75.8, 86.39999999999996, 81.19999999999997, 88.99999999999999, 91.59999999999997, 87.19999999999996, 89.19999999999996, 88.39999999999996, 77.39999999999998, 72.79999999999997, 80.39999999999996, 73.79999999999997, 82.99999999999999, 85.79999999999997, 93.19999999999997, 72.8, 82.39999999999995, 84.39999999999995, 83.19999999999996, 79.39999999999998, 76.59999999999998, 84.79999999999995, 79.59999999999997, 72.99999999999997, 83.99999999999997, 76.59999999999998, 80.79999999999995, 83.59999999999997, 77.39999999999996, 83.19999999999997, 86.79999999999997, 89.79999999999997, 82.19999999999995, 90.19999999999997, 85.39999999999996, 84.39999999999996, 95.59999999999995, 83.99999999999994, 79.59999999999995, 87.79999999999997, 84.39999999999998, 91.79999999999995, 83.59999999999997, 80.79999999999998, 87.59999999999997, 85.59999999999995, 81.19999999999997, 81.59999999999997, 92.79999999999997, 84.79999999999997, 90.39999999999996, 85.99999999999997, 87.39999999999998, 78.59999999999997, 87.79999999999997, 84.99999999999996, 87.39999999999996, 74.59999999999997, 84.19999999999996, 89.99999999999996, 82.39999999999996, 81.99999999999997, 88.19999999999996, 83.19999999999997, 80.19999999999997, 71.59999999999997, 87.19999999999997, 82.99999999999997, 77.19999999999996, 87.19999999999996, 82.19999999999997, 80.39999999999998, 77.39999999999996, 86.39999999999998, 84.19999999999997, 73.19999999999997, 80.6, 88.19999999999997, 89.39999999999996, 91.99999999999996, 92.19999999999993, 93.79999999999995, 84.19999999999996, 91.99999999999999, 78.39999999999996, 92.59999999999998, 86.39999999999996, 78.79999999999998, 88.79999999999997, 87.79999999999997, 76.59999999999997, 76.6, 76.19999999999997, 80.39999999999998, 86.79999999999997, 83.79999999999995, 73.59999999999998, 77.59999999999997, 88.59999999999995, 89.19999999999997, 83.79999999999997, 81.39999999999996, 80.19999999999996, 81.59999999999994, 80.59999999999998, 84.39999999999996, 79.39999999999998, 80.59999999999998, 80.99999999999996, 84.79999999999995, 82.79999999999998, 84.79999999999995, 83.59999999999995, 78.79999999999997, 84.59999999999997, 88.99999999999996, 76.19999999999997, 86.59999999999998, 83.39999999999995, 81.59999999999997, 81.99999999999997]\n",
            "[0, 89.39999999999993, 82.39999999999996, 89.59999999999997, 74.39999999999998, 84.59999999999997, 81.99999999999997, 81.79999999999997, 88.99999999999996, 79.19999999999995, 85.79999999999997, 89.19999999999996, 84.39999999999996, 83.39999999999996, 86.59999999999997, 79.79999999999997, 85.39999999999995, 82.99999999999996, 88.39999999999998, 90.19999999999996, 86.99999999999997, 88.39999999999996, 81.59999999999997, 84.99999999999996, 72.39999999999996, 89.19999999999997, 88.19999999999997, 81.99999999999997, 89.79999999999997, 84.19999999999996, 74.79999999999998, 83.59999999999998, 78.79999999999997, 87.39999999999995, 82.39999999999998, 87.99999999999999, 82.99999999999996, 86.39999999999995, 94.39999999999996, 77.79999999999995, 86.19999999999997, 85.19999999999995, 89.19999999999996, 83.39999999999999, 84.19999999999995, 93.39999999999998, 83.99999999999997, 77.99999999999994, 81.79999999999997, 84.99999999999996, 82.79999999999997, 81.59999999999997, 88.59999999999995, 78.79999999999995, 77.59999999999997, 77.19999999999996, 86.59999999999998, 82.39999999999998, 88.99999999999997, 85.19999999999995, 79.39999999999996, 80.39999999999998, 88.99999999999996, 80.79999999999995, 84.19999999999997, 81.39999999999998, 83.19999999999996, 80.79999999999997, 78.99999999999997, 90.19999999999997, 81.19999999999995, 87.59999999999997, 83.59999999999997, 86.19999999999997, 89.79999999999995, 93.79999999999997, 74.59999999999995, 80.79999999999995, 83.39999999999996, 81.19999999999999, 83.79999999999995, 81.59999999999997, 91.19999999999995, 86.8, 89.59999999999997, 85.79999999999998, 77.19999999999997, 79.79999999999998, 90.39999999999996, 86.99999999999997, 81.99999999999999, 82.79999999999995, 77.79999999999997, 80.99999999999997, 91.39999999999996, 78.19999999999997, 83.19999999999997, 85.79999999999997, 72.79999999999997, 81.79999999999997, 78.39999999999998, 81.19999999999996, 85.59999999999998, 85.59999999999997, 80.59999999999998, 92.99999999999997, 86.79999999999997, 80.19999999999997, 90.19999999999999, 80.59999999999995, 71.39999999999996, 82.19999999999996, 85.39999999999995, 88.59999999999995, 87.79999999999998, 78.39999999999996, 89.59999999999997, 89.99999999999996, 78.39999999999998, 83.39999999999998, 71.79999999999997, 78.59999999999998, 76.79999999999995, 73.39999999999996, 84.39999999999996, 84.19999999999996, 85.79999999999995, 86.39999999999996, 79.19999999999996, 77.19999999999996, 78.39999999999996, 87.19999999999996, 74.99999999999997, 83.79999999999997, 86.79999999999997, 82.79999999999997, 82.59999999999998, 84.79999999999997, 91.39999999999996, 85.39999999999996, 88.39999999999996, 74.79999999999998, 85.79999999999997, 79.99999999999999, 81.79999999999997, 85.39999999999995, 80.19999999999997, 88.39999999999998, 83.99999999999997, 76.39999999999998, 81.19999999999997, 76.39999999999998, 79.39999999999999, 87.79999999999997, 87.79999999999997, 75.99999999999997, 89.99999999999997, 90.19999999999997, 86.39999999999996, 95.39999999999998, 87.39999999999995, 74.59999999999998, 80.39999999999995, 88.79999999999997, 86.79999999999995, 79.79999999999997, 80.39999999999998, 84.79999999999998, 78.99999999999994, 77.59999999999998, 82.39999999999996, 84.19999999999997, 82.99999999999996, 84.59999999999997, 84.19999999999997, 81.79999999999995, 82.79999999999997, 81.19999999999997, 79.99999999999996, 88.19999999999996, 85.19999999999997, 80.99999999999994, 85.79999999999995, 82.59999999999997, 84.19999999999997, 85.59999999999998, 89.79999999999997, 91.79999999999997, 88.59999999999998, 91.79999999999995, 82.99999999999996, 83.19999999999996, 80.79999999999997, 86.19999999999997, 83.99999999999996, 77.79999999999997, 80.79999999999997, 87.79999999999997, 85.59999999999995, 73.59999999999997, 84.79999999999998, 81.99999999999996, 89.99999999999996, 85.99999999999997, 83.59999999999998, 93.19999999999997, 74.19999999999997, 85.39999999999998, 85.79999999999997, 80.19999999999996, 81.99999999999997, 83.19999999999997, 77.99999999999999, 76.59999999999997, 86.19999999999996, 88.19999999999997, 79.39999999999998, 85.79999999999997, 82.39999999999996, 92.19999999999996, 87.39999999999995, 78.19999999999997, 81.99999999999996, 86.59999999999997, 87.99999999999997, 82.99999999999996, 80.99999999999994, 79.39999999999995, 87.19999999999996, 81.79999999999998, 88.19999999999996, 86.59999999999995, 78.99999999999997, 79.39999999999996, 76.39999999999995, 78.59999999999995, 82.99999999999996, 86.59999999999997, 73.19999999999997, 88.39999999999998, 83.99999999999997, 80.79999999999997, 84.19999999999997, 81.99999999999997, 79.59999999999997, 85.59999999999997, 79.39999999999996, 83.79999999999997, 87.39999999999998, 87.59999999999995, 80.19999999999996, 90.59999999999998, 84.19999999999995, 86.79999999999997, 81.99999999999997, 76.99999999999996, 78.19999999999997, 80.79999999999998, 84.79999999999997, 83.19999999999997, 88.39999999999996, 82.79999999999997, 88.39999999999996, 75.79999999999997, 87.39999999999996, 80.79999999999995, 90.59999999999997, 90.19999999999996, 80.19999999999997, 84.19999999999997, 84.39999999999996, 82.79999999999994, 80.59999999999995, 81.99999999999999, 84.79999999999995, 87.39999999999998, 84.59999999999997, 78.59999999999997, 85.99999999999999, 88.79999999999997, 85.6, 86.79999999999997, 78.99999999999996, 86.19999999999996, 86.39999999999995, 91.19999999999996, 71.59999999999998, 80.79999999999997, 81.59999999999997, 86.19999999999997, 80.79999999999995, 78.79999999999997, 69.79999999999995, 85.39999999999998, 83.19999999999996, 85.99999999999997, 89.79999999999997, 75.99999999999997, 83.59999999999997, 79.19999999999997, 81.19999999999996, 86.19999999999997, 87.59999999999995, 83.59999999999998, 85.59999999999997, 81.39999999999996, 89.79999999999997, 79.99999999999997, 85.99999999999997, 80.19999999999996, 89.19999999999996, 84.19999999999997, 75.99999999999997, 86.79999999999998, 86.79999999999995, 84.59999999999997, 86.59999999999998, 83.99999999999996, 88.79999999999997, 77.39999999999998, 86.99999999999997, 88.79999999999995, 83.39999999999996, 77.79999999999998, 86.39999999999996, 77.79999999999997, 83.99999999999997, 79.79999999999997, 82.39999999999998, 89.19999999999995, 87.59999999999997, 87.39999999999998, 82.39999999999998, 77.59999999999997, 82.99999999999997, 86.79999999999997, 83.99999999999997, 89.19999999999996, 80.79999999999995, 91.59999999999995, 83.79999999999998, 81.79999999999995, 73.59999999999997, 87.79999999999995, 80.99999999999999, 81.59999999999997, 84.99999999999997, 75.39999999999998, 85.39999999999998, 80.19999999999997, 78.19999999999997, 89.39999999999998, 84.79999999999994, 89.59999999999997, 83.39999999999996, 91.99999999999997, 86.59999999999995, 83.39999999999996, 88.39999999999996, 81.19999999999996, 75.59999999999995, 77.19999999999999, 85.79999999999997, 88.19999999999997, 71.39999999999998, 90.99999999999999, 87.19999999999996, 80.19999999999996, 83.99999999999997, 86.59999999999997, 81.79999999999997, 78.99999999999996, 82.79999999999995, 86.79999999999997, 79.99999999999997, 85.39999999999996, 87.59999999999997, 84.6, 84.59999999999998, 89.59999999999997, 78.19999999999997, 76.59999999999997, 81.59999999999997, 83.79999999999997, 88.99999999999996, 83.19999999999999, 73.79999999999998, 95.19999999999997, 75.99999999999996, 81.59999999999998, 87.19999999999997, 74.79999999999995, 83.79999999999995, 79.39999999999996, 89.19999999999997, 72.59999999999998, 84.39999999999996, 82.19999999999997, 81.59999999999997, 75.79999999999998, 82.59999999999995, 91.59999999999995, 79.39999999999998, 91.39999999999998, 77.59999999999998, 87.79999999999995, 90.99999999999996, 82.39999999999998, 90.19999999999997, 78.59999999999997, 79.79999999999995, 83.79999999999998, 82.6, 96.59999999999998, 84.59999999999997, 86.99999999999997, 88.99999999999997, 87.39999999999996, 82.79999999999995, 77.59999999999995, 91.79999999999997, 84.79999999999997, 87.79999999999995, 84.79999999999997, 91.79999999999997, 75.19999999999996, 82.99999999999997, 82.19999999999996, 87.59999999999997, 88.79999999999998, 86.79999999999997, 83.79999999999997, 88.19999999999997, 89.39999999999996, 90.59999999999998, 78.19999999999997, 85.79999999999997, 78.59999999999997, 80.19999999999996, 89.19999999999996, 91.99999999999996, 88.99999999999997, 86.99999999999999, 87.39999999999996, 88.99999999999997, 82.99999999999996, 84.99999999999996, 79.39999999999996, 83.19999999999997, 89.99999999999999, 74.99999999999999, 82.39999999999996, 92.39999999999995, 82.79999999999997, 94.39999999999998, 77.19999999999996, 82.79999999999995, 84.19999999999997, 80.59999999999997, 83.19999999999996, 82.39999999999998, 77.59999999999997, 70.39999999999998, 80.39999999999996, 78.99999999999999, 82.99999999999997, 76.99999999999996, 89.19999999999996, 79.79999999999995, 87.99999999999997, 82.79999999999997, 86.99999999999999, 79.6, 85.39999999999996, 83.99999999999996, 82.19999999999996, 79.59999999999997, 81.39999999999996, 82.99999999999996, 88.39999999999998, 92.39999999999998, 92.79999999999997, 78.79999999999997, 92.39999999999996, 78.79999999999998, 86.39999999999995, 84.79999999999997, 81.39999999999998, 81.19999999999997, 82.59999999999997, 80.79999999999997, 85.79999999999995, 88.99999999999997, 82.19999999999996, 81.99999999999997, 84.99999999999999, 89.39999999999996, 77.59999999999998, 74.39999999999995, 77.59999999999995, 85.99999999999993, 83.19999999999997, 87.39999999999995, 86.19999999999997, 83.39999999999995, 80.39999999999996, 80.19999999999995, 75.79999999999997, 81.99999999999996, 83.39999999999996, 84.59999999999998, 82.39999999999998, 84.39999999999995, 87.99999999999997, 80.59999999999995, 78.99999999999997, 77.39999999999996, 79.39999999999996, 75.99999999999997, 91.19999999999995, 85.39999999999995, 89.19999999999996, 78.99999999999999, 83.79999999999997, 84.99999999999996, 88.59999999999997, 79.59999999999994, 86.99999999999997, 82.79999999999997, 81.59999999999998, 80.99999999999997, 81.79999999999995, 83.39999999999998, 84.99999999999996, 88.59999999999998, 82.99999999999997, 82.99999999999996, 86.19999999999997, 86.19999999999997, 79.79999999999997, 82.39999999999995, 83.39999999999996, 86.59999999999997, 78.99999999999997, 69.99999999999997, 85.19999999999995, 85.39999999999996, 82.79999999999997, 89.59999999999997, 86.99999999999996, 87.59999999999995, 87.19999999999995, 76.79999999999998, 81.59999999999994, 79.79999999999997, 86.39999999999995, 78.19999999999996, 86.39999999999996, 81.99999999999996, 83.59999999999997, 85.59999999999995, 83.39999999999996, 88.99999999999996, 89.79999999999997, 85.19999999999997, 82.79999999999998, 86.59999999999998, 86.19999999999995, 89.59999999999997, 83.39999999999996, 84.39999999999995, 83.79999999999997, 90.19999999999996, 81.39999999999996, 86.59999999999995, 83.79999999999997, 85.19999999999995, 80.79999999999998, 79.19999999999996, 82.39999999999998, 83.19999999999996, 73.39999999999995, 79.79999999999995, 83.59999999999995, 83.79999999999998, 81.99999999999996, 87.39999999999998, 88.79999999999995, 80.59999999999998, 78.79999999999997, 81.59999999999997, 81.39999999999998, 76.99999999999994, 74.99999999999996, 83.59999999999998, 83.79999999999998, 80.39999999999998, 82.79999999999997, 83.59999999999997, 87.19999999999997, 85.79999999999995, 90.19999999999997, 81.39999999999996, 79.99999999999996, 87.79999999999995, 87.99999999999997, 85.59999999999997, 85.99999999999997, 82.79999999999998, 87.79999999999994, 84.39999999999998, 79.39999999999996, 84.99999999999996, 83.39999999999996, 84.99999999999997, 92.19999999999996, 79.39999999999995, 88.99999999999994, 82.19999999999996, 89.19999999999996, 85.39999999999996, 87.19999999999996, 87.99999999999997, 86.79999999999994, 88.19999999999995, 77.99999999999997, 84.79999999999997, 86.79999999999997, 86.59999999999998, 85.39999999999996, 82.99999999999997, 77.19999999999996, 82.19999999999996, 83.79999999999997, 86.39999999999996, 83.39999999999993, 88.59999999999997, 71.79999999999995, 86.19999999999996, 75.99999999999996, 81.99999999999997, 82.59999999999998, 85.99999999999997, 79.19999999999999, 90.79999999999998, 82.59999999999998, 79.19999999999997, 89.39999999999996, 76.79999999999995, 76.39999999999998, 75.39999999999996, 82.59999999999997, 71.79999999999998, 85.99999999999997, 87.79999999999995, 81.19999999999996, 91.59999999999997, 81.39999999999996, 78.19999999999997, 78.59999999999997, 80.59999999999997, 83.99999999999997, 86.19999999999995, 82.59999999999995, 86.59999999999997, 84.99999999999997, 82.79999999999997, 79.99999999999996, 83.99999999999997, 79.99999999999996, 80.19999999999997, 82.39999999999996, 82.79999999999998, 91.79999999999998, 80.99999999999997, 79.79999999999997, 79.59999999999997, 81.19999999999996, 82.59999999999998, 80.39999999999998, 83.79999999999997, 77.79999999999995, 83.79999999999997, 84.59999999999998, 84.19999999999997, 81.59999999999997, 83.39999999999996, 84.39999999999996, 78.99999999999996, 88.59999999999998, 80.39999999999996, 78.39999999999998, 85.59999999999998, 82.59999999999994, 77.59999999999997, 87.39999999999996, 83.99999999999997, 78.79999999999995, 87.39999999999996, 87.39999999999996, 84.19999999999997, 81.99999999999994, 81.99999999999996, 86.19999999999997, 82.79999999999995, 88.59999999999997, 86.39999999999995, 89.39999999999998, 85.19999999999997, 84.19999999999997, 77.19999999999999, 80.79999999999998, 79.99999999999996, 72.39999999999996, 79.99999999999996, 79.39999999999995, 87.79999999999995, 90.39999999999998, 84.39999999999996, 82.99999999999999, 85.99999999999994, 84.99999999999996, 86.79999999999995, 88.99999999999996, 85.99999999999997, 79.59999999999997, 83.79999999999998, 83.39999999999996, 77.99999999999997, 83.39999999999996, 75.99999999999997, 80.79999999999995, 87.99999999999997, 79.19999999999996, 77.39999999999998, 85.39999999999996, 80.19999999999996, 88.39999999999998, 88.79999999999995, 90.79999999999998, 81.99999999999997, 79.19999999999997, 85.39999999999996, 82.59999999999998, 83.79999999999997, 76.39999999999996, 82.19999999999996, 87.39999999999995, 85.19999999999997, 77.59999999999997, 85.19999999999996, 83.59999999999997, 88.59999999999994, 89.19999999999996, 85.59999999999997, 83.19999999999996, 89.59999999999997, 88.99999999999996, 85.59999999999995, 81.59999999999997, 82.59999999999997, 84.19999999999996, 87.19999999999997, 74.59999999999997, 83.19999999999995, 87.99999999999997, 88.19999999999999, 84.99999999999997, 81.99999999999997, 81.19999999999996, 87.59999999999995, 76.99999999999996, 90.19999999999997, 91.79999999999995, 80.79999999999998, 86.39999999999996, 83.79999999999995, 84.19999999999996, 86.39999999999996, 78.39999999999996, 82.79999999999997, 80.59999999999997, 83.99999999999996, 81.59999999999997, 86.39999999999996, 82.19999999999997, 87.39999999999998, 83.19999999999997, 82.39999999999996, 88.19999999999996, 78.59999999999998, 80.59999999999998, 89.59999999999998, 89.59999999999997, 89.59999999999997, 80.59999999999998, 86.0, 80.39999999999996, 86.79999999999995, 79.59999999999995, 87.19999999999997, 79.99999999999997, 80.79999999999995, 77.99999999999997, 85.99999999999996, 78.39999999999996, 82.59999999999997, 82.39999999999996, 81.19999999999996, 75.59999999999995, 88.19999999999997, 76.8, 81.19999999999997, 68.19999999999996, 79.59999999999997, 77.19999999999996, 84.99999999999997, 84.79999999999997, 88.79999999999997, 80.59999999999997, 82.79999999999997, 78.19999999999997, 78.39999999999998, 88.79999999999998, 88.79999999999997, 77.99999999999994, 88.59999999999997, 83.39999999999998, 85.39999999999998, 81.99999999999997, 80.39999999999998, 76.79999999999998, 84.19999999999997, 70.39999999999998, 83.79999999999994, 83.39999999999996, 81.19999999999996, 87.39999999999996, 87.99999999999997, 91.39999999999996, 85.19999999999997, 82.59999999999995, 70.79999999999997, 82.79999999999998, 83.79999999999998, 75.79999999999997, 80.39999999999998, 89.79999999999998, 90.99999999999996, 87.79999999999995, 87.59999999999997, 94.19999999999997, 78.79999999999995, 82.99999999999997, 79.59999999999997, 81.59999999999995, 76.59999999999995, 82.39999999999998, 74.99999999999996, 74.59999999999998, 73.19999999999997, 84.59999999999997, 83.99999999999996, 84.39999999999996, 84.39999999999996, 84.39999999999995, 86.59999999999997, 78.19999999999996, 84.39999999999999, 78.99999999999996, 78.99999999999996, 81.59999999999997, 88.39999999999996, 85.39999999999996, 78.19999999999999, 86.99999999999996, 85.79999999999997, 83.59999999999997, 85.39999999999996, 78.99999999999997, 81.79999999999998, 88.59999999999997, 78.99999999999999, 94.19999999999997, 89.19999999999996, 85.99999999999997, 89.99999999999999, 82.99999999999994, 76.6, 73.19999999999997, 84.99999999999996, 67.99999999999997, 83.59999999999998, 93.39999999999998, 84.79999999999997, 72.79999999999997, 86.39999999999996, 84.19999999999997, 82.99999999999996, 74.59999999999998, 84.19999999999997, 76.59999999999997, 78.59999999999998, 79.79999999999998, 82.59999999999998, 73.99999999999996, 82.59999999999997, 82.19999999999996, 81.79999999999998, 79.59999999999997, 93.59999999999995, 88.19999999999996, 80.39999999999998, 91.79999999999997, 83.59999999999998, 90.59999999999995, 91.99999999999999, 78.59999999999997, 83.59999999999995, 84.99999999999999, 90.39999999999998, 86.59999999999995, 76.19999999999997, 90.59999999999997, 91.99999999999997, 71.19999999999997, 89.19999999999995, 86.59999999999998, 87.59999999999997, 87.59999999999997, 88.6, 88.59999999999998, 77.19999999999999, 87.19999999999995, 88.19999999999997, 86.79999999999997, 79.79999999999997, 80.99999999999999, 87.99999999999997, 82.19999999999997, 83.99999999999997, 86.19999999999997, 85.99999999999997, 79.19999999999997, 77.79999999999997, 75.39999999999998, 87.79999999999997, 77.19999999999999, 82.79999999999997, 85.39999999999996, 83.99999999999997, 76.39999999999996, 83.19999999999997, 82.59999999999997, 81.39999999999996, 73.59999999999997, 86.59999999999997, 88.79999999999997, 90.39999999999995, 92.39999999999996, 92.59999999999997, 89.99999999999996, 89.39999999999995, 83.19999999999997, 85.99999999999997, 92.39999999999996, 82.59999999999997, 79.39999999999998, 89.39999999999996, 84.79999999999997, 71.99999999999996, 76.99999999999999, 82.39999999999998, 86.19999999999997, 81.19999999999999, 76.59999999999995, 76.39999999999998, 82.39999999999993, 88.39999999999998, 88.19999999999996, 83.79999999999997, 87.79999999999997, 77.19999999999997, 76.19999999999997, 86.99999999999997, 73.99999999999996, 81.79999999999995, 85.79999999999995, 80.99999999999996, 79.99999999999996, 85.79999999999995, 85.19999999999996, 82.79999999999995, 79.79999999999998, 90.39999999999998, 75.39999999999998, 84.19999999999997, 84.39999999999998, 83.39999999999996, 85.59999999999997]\n",
            "[0.0, 0.019801980198019802, 0.04477611940298507, 0.03986710963455149, 0.057356608478802994, 0.05588822355289421, 0.05823627287853577, 0.05991440798858773, 0.056179775280898875, 0.058823529411764705, 0.057942057942057944, 0.055404178019981834, 0.05578684429641965, 0.056110684089162186, 0.054960742326909354, 0.056628914057295136, 0.056214865708931916, 0.0564373897707231, 0.0555247084952804, 0.05365597054182009, 0.05297351324337831, 0.05235602094240838, 0.05315765561108587, 0.05302042590178183, 0.0558100791336943, 0.0547780887644942, 0.05420991926182238, 0.0547945205479452, 0.05390931810067833, 0.05377456049638056, 0.05564811729423526, 0.05611093195743309, 0.05716963448922212, 0.05664950015146925, 0.057042046456924435, 0.056555269922879174, 0.05665093029713968, 0.05620102674952716, 0.05498553012365167, 0.05562676236862343, 0.05548612846788303, 0.05535235308461351, 0.054748869316829325, 0.05510346431062543, 0.05521472392638037, 0.05421017551655188, 0.05433601391001956, 0.05488194001276324, 0.055196833992918144, 0.055090797796368086, 0.05538892221555689, 0.05567535777298569, 0.05518169582772544, 0.055649877381626106, 0.056285872986483985, 0.05689874568260316, 0.056775575790037495, 0.05700754253639712, 0.05671435959317359, 0.05660057617352991, 0.05699050158306949, 0.057367644648418294, 0.05692630220932108, 0.0571337882875734, 0.05717856584908608, 0.05737578834025535, 0.057415543099530376, 0.05775257424265035, 0.05822673136303485, 0.05781770757861179, 0.057991715469218684, 0.05773834671173074, 0.05776975420080544, 0.057663333789891795, 0.05728955546547764, 0.05665911211838422, 0.05722931193264044, 0.05739514348785872, 0.057428534803230354, 0.057714213390710034, 0.05774278215223097, 0.057894087149734604, 0.05731008413608096, 0.057222021443199614, 0.05689798833472206, 0.05681684507704976, 0.0572026508545518, 0.05746465923457074, 0.057038972843995, 0.056959892146949784, 0.05710476613709588, 0.05713657839797824, 0.057493750679273994, 0.05762821202021288, 0.05722795447292841, 0.057572887064519525, 0.057598166857618996, 0.05751984331512215, 0.0580553004795429, 0.05817594182405818, 0.058394160583941604, 0.058509058509058506, 0.05842564454465248, 0.058343850111639645, 0.05855206230170176, 0.05818493476811732, 0.058107725686256016, 0.05831230726100364, 0.05814276455883714, 0.05825153655627924, 0.05881283519680029, 0.058913611386361586, 0.05883403267565396, 0.05857888682417485, 0.05841592842733093, 0.05860359968698374, 0.058357038186363244, 0.058114691052046835, 0.05838488263706466, 0.05839845391143601, 0.05891175735355387, 0.059086025948268735, 0.059339398409966396, 0.05975123973660678, 0.05975324570599145, 0.059755219582433405, 0.05967780334894056, 0.0596016061727423, 0.05976095617529881, 0.05999534919773661, 0.06022613645104223, 0.06007175024807267, 0.06037421407469131, 0.06037140064656793, 0.06021938661293933, 0.06029183023479742, 0.060363208587603856, 0.06028757025034669, 0.05999565248895008, 0.05992374649305805, 0.05978144418255839, 0.06013757889511382, 0.060066192521653405, 0.06020558002936858, 0.06027359211165891, 0.060202744638300804, 0.06033833299089104, 0.06013196381198558, 0.060131072224849674, 0.060398630964364805, 0.06046263582427838, 0.060724455334083834, 0.06091704493125452, 0.06078034115417293, 0.06064541263554315, 0.06089929681956003, 0.060701237100185886, 0.0605057002738679, 0.06043921270805645, 0.06012200490535186, 0.05999625023436035, 0.06030681324141358, 0.06036664403431887, 0.0602417029630084, 0.060118285470398145, 0.06023877340767226, 0.060357809770495756, 0.060355667325309864, 0.06047259091720731, 0.06064729897639193, 0.06064349155932004, 0.060639728670837965, 0.0606360095343294, 0.06063233339113346, 0.060628699500028735, 0.060682246728758354, 0.060678370547128005, 0.06073103214507655, 0.0608392786922083, 0.06072286464443327, 0.060718848952835955, 0.06077012319761339, 0.060710949947805064, 0.060761707010545875, 0.060757567523504155, 0.060699421652883626, 0.06053437987204989, 0.06031763007325811, 0.06020956332109994, 0.05999682556478493, 0.0599968422714594, 0.05999685880320402, 0.06010103640435394, 0.060048702139785505, 0.05999690737590846, 0.06015076149941029, 0.060201010152543234, 0.06009847215877367, 0.060047472349881316, 0.06029847746344405, 0.060296985150742465, 0.06034525645490274, 0.060195039849512404, 0.06014482045219447, 0.06014411058281457, 0.05994829520511195, 0.06019125285180331, 0.060190328969614994, 0.06014133935868468, 0.06018850772690302, 0.06023522689395743, 0.06028150324629165, 0.060421678222725345, 0.060560537063987605, 0.06051119106583804, 0.06041579461420399, 0.060506458034350265, 0.06041196258236948, 0.06041007293243429, 0.06022556047669056, 0.060133630289532294, 0.060268766119180125, 0.06031259853159768, 0.06026635576879961, 0.0601758850051337, 0.060219545797964534, 0.060262820229193395, 0.060349764327562665, 0.060260514889697823, 0.0603030435352168, 0.060214773270727356, 0.06012726721786936, 0.060212921856816516, 0.06029784129436505, 0.06042476817230033, 0.060508063486660144, 0.06050591076649295, 0.060419391586852875, 0.060669719759673967, 0.06058323919501276, 0.060580809132952794, 0.060661383345089415, 0.060658650468988884, 0.06069709065470557, 0.060776197696815706, 0.06073221501163218, 0.06081053615706679, 0.06080725476701348, 0.06072335792911576, 0.060599975904582146, 0.060677572897084114, 0.06055535636030437, 0.060513471687631444, 0.06047191810600371, 0.06050942876264714, 0.06062507352652837, 0.060739814850982385, 0.060814754289716354, 0.06081159644975001, 0.06084707154163932, 0.06076689358101611, 0.06080226811233286, 0.06072287317277966, 0.060872210182122355, 0.060793151774553994, 0.06082789328704577, 0.06071200330814631, 0.060596981386464924, 0.06066937800828327, 0.06066688970670235, 0.06062738417095663, 0.060625069185638904, 0.06065953457593471, 0.06069374748177722, 0.060654720630633915, 0.06057961528671685, 0.06054128473606029, 0.0606476300494567, 0.06060933059961872, 0.060535464678685355, 0.0604978393628799, 0.060424895911177536, 0.06049430871245701, 0.06045722765980001, 0.060385197704306184, 0.06024350022806217, 0.06045243173315618, 0.06052053935402948, 0.06055345300510399, 0.060516937130203105, 0.060549636219440706, 0.060616473660698944, 0.060819834937159686, 0.060817036961195864, 0.06081425801843475, 0.060777600759296294, 0.06067362589101719, 0.060806033466886636, 0.06080332874735747, 0.06090097321159828, 0.06093130228992367, 0.06089498687751237, 0.06082580047018311, 0.060823075146034786, 0.06078747409624683, 0.06081767810891446, 0.06071697003365903, 0.06074720693137031, 0.06071231453524236, 0.06077473220931361, 0.060675462081868324, 0.060673290247901995, 0.06079933335470017, 0.06076483179451136, 0.0606987038629343, 0.06066474080187931, 0.060630992690104746, 0.060597457493454465, 0.06053268765133172, 0.060656405755305474, 0.060623105527952255, 0.06055886109466995, 0.06052607061892488, 0.06061731834927711, 0.060584549859572234, 0.0606750561521184, 0.0606729854912426, 0.060732087703739945, 0.0607603426724795, 0.06066684903194432, 0.06060422411442078, 0.060572188151415365, 0.060600584319749407, 0.06068886820215609, 0.060686805784257954, 0.06062505596847855, 0.06062319573822208, 0.060532328417554376, 0.0605603384515251, 0.060440694964750304, 0.06043939884121055, 0.06043811031934548, 0.0605830238881904, 0.060523016821667004, 0.060579634312956016, 0.060606938929306395, 0.06057628392242999, 0.06068989366300683, 0.06068791126691762, 0.06071459270508008, 0.06079826290677409, 0.060710521067775844, 0.0606800943155024, 0.06059318432905583, 0.0605915087144431, 0.060477169657192756, 0.060419651133395126, 0.06041847567295034, 0.060333510237144214, 0.06036043564246121, 0.0604427654787367, 0.06055233927038032, 0.06052318996712798, 0.06046665381118978, 0.06065767423971869, 0.06057368291279691, 0.060517472200213106, 0.06054330944660909, 0.06054183310236135, 0.060513265223164685, 0.06053890435393638, 0.06059135872348454, 0.060589769092228705, 0.06056137905149996, 0.060613352584155504, 0.06058505106530492, 0.060530305045078586, 0.06052889843770722, 0.060527499272506016, 0.06044695390622939, 0.06052472303360438, 0.06062832996509278, 0.06065286249051072, 0.06065115793321323, 0.06057133928803937, 0.060595828679774554, 0.06072381544519572, 0.06059274954135552, 0.0606685394706322, 0.06071823346443536, 0.060690751519191816, 0.06079128411038081, 0.060763756026631977, 0.06081270196687107, 0.060734499124387706, 0.0608845345687451, 0.06088230095199616, 0.06090526686985215, 0.06092811738398533, 0.06102603944763289, 0.06102347441313967, 0.06092117403556021, 0.06096863262107908, 0.060866976005558175, 0.06093908566619638, 0.060862694748277824, 0.060762050195807986, 0.060784747303506054, 0.06070929634077596, 0.06075646072223173, 0.06077900539011244, 0.06077711004598428, 0.06079949515788452, 0.060652284448318446, 0.06062655491413251, 0.060600949374713865, 0.06052739116848153, 0.06047816599122323, 0.06047702208081147, 0.06052361518818167, 0.06042713268731697, 0.060426118144462124, 0.06037771616786332, 0.06035318313987849, 0.06025801278271739, 0.06035152114067904, 0.0603506959930518, 0.060373293365494955, 0.06032569332492232, 0.06027831519078809, 0.06023115741494384, 0.06023062109927844, 0.060183792041850884, 0.060114085125054846, 0.060044699430888686, 0.06011356060780212, 0.060090364899887616, 0.060158806434635365, 0.060204104929111206, 0.0601353044349787, 0.060044089907047564, 0.059975964263848894, 0.05995339471957648, 0.05990835421322318, 0.05986351658746425, 0.059863823284870006, 0.059841707585031725, 0.0598868034272164, 0.05990937702283431, 0.0598427651945391, 0.059954223239483566, 0.05995432473781069, 0.05984380876529281, 0.05986622811858458, 0.05975639303099051, 0.059822861036021184, 0.05982324949014276, 0.059823636244283496, 0.05984585489399795, 0.05984619071479924, 0.0598682637333971, 0.05993362399947941, 0.06006363498625571, 0.060106693159974946, 0.06017111700178875, 0.06019225393002301, 0.06025621767773224, 0.06019143059035138, 0.060233755688981004, 0.06019061427261679, 0.06021148486202421, 0.0601898048873697, 0.060252960742357156, 0.06023128475085093, 0.06023079681863252, 0.06025136312919728, 0.06029285099052541, 0.06031320098111151, 0.060312545762640946, 0.060270140498110684, 0.0601862461198725, 0.06010270056755577, 0.06016472687288645, 0.060081571810107454, 0.06014338546724241, 0.060101853570029486, 0.06010164399909467, 0.06012196874807499, 0.06014221020061064, 0.06014191938815157, 0.06016203750943858, 0.060141341316877456, 0.06010040446332392, 0.06012048437151376, 0.060140482986174366, 0.06014019918789519, 0.060079433882381406, 0.060139635017404075, 0.06021967430372884, 0.06027935311917597, 0.06023879522409552, 0.0602383185964352, 0.06019800402382423, 0.06017773006500865, 0.06017737743298744, 0.0601968277855884, 0.06021620126084465, 0.06029466874420623, 0.06031377335091829, 0.06031315691243787, 0.06031254289131586, 0.06033150036202814, 0.06031132204449132, 0.06027172959591431, 0.06029065582381666, 0.060328925651929086, 0.06038642661963915, 0.06042436316512253, 0.06050076253354182, 0.06042272788578255, 0.06040268456375839, 0.06034433120285599, 0.06040114174057968, 0.0604003747538288, 0.06038052708917769, 0.06034170777699473, 0.06036006920020532, 0.060321436025881865, 0.06033976629230507, 0.060358027258463925, 0.06039508688515311, 0.06041317489312819, 0.060412398263190545, 0.06039286317329881, 0.0603359487650044, 0.060354012074540664, 0.06035335161657432, 0.06033407199121059, 0.06031486403598446, 0.06035138494647595, 0.06035073424566212, 0.06035008595035212, 0.06033099020313278, 0.06036721239019539, 0.060495211485082995, 0.06047595456964092, 0.060456768191058774, 0.060474214365368095, 0.060418605499899636, 0.06038141381759895, 0.06034435737532045, 0.06030743543674343, 0.06037934095396823, 0.06039673785284172, 0.06043212216385986, 0.06039530819264518, 0.06043056779554325, 0.06041184179817238, 0.06041110374366051, 0.06041036832972577, 0.06039177871823717, 0.06039108037289888, 0.06033700467963204, 0.06028312108133071, 0.06026488892040921, 0.060282118900550435, 0.06026395293369375, 0.060228214669935276, 0.06019260224291826, 0.06019226375634874, 0.06017438290556306, 0.06017407751177738, 0.06012132655023514, 0.06013856651716375, 0.060103482517726174, 0.06010330255125998, 0.06006840159025017, 0.060102944489696886, 0.06013736786560786, 0.06015440147838552, 0.060154135273529766, 0.06023992702363126, 0.060273878455696636, 0.06027340868938783, 0.06029006352630948, 0.06030666142459103, 0.06027200901008515, 0.06022043917480111, 0.06023707079811568, 0.06028760122918117, 0.06030406264300605, 0.060337388538265, 0.06038749345450246, 0.06045429250771488, 0.060470362451810575, 0.060469571939967395, 0.060502340564755626, 0.06050149913736788, 0.060500660524071506, 0.06046643628653946, 0.06044899251679139, 0.060398329478710835, 0.06041427883257753, 0.060446758760219564, 0.06041290707107498, 0.060379167286491134, 0.06036204023035924, 0.06034496960511359, 0.06036084932813605, 0.060310996535360664, 0.06031048671333257, 0.0603427112485884, 0.06032581166974396, 0.0603252801748748, 0.06030846403153043, 0.060242922879302774, 0.06027499553578676, 0.06022592826696488, 0.06024174366110581, 0.06019288864477149, 0.060176448766955375, 0.06014395903447609, 0.060111573768910465, 0.06007929246721561, 0.060047114629573246, 0.06009503847938433, 0.060094886663152346, 0.06006283791327092, 0.060046814541169724, 0.06003084211697747, 0.060030793162013305, 0.06007828719037733, 0.06007816332020063, 0.06007803984139271, 0.060062144130218764, 0.06004629848348845, 0.06001477964182953, 0.06010894648435661, 0.06009310198899704, 0.06015555312123441, 0.0601709348291433, 0.060186268544952494, 0.060170402330181776, 0.06021679289591142, 0.06016987313861586, 0.06018511340909443, 0.06021578613334159, 0.06016908548554118, 0.06021512013703492, 0.060276421010462086, 0.06033753326871894, 0.06035237553954624, 0.060459195411113324, 0.06044317851181452, 0.060396630020947695, 0.06041129143066518, 0.06034968979131416, 0.06036437801555532, 0.060409416270269446, 0.060439143563830594, 0.06045362949046226, 0.06045294322324927, 0.06042204800531714, 0.06042141144175804, 0.060405716781373776, 0.06040510669012496, 0.06041951322052221, 0.06044886883255124, 0.06044819688328019, 0.060477421862154525, 0.06050655960358801, 0.06052070759005082, 0.06053481347003765, 0.060474584330099106, 0.06048871678461744, 0.060517621961156134, 0.060546441620686085, 0.06056040531159067, 0.060574327812274155, 0.06060293662832653, 0.06060204996985338, 0.06064521813189234, 0.06064427207812202, 0.060643328794600375, 0.06065700793848043, 0.06067064714383732, 0.06066966953834492, 0.06066869477882418, 0.06069679219778782, 0.06066675374813138, 0.060694772539528416, 0.06073718180634144, 0.060721665871880465, 0.06072062452201267, 0.0607628132159479, 0.06073293909440152, 0.06073188603612017, 0.06075952999239609, 0.0607297889715047, 0.060700133045306935, 0.06069913286953044, 0.060698135547281776, 0.06071138587769405, 0.06069614941465982, 0.0606951605801054, 0.06066580615877789, 0.06063653489327347, 0.06060734643074355, 0.0605923645146255, 0.060591529033441, 0.0606329488317066, 0.060660187620427276, 0.06068734989677111, 0.06075651112887617, 0.06078346241649277, 0.06079635249856646, 0.060767307719165935, 0.06072439714927268, 0.06072338825364549, 0.06073629017677084, 0.06070749017374759, 0.06069263949182397, 0.06066397972327253, 0.0606215681664154, 0.060606897694783224, 0.060633646432463, 0.060632773653255465, 0.060631903275058116, 0.06067224351313855, 0.06067132138105102, 0.0607251955452665, 0.06073788320269217, 0.060709553148181036, 0.06073586990627686, 0.06078936254274465, 0.06077468333764167, 0.06080080433689759, 0.06077258110473399, 0.06073088440536036, 0.0606893005507368, 0.0607018824069945, 0.06072792539911742, 0.06071346747348418, 0.060725966003149355, 0.060724990255507316, 0.06076428504315378, 0.060776665192155604, 0.06073546538868288, 0.060734482159329424, 0.06077355442517456, 0.0607591898774683, 0.06075817898563268, 0.06071727769577532, 0.06067648504003931, 0.06066232543334969, 0.06066144819273917, 0.060620891258052145, 0.060580441473692556, 0.06055329085368267, 0.0605657369468123, 0.06056499256588729, 0.060551109709465055, 0.06052414010314825, 0.060588983106381306, 0.06058821219617544, 0.060561299852289516, 0.06053445777470268, 0.060520723328248656, 0.06053306597570344, 0.06054537652306212, 0.06051869456240828, 0.06056990181709705, 0.06053030401160607, 0.06047787221381353, 0.06050309427526776, 0.060476639011109536, 0.060476024793494926, 0.06046254230962279, 0.06043624117941929, 0.060461354796472445, 0.060460763323547134, 0.060472977298626135, 0.060472372476055296, 0.060484540427325324, 0.060471167459598726, 0.06047056725392033, 0.06045724609101665, 0.06045666509955401, 0.06045608558267027, 0.06043015931357017, 0.060467589017860535, 0.06049228201919066, 0.060466408252421056, 0.060427989558769754, 0.06038966763642775, 0.060414334410887914, 0.0604012512405623, 0.06042584158291615, 0.060400245610957255, 0.0604247756598791, 0.06039924500943738, 0.06042371505973708, 0.06043565541576788, 0.06047247232288514, 0.06045944702180321, 0.06048372069912175, 0.06049552735077728, 0.060494913322015835, 0.06050667689756315, 0.06055549375162236, 0.06053011691213689, 0.06057878447861309, 0.06060270193716826, 0.06068806041746104, 0.06071178486750777, 0.060747720886860285, 0.060734549821693365, 0.06072141099864139, 0.06069607951003044, 0.06071964933273098, 0.06071877172229607, 0.0607544366085675, 0.06079001472001557, 0.06076475376969903, 0.060739554131624615, 0.06076289984363826, 0.06072565707436956, 0.06072477962781587, 0.06071182715184599, 0.060723031085270385, 0.06074625606920399, 0.060793492256410876, 0.060792538551219334, 0.0608756197404593, 0.06086257958537667, 0.06086154656830457, 0.06087247760194256, 0.06084754065064934, 0.06082266321404279, 0.06077400746117448, 0.06076118141450697, 0.06076027633440744, 0.06084250780869586, 0.06085337065989727, 0.06086420777005012, 0.06091052176897315, 0.06093308589732982, 0.06090837180198581, 0.06086013136637539, 0.06083556141859342, 0.06081104928177315, 0.06075134252241454, 0.06077393457823265, 0.06077302727986776, 0.06079554103581925, 0.06080630635898995, 0.060840410742865156, 0.06085109858694764, 0.06089672614538292, 0.0609538887789432, 0.06101091847769212, 0.06100974436998409, 0.06100857298639227, 0.06100740431744708, 0.06100623835372276, 0.06099351452584363, 0.060980820082908976, 0.061002756600269895, 0.061001601364039586, 0.061023463481432894, 0.06104527534166274, 0.061055556193384694, 0.061019942431852846, 0.061007319503785754, 0.061040491527556896, 0.061016445526336845, 0.06100386981883769, 0.06100272516847014, 0.06099019373355657, 0.06102319655066495, 0.06104476085499028, 0.061020873769877755, 0.06105372954955159, 0.06099591171107915, 0.0609608488591758, 0.060948463859165435, 0.0609135337072945, 0.060912503804917646, 0.06095652075990135, 0.061011687157624776, 0.06099931461444254, 0.06108797881056329, 0.06109796975370231, 0.0610407498236302, 0.061039585686960995, 0.06110546250879879, 0.06108190756799589, 0.06106955329372025, 0.06106836226768076, 0.061122790625243326, 0.06112154309396562, 0.0611535942997303, 0.06118557443930777, 0.06120640967431147, 0.06121613698963507, 0.0612700412150142, 0.06126863941899096, 0.061278265950761295, 0.061287871278950676, 0.06130845645262428, 0.061252074153031286, 0.061228746116947126, 0.06123836361443405, 0.0611931961314772, 0.06119189067953305, 0.061157801554081376, 0.06111286994683464, 0.06113346637441249, 0.061121338547510375, 0.061120118388265636, 0.06108629254029847, 0.061063397791554924, 0.06110562792160606, 0.06107192771475932, 0.06102747805759678, 0.061091231446146525, 0.06105765596483839, 0.06104572766205327, 0.06102304932058922, 0.061000419801724416, 0.0609778389479683, 0.060955306602506955, 0.06099719960086265, 0.06097469480498601, 0.060952238198734486, 0.06092982962749061, 0.06095020352346663, 0.060970533932402, 0.06094817752475987, 0.06095781727564137, 0.06095679833193264, 0.060945154674233004, 0.06093353573741255, 0.0609643588084962, 0.0609951165771549, 0.061036391149300005, 0.06101415418441666, 0.06105532148551757, 0.0610542082889421, 0.061042560141621266, 0.06104146272144504, 0.0610824281553296, 0.061081291162907954, 0.06109064962592208, 0.06109998846972254, 0.061151192134113776, 0.061139527829206806, 0.061117438689250896, 0.06107451905512468, 0.06102126150926476, 0.06096811491546963, 0.060935890365344796, 0.060903732809430254, 0.06091317847166696, 0.060901857864544974, 0.060859472958829444, 0.06086893510419147, 0.06089905998903838, 0.06086713980227477, 0.060866244930392874, 0.06092720693601097, 0.0609674462672887, 0.06097673892243907, 0.060965457703415174, 0.060985000154002524, 0.06101475882298643, 0.061054702308377985, 0.061053622787893676, 0.06103209578634165, 0.06101061276187169, 0.0610095815348823, 0.06098816525825425, 0.06101770857730573, 0.06104719178848638, 0.06103596508165567, 0.06108567425711414, 0.06109471506374175, 0.06108347433156706, 0.06109249906377466, 0.06110150554594999, 0.06109029201725235, 0.061079101119060356, 0.06107801332647857, 0.06109706850887705, 0.061065784046438164, 0.0611049135184571, 0.06110380417867291, 0.06110269706422202, 0.061101592168415146, 0.06109047957477903]\n"
          ]
        }
      ]
    },
    {
      "cell_type": "code",
      "source": [
        "def rewardLengthBased():\n",
        "    global episodeRewardAccum\n",
        "    global episodeIteration\n",
        "    global episodeRewardsArray\n",
        "    global iteration\n",
        "\n",
        "    iteration = iteration + 1\n",
        "    if (iteration % episodeIteration) == 0:\n",
        "        episodeRewardsArray.append(episodeRewardAccum)\n",
        "        episodeRewardAccum = 0\n",
        "\n",
        "    connectionsNow = env.getSimulator().controller.connections\n",
        "    controllerNow = env.getSimulator().controller\n",
        "    #print(\"Source: \", connectionEvent.source, \" Destination: \", connectionEvent.destination, \"Path: \", len(controllerNow.path[connectionEvent.source][connectionEvent.destination]))\n",
        "\n",
        "    value = env.getSimulator().lastConnectionIsAllocated()\n",
        "\n",
        "    if (value.name == Controller.Status.Not_Allocated.name):\n",
        "        value = -1\n",
        "    else:\n",
        "        #print(\"Last Connection ID: \", connectionsNow[-1].id)\n",
        "        #print(\"Last Connection Links: \", connectionsNow[-1].links)\n",
        "        # src, dst y actualPath of last connection\n",
        "        src = connectionsNow[-1].links[0].src\n",
        "        dst = connectionsNow[-1].links[-1].dst\n",
        "        actualPath = connectionsNow[-1].links\n",
        "        actualPathLength = 0\n",
        "        for link in actualPath:\n",
        "          actualPathLength += link.length\n",
        "        # Possible paths\n",
        "        paths = controllerNow.path[src][dst]\n",
        "        PathsLength = []\n",
        "        for path in paths:\n",
        "          linksCumLength = 0\n",
        "          for link in path:\n",
        "            linksCumLength += link.length\n",
        "          PathsLength.append(linksCumLength)\n",
        "\n",
        "        if (actualPathLength <= PathsLength[0]):\n",
        "          #print(\"it was shortest !\")\n",
        "          value = 1\n",
        "        elif (actualPathLength <= PathsLength[1] or actualPathLength <= PathsLength[2]):\n",
        "          #print(\"Wasnt shortest reawrd =  0.9\")\n",
        "          value = 0.9\n",
        "        else:\n",
        "          #print(\"Wasnt shortest reawrd =  0.8\")\n",
        "          value = 0.8\n",
        "\n",
        "        #print(\"Lets compare ...\")\n",
        "        #print(\"Length of Whole Connection: \", actualPathLength)\n",
        "        #print(\"Lengths of ALL possible paths: \", PathsLength)\n",
        "\n",
        "    episodeRewardAccum = episodeRewardAccum + value\n",
        "    return value"
      ],
      "metadata": {
        "id": "U_Cw0L0l_cwb"
      },
      "execution_count": null,
      "outputs": []
    },
    {
      "cell_type": "code",
      "source": [
        "fileDirectory = '/content/drive/MyDrive/DREAMONGYM'\n",
        "\n",
        "env = gymnasium.make(\"rlonenv-v0\")\n",
        "\n",
        "obs, info = env.reset()\n",
        "\n",
        "#definir espacio (opciones del 0-3, 4 en total )\n",
        "env.action_space = gymnasium.spaces.MultiDiscrete(np.array([4]))\n",
        "\n",
        "\n",
        "#tamaño de los slots de las bandas\n",
        "env.observation_space = gymnasium.spaces.MultiDiscrete([100] * 2720)\n",
        "\n",
        "#Set funcion recompensa\n",
        "env.setRewardFunc(rewardLengthBased)\n",
        "#Set estados\n",
        "env.setStateFunc(state)\n",
        "#env.setStateFunc(stateAllNetwork)\n",
        "#Definir topologia y rutas\n",
        "env.initEnviroment(fileDirectory + \"/Topologias-rutas/Eurocore_4_bands.json\", fileDirectory + \"/Topologias-rutas/Eurocore_routes.json\")\n",
        "#Cantidad de conexiones para tener el simulador corriendo\n",
        "env.getSimulator().goalConnections = 100000\n",
        "env.getSimulator().setMu(1)\n",
        "env.getSimulator().setLambda(1000)\n",
        "env.getSimulator().setAllocator(first_fit_algorithm)\n",
        "env.getSimulator().init()"
      ],
      "metadata": {
        "colab": {
          "base_uri": "https://localhost:8080/"
        },
        "id": "dnJjYlPn_c0h",
        "outputId": "7bddefd9-a6b7-4fec-f716-776e2575ef63"
      },
      "execution_count": null,
      "outputs": [
        {
          "output_type": "stream",
          "name": "stdout",
          "text": [
            "meta: 0.95\n",
            "objetivo: 0.95 covered: 0.0 epsilon: 0.01\n",
            "meta: 0.2673105078629141\n",
            "objetivo: 0.95 covered: 0.6826894921370859 epsilon: 0.01\n"
          ]
        },
        {
          "output_type": "stream",
          "name": "stderr",
          "text": [
            "/usr/local/lib/python3.10/dist-packages/gymnasium/core.py:311: UserWarning: \u001b[33mWARN: env.setRewardFunc to get variables from other wrappers is deprecated and will be removed in v1.0, to get this variable you can do `env.unwrapped.setRewardFunc` for environment variables or `env.get_wrapper_attr('setRewardFunc')` that will search the reminding wrappers.\u001b[0m\n",
            "  logger.warn(\n",
            "/usr/local/lib/python3.10/dist-packages/gymnasium/core.py:311: UserWarning: \u001b[33mWARN: env.setStateFunc to get variables from other wrappers is deprecated and will be removed in v1.0, to get this variable you can do `env.unwrapped.setStateFunc` for environment variables or `env.get_wrapper_attr('setStateFunc')` that will search the reminding wrappers.\u001b[0m\n",
            "  logger.warn(\n",
            "/usr/local/lib/python3.10/dist-packages/gymnasium/core.py:311: UserWarning: \u001b[33mWARN: env.initEnviroment to get variables from other wrappers is deprecated and will be removed in v1.0, to get this variable you can do `env.unwrapped.initEnviroment` for environment variables or `env.get_wrapper_attr('initEnviroment')` that will search the reminding wrappers.\u001b[0m\n",
            "  logger.warn(\n"
          ]
        }
      ]
    },
    {
      "cell_type": "code",
      "source": [
        "env.start()\n",
        "env.getSimulator().setAllocator(agent_algorithm)\n",
        "\n",
        "policy_args = dict(net_arch=5*[128], activation_fn=th.nn.ReLU)\n",
        "\n",
        "\n",
        "model = PPO(MlpPolicy, env, verbose=0, tensorboard_log=\"./tb/PPO-DeepRMSA-v0/\", policy_kwargs=policy_args, gamma=.95)\n",
        "\n",
        "model.learn(total_timesteps=1000, log_interval=4)\n",
        "\n",
        "modelDirectory = fileDirectory + \"/models/\"\n",
        "\n",
        "model.save(modelDirectory+ \"PPO-Eurocore-RW3\")\n",
        "#model.load('TRPO100720231300')"
      ],
      "metadata": {
        "colab": {
          "base_uri": "https://localhost:8080/"
        },
        "id": "uBGSMqjlpcNF",
        "outputId": "8a771999-b649-45b8-87bf-110d10301d1b"
      },
      "execution_count": null,
      "outputs": [
        {
          "metadata": {
            "tags": null
          },
          "name": "stdout",
          "output_type": "stream",
          "text": [
            "Nodes: 11\n",
            "Links: 50\n",
            "Goal Connections: 100000\n",
            "Lambda: 1000\n",
            "Mu: 1\n",
            "+----------+----------+----------+----------+----------+----------+----------+\n",
            "| progress |  arrives | blocking |  time(s) |  Wald CI |  A-C. CI |Wilson CI |\n",
            "+----------+----------+----------+----------+----------+----------+----------+\n"
          ]
        },
        {
          "metadata": {
            "tags": null
          },
          "name": "stderr",
          "output_type": "stream",
          "text": [
            "/usr/local/lib/python3.10/dist-packages/gymnasium/core.py:311: UserWarning: \u001b[33mWARN: env.start to get variables from other wrappers is deprecated and will be removed in v1.0, to get this variable you can do `env.unwrapped.start` for environment variables or `env.get_wrapper_attr('start')` that will search the reminding wrappers.\u001b[0m\n",
            "  logger.warn(\n"
          ]
        },
        {
          "metadata": {
            "tags": null
          },
          "name": "stdout",
          "output_type": "stream",
          "text": [
            "|     5.0% |     5000 | 0.357329 |  0:00:02 | 0.013553 | 0.013548 | 0.013548 |\n",
            "+----------+----------+----------+----------+----------+----------+----------+\n",
            "|    10.0% |    10000 | 0.363364 |  0:00:04 | 0.009619 | 0.009617 | 0.009617 |\n",
            "+----------+----------+----------+----------+----------+----------+----------+\n",
            "|    15.0% |    15000 | 0.357976 |  0:00:07 | 0.007828 | 0.007828 | 0.007827 |\n",
            "+----------+----------+----------+----------+----------+----------+----------+\n",
            "|    20.0% |    20000 | 0.357182 |  0:00:11 | 0.006776 | 0.006776 | 0.006776 |\n",
            "+----------+----------+----------+----------+----------+----------+----------+\n",
            "|    25.0% |    25000 | 0.353986 |  0:00:16 | 0.006049 | 0.006048 | 0.006048 |\n",
            "+----------+----------+----------+----------+----------+----------+----------+\n",
            "|    30.0% |    30000 | 0.355721 |  0:00:19 | 0.005528 | 0.005528 | 0.005527 |\n",
            "+----------+----------+----------+----------+----------+----------+----------+\n",
            "|    35.0% |    35000 | 0.356618 |  0:00:21 | 0.005121 | 0.005120 | 0.005120 |\n",
            "+----------+----------+----------+----------+----------+----------+----------+\n",
            "|    40.0% |    40000 | 0.355291 |  0:00:24 | 0.004786 | 0.004786 | 0.004786 |\n",
            "+----------+----------+----------+----------+----------+----------+----------+\n",
            "|    45.0% |    45000 | 0.356014 |  0:00:27 | 0.004514 | 0.004514 | 0.004514 |\n",
            "+----------+----------+----------+----------+----------+----------+----------+\n",
            "|    50.0% |    50000 | 0.357413 |  0:00:33 | 0.004286 | 0.004286 | 0.004286 |\n",
            "+----------+----------+----------+----------+----------+----------+----------+\n",
            "|    55.0% |    55000 | 0.357157 |  0:00:35 | 0.004086 | 0.004086 | 0.004086 |\n",
            "+----------+----------+----------+----------+----------+----------+----------+\n",
            "|    60.0% |    60000 | 0.356677 |  0:00:38 | 0.003911 | 0.003911 | 0.003911 |\n",
            "+----------+----------+----------+----------+----------+----------+----------+\n",
            "|    65.0% |    65000 | 0.356118 |  0:00:41 | 0.003756 | 0.003756 | 0.003756 |\n",
            "+----------+----------+----------+----------+----------+----------+----------+\n",
            "|    70.0% |    70000 | 0.355681 |  0:00:44 | 0.003619 | 0.003619 | 0.003619 |\n",
            "+----------+----------+----------+----------+----------+----------+----------+\n",
            "|    75.0% |    75000 | 0.354822 |  0:00:50 | 0.003494 | 0.003494 | 0.003494 |\n",
            "+----------+----------+----------+----------+----------+----------+----------+\n",
            "|    80.0% |    80000 | 0.354721 |  0:00:52 | 0.003383 | 0.003383 | 0.003383 |\n",
            "+----------+----------+----------+----------+----------+----------+----------+\n",
            "|    85.0% |    85000 | 0.354925 |  0:00:55 | 0.003282 | 0.003282 | 0.003282 |\n",
            "+----------+----------+----------+----------+----------+----------+----------+\n",
            "|    90.0% |    90000 | 0.354585 |  0:00:58 | 0.003189 | 0.003189 | 0.003189 |\n",
            "+----------+----------+----------+----------+----------+----------+----------+\n",
            "|    95.0% |    95000 | 0.354417 |  0:01:01 | 0.003104 | 0.003104 | 0.003104 |\n",
            "+----------+----------+----------+----------+----------+----------+----------+\n"
          ]
        }
      ]
    },
    {
      "cell_type": "code",
      "source": [
        "obs, info = env.reset()\n",
        "probBloqueoArray = []\n",
        "rewardsArray = []\n",
        "rewardTemp = 0\n",
        "NoAlloCounter = 0\n",
        "ConnCounter = 1\n",
        "\n",
        "iterationAccum = 100\n",
        "_state = [0] * 2720\n",
        "for i in range(100000):\n",
        "    if (i % iterationAccum) == 0:\n",
        "        probBloqueoArray.append(NoAlloCounter/ConnCounter)\n",
        "        rewardsArray.append(rewardTemp)\n",
        "        rewardTemp = 0\n",
        "    action, _states = model.predict(_state)\n",
        "    _state, _reward, terminated, truncated, info = env.step(action)\n",
        "    rewardTemp = rewardTemp + _reward\n",
        "    if _reward == -1:\n",
        "      NoAlloCounter += 1\n",
        "      ConnCounter += 1\n",
        "    else:\n",
        "      ConnCounter += 1\n",
        "\n",
        "print(episodeRewardsArray)\n",
        "print(rewardsArray)\n",
        "print(probBloqueoArray)"
      ],
      "metadata": {
        "colab": {
          "base_uri": "https://localhost:8080/"
        },
        "id": "EVWbckl3_c-A",
        "outputId": "d39d8535-374e-4334-899c-edea711cea69"
      },
      "execution_count": null,
      "outputs": [
        {
          "output_type": "stream",
          "name": "stdout",
          "text": [
            "[90.79999999999995, 90.99999999999996, 87.59999999999994, 84.59999999999995, 88.79999999999995, 76.39999999999996, 75.79999999999997, 86.19999999999996, 79.99999999999997, 85.59999999999995, 86.59999999999995, 84.19999999999996, 76.59999999999994, 91.39999999999995, 83.59999999999995, 82.79999999999997, 90.39999999999996, 82.59999999999997, 89.79999999999994, 82.59999999999997, 80.99999999999994, 85.59999999999998, 89.39999999999996, 80.19999999999997, 80.39999999999995, 78.39999999999998, 85.19999999999996, 87.59999999999997, 80.19999999999997, 83.79999999999997, 89.79999999999995, 84.59999999999998, 85.99999999999997, 83.99999999999996, 80.99999999999996, 84.59999999999997, 88.79999999999995, 83.19999999999996, 87.99999999999996, 89.79999999999995, 85.19999999999999, 82.99999999999994, 87.59999999999997, 77.79999999999998, 81.59999999999997, 89.19999999999996, 80.19999999999996, 89.99999999999997, 86.59999999999994, 79.99999999999997, 77.39999999999999, 87.19999999999997, 78.39999999999996, 85.59999999999997, 81.39999999999996, 84.79999999999997, 90.39999999999995, 88.99999999999996, 86.99999999999994, 76.39999999999996, 90.79999999999997, 85.19999999999996, 85.39999999999998, 88.19999999999997, 84.99999999999996, 89.99999999999999, 84.99999999999996, 77.19999999999999, 82.79999999999995, 84.19999999999997, 83.99999999999996, 82.59999999999995, 87.19999999999996, 73.19999999999997, 75.79999999999998, 83.79999999999998, 84.19999999999997, 82.99999999999999, 88.39999999999998, 82.99999999999997, 83.19999999999996, 80.79999999999998, 84.79999999999995, 82.79999999999997, 85.19999999999995, 81.79999999999995, 78.59999999999998, 80.99999999999999, 83.99999999999996, 90.59999999999998, 83.19999999999997, 83.19999999999996, 85.99999999999999, 88.39999999999998, 90.59999999999995, 85.19999999999995, 82.99999999999997, 74.19999999999995, 85.19999999999997, 83.19999999999997, 83.59999999999997, 85.59999999999994, 88.99999999999997, 86.19999999999996, 91.39999999999996, 77.99999999999996, 75.59999999999997, 90.79999999999994, 84.19999999999997, 85.79999999999995, 87.59999999999995, 73.59999999999998, 80.79999999999994, 86.19999999999997, 87.19999999999996, 79.19999999999995, 83.99999999999996, 83.19999999999995, 76.19999999999999, 77.99999999999996, 77.59999999999997, 82.39999999999995, 90.39999999999996, 73.79999999999997, 95.39999999999998, 90.99999999999997, 85.79999999999997, 81.6, 86.59999999999995, 75.19999999999997, 79.39999999999998, 81.99999999999999, 84.99999999999997, 86.39999999999996, 79.39999999999995, 90.99999999999996, 90.19999999999997, 85.59999999999997, 79.79999999999997, 74.39999999999998, 71.99999999999994, 82.19999999999996, 72.79999999999998, 83.79999999999997, 81.99999999999997, 86.19999999999996, 88.19999999999999, 75.59999999999997, 86.99999999999996, 70.39999999999998, 82.19999999999996, 86.19999999999996, 77.39999999999998, 83.79999999999997, 85.59999999999997, 84.39999999999998, 83.19999999999996, 87.59999999999997, 85.99999999999999, 87.59999999999997, 83.99999999999997, 76.59999999999997, 85.59999999999995, 83.59999999999995, 79.99999999999997, 84.59999999999998, 86.59999999999997, 85.39999999999998, 79.79999999999997, 77.39999999999995, 74.39999999999996, 80.79999999999997, 87.19999999999997, 81.39999999999998, 88.99999999999996, 76.79999999999997, 93.99999999999996, 84.99999999999997, 92.19999999999997, 95.19999999999996, 81.59999999999998, 73.19999999999996, 87.79999999999997, 87.79999999999997, 79.19999999999997, 83.79999999999997, 81.19999999999997, 81.99999999999996, 73.19999999999997, 86.59999999999997, 82.79999999999995, 80.99999999999997, 83.59999999999998, 83.79999999999997, 82.19999999999997, 80.79999999999997, 86.99999999999996, 82.39999999999998, 81.59999999999998, 88.79999999999997, 78.99999999999997, 85.39999999999998, 85.39999999999998, 79.99999999999997, 89.19999999999995, 84.59999999999997, 92.19999999999997, 85.79999999999997, 94.19999999999996, 89.39999999999996, 82.59999999999997, 82.59999999999998, 79.79999999999995, 89.59999999999995, 78.39999999999995, 75.99999999999996, 86.99999999999996, 85.99999999999997, 83.59999999999997, 75.79999999999997, 82.99999999999997, 86.79999999999995, 84.99999999999997, 83.59999999999997, 90.39999999999996, 84.59999999999997, 77.19999999999999, 86.39999999999996, 83.19999999999995, 80.99999999999997, 86.79999999999998, 84.19999999999996, 74.99999999999996, 78.19999999999997, 87.79999999999997, 81.19999999999996, 84.79999999999995, 82.99999999999996, 86.99999999999996, 95.99999999999997, 79.59999999999997, 79.99999999999997, 82.39999999999996, 84.59999999999997, 90.19999999999997, 88.19999999999997, 69.39999999999998, 90.39999999999995, 79.39999999999996, 86.19999999999997, 85.39999999999996, 86.99999999999996, 78.99999999999996, 79.39999999999996, 74.79999999999998, 80.39999999999998, 83.99999999999994, 82.99999999999999, 78.39999999999998, 86.19999999999996, 83.19999999999997, 77.79999999999998, 87.39999999999996, 84.39999999999998, 79.59999999999997, 85.79999999999998, 75.39999999999998, 88.99999999999996, 84.99999999999996, 83.19999999999997, 85.59999999999997, 93.59999999999995, 80.19999999999997, 84.39999999999996, 81.39999999999996, 79.19999999999997, 76.39999999999998, 83.59999999999998, 80.79999999999998, 90.19999999999997, 81.19999999999999, 89.99999999999997, 79.99999999999997, 81.79999999999997, 87.59999999999997, 83.59999999999998, 86.99999999999999, 85.39999999999998, 82.39999999999998, 86.59999999999995, 89.59999999999997, 74.79999999999998, 82.39999999999996, 82.19999999999996, 83.79999999999995, 90.19999999999996, 77.39999999999998, 80.99999999999996, 89.39999999999998, 89.19999999999996, 86.19999999999996, 82.39999999999995, 84.39999999999998, 85.19999999999997, 88.39999999999996, 77.59999999999997, 80.39999999999998, 82.39999999999996, 81.19999999999997, 86.59999999999998, 79.19999999999995, 67.59999999999995, 81.39999999999998, 86.19999999999996, 82.19999999999999, 91.39999999999996, 85.19999999999996, 74.19999999999997, 82.79999999999998, 79.99999999999997, 83.59999999999998, 88.19999999999996, 82.59999999999997, 86.19999999999996, 91.39999999999998, 79.59999999999998, 81.99999999999994, 88.39999999999998, 81.99999999999997, 81.19999999999997, 85.99999999999997, 80.59999999999998, 79.19999999999997, 88.99999999999997, 86.19999999999995, 85.59999999999998, 86.99999999999996, 86.19999999999999, 84.79999999999998, 76.99999999999999, 95.19999999999999, 80.59999999999995, 80.19999999999996, 84.59999999999998, 77.99999999999997, 78.59999999999998, 84.79999999999995, 82.39999999999998, 84.59999999999997, 90.19999999999996, 87.39999999999999, 88.19999999999996, 78.19999999999997, 78.79999999999995, 88.19999999999995, 82.59999999999997, 87.19999999999995, 83.59999999999997, 89.59999999999997, 80.59999999999995, 89.19999999999995, 77.59999999999998, 78.99999999999997, 82.19999999999997, 86.39999999999996, 81.19999999999996, 78.39999999999995, 79.39999999999998, 82.99999999999994, 75.99999999999997, 87.39999999999996, 89.59999999999995, 84.99999999999997, 89.99999999999997, 86.79999999999995, 87.99999999999996, 83.19999999999996, 86.19999999999995, 86.59999999999997, 79.59999999999997, 73.99999999999997, 77.79999999999998, 92.99999999999996, 76.79999999999997, 79.39999999999998, 90.99999999999997, 82.19999999999995, 88.59999999999997, 78.99999999999997, 87.99999999999997, 77.19999999999996, 83.19999999999996, 83.59999999999998, 84.59999999999995, 81.59999999999997, 83.39999999999996, 83.59999999999995, 88.79999999999997, 91.59999999999995, 78.19999999999996, 80.99999999999997, 77.59999999999997, 81.59999999999997, 86.39999999999998, 86.99999999999997, 76.19999999999996, 86.99999999999997, 87.39999999999995, 80.79999999999998, 82.59999999999998, 74.99999999999997, 85.39999999999995, 78.99999999999997, 86.99999999999997, 78.19999999999997, 78.59999999999998, 85.39999999999996, 84.39999999999996, 77.59999999999997, 81.19999999999996, 83.59999999999997, 84.39999999999993, 87.99999999999996, 79.59999999999997, 83.59999999999994, 89.79999999999997, 91.39999999999996, 82.39999999999998, 85.79999999999997, 79.19999999999995, 78.99999999999996, 83.59999999999995, 90.79999999999997, 87.99999999999994, 88.19999999999997, 87.59999999999997, 85.39999999999996, 88.99999999999996, 80.39999999999995, 85.19999999999997, 86.39999999999998, 90.39999999999998, 81.99999999999994, 87.99999999999997, 87.59999999999997, 76.79999999999995, 89.79999999999997, 79.99999999999997, 83.79999999999997, 89.39999999999995, 86.19999999999996, 85.79999999999997, 87.59999999999997, 93.99999999999997, 78.79999999999997, 85.79999999999997, 78.79999999999998, 79.99999999999997, 85.99999999999997, 91.39999999999998, 90.59999999999995, 86.39999999999998, 86.99999999999997, 91.39999999999996, 86.19999999999996, 83.39999999999996, 81.19999999999996, 81.99999999999997, 87.99999999999996, 78.79999999999997, 77.99999999999996, 90.59999999999995, 83.59999999999997, 92.19999999999997, 85.99999999999997, 80.59999999999995, 80.19999999999997, 87.99999999999994, 74.59999999999998, 86.59999999999995, 80.79999999999997, 75.79999999999994, 68.79999999999998, 85.59999999999997, 77.79999999999998, 81.59999999999997, 81.39999999999998, 85.39999999999996, 83.99999999999997, 84.8, 86.59999999999998, 76.99999999999997, 90.39999999999995, 83.39999999999995, 84.39999999999996, 80.39999999999998, 79.39999999999998, 80.99999999999996, 85.19999999999996, 92.59999999999997, 89.39999999999998, 86.19999999999997, 86.59999999999997, 88.59999999999997, 80.39999999999998, 86.99999999999997, 77.59999999999995, 84.99999999999996, 81.59999999999997, 79.99999999999996, 84.19999999999997, 86.39999999999998, 88.59999999999998, 83.39999999999996, 80.39999999999998, 87.99999999999996, 81.79999999999995, 78.59999999999998, 76.39999999999998, 82.99999999999997, 81.79999999999995, 83.99999999999997, 86.99999999999996, 83.79999999999997, 81.39999999999995, 85.79999999999995, 77.39999999999998, 78.39999999999999, 82.79999999999995, 84.59999999999998, 80.39999999999998, 87.19999999999996, 81.59999999999998, 87.59999999999997, 75.79999999999995, 80.79999999999995, 78.39999999999998, 67.59999999999997, 92.19999999999997, 92.19999999999995, 83.79999999999997, 83.59999999999998, 82.39999999999998, 83.39999999999995, 85.99999999999997, 87.19999999999995, 82.19999999999997, 82.39999999999998, 78.99999999999996, 89.8, 82.39999999999998, 74.39999999999996, 89.79999999999997, 81.79999999999994, 92.99999999999997, 81.19999999999996, 85.59999999999997, 84.59999999999997, 81.79999999999997, 83.79999999999995, 80.59999999999997, 84.19999999999997, 82.79999999999995, 77.99999999999997, 75.79999999999998, 86.99999999999997, 80.19999999999997, 85.99999999999997, 90.99999999999996, 88.39999999999998, 87.19999999999997, 79.79999999999997, 78.99999999999999, 82.19999999999996, 82.19999999999997, 79.99999999999996, 86.39999999999996, 79.59999999999995, 82.99999999999997, 87.59999999999997, 84.19999999999997, 88.59999999999997, 83.59999999999998, 90.99999999999994, 89.99999999999997, 76.59999999999997, 87.39999999999995, 90.79999999999998, 85.39999999999996, 79.59999999999997, 88.79999999999997, 84.59999999999997, 85.79999999999998, 80.59999999999997, 87.59999999999997, 84.59999999999995, 84.19999999999996, 78.79999999999997, 81.19999999999997, 82.19999999999996, 81.59999999999997, 75.79999999999998, 81.39999999999996, 81.99999999999999, 85.39999999999998, 80.79999999999995, 91.59999999999997, 84.39999999999995, 84.79999999999998, 73.59999999999997, 80.79999999999998, 82.79999999999998, 75.79999999999995, 74.39999999999998, 82.39999999999996, 86.19999999999996, 83.59999999999995, 83.79999999999997, 84.99999999999996, 81.79999999999997, 91.79999999999997, 81.99999999999996, 83.99999999999997, 86.99999999999997, 83.99999999999996, 88.39999999999998, 82.99999999999996, 84.99999999999997, 86.99999999999994, 84.79999999999997, 84.39999999999996, 81.39999999999998, 83.19999999999996, 84.39999999999995, 86.19999999999997, 91.79999999999997, 81.99999999999997, 84.79999999999998, 86.39999999999998, 84.59999999999995, 87.39999999999996, 89.79999999999995, 86.39999999999999, 85.6, 82.99999999999997, 84.79999999999998, 80.79999999999995, 85.59999999999997, 88.19999999999996, 84.79999999999995, 83.99999999999997, 76.19999999999996, 81.19999999999997, 83.99999999999996, 89.39999999999996, 87.19999999999999, 74.39999999999998, 82.19999999999999, 79.79999999999997, 84.79999999999995, 76.99999999999997, 84.19999999999996, 82.19999999999996, 86.99999999999997, 84.79999999999997, 81.79999999999995, 85.59999999999998, 80.19999999999997, 76.39999999999998, 76.79999999999998, 79.39999999999998, 79.19999999999999, 77.19999999999997, 86.79999999999995, 86.79999999999995, 84.79999999999997, 84.99999999999997, 81.99999999999997, 77.79999999999997, 76.19999999999996, 89.79999999999997, 81.19999999999997, 83.99999999999996, 85.79999999999998, 79.6, 90.19999999999997, 79.79999999999995, 80.39999999999996, 82.79999999999998, 82.99999999999996, 78.99999999999999, 80.19999999999997, 89.59999999999997, 89.79999999999995, 75.99999999999999, 79.59999999999997, 81.99999999999999, 82.59999999999997, 80.79999999999997, 86.79999999999997, 77.19999999999996, 85.79999999999997, 76.19999999999997, 88.19999999999999, 80.39999999999998, 82.79999999999995, 84.79999999999997, 81.59999999999997, 81.39999999999998, 82.79999999999998, 84.39999999999998, 79.39999999999996, 89.99999999999997, 76.19999999999996, 83.99999999999997, 83.59999999999997, 87.59999999999997, 75.39999999999998, 86.99999999999996, 89.79999999999997, 80.99999999999996, 81.19999999999997, 85.19999999999995, 83.79999999999995, 85.99999999999999, 83.99999999999996, 92.99999999999996, 84.39999999999996, 84.19999999999996, 74.39999999999995, 86.79999999999997, 81.8, 77.79999999999994, 71.99999999999999, 82.59999999999995, 82.59999999999997, 87.39999999999996, 89.39999999999998, 81.19999999999996, 85.99999999999996, 86.39999999999995, 85.39999999999996, 87.39999999999996, 86.99999999999997, 85.59999999999997, 81.39999999999996, 85.99999999999996, 74.19999999999997, 85.39999999999998, 75.19999999999997, 81.59999999999995, 83.99999999999997, 80.99999999999996, 84.59999999999998, 78.19999999999996, 81.59999999999997, 82.59999999999997, 90.19999999999997, 90.99999999999996, 86.99999999999997, 74.99999999999996, 87.19999999999996, 80.19999999999997, 89.99999999999997, 78.39999999999993, 78.39999999999998, 84.79999999999995, 85.39999999999998, 83.79999999999995, 79.59999999999997, 83.79999999999997, 83.39999999999996, 92.39999999999995, 83.59999999999998, 87.99999999999997, 88.19999999999996, 87.59999999999997, 86.59999999999995, 86.19999999999996, 83.59999999999997, 75.99999999999996, 86.59999999999997, 84.59999999999997, 77.99999999999997, 84.79999999999997, 87.99999999999996, 86.99999999999996, 84.59999999999998, 77.39999999999996, 90.59999999999998, 81.79999999999998, 78.99999999999996, 92.99999999999997, 86.19999999999996, 83.59999999999995, 87.59999999999997, 80.39999999999996, 87.39999999999995, 79.19999999999996, 82.79999999999995, 79.19999999999997, 81.39999999999998, 89.19999999999997, 80.99999999999999, 81.79999999999995, 88.59999999999998, 84.19999999999997, 83.59999999999994, 82.19999999999997, 82.59999999999997, 77.99999999999997, 91.79999999999998, 88.79999999999997, 91.19999999999997, 84.19999999999999, 77.19999999999995, 87.79999999999998, 82.79999999999995, 83.99999999999997, 82.99999999999997, 77.59999999999997, 86.99999999999996, 77.39999999999998, 82.39999999999996, 87.19999999999996, 77.39999999999998, 82.39999999999995, 81.39999999999996, 79.59999999999997, 77.99999999999997, 81.99999999999997, 84.19999999999999, 69.39999999999996, 80.39999999999996, 69.99999999999997, 82.39999999999996, 86.59999999999995, 86.79999999999998, 86.39999999999998, 77.59999999999997, 85.39999999999996, 78.59999999999998, 78.19999999999997, 92.79999999999998, 82.39999999999996, 82.59999999999995, 89.59999999999997, 85.19999999999996, 79.39999999999996, 84.59999999999997, 75.39999999999998, 81.79999999999997, 74.59999999999997, 83.19999999999996, 80.19999999999996, 85.19999999999996, 79.59999999999997, 91.79999999999995, 89.19999999999997, 85.39999999999995, 85.19999999999996, 77.99999999999999, 77.99999999999997, 81.79999999999998, 80.39999999999996, 74.19999999999997, 87.39999999999998, 90.59999999999997, 89.39999999999996, 87.19999999999996, 91.79999999999995, 86.19999999999997, 78.39999999999996, 84.39999999999999, 82.99999999999999, 75.39999999999998, 74.79999999999997, 88.19999999999997, 69.39999999999998, 77.39999999999996, 78.39999999999998, 82.59999999999997, 87.79999999999997, 85.19999999999997, 81.39999999999996, 82.79999999999997, 83.99999999999996, 76.19999999999997, 90.39999999999996, 77.39999999999998, 79.19999999999997, 82.79999999999997, 88.39999999999995, 79.19999999999996, 84.59999999999997, 88.99999999999996, 85.79999999999997, 77.99999999999997, 87.79999999999997, 75.8, 86.39999999999996, 81.19999999999997, 88.99999999999999, 91.59999999999997, 87.19999999999996, 89.19999999999996, 88.39999999999996, 77.39999999999998, 72.79999999999997, 80.39999999999996, 73.79999999999997, 82.99999999999999, 85.79999999999997, 93.19999999999997, 72.8, 82.39999999999995, 84.39999999999995, 83.19999999999996, 79.39999999999998, 76.59999999999998, 84.79999999999995, 79.59999999999997, 72.99999999999997, 83.99999999999997, 76.59999999999998, 80.79999999999995, 83.59999999999997, 77.39999999999996, 83.19999999999997, 86.79999999999997, 89.79999999999997, 82.19999999999995, 90.19999999999997, 85.39999999999996, 84.39999999999996, 95.59999999999995, 83.99999999999994, 79.59999999999995, 87.79999999999997, 84.39999999999998, 91.79999999999995, 83.59999999999997, 80.79999999999998, 87.59999999999997, 85.59999999999995, 81.19999999999997, 81.59999999999997, 92.79999999999997, 84.79999999999997, 90.39999999999996, 85.99999999999997, 87.39999999999998, 78.59999999999997, 87.79999999999997, 84.99999999999996, 87.39999999999996, 74.59999999999997, 84.19999999999996, 89.99999999999996, 82.39999999999996, 81.99999999999997, 88.19999999999996, 83.19999999999997, 80.19999999999997, 71.59999999999997, 87.19999999999997, 82.99999999999997, 77.19999999999996, 87.19999999999996, 82.19999999999997, 80.39999999999998, 77.39999999999996, 86.39999999999998, 84.19999999999997, 73.19999999999997, 80.6, 88.19999999999997, 89.39999999999996, 91.99999999999996, 92.19999999999993, 93.79999999999995, 84.19999999999996, 91.99999999999999, 78.39999999999996, 92.59999999999998, 86.39999999999996, 78.79999999999998, 88.79999999999997, 87.79999999999997, 76.59999999999997, 76.6, 76.19999999999997, 80.39999999999998, 86.79999999999997, 83.79999999999995, 73.59999999999998, 77.59999999999997, 88.59999999999995, 89.19999999999997, 83.79999999999997, 81.39999999999996, 80.19999999999996, 81.59999999999994, 80.59999999999998, 84.39999999999996, 79.39999999999998, 80.59999999999998, 80.99999999999996, 84.79999999999995, 82.79999999999998, 84.79999999999995, 83.59999999999995, 78.79999999999997, 84.59999999999997, 88.99999999999996, 76.19999999999997, 86.59999999999998, 83.39999999999995, 81.59999999999997, 81.99999999999997, 92.0, 94, 92, 90, 94, 88, 90, 90, 86, 86, 90, 90, 92, 92, 82, 86, 86, 88, 86, 84, 84, 94, 90, 86, 90, 86, 88, 86, 86, 90, 94, 88, 90, 90, 88, 84, 90, 88, 92, 82, 90, 88, 88, 86, 86, 84, 88, 90, 94, 90, 78, 92, 92, 90, 90, 90, 98, 86, 100, 80, 84, 86, 92, 90, 94, 92, 90, 92, 86, 90, 92, 84, 94, 78, 84, 96, 92, 90, 92, 98, 84, 92, 86, 92, 78, 86, 84, 94, 94, 90, 86, 94, 92, 88, 88, 84, 80, 80, 92, 86, 88, 82, 98, 90, 98, 96, 82, 86, 90, 90, 82, 92, 82, 78, 96, 88, 88, 90, 88, 96, 88, 90, 88, 92, 90, 82, 96, 86, 90, 82, 90, 86, 90, 88, 100, 80, 88, 80, 92, 86, 80, 82, 88, 86, 90, 86, 86, 88, 82, 84, 84, 90, 82, 98, 88, 94, 82, 96, 86, 84, 94, 88, 90, 94, 90, 88, 96, 94, 94, 94, 90, 82, 88, 88, 86, 88, 94, 90, 82, 92, 94, 86, 86, 92, 90, 88, 92, 72, 96, 84, 82, 86, 86, 86, 94, 84, 94, 90, 86, 86, 96, 88, 96, 96, 84, 92, 90, 90, 96, 90, 86, 88, 88, 82, 92, 84, 88, 88, 88, 84, 90, 92, 92, 92, 88, 86, 90, 90, 88, 92, 90, 90, 90, 88, 90, 86, 90, 88, 88, 92, 96, 86, 90, 90, 90, 78, 90, 86, 92, 90, 92, 94, 92, 86, 82, 92, 94, 98, 90, 90, 82, 94, 94, 92, 80, 96, 92, 92, 92, 86, 94, 92, 86, 92, 84, 88, 88, 90, 92, 96, 88, 94, 92, 96, 92, 94, 96, 92, 98, 88, 98, 92, 86, 90, 96, 88, 78, 82, 90, 94, 92, 92, 90, 86, 86, 90, 80, 96, 96, 88, 90, 86, 84, 90, 94, 84, 92, 90, 94, 86, 86, 86, 86, 92, 98, 88, 92, 86, 96, 84, 92, 90, 96, 92, 88, 92, 94, 92, 90, 88, 88, 94, 80, 92, 84, 80, 90, 84, 86, 94, 82, 90, 80, 88, 88, 92, 84, 92, 84, 88, 80, 82, 86, 86, 84, 86, 92, 88, 90, 92, 80, 94, 94, 88, 92, 84, 88, 92, 86, 84, 88, 88, 96, 86, 80, 86, 86, 90, 92, 90, 88, 94, 92, 98, 90, 90, 92, 84, 92, 94, 92, 88, 86, 92, 94, 78, 84, 96, 82, 84, 92, 90, 90, 84, 92, 88, 84, 84, 90, 94, 86, 96, 82, 90, 92, 90, 94, 82, 92, 88, 88, 82, 94, 90, 86, 86, 88, 90, 86, 86, 96, 94, 94, 92, 88, 92, 98, 90, 92, 96, 90, 90, 88, 86, 88, 78, 88, 86, 86, 88, 92, 96, 84, 88, 92, 96, 78, 80, 96, 90, 86, 86, 96, 90, 90, 78, 86, 94, 88, 82, 84, 92, 92, 92, 84, 86, 84, 90, 86, 80, 86, 92, 86, 92, 90, 86, 88, 84, 88, 84, 86, 86, 86, 92, 86, 86, 86, 84, 86, 88, 90, 84, 94, 86, 92, 82, 80, 88, 84, 84, 92, 84, 86, 90, 86, 96, 92, 88, 90, 94, 84, 90, 86, 84, 86, 96, 82, 90, 92, 86, 94, 90, 76, 86, 96, 96, 82, 90, 88, 90, 86, 88, 84, 84, 90, 100, 86, 78, 98, 82, 78, 88, 88, 94, 84, 88, 90, 92, 86, 96, 92, 90, 84, 96, 90, 88, 82, 92, 92, 90, 94, 90, 90, 94, 94, 80, 96, 88, 82, 90, 92, 86, 82, 86, 92, 78, 90, 76, 82, 84, 88, 96, 92, 96, 96, 92, 90, 84, 90, 84, 84, 88, 88, 88, 86, 86, 90, 92, 84, 86, 88, 94, 92, 90, 82, 92, 86, 86, 86, 96, 92, 84, 88, 90, 86, 90, 90, 92, 88, 98, 94, 94, 88, 92, 90, 96, 90, 94, 92, 92, 84, 88, 88, 90, 86, 84, 90, 94, 90, 90, 94, 88, 94, 90, 92, 90, 88, 92, 92, 86, 90, 88, 86, 92, 86, 90, 90, 88, 86, 90, 82, 80, 92, 94, 92, 90, 90, 82, 96, 88, 88, 92, 96, 84, 82, 84, 86, 88, 88, 92, 92, 86, 84, 88, 90, 90, 92, 86, 88, 92, 92, 90, 84, 84, 90, 88, 94, 82, 88, 92, 92, 90, 92, 82, 86, 92, 94, 92, 92, 94, 96, 92, 80, 82, 88, 80, 92, 88, 92, 90, 92, 86, 84, 94, 88, 78, 90, 86, 92, 90, 82, 90, 84, 96, 90, 94, 90, 92, 92, 86, 86, 90, 88, 84, 86, 90, 84, 94, 92, 86, 80, 94, 84, 90, 88, 90, 88, 84, 80, 82, 82, 86, 94, 92, 94, 84, 86, 94, 94, 88, 92, 86, 88, 90, 88, 82, 86, 90, 82, 80, 94, 90, 86, 92, 98, 90, 90, 92, 92, 94, 94, 92, 92, 88, 76, 92, 86, 84, 86, 92, 94, 94, 82, 92, 92, 94, 92, 88, 88, 86, 88, 84, 88, 84, 78, 78, 90, 90, 86, 88, 88, 86, 90, 86, 86, 90, 94, 86, 90, 88, 90, 84, 88, 82, 90, 86, 88, 88, 90, 90, 88, 94, 84, 96, 84, 88, 94, 94, 94, 90, 86, 96, 90, 82, 92, 92, 92, 94, 96, 90, 90, 92, 88, 92, 88, 84, 98, 94, 88, 98, 90, 94, 94, 94, 86, 80, 84, 94, 92, 80, 92, 84, 96, 88, 92, 90, 98, 88, 88, 76, 92, 84, 84, 84, 94, 92, 94, 96, 92, 84, 96, 76, 92, 78, 90, 88, 92, 88, 94, 88, 94, 82, 84, 90, 94, 96, 90, 92, 92, 92, 92, 90, 82, 84, 86, 80, 92, 94, 94, 84, 88, 92, 86, 90, 90, 86, 88, 88, 90, 92, 92, 84, 96, 88, 92, 88, 86, 84, 94, 86, 90, 82, 88, 92, 94, 86, 90, 92, 92, 98, 90, 94, 88, 86, 92, 82, 82, 90, 94, 94, 94, 92, 88, 90, 80, 84, 82, 92, 88, 86, 92, 88, 90, 82, 90, 92, 84, 90, 94, 90, 92, 90, 84, 86, 84, 96, 98, 92, 94, 84, 94, 94, 80, 86, 94, 92, 90, 90, 98, 88, 88, 84, 90, 86, 78, 92, 80, 84, 86, 94, 86, 86, 86, 96, 92, 88, 88, 92, 98, 88, 84, 92, 96, 82, 90, 88, 92, 82, 94, 82, 84, 94, 90, 88, 90, 96, 82, 88, 96, 92, 86, 84, 90, 88, 96, 86, 90, 86, 90, 78, 84, 92, 84, 82, 92, 82, 84, 82, 80, 78, 86, 90, 88, 90, 92, 90, 88, 86, 82, 84, 92, 96, 94, 86, 90, 80, 92, 88, 90, 92, 96, 92, 88, 96, 92, 90, 88, 90, 92, 92, 90, 80, 90, 90, 84, 88, 94, 96, 88, 92, 82, 86, 82, 88, 92, 90, 80, 92, 96, 88, 88, 82, 80, 86, 86, 84, 88, 96, 84, 82, 86, 76, 96, 90, 88, 80, 90, 88, 86, 86, 76, 92, 92, 92, 84, 84, 92, 86, 82, 92, 84, 84, 92, 82, 88, 86, 92, 90, 82, 92, 88, 92, 88, 86, 90, 84, 80, 86, 84, 88, 92, 88, 82, 96, 88, 90, 92, 96, 90, 90, 84, 82, 88, 90, 84, 92, 92, 92, 94, 88, 88, 86, 98, 90, 84, 84, 84, 88, 94, 94, 88, 84, 90, 88, 84, 86, 88, 84, 90, 92, 94, 82, 82, 90, 94, 92, 86, 88, 82, 88, 94, 94, 88, 90, 86, 84, 94, 90, 74, 80, 88, 86, 88, 92, 82, 78, 84, 88, 90, 88, 88, 92, 92, 84, 90, 84, 90, 82, 92, 86, 88, 90, 94, 86, 88, 88, 90, 86, 88, 88, 86, 94, 92, 92, 90, 96, 88, 84, 94, 86, 92, 92, 84, 84, 92, 90, 86, 92, 88, 94, 92, 92, 92, 86, 94, 90, 94, 86, 96, 84, 88, 88, 90, 84, 90, 90, 92, 90, 92, 84, 78, 90, 84, 82, 92, 88, 92, 94, 82, 90, 86, 90, 92, 88, 94, 80, 94, 88, 92, 92, 94, 94, 86, 90, 92, 90, 98, 90, 94, 90, 90, 88, 92, 90, 90, 86, 88, 90, 94, 84, 82, 96, 98, 86, 80, 86, 96, 90, 94, 90, 82, 82, 86, 88, 86, 90, 86, 92, 90, 90, 86, 98, 88, 80, 98, 94, 78, 96, 92, 90, 84, 92, 96, 90, 88, 84, 82, 84, 96, 82]\n",
            "[0, 88, 92, 84, 92, 90, 80, 88, 94, 84, 84, 88, 88, 90, 86, 98, 84, 86, 80, 96, 92, 86, 92, 82, 90, 98, 88, 88, 88, 86, 92, 86, 86, 94, 86, 88, 86, 88, 92, 84, 88, 94, 96, 92, 94, 90, 92, 96, 92, 92, 96, 86, 92, 86, 84, 90, 78, 90, 84, 84, 90, 94, 92, 84, 88, 96, 90, 80, 84, 96, 90, 84, 90, 92, 92, 86, 80, 84, 98, 84, 82, 86, 94, 88, 92, 86, 86, 84, 94, 82, 80, 82, 96, 90, 92, 86, 86, 84, 92, 84, 88, 84, 84, 90, 90, 84, 88, 78, 88, 90, 86, 92, 84, 94, 86, 86, 84, 84, 84, 82, 90, 90, 84, 90, 86, 90, 94, 88, 88, 96, 94, 80, 94, 78, 88, 90, 94, 82, 86, 90, 94, 92, 86, 74, 92, 96, 94, 84, 90, 88, 90, 82, 92, 80, 86, 94, 98, 80, 86, 96, 80, 74, 90, 94, 84, 92, 90, 88, 90, 90, 92, 94, 88, 86, 98, 86, 84, 86, 90, 98, 88, 94, 90, 90, 96, 88, 86, 94, 84, 82, 94, 86, 90, 78, 92, 90, 76, 92, 72, 88, 82, 90, 96, 94, 96, 96, 86, 90, 88, 80, 88, 88, 90, 88, 82, 88, 86, 92, 92, 86, 82, 92, 92, 90, 94, 82, 94, 80, 88, 86, 100, 86, 84, 92, 88, 86, 94, 88, 88, 94, 98, 92, 94, 90, 90, 92, 92, 94, 90, 94, 90, 84, 86, 90, 90, 84, 88, 90, 94, 88, 92, 92, 92, 92, 92, 90, 86, 90, 94, 88, 86, 92, 90, 84, 90, 90, 90, 88, 88, 86, 90, 84, 78, 96, 92, 94, 88, 86, 86, 98, 86, 88, 92, 96, 86, 78, 88, 84, 84, 94, 92, 86, 86, 86, 90, 88, 92, 92, 82, 94, 90, 90, 86, 86, 90, 88, 86, 90, 82, 92, 94, 86, 96, 92, 80, 88, 90, 98, 88, 96, 90, 96, 88, 82, 86, 86, 82, 90, 90, 86, 92, 92, 88, 86, 94, 82, 84, 90, 86, 90, 86, 86, 92, 86, 96, 88, 94, 88, 90, 96, 84, 86, 92, 84, 84, 90, 90, 82, 92, 96, 80, 84, 98, 84, 88, 90, 90, 84, 84, 82, 82, 80, 86, 96, 90, 94, 88, 82, 96, 92, 90, 90, 86, 90, 90, 82, 86, 90, 84, 80, 86, 96, 84, 90, 94, 94, 92, 90, 90, 94, 90, 94, 96, 94, 82, 82, 86, 86, 82, 94, 90, 92, 94, 82, 94, 92, 92, 92, 90, 86, 88, 82, 88, 86, 82, 78, 84, 90, 86, 92, 80, 92, 88, 86, 84, 92, 92, 90, 88, 88, 90, 84, 90, 82, 86, 88, 90, 86, 88, 88, 94, 88, 90, 88, 94, 84, 90, 92, 96, 92, 88, 92, 92, 88, 86, 92, 90, 94, 96, 92, 90, 90, 94, 86, 94, 82, 90, 100, 90, 92, 94, 94, 92, 94, 92, 80, 86, 86, 92, 92, 78, 98, 84, 96, 84, 94, 92, 96, 82, 86, 86, 88, 86, 80, 90, 90, 94, 94, 94, 88, 92, 90, 80, 88, 80, 92, 88, 90, 90, 94, 88, 90, 86, 84, 90, 96, 94, 90, 92, 92, 88, 94, 86, 86, 84, 84, 86, 88, 98, 84, 94, 88, 90, 82, 94, 86, 90, 86, 84, 92, 94, 96, 80, 94, 90, 94, 86, 86, 86, 92, 90, 86, 80, 94, 92, 92, 88, 84, 94, 96, 96, 92, 90, 88, 84, 98, 76, 84, 94, 94, 92, 94, 90, 90, 84, 86, 82, 84, 90, 86, 90, 90, 86, 92, 86, 88, 90, 86, 92, 92, 88, 96, 84, 88, 86, 86, 96, 96, 88, 92, 90, 92, 90, 86, 86, 96, 92, 88, 92, 94, 90, 84, 86, 86, 88, 84, 84, 84, 84, 88, 90, 92, 84, 88, 96, 86, 90, 88, 96, 94, 84, 90, 94, 92, 84, 82, 98, 84, 90, 90, 80, 88, 92, 90, 90, 88, 96, 80, 92, 96, 90, 84, 88, 88, 88, 96, 90, 90, 82, 92, 76, 86, 84, 88, 84, 94, 76, 86, 86, 76, 82, 84, 94, 84, 92, 90, 88, 90, 80, 90, 84, 92, 96, 92, 86, 88, 84, 90, 92, 86, 94, 96, 90, 92, 90, 96, 90, 86, 88, 98, 90, 86, 82, 90, 84, 90, 90, 96, 92, 88, 92, 84, 80, 84, 92, 92, 84, 82, 96, 90, 94, 84, 82, 82, 86, 86, 86, 90, 94, 80, 82, 84, 84, 94, 88, 84, 88, 86, 80, 92, 82, 82, 94, 90, 92, 86, 86, 90, 80, 88, 88, 86, 86, 84, 90, 84, 88, 94, 88, 84, 92, 88, 92, 84, 88, 92, 78, 86, 82, 86, 90, 92, 86, 86, 90, 92, 86, 96, 94, 88, 88, 88, 80, 90, 90, 84, 92, 92, 94, 90, 94, 86, 88, 98, 86, 80, 84, 88, 90, 94, 94, 84, 86, 90, 88, 80, 92, 78, 92, 90, 96, 90, 80, 88, 88, 94, 86, 84, 92, 84, 90, 96, 90, 90, 90, 82, 90, 92, 88, 72, 80, 88, 92, 84, 92, 78, 78, 88, 90, 88, 90, 86, 96, 90, 84, 88, 88, 88, 84, 86, 86, 90, 92, 92, 84, 90, 84, 96, 84, 92, 84, 86, 94, 92, 92, 94, 92, 88, 86, 96, 80, 94, 92, 84, 86, 94, 86, 86, 96, 86, 92, 94, 88, 94, 86, 94, 94, 90, 86, 100, 80, 88, 88, 90, 86, 90, 88, 92, 86, 96, 80, 84, 84, 84, 84, 94, 86, 94, 96, 82, 88, 88, 88, 90, 92, 90, 86, 88, 90, 94, 92, 96, 94, 82, 90, 92, 92, 96, 92, 90, 92, 88, 86, 100, 88, 88, 86, 90, 90, 94, 76, 92, 96, 96, 80, 84, 88, 98, 86, 96, 90, 80, 82, 90, 88, 86, 88, 86, 88, 92, 90, 88, 94, 90, 84, 96, 86, 86, 96, 92, 90, 86, 90, 94, 92, 88, 78, 80, 94, 94]\n",
            "[0.0, 0.0594059405940594, 0.04975124378109453, 0.059800664451827246, 0.05486284289276808, 0.05389221556886228, 0.06156405990016639, 0.06134094151212553, 0.05742821473158552, 0.05993340732519423, 0.061938061938061936, 0.061762034514078114, 0.061615320566194835, 0.06072252113758647, 0.06138472519628837, 0.057961359093937376, 0.05933791380387258, 0.059964726631393295, 0.06218767351471405, 0.05996843766438716, 0.05897051474262868, 0.05949547834364588, 0.05860972285324852, 0.05997392438070404, 0.059558517284464804, 0.057576969212315074, 0.05767012687427912, 0.05775638652350981, 0.057836486968939664, 0.058255773871078935, 0.05764745084971676, 0.058045791680103195, 0.058419243986254296, 0.05755831566192063, 0.057924139958835635, 0.057983433304770064, 0.0583171341294085, 0.05836260470143204, 0.05787950539331755, 0.058446552166111256, 0.058485378655336165, 0.05779078273591807, 0.056891216377053085, 0.05649848872355266, 0.05589638718473074, 0.05576538546989558, 0.055422734188219955, 0.054669219315039354, 0.05436367423453447, 0.05407059783717608, 0.05338932213557288, 0.053714957851401686, 0.05345125937319746, 0.053763440860215055, 0.05424921310868358, 0.05417196873295765, 0.05516871987145153, 0.05507805648131907, 0.055507671091191174, 0.05592272496187087, 0.05582402932844526, 0.055400753974758236, 0.055152394775036286, 0.05554673861291858, 0.05561630995157007, 0.0550684510075373, 0.05499166792910165, 0.05566333383077152, 0.056021173356859286, 0.055499203014055934, 0.05542065419225825, 0.05576679340937896, 0.055686710179141785, 0.05547185317079852, 0.05526280232401027, 0.05545927209705372, 0.056045257202999604, 0.056356317361381636, 0.055762081784386616, 0.056068852044045055, 0.05649293838270216, 0.05665967164547587, 0.056334593342275335, 0.056378749548247196, 0.056183787644328055, 0.056346312198564875, 0.0565050575514475, 0.05677508332375589, 0.05647085558459266, 0.056847545219638244, 0.05732696367070326, 0.05768596857488188, 0.057276383001847626, 0.05719815073647995, 0.05701521114775024, 0.057151878749605305, 0.05728569940631184, 0.05751984331512215, 0.057341087644117945, 0.05756994243005757, 0.0575942405759424, 0.057816057816057816, 0.05803352612488972, 0.057955538297252696, 0.05787905009133737, 0.05808970574231025, 0.058107725686256016, 0.058592654892066165, 0.058605684658827886, 0.05852674066599395, 0.05863103354240524, 0.05846320151337717, 0.05865547718953665, 0.05840191133528006, 0.058503640031576175, 0.05860359968698374, 0.05878803551417981, 0.058969318861635756, 0.05914752987034997, 0.05940677254012268, 0.05932838930089159, 0.05925130154532683, 0.059421358905007785, 0.05934476871799041, 0.05943069107330054, 0.05935525157987361, 0.0591222918815967, 0.059129202425005904, 0.05913600499960941, 0.058832648631889, 0.05861087608645489, 0.05892679948095565, 0.05870767366108628, 0.0590933012555447, 0.05910006715916723, 0.05903266424709281, 0.05881920447025954, 0.05904678490621122, 0.05912615027896529, 0.05906049924465866, 0.0588529390757803, 0.05871923977022906, 0.05879867614956693, 0.059296552688623175, 0.05916255815568363, 0.05889249017309151, 0.05869460995822204, 0.05883953472552888, 0.05877981217485305, 0.05878800080531508, 0.058729418038797415, 0.05893649427190252, 0.05881192026840339, 0.05908110581007777, 0.059152003116680736, 0.05896393781046384, 0.05865008653291456, 0.058913445003502964, 0.05898360863236504, 0.05873844412301113, 0.058996312730454345, 0.059437302030929756, 0.059379050675884205, 0.059198822158149804, 0.05932565087494665, 0.059208532816192955, 0.05915306306848985, 0.05915813424345848, 0.059103624784239035, 0.05904976036920892, 0.05893770954649726, 0.058768493070580664, 0.05877565257833847, 0.05884052944916479, 0.05855985288201827, 0.05862522141591909, 0.058746662121470374, 0.05881023670979041, 0.058760743778439414, 0.05848835260599967, 0.05849675018054552, 0.058339318269708854, 0.05829350035712323, 0.0582481831593902, 0.05804032389544046, 0.058050916166693695, 0.058115155099188215, 0.0579648147157906, 0.058082016913993936, 0.05825088619649754, 0.05810220514709752, 0.05816449400554945, 0.05812197281391594, 0.05839075695559816, 0.05829596412556054, 0.05825342290138967, 0.05856844038569461, 0.05847418912745546, 0.058885914852785215, 0.05889151298929702, 0.05904704764761762, 0.059002039699517436, 0.05880896985297757, 0.058667060735924335, 0.05847752561148963, 0.058289839520023416, 0.05834668219989321, 0.058306362011497026, 0.058314504110379306, 0.05851394670111478, 0.05852102280843769, 0.058528031846831904, 0.058487807178906656, 0.05849490634242524, 0.0586421195271249, 0.05864843495651365, 0.05870098606545993, 0.05861481037740196, 0.05852942525572222, 0.05858179991781197, 0.058724603427116946, 0.058639880548391476, 0.058555920904463765, 0.05851755526657997, 0.058390250435248425, 0.058530731967468115, 0.05840449537631078, 0.0585877274128893, 0.058593921319240384, 0.05864372734815074, 0.058388765705838876, 0.05843902861347994, 0.0585319598293177, 0.05845242693446633, 0.058459040211956755, 0.05850814858942173, 0.05838735646794627, 0.058394160583941604, 0.058400907524893915, 0.058282080247688384, 0.05808091329527936, 0.058005891871706565, 0.05789016982769307, 0.05785770132916341, 0.05782549895496086, 0.0577527447859271, 0.05768058209015894, 0.05756851949313793, 0.057538002499899196, 0.057427412553712705, 0.057397704091836324, 0.05748774949205211, 0.05753739930955121, 0.0575076083949251, 0.05747805204519507, 0.05756636994627662, 0.057575875942346005, 0.057546398972802615, 0.05743963412270842, 0.05744951932357824, 0.057382408368908885, 0.05731581165472587, 0.05724972329300408, 0.05718413748526672, 0.05711904852088936, 0.05709218520055847, 0.05714070899590241, 0.05711396576907232, 0.057012798029924254, 0.05702390245715773, 0.05707196029776675, 0.05700896645880226, 0.05698319914709018, 0.05706750668473682, 0.05704171380606547, 0.05701610850514527, 0.05699068874316148, 0.05700155229053103, 0.05701233768569476, 0.057058886778251675, 0.0570336773686654, 0.05711540514572435, 0.0573029325201234, 0.05717112469524045, 0.05711066511742544, 0.057015543314269675, 0.057025978112653405, 0.05707118218877391, 0.05711607235859866, 0.05695304660738383, 0.05699803455053274, 0.057008350228514484, 0.05695010444847779, 0.056823999180915324, 0.056868813985918844, 0.05704891359614928, 0.057058883145839664, 0.05713612336284973, 0.057212845206536696, 0.05712183539012073, 0.05706476450784974, 0.0571077372844756, 0.057150425482599916, 0.057192831919738625, 0.05716917206670833, 0.05717845316546998, 0.057122316264174376, 0.057066545063678704, 0.05717346839388331, 0.05708553121258212, 0.05706267539756782, 0.057039966560560755, 0.057081503797955194, 0.05712277563017156, 0.0571000923537467, 0.05710929811752008, 0.0571500901870194, 0.05712753540897764, 0.05723090468853181, 0.05717689100655152, 0.057091965876066374, 0.05713217656770817, 0.05701686283034688, 0.05696418067552088, 0.05709700317891423, 0.057105935201993786, 0.057084138523358176, 0.05694015473532919, 0.05694948324746197, 0.05683717820127048, 0.05681646010726948, 0.056705235491374885, 0.05671515918195235, 0.05681511065733762, 0.05685458519206012, 0.05689382406495329, 0.056992351418112555, 0.05697160321652177, 0.05695097778172244, 0.056989469337187695, 0.05693950177935943, 0.05688982727779244, 0.05689892108417882, 0.05693711553599021, 0.056858812243830124, 0.05695487087330802, 0.05702147336782174, 0.057001239157372985, 0.05703859084509066, 0.057018423540872755, 0.057055512699637156, 0.05709239053018433, 0.057043833981989145, 0.057080535962154046, 0.05697579164430383, 0.05698431030111828, 0.05690851380579197, 0.056917173188426096, 0.05689785201530684, 0.056795075346090636, 0.056859531679675564, 0.05689593086064098, 0.05684925830778155, 0.05691303269882372, 0.05697645669075026, 0.056957343634420975, 0.056938335018168904, 0.05702841884417318, 0.05698214722426021, 0.056881927319042846, 0.05699845950109456, 0.05706045659146654, 0.05693395338834978, 0.056995790997560386, 0.05700382342718109, 0.056985147062745, 0.056966570038030906, 0.057027665048672446, 0.057088436813840904, 0.05717527242025276, 0.05726165100918397, 0.05737382220939083, 0.05740687416559776, 0.05730920863685021, 0.057290174735032943, 0.05721929300537648, 0.057226496722882825, 0.05731118058964885, 0.05721502023143733, 0.05717076681833372, 0.05715238070818697, 0.05713408864223422, 0.05716690900742328, 0.057148673061754154, 0.057130529681987764, 0.05721374142426774, 0.057246029140678265, 0.057227777637842876, 0.057284992839375895, 0.05739204531214757, 0.05742356441088973, 0.057330241141118676, 0.057386632173329025, 0.05736830351604179, 0.05730056186728051, 0.057233154736920075, 0.05719070958843378, 0.05717304243138989, 0.05715546187593441, 0.05708906872692599, 0.05707177873710397, 0.0570059122649084, 0.056916094269556565, 0.05685092370644779, 0.056930992005024036, 0.05701067444157972, 0.057041898031297326, 0.05707297187117815, 0.057151742781273177, 0.05708694303238586, 0.057070069760243806, 0.057029524239329235, 0.05696547475178313, 0.05704356870995957, 0.056979788212542154, 0.056939836709724474, 0.05690007276824487, 0.05686049507037306, 0.05684446625078853, 0.056875131115824804, 0.056882398083765495, 0.05695923528456416, 0.05696627392884424, 0.056996374217685504, 0.05707241768622843, 0.05719408749224156, 0.057246393431343315, 0.05722981167479005, 0.05725896669025821, 0.05721965331085852, 0.05731687916183723, 0.057277612752545295, 0.05728377186036515, 0.05731247601634275, 0.05736357289250242, 0.05732455450439316, 0.05728571108271115, 0.05726941231739782, 0.05727550724314189, 0.057281575020600876, 0.05726539410235328, 0.057315802310370055, 0.057299617265104755, 0.057371801946976886, 0.057399616748529766, 0.05740533175095053, 0.05738909234446613, 0.05741668672457933, 0.057422327023427436, 0.0574279427463454, 0.05736831808004174, 0.05737402659378321, 0.05735806584273068, 0.057363771840780974, 0.05730479946552876, 0.05735360529881078, 0.05733782536855432, 0.05730070019913921, 0.05722099955129164, 0.05718428178503657, 0.05719027254739261, 0.05715377592832424, 0.05711743395267049, 0.05712352804380457, 0.05715069302335394, 0.05711458706132502, 0.0570996407638495, 0.05704282929079055, 0.05696533545323319, 0.0569299179557838, 0.05691548092748068, 0.05690110392715328, 0.056845293666106515, 0.05687252851907828, 0.056817007913059644, 0.05688542504278262, 0.05687125779304952, 0.05675448142748609, 0.05674064056064425, 0.05670640682194638, 0.05665190506316198, 0.056597625302946986, 0.05656389097782565, 0.05651000993894647, 0.056476589542721806, 0.056564513848205086, 0.05659160097578678, 0.05661857910303616, 0.05658520913234674, 0.05655197290635458, 0.056658866822663544, 0.05656573721083411, 0.05661241807932113, 0.05653963141885847, 0.05658617884565782, 0.056533533989425955, 0.056500859666805, 0.05642886728072424, 0.056494950886793564, 0.05652148287852891, 0.056547910825277936, 0.056554666249192774, 0.05658092615378606, 0.05666556207481336, 0.056652594307503745, 0.05663967689947768, 0.056588050619174046, 0.05653662404982496, 0.05648539603482558, 0.05649216778096761, 0.05646045268360224, 0.05644805282048329, 0.056531484071186376, 0.056538115906005625, 0.056621056850060116, 0.05658939829717529, 0.05659588220756259, 0.05658336653953435, 0.056570898278441695, 0.0565206706867545, 0.056527235335182356, 0.05651494322140826, 0.056540290596041425, 0.05658430423444213, 0.056571974307597236, 0.05650361675482701, 0.05645417063114494, 0.056442151915234356, 0.05641159086262337, 0.05638114320699059, 0.056387844669543156, 0.05633906951812351, 0.05636427372188705, 0.05638938509419716, 0.05643278616201908, 0.05647602796278967, 0.056500796688705335, 0.05650719365276686, 0.05642232805970694, 0.05646527385657821, 0.05641715605170815, 0.0564236583728063, 0.05641202152134925, 0.05647275817797146, 0.056424974278442626, 0.05644943334354336, 0.05643783385190914, 0.05646218200750435, 0.05650436372108027, 0.05647483944831041, 0.056427563793503686, 0.056362631682144705, 0.05644027686340101, 0.05639331450595904, 0.056381979042924774, 0.056335286101130956, 0.05635942827865232, 0.05638348530008289, 0.05640745761518283, 0.05637862251981512, 0.05636743215031315, 0.05639130663210802, 0.05646754427370151, 0.05642135390307324, 0.0563927457709796, 0.05636423714370185, 0.056370549122411066, 0.05641150066723281, 0.05636580681995121, 0.056302999948187424, 0.056240409648109516, 0.05621245761690849, 0.05620178347451075, 0.05620829831392257, 0.0562490368315611, 0.056169980000341874, 0.05627890309039095, 0.056319313129248226, 0.056274553153857924, 0.05622994516222136, 0.056202437246826324, 0.05615810223177273, 0.056147700207766764, 0.05613733326588084, 0.05617750542920153, 0.056200736122081985, 0.05625744534487676, 0.056297214452019226, 0.05628668416916105, 0.05630957746949133, 0.05629906168230529, 0.05628858088883713, 0.05631135695420342, 0.05628430705958442, 0.056307014784523435, 0.056313118791424935, 0.05630270127555651, 0.05632526647007463, 0.05629841614447131, 0.0562716539958293, 0.05627776593826331, 0.056218392497667795, 0.056257250698517995, 0.05626335622583645, 0.05628572824546831, 0.05630802751174778, 0.05624908686547296, 0.05619033727168117, 0.056196501674730184, 0.05617033650506454, 0.05616038450992726, 0.05613436176551102, 0.05612449960611566, 0.05614677131988251, 0.056168971651095335, 0.05611110222236444, 0.05608536604846568, 0.05609160938422035, 0.05606598621041066, 0.056024546509594444, 0.056014983889144616, 0.056052994405793886, 0.05607506210344773, 0.05609706007803984, 0.05610321603760193, 0.05614084817561928, 0.05617836197544064, 0.05621575799437999, 0.05625303678625727, 0.05625890048669035, 0.056249121107482696, 0.056223771860033384, 0.05626080590645006, 0.05626662104788417, 0.05621030729336501, 0.05623168633044449, 0.05622203990650299, 0.056227879012689136, 0.05617197265474298, 0.0561316466618388, 0.05616836664051322, 0.05615889156848589, 0.05611877118449104, 0.05609408737997887, 0.05613064020427822, 0.056182348361093724, 0.05611194951296474, 0.05614830824492778, 0.05613896445342776, 0.05612964901898302, 0.05619611824063272, 0.05620187289148424, 0.05617739913294361, 0.05616808192938266, 0.05615879278926522, 0.056164568953850316, 0.05611026861458537, 0.056176069324297986, 0.056151854014161465, 0.05609781617614087, 0.05608871509380457, 0.05612434986065781, 0.05613011711135251, 0.05613586722336964, 0.05614160027299298, 0.056088057954696964, 0.05607905208502833, 0.05607007282019468, 0.05612011622247459, 0.056096375605661185, 0.05619035014190968, 0.05621062833144888, 0.05624550959663348, 0.05625100657384226, 0.0562857268168594, 0.0562473540532255, 0.05634028658474366, 0.05636016942984818, 0.056379994476824465, 0.05647232986458832, 0.05652091998666686, 0.05655489790306942, 0.05651652432768313, 0.05655041052798661, 0.05652656301782395, 0.0565171724147854, 0.056522176405511416, 0.0565128190413337, 0.0565751207002765, 0.056565714367462556, 0.056599191440122286, 0.0565755124748577, 0.0565234113474167, 0.056499907540433277, 0.05651908353574523, 0.05652402093587325, 0.05655727255987875, 0.056547997906677416, 0.056524625358398896, 0.05654363126048998, 0.0565062463908959, 0.05645490218140392, 0.05644583643488153, 0.05642277106912946, 0.05641377571742693, 0.05636284807205494, 0.056353961536850045, 0.05637299340316035, 0.056378044874026825, 0.05631354223167967, 0.05630477354481188, 0.05632376804759989, 0.05637041038212767, 0.056361599424627595, 0.0563942486982224, 0.05638542916649426, 0.05637663393066211, 0.05632659798352155, 0.056304171645993877, 0.05630924129984499, 0.056286900179449595, 0.05631933899673055, 0.056379011215693775, 0.05641123586308509, 0.056388877535728396, 0.05636658004652998, 0.056398690235187024, 0.0564442816244013, 0.05639489979810572, 0.056386246464865154, 0.056350589856893826, 0.056382504959447244, 0.056427810945944123, 0.05647299497987914, 0.05649117619386836, 0.05650930859988457, 0.05652739239420383, 0.05651865436875008, 0.05648320209622866, 0.05654130118422985, 0.0565859121878375, 0.056617088986831064, 0.05664818286990864, 0.056612793986799644, 0.056617286242888025, 0.056648256314485904, 0.056652689779235724, 0.05667032139601855, 0.05672748380628224, 0.05670544525105071, 0.056749253299298696, 0.05679294621621266, 0.05675778533090117, 0.056748928585470704, 0.05672700619101844, 0.05674435628292441, 0.05676166107492069, 0.056752845464857045, 0.056809156130779546, 0.056813305418655154, 0.05681744392929962, 0.056834541705036254, 0.056851595186590845, 0.056881540989120453, 0.05687265022415731, 0.0569024915807538, 0.05690648316387675, 0.05687185493108197, 0.05687587563141862, 0.05690555962054403, 0.056883886104024305, 0.05688787595549353, 0.05686628048234677, 0.05689582508524795, 0.05689978444152498, 0.05687825632794487, 0.05694584038371013, 0.05696242741515355, 0.057004352736640396, 0.05702082356370642, 0.05701193655776509, 0.056990429956637716, 0.05700685597404073, 0.05702324056443172, 0.057014395284694146, 0.05699299379882014, 0.05700933405359229, 0.056962898834393545, 0.0569291111640205, 0.0569329545312324, 0.056936788290146374, 0.05694061247674811, 0.05699430181668558, 0.05698559171118666, 0.05697690327234736, 0.05700550303722935, 0.056984404659991814, 0.05696335857052577, 0.05692998849024146, 0.056921422479326585, 0.05688818656559796, 0.056904353830408996, 0.05690816615558922, 0.05685046924392074, 0.05686662326015651, 0.05691954699942332, 0.05694783152167253, 0.056951567300277846, 0.056943069155633796, 0.05691017203697146, 0.05687735515420544, 0.05690551881219474, 0.05692144864417708, 0.056913038723709314, 0.05691678499047342, 0.05696900643628562, 0.05694846309366715, 0.0570126116975611, 0.056992065313220854, 0.05698363107803284, 0.05693907302321659, 0.05693072285532064, 0.0569824881912477, 0.05698611061091704, 0.05698972434383281, 0.05695740170776398, 0.056973002715278526, 0.057000513733408205, 0.05698022696626532, 0.05700766379423368, 0.05699932143664956, 0.05695532752285942, 0.05694706713696987, 0.05693882634844189, 0.05693060508761744, 0.056969740003076884, 0.05696150163709649, 0.0569414764878809, 0.05694508319477365, 0.05704290879966078, 0.0570934459594593, 0.05709686137648206, 0.057076794873299606, 0.0571036681867739, 0.05708364070678329, 0.05714553046163203, 0.057207275615939066, 0.057210534299483085, 0.0572021305112994, 0.057205387597350436, 0.05719700933710073, 0.05721187907225236, 0.057168710339787245, 0.05716040370331746, 0.05718683811529959, 0.05719009028797355, 0.05719333494994284, 0.05719657212719576, 0.05722284305480352, 0.05723754617323161, 0.057252215491775955, 0.057243889277964664, 0.05722411440235777, 0.057204384829497947, 0.05723046647063535, 0.05722220317482086, 0.057248204929167476, 0.057205733115927984, 0.05723169439983599, 0.0572120908749616, 0.05723798593197805, 0.05725247159510108, 0.05722157345154817, 0.057202070191730556, 0.05718261105643601, 0.057151896588739114, 0.0571325380074717, 0.05713577073539194, 0.05715025731692211, 0.05710846897110269, 0.057156661161110546, 0.05712618264665941, 0.057106983105570566, 0.05713261889564507, 0.05714701177839174, 0.05711668026055575, 0.05713105880514727, 0.05714540529091092, 0.05710404115767085, 0.05711838577991346, 0.05709936556260486, 0.05706928890911311, 0.057072537998470084, 0.05704255766824288, 0.057056890963595536, 0.05702699417685993, 0.056997163386717585, 0.05698944884841402, 0.05700377749143732, 0.056941067755030196, 0.056988384743024804, 0.05699169054126738, 0.05699498909003191, 0.05698732763058455, 0.057001564534304876, 0.056993912634834595, 0.05699719435377343, 0.05697865890230205, 0.05699284321521552, 0.056952590287374455, 0.05699938044151694, 0.05702435369865691, 0.05704927278446004, 0.057074137874995934, 0.057098949145572016, 0.057069653301045395, 0.05708361680759387, 0.057054400707651484, 0.05701447182681221, 0.0570499779334991, 0.057053149966129396, 0.05705631518458448, 0.05705947361079817, 0.05705190726787494, 0.0570336506033126, 0.05702612806280147, 0.057039988889007597, 0.057043147885294715, 0.057035639278898945, 0.05700684763740535, 0.05698875543877193, 0.05694944793360326, 0.05692083948153417, 0.056955917752727965, 0.056948549273842436, 0.05693061449085195, 0.05691271762454942, 0.056873739453648854, 0.05685594033818209, 0.056848716030389566, 0.05683098072651867, 0.05683431299355422, 0.05684814235144589, 0.05678849120156137, 0.05679185752769887, 0.056795216804012526, 0.05680902919425529, 0.0568019142955664, 0.05679481425037317, 0.05676687417232354, 0.05683274132561119, 0.05681522564801615, 0.05677695658049293, 0.056738766990996975, 0.05678364332320204, 0.05680770147459612, 0.05681100609724537, 0.056762598111705156, 0.056776272972386646, 0.05673832055396745, 0.056731373903361824, 0.0567759343364126, 0.0568101151222724, 0.05680311610363717, 0.05680639829159865, 0.056819930051999465, 0.05682318828700526, 0.05683667516197378, 0.05683990961237615, 0.05682270865466134, 0.0568157467780941, 0.05681899267081885, 0.05679168236576002, 0.056784773298338774, 0.05680836576864056, 0.0567709972487589, 0.05678441395117696, 0.056797803467036806, 0.0567605591036528, 0.056743612299167856, 0.05673680063837739, 0.05675018415555847, 0.05674337960302819, 0.05671644797131952, 0.056699630788422654, 0.05670294770906825, 0.05675645826849128, 0.056799831496173556, 0.05677297822667107, 0.05674617871692976]\n"
          ]
        }
      ]
    },
    {
      "cell_type": "markdown",
      "source": [
        "# Reward lenght NFSNET"
      ],
      "metadata": {
        "id": "BFzXaqP-V4N-"
      }
    },
    {
      "cell_type": "code",
      "source": [
        "def rewardLengthBased():\n",
        "    global episodeRewardAccum\n",
        "    global episodeIteration\n",
        "    global episodeRewardsArray\n",
        "    global iteration\n",
        "\n",
        "    iteration = iteration + 1\n",
        "    if (iteration % episodeIteration) == 0:\n",
        "        episodeRewardsArray.append(episodeRewardAccum)\n",
        "        episodeRewardAccum = 0\n",
        "\n",
        "    connectionsNow = env.getSimulator().controller.connections\n",
        "    controllerNow = env.getSimulator().controller\n",
        "    #print(\"Source: \", connectionEvent.source, \" Destination: \", connectionEvent.destination, \"Path: \", len(controllerNow.path[connectionEvent.source][connectionEvent.destination]))\n",
        "\n",
        "    value = env.getSimulator().lastConnectionIsAllocated()\n",
        "\n",
        "    if (value.name == Controller.Status.Not_Allocated.name):\n",
        "        value = -1\n",
        "    else:\n",
        "        #print(\"Last Connection ID: \", connectionsNow[-1].id)\n",
        "        #print(\"Last Connection Links: \", connectionsNow[-1].links)\n",
        "        # src, dst y actualPath of last connection\n",
        "        src = connectionsNow[-1].links[0].src\n",
        "        dst = connectionsNow[-1].links[-1].dst\n",
        "        actualPath = connectionsNow[-1].links\n",
        "        actualPathLength = 0\n",
        "        for link in actualPath:\n",
        "          actualPathLength += link.length\n",
        "        # Possible paths\n",
        "        paths = controllerNow.path[src][dst]\n",
        "        PathsLength = []\n",
        "        for path in paths:\n",
        "          linksCumLength = 0\n",
        "          for link in path:\n",
        "            linksCumLength += link.length\n",
        "          PathsLength.append(linksCumLength)\n",
        "\n",
        "        if (actualPathLength <= PathsLength[0]):\n",
        "          #print(\"it was shortest !\")\n",
        "          value = 1\n",
        "        elif (actualPathLength <= PathsLength[1] or actualPathLength <= PathsLength[2]):\n",
        "          #print(\"Wasnt shortest reawrd =  0.9\")\n",
        "          value = 0.9\n",
        "        else:\n",
        "          #print(\"Wasnt shortest reawrd =  0.8\")\n",
        "          value = 0.8\n",
        "\n",
        "        #print(\"Lets compare ...\")\n",
        "        #print(\"Length of Whole Connection: \", actualPathLength)\n",
        "        #print(\"Lengths of ALL possible paths: \", PathsLength)\n",
        "\n",
        "    episodeRewardAccum = episodeRewardAccum + value\n",
        "    return value"
      ],
      "metadata": {
        "id": "Zt_Ep1LmVqWo"
      },
      "execution_count": null,
      "outputs": []
    },
    {
      "cell_type": "code",
      "source": [
        "fileDirectory = '/content/drive/MyDrive/DREAMONGYM'\n",
        "\n",
        "env = gymnasium.make(\"rlonenv-v0\")\n",
        "\n",
        "obs, info = env.reset()\n",
        "\n",
        "#definir espacio (opciones del 0-3, 4 en total )\n",
        "env.action_space = gymnasium.spaces.MultiDiscrete(np.array([4]))\n",
        "\n",
        "\n",
        "#tamaño de los slots de las bandas\n",
        "env.observation_space = gymnasium.spaces.MultiDiscrete([100] * 2720)\n",
        "\n",
        "#Set funcion recompensa\n",
        "env.setRewardFunc(rewardLengthBased)\n",
        "#Set estados\n",
        "env.setStateFunc(state)\n",
        "#env.setStateFunc(stateAllNetwork)\n",
        "#Definir topologia y rutas\n",
        "env.initEnviroment(fileDirectory + \"/Topologias-rutas/NSFNet_4_bands.json\", fileDirectory + \"/Topologias-rutas/NSFNet_routes.json\")\n",
        "#Cantidad de conexiones para tener el simulador corriendo\n",
        "env.getSimulator().goalConnections = 100000\n",
        "env.getSimulator().setMu(1)\n",
        "env.getSimulator().setLambda(1000)\n",
        "env.getSimulator().setAllocator(first_fit_algorithm)\n",
        "env.getSimulator().init()"
      ],
      "metadata": {
        "colab": {
          "base_uri": "https://localhost:8080/"
        },
        "id": "5bacpukKVqfp",
        "outputId": "87ab37f2-2731-47a2-b82a-fca9ae826a35"
      },
      "execution_count": null,
      "outputs": [
        {
          "output_type": "stream",
          "name": "stdout",
          "text": [
            "meta: 0.95\n",
            "objetivo: 0.95 covered: 0.0 epsilon: 0.01\n",
            "meta: 0.2673105078629141\n",
            "objetivo: 0.95 covered: 0.6826894921370859 epsilon: 0.01\n"
          ]
        },
        {
          "output_type": "stream",
          "name": "stderr",
          "text": [
            "/usr/local/lib/python3.10/dist-packages/gymnasium/core.py:311: UserWarning: \u001b[33mWARN: env.setRewardFunc to get variables from other wrappers is deprecated and will be removed in v1.0, to get this variable you can do `env.unwrapped.setRewardFunc` for environment variables or `env.get_wrapper_attr('setRewardFunc')` that will search the reminding wrappers.\u001b[0m\n",
            "  logger.warn(\n",
            "/usr/local/lib/python3.10/dist-packages/gymnasium/core.py:311: UserWarning: \u001b[33mWARN: env.setStateFunc to get variables from other wrappers is deprecated and will be removed in v1.0, to get this variable you can do `env.unwrapped.setStateFunc` for environment variables or `env.get_wrapper_attr('setStateFunc')` that will search the reminding wrappers.\u001b[0m\n",
            "  logger.warn(\n",
            "/usr/local/lib/python3.10/dist-packages/gymnasium/core.py:311: UserWarning: \u001b[33mWARN: env.initEnviroment to get variables from other wrappers is deprecated and will be removed in v1.0, to get this variable you can do `env.unwrapped.initEnviroment` for environment variables or `env.get_wrapper_attr('initEnviroment')` that will search the reminding wrappers.\u001b[0m\n",
            "  logger.warn(\n",
            "/usr/local/lib/python3.10/dist-packages/gymnasium/core.py:311: UserWarning: \u001b[33mWARN: env.getSimulator to get variables from other wrappers is deprecated and will be removed in v1.0, to get this variable you can do `env.unwrapped.getSimulator` for environment variables or `env.get_wrapper_attr('getSimulator')` that will search the reminding wrappers.\u001b[0m\n",
            "  logger.warn(\n"
          ]
        }
      ]
    },
    {
      "cell_type": "code",
      "source": [
        "env.start()\n",
        "env.getSimulator().setAllocator(agent_algorithm)\n",
        "\n",
        "policy_args = dict(net_arch=5*[128], activation_fn=th.nn.ReLU)\n",
        "\n",
        "\n",
        "model = PPO(MlpPolicy, env, verbose=0, tensorboard_log=\"./tb/PPO-DeepRMSA-v0/\", policy_kwargs=policy_args, gamma=.95)\n",
        "\n",
        "model.learn(total_timesteps=1000, log_interval=4)\n",
        "\n",
        "modelDirectory = fileDirectory + \"/models/\"\n",
        "\n",
        "model.save(modelDirectory+ \"PPO-NSFNet-RW3\")\n",
        "#model.load('TRPO100720231300')"
      ],
      "metadata": {
        "colab": {
          "base_uri": "https://localhost:8080/"
        },
        "id": "TDwmZYyUVqoD",
        "outputId": "fb2dd410-f68b-4ab1-8d15-dd3bd5725c0d"
      },
      "execution_count": null,
      "outputs": [
        {
          "output_type": "stream",
          "name": "stderr",
          "text": [
            "/usr/local/lib/python3.10/dist-packages/gymnasium/core.py:311: UserWarning: \u001b[33mWARN: env.start to get variables from other wrappers is deprecated and will be removed in v1.0, to get this variable you can do `env.unwrapped.start` for environment variables or `env.get_wrapper_attr('start')` that will search the reminding wrappers.\u001b[0m\n",
            "  logger.warn(\n"
          ]
        },
        {
          "output_type": "stream",
          "name": "stdout",
          "text": [
            "Nodes: 14\n",
            "Links: 44\n",
            "Goal Connections: 100000\n",
            "Lambda: 1000\n",
            "Mu: 1\n",
            "+----------+----------+----------+----------+----------+----------+----------+\n",
            "| progress |  arrives | blocking |  time(s) |  Wald CI |  A-C. CI |Wilson CI |\n",
            "+----------+----------+----------+----------+----------+----------+----------+\n",
            "|     5.0% |     5000 | 0.418316 |  0:00:02 | 0.013951 | 0.013945 | 0.013945 |\n",
            "+----------+----------+----------+----------+----------+----------+----------+\n",
            "|    10.0% |    10000 | 0.425957 |  0:00:05 | 0.009889 | 0.009887 | 0.009887 |\n",
            "+----------+----------+----------+----------+----------+----------+----------+\n",
            "|    15.0% |    15000 | 0.426772 |  0:00:09 | 0.008077 | 0.008076 | 0.008076 |\n",
            "+----------+----------+----------+----------+----------+----------+----------+\n",
            "|    20.0% |    20000 | 0.424179 |  0:00:14 | 0.006989 | 0.006988 | 0.006988 |\n",
            "+----------+----------+----------+----------+----------+----------+----------+\n",
            "|    25.0% |    25000 | 0.422743 |  0:00:17 | 0.006248 | 0.006248 | 0.006248 |\n",
            "+----------+----------+----------+----------+----------+----------+----------+\n",
            "|    30.0% |    30000 | 0.422253 |  0:00:19 | 0.005703 | 0.005703 | 0.005703 |\n",
            "+----------+----------+----------+----------+----------+----------+----------+\n",
            "|    35.0% |    35000 | 0.424874 |  0:00:22 | 0.005284 | 0.005284 | 0.005284 |\n",
            "+----------+----------+----------+----------+----------+----------+----------+\n",
            "|    40.0% |    40000 | 0.423389 |  0:00:26 | 0.004941 | 0.004941 | 0.004941 |\n",
            "+----------+----------+----------+----------+----------+----------+----------+\n",
            "|    45.0% |    45000 | 0.424013 |  0:00:31 | 0.004659 | 0.004659 | 0.004659 |\n",
            "+----------+----------+----------+----------+----------+----------+----------+\n",
            "|    50.0% |    50000 | 0.425231 |  0:00:34 | 0.004422 | 0.004422 | 0.004422 |\n",
            "+----------+----------+----------+----------+----------+----------+----------+\n",
            "|    55.0% |    55000 | 0.424865 |  0:00:36 | 0.004216 | 0.004215 | 0.004215 |\n",
            "+----------+----------+----------+----------+----------+----------+----------+\n",
            "|    60.0% |    60000 | 0.425310 |  0:00:39 | 0.004037 | 0.004037 | 0.004037 |\n",
            "+----------+----------+----------+----------+----------+----------+----------+\n",
            "|    65.0% |    65000 | 0.424624 |  0:00:43 | 0.003877 | 0.003877 | 0.003877 |\n",
            "+----------+----------+----------+----------+----------+----------+----------+\n",
            "|    70.0% |    70000 | 0.423580 |  0:00:48 | 0.003735 | 0.003735 | 0.003735 |\n",
            "+----------+----------+----------+----------+----------+----------+----------+\n",
            "|    75.0% |    75000 | 0.423648 |  0:00:51 | 0.003609 | 0.003609 | 0.003609 |\n",
            "+----------+----------+----------+----------+----------+----------+----------+\n",
            "|    80.0% |    80000 | 0.424307 |  0:00:54 | 0.003495 | 0.003495 | 0.003495 |\n",
            "+----------+----------+----------+----------+----------+----------+----------+\n",
            "|    85.0% |    85000 | 0.424571 |  0:00:56 | 0.003391 | 0.003391 | 0.003391 |\n",
            "+----------+----------+----------+----------+----------+----------+----------+\n",
            "|    90.0% |    90000 | 0.424806 |  0:01:00 | 0.003295 | 0.003295 | 0.003295 |\n",
            "+----------+----------+----------+----------+----------+----------+----------+\n",
            "|    95.0% |    95000 | 0.424932 |  0:01:05 | 0.003208 | 0.003208 | 0.003208 |\n",
            "+----------+----------+----------+----------+----------+----------+----------+\n"
          ]
        },
        {
          "output_type": "stream",
          "name": "stderr",
          "text": [
            "/usr/local/lib/python3.10/dist-packages/gymnasium/core.py:311: UserWarning: \u001b[33mWARN: env.getSimulator to get variables from other wrappers is deprecated and will be removed in v1.0, to get this variable you can do `env.unwrapped.getSimulator` for environment variables or `env.get_wrapper_attr('getSimulator')` that will search the reminding wrappers.\u001b[0m\n",
            "  logger.warn(\n",
            "/usr/local/lib/python3.10/dist-packages/gymnasium/utils/passive_env_checker.py:127: UserWarning: \u001b[33mWARN: The obs returned by the `step()` method should be an int or np.int64, actual type: <class 'list'>\u001b[0m\n",
            "  logger.warn(f\"{pre} should be an int or np.int64, actual type: {type(obs)}\")\n",
            "/usr/local/lib/python3.10/dist-packages/gymnasium/utils/passive_env_checker.py:159: UserWarning: \u001b[33mWARN: The obs returned by the `step()` method is not within the observation space.\u001b[0m\n",
            "  logger.warn(f\"{pre} is not within the observation space.\")\n"
          ]
        }
      ]
    },
    {
      "cell_type": "code",
      "source": [
        "obs, info = env.reset()\n",
        "probBloqueoArray = []\n",
        "rewardsArray = []\n",
        "rewardTemp = 0\n",
        "NoAlloCounter = 0\n",
        "ConnCounter = 1\n",
        "\n",
        "iterationAccum = 100\n",
        "_state = [0] * 2720\n",
        "for i in range(100000):\n",
        "    if (i % iterationAccum) == 0:\n",
        "        probBloqueoArray.append(NoAlloCounter/ConnCounter)\n",
        "        rewardsArray.append(rewardTemp)\n",
        "        rewardTemp = 0\n",
        "    action, _states = model.predict(_state)\n",
        "    _state, _reward, terminated, truncated, info = env.step(action)\n",
        "    rewardTemp = rewardTemp + _reward\n",
        "    if _reward == -1:\n",
        "      NoAlloCounter += 1\n",
        "      ConnCounter += 1\n",
        "    else:\n",
        "      ConnCounter += 1\n",
        "\n",
        "print(episodeRewardsArray)\n",
        "print(rewardsArray)\n",
        "print(probBloqueoArray)"
      ],
      "metadata": {
        "colab": {
          "base_uri": "https://localhost:8080/"
        },
        "id": "k5fn-Yw2VquB",
        "outputId": "fd705d7e-b8ff-4463-812f-ff37aac8b5e9"
      },
      "execution_count": null,
      "outputs": [
        {
          "output_type": "stream",
          "name": "stderr",
          "text": [
            "/usr/local/lib/python3.10/dist-packages/ipykernel/ipkernel.py:283: DeprecationWarning: `should_run_async` will not call `transform_cell` automatically in the future. Please pass the result to `transformed_cell` argument and any exception that happen during thetransform in `preprocessing_exc_tuple` in IPython 7.17 and above.\n",
            "  and should_run_async(code)\n"
          ]
        },
        {
          "output_type": "stream",
          "name": "stdout",
          "text": [
            "[85, 92, 90, 90, 90, 78, 88, 74, 74, 82, 80, 82, 84, 78, 82, 84, 92, 76, 80, 86, 86, 82, 86, 82, 76, 80, 86, 70, 86, 86, 80, 82, 90, 84, 90, 86, 90, 92, 82, 86, 84, 80, 92, 84, 90, 80, 84, 80, 82, 78, 74, 80, 82, 90, 88, 80, 76, 86, 92, 86, 90, 86, 94, 80, 82, 84, 74, 82, 82, 76, 84, 80, 84, 78, 72, 78, 82, 88, 76, 86, 80, 92, 78, 78, 76, 86, 86, 88, 72, 78, 84, 76, 82, 88, 88, 78, 86, 90, 84, 78, 82, 84, 90, 86, 88, 92, 82, 96, 78, 86, 88, 82, 80, 84, 80, 88, 88, 88, 90, 84, 76, 86, 92, 76, 84, 84, 80, 78, 78, 88, 88, 88, 84, 82, 86, 86, 84, 76, 82, 80, 86, 78, 82, 84, 78, 76, 84, 80, 90, 80, 84, 82, 84, 82, 88, 84, 90, 86, 86, 84, 84, 84, 94, 82, 76, 88, 92, 94, 88, 92, 90, 90, 84, 76, 82, 88, 82, 72, 88, 86, 80, 76, 86, 90, 84, 80, 82, 74, 78, 74, 86, 80, 84, 78, 82, 86, 84, 74, 80, 84, 86, 72, 88, 88, 86, 74, 84, 78, 92, 86, 88, 84, 80, 78, 78, 82, 88, 78, 82, 80, 84, 86, 84, 90, 88, 78, 78, 86, 80, 80, 82, 76, 88, 80, 88, 80, 88, 80, 90, 90, 86, 82, 72, 86, 82, 84, 84, 88, 84, 84, 92, 80, 72, 84, 72, 92, 76, 86, 86, 88, 90, 84, 82, 86, 84, 82, 88, 86, 80, 84, 90, 76, 88, 86, 88, 88, 82, 90, 82, 90, 86, 82, 78, 78, 88, 78, 88, 84, 90, 92, 84, 84, 88, 86, 68, 86, 86, 78, 92, 90, 90, 84, 80, 82, 82, 82, 80, 86, 82, 90, 88, 90, 84, 86, 88, 96, 90, 90, 92, 82, 78, 94, 92, 86, 88, 82, 88, 84, 80, 80, 80, 82, 86, 82, 76, 86, 90, 80, 88, 94, 88, 82, 78, 86, 88, 90, 92, 88, 96, 82, 90, 84, 76, 98, 90, 88, 88, 92, 86, 76, 80, 76, 84, 70, 80, 86, 74, 82, 80, 84, 86, 86, 84, 86, 94, 86, 76, 88, 84, 82, 82, 86, 76, 90, 88, 86, 84, 84, 78, 88, 82, 82, 90, 84, 82, 82, 84, 80, 92, 80, 84, 90, 82, 84, 86, 82, 72, 84, 76, 86, 78, 84, 78, 84, 86, 86, 86, 88, 90, 84, 80, 82, 76, 88, 80, 92, 84, 90, 90, 72, 82, 90, 90, 80, 88, 80, 76, 82, 84, 92, 94, 84, 84, 88, 86, 88, 78, 86, 80, 86, 84, 86, 88, 84, 80, 78, 86, 82, 76, 84, 80, 94, 82, 86, 84, 84, 78, 86, 92, 80, 96, 90, 82, 84, 82, 80, 86, 84, 78, 86, 84, 74, 88, 88, 80, 86, 84, 86, 78, 86, 92, 88, 84, 86, 88, 90, 86, 84, 78, 90, 80, 88, 88, 88, 82, 86, 86, 80, 74, 74, 86, 76, 92, 86, 90, 86, 86, 90, 86, 82, 92, 80, 82, 78, 86, 84, 92, 88, 88, 88, 82, 86, 78, 90, 80, 84, 80, 78, 92, 84, 92, 86, 70, 78, 88, 82, 82, 88, 82, 84, 80, 84, 94, 86, 84, 92, 84, 72, 84, 82, 86, 76, 86, 82, 78, 86, 80, 88, 88, 86, 92, 80, 80, 92, 86, 76, 92, 76, 76, 84, 72, 84, 90, 88, 72, 82, 84, 82, 88, 80, 92, 90, 86, 88, 88, 80, 84, 84, 84, 76, 82, 90, 88, 90, 88, 78, 88, 80, 88, 74, 84, 88, 86, 86, 78, 82, 82, 90, 86, 80, 92, 84, 88, 86, 88, 88, 82, 90, 80, 84, 82, 84, 82, 92, 84, 90, 78, 78, 94, 82, 78, 88, 90, 82, 82, 80, 78, 84, 86, 74, 76, 86, 86, 90, 90, 84, 72, 86, 94, 76, 76, 86, 74, 82, 78, 86, 88, 90, 82, 84, 86, 86, 72, 86, 82, 82, 68, 76, 78, 84, 92, 84, 92, 88, 88, 90, 84, 76, 82, 84, 92, 84, 78, 80, 82, 74, 94, 86, 92, 80, 84, 84, 84, 82, 86, 88, 88, 82, 84, 92, 76, 74, 78, 78, 84, 74, 90, 74, 84, 82, 88, 84, 90, 90, 86, 90, 86, 90, 88, 86, 92, 78, 88, 84, 82, 74, 92, 84, 84, 96, 82, 84, 92, 78, 74, 82, 82, 78, 84, 82, 80, 86, 90, 80, 90, 90, 82, 92, 88, 90, 86, 86, 88, 80, 82, 84, 88, 88, 90, 82, 86, 84, 86, 92, 82, 88, 86, 84, 84, 86, 78, 90, 86, 78, 84, 78, 80, 86, 86, 96, 96, 88, 86, 86, 90, 82, 90, 86, 80, 84, 78, 80, 84, 80, 86, 74, 76, 88, 86, 84, 86, 90, 82, 84, 86, 82, 76, 82, 86, 84, 82, 84, 88, 86, 90, 88, 78, 74, 90, 80, 86, 82, 86, 90, 76, 94, 84, 84, 86, 86, 78, 88, 90, 82, 88, 84, 82, 86, 80, 86, 88, 86, 88, 78, 82, 92, 86, 80, 94, 80, 80, 84, 82, 92, 78, 84, 82, 78, 90, 88, 80, 86, 84, 82, 84, 90, 80, 92, 92, 78, 74, 92, 84, 88, 68, 80, 84, 84, 80, 80, 76, 82, 88, 86, 80, 76, 86, 80, 86, 80, 92, 84, 90, 86, 84, 90, 88, 78, 84, 90, 86, 88, 88, 92, 86, 94, 90, 84, 84, 82, 94, 80, 84, 76, 84, 74, 90, 90, 84, 84, 84, 82, 86, 84, 92, 84, 82, 82, 78, 82, 76, 84, 78, 80, 80, 86, 88, 94, 84, 86, 84, 86, 86, 82, 78, 84, 86, 88, 88, 92, 88, 84, 80, 82, 80, 88, 80, 80, 84, 82, 92, 78, 78, 82, 88, 88, 88, 90, 76, 88, 80, 80, 92, 86, 92, 86, 82, 86, 76, 78, 92, 88, 90, 86, 76, 84, 92, 80, 80, 82, 86, 92, 78, 90, 78, 78, 84, 86, 80, 84, 92, 82, 90, 82, 82, 92, 86, 96, 92, 86]\n",
            "[0, 92, 76, 80, 88, 78, 80, 76, 78, 86, 86, 78, 86, 86, 90, 86, 90, 90, 86, 84, 90, 76, 90, 86, 86, 84, 86, 80, 82, 76, 78, 76, 88, 80, 90, 86, 78, 80, 88, 84, 92, 88, 92, 86, 82, 84, 78, 76, 84, 74, 86, 78, 86, 78, 80, 72, 80, 82, 88, 78, 86, 84, 86, 72, 80, 80, 82, 92, 78, 78, 78, 90, 74, 80, 90, 80, 84, 88, 90, 76, 84, 80, 92, 86, 84, 94, 80, 96, 80, 88, 90, 84, 78, 80, 84, 86, 88, 84, 90, 90, 74, 86, 84, 88, 84, 80, 80, 80, 82, 82, 84, 88, 90, 82, 82, 86, 88, 74, 82, 84, 82, 82, 80, 82, 78, 84, 74, 86, 80, 88, 84, 86, 82, 82, 82, 86, 88, 86, 86, 88, 84, 80, 92, 88, 78, 82, 90, 92, 92, 90, 92, 86, 88, 84, 76, 84, 88, 72, 86, 86, 84, 74, 80, 88, 90, 84, 78, 74, 82, 74, 80, 84, 80, 86, 76, 88, 80, 78, 82, 84, 84, 74, 82, 88, 84, 86, 72, 88, 84, 90, 78, 94, 86, 76, 76, 76, 88, 78, 88, 76, 86, 82, 86, 92, 88, 80, 78, 80, 78, 82, 86, 82, 80, 84, 84, 88, 78, 88, 82, 92, 86, 80, 78, 82, 82, 82, 88, 84, 86, 88, 84, 86, 76, 76, 80, 82, 94, 72, 82, 92, 90, 86, 84, 80, 84, 84, 86, 88, 80, 86, 86, 86, 80, 84, 88, 92, 82, 84, 84, 88, 88, 88, 80, 76, 78, 90, 78, 92, 82, 90, 90, 86, 86, 80, 80, 76, 88, 76, 88, 94, 94, 84, 78, 86, 82, 82, 82, 82, 84, 86, 86, 92, 86, 84, 86, 92, 98, 86, 92, 86, 76, 88, 98, 80, 98, 82, 86, 86, 76, 86, 78, 78, 90, 82, 78, 80, 90, 86, 84, 90, 94, 82, 86, 80, 80, 88, 96, 88, 90, 96, 82, 84, 80, 90, 92, 92, 88, 84, 94, 82, 76, 84, 72, 76, 78, 78, 84, 76, 86, 86, 76, 86, 88, 86, 88, 96, 78, 82, 88, 78, 82, 84, 86, 80, 88, 90, 82, 84, 80, 82, 82, 82, 90, 88, 82, 82, 86, 80, 88, 88, 80, 82, 88, 84, 88, 82, 76, 78, 78, 80, 90, 76, 80, 84, 84, 84, 90, 86, 88, 88, 78, 86, 80, 78, 84, 86, 94, 80, 92, 78, 76, 86, 90, 92, 80, 82, 82, 78, 86, 84, 92, 92, 82, 88, 86, 86, 82, 80, 86, 80, 90, 82, 90, 86, 78, 82, 86, 78, 78, 82, 84, 86, 88, 80, 90, 78, 84, 86, 84, 92, 82, 96, 86, 84, 76, 84, 84, 88, 78, 84, 84, 80, 82, 86, 84, 88, 82, 84, 84, 78, 88, 94, 86, 80, 86, 94, 84, 86, 82, 82, 88, 86, 86, 88, 84, 80, 90, 88, 76, 68, 78, 88, 82, 82, 94, 92, 86, 84, 88, 82, 88, 86, 86, 82, 82, 76, 90, 92, 86, 88, 82, 90, 84, 82, 88, 80, 78, 80, 84, 88, 90, 90, 78, 70, 86, 90, 78, 86, 84, 78, 86, 84, 86, 92, 84, 88, 86, 78, 82, 84, 80, 84, 82, 84, 76, 86, 78, 84, 90, 86, 88, 90, 78, 86, 82, 94, 76, 90, 72, 80, 78, 80, 86, 86, 84, 76, 84, 82, 84, 84, 88, 92, 86, 86, 86, 84, 88, 78, 88, 84, 76, 82, 90, 84, 92, 80, 90, 86, 82, 82, 80, 84, 84, 88, 82, 78, 78, 90, 88, 82, 92, 84, 84, 92, 82, 90, 84, 86, 86, 80, 86, 82, 80, 92, 86, 88, 80, 90, 78, 86, 80, 86, 88, 86, 82, 80, 78, 86, 82, 82, 70, 82, 84, 92, 88, 86, 80, 80, 92, 82, 76, 82, 82, 72, 82, 84, 86, 90, 86, 84, 86, 86, 72, 88, 80, 80, 76, 68, 82, 80, 86, 92, 84, 94, 84, 90, 84, 80, 82, 86, 86, 88, 86, 78, 78, 74, 88, 88, 88, 84, 86, 84, 86, 80, 82, 92, 86, 86, 82, 92, 78, 74, 76, 82, 78, 78, 88, 80, 78, 86, 78, 92, 84, 90, 86, 92, 92, 80, 94, 86, 86, 84, 84, 90, 80, 78, 84, 86, 86, 90, 88, 84, 88, 88, 76, 76, 76, 88, 76, 88, 74, 84, 90, 84, 86, 92, 88, 86, 90, 88, 86, 86, 84, 92, 78, 82, 86, 88, 86, 94, 80, 84, 88, 88, 84, 84, 88, 90, 82, 82, 86, 80, 92, 78, 82, 86, 72, 82, 92, 90, 94, 94, 82, 92, 88, 84, 84, 90, 78, 90, 78, 80, 78, 84, 80, 86, 72, 84, 88, 86, 80, 92, 80, 80, 88, 86, 84, 72, 84, 90, 84, 84, 80, 94, 84, 88, 80, 78, 86, 86, 80, 86, 84, 84, 90, 78, 94, 78, 90, 80, 90, 78, 88, 86, 86, 84, 86, 78, 90, 80, 88, 88, 90, 78, 82, 86, 90, 84, 86, 86, 78, 84, 78, 92, 86, 82, 84, 80, 82, 86, 84, 86, 78, 84, 86, 88, 86, 82, 98, 78, 78, 82, 96, 82, 80, 72, 82, 88, 78, 78, 80, 78, 82, 92, 80, 78, 78, 90, 80, 82, 84, 92, 86, 92, 88, 84, 86, 80, 88, 82, 88, 88, 86, 90, 92, 86, 96, 84, 88, 80, 86, 84, 92, 76, 82, 78, 80, 92, 84, 86, 82, 90, 80, 82, 90, 86, 82, 86, 78, 78, 80, 80, 78, 86, 80, 80, 86, 92, 90, 86, 84, 84, 90, 84, 80, 82, 80, 90, 90, 86, 86, 92, 80, 82, 82, 82, 82, 82, 82, 76, 96, 82, 76, 80, 88, 90, 86, 92, 80, 88, 74, 84, 88, 84, 94, 86, 86, 80, 86, 74, 84, 94, 84, 90, 80, 82, 84, 96, 78, 78, 82, 88, 94, 78, 82, 76, 82, 90, 80, 78, 94, 86, 86, 86, 76, 90, 88, 94, 94, 90]\n",
            "[0.0, 0.039603960396039604, 0.07960199004975124, 0.08637873754152824, 0.0798004987531172, 0.08582834331337326, 0.08818635607321132, 0.09272467902995721, 0.09488139825218476, 0.09211986681465038, 0.0899100899100899, 0.09173478655767484, 0.08992506244796003, 0.0883935434281322, 0.08565310492505353, 0.08461025982678215, 0.08244846970643348, 0.0805408583186361, 0.07995558023320377, 0.07995791688584955, 0.07846076961519241, 0.08043788672060924, 0.07905497501135847, 0.07866145154280747, 0.07830070803831737, 0.07836865253898441, 0.07804690503652441, 0.07885968159940762, 0.07925740806854695, 0.08066184074457083, 0.08163945351549484, 0.08287649145436955, 0.08216182442986567, 0.08270221145107544, 0.08174066451043811, 0.08140531276778064, 0.08219938905859484, 0.08268035666036207, 0.08208366219415943, 0.08203024865419123, 0.08097975506123468, 0.08046817849305048, 0.07950487979052606, 0.0792838874680307, 0.07952738014087707, 0.07953788047100645, 0.08019995653118887, 0.08104658583280153, 0.08102478650281192, 0.08202407671903693, 0.08178364327134573, 0.08233679670652813, 0.08209959623149395, 0.08262591963780419, 0.08294760229587113, 0.08398473004908198, 0.08427066595250848, 0.08437116295386775, 0.08395104292363385, 0.08439247585155059, 0.08415264122646225, 0.08408457629896739, 0.08385744234800839, 0.08474845262656722, 0.08498672082487112, 0.08521765882171974, 0.08529010755946069, 0.08461423668109237, 0.08498750183796501, 0.08534994928271265, 0.0857020425653478, 0.08519926770877341, 0.0858214136925427, 0.08601561429941104, 0.08552898256992299, 0.08572190374616717, 0.08564662544402052, 0.08531359563693026, 0.08486091526727342, 0.08530565751170738, 0.08523934508186477, 0.08542155289470436, 0.08486769906109011, 0.08468859173593543, 0.08463278181168908, 0.08399011880955182, 0.08417625857458436, 0.08343868520859671, 0.08362686058402455, 0.08336142006516122, 0.0829907788023553, 0.08295791671244918, 0.08325182045429845, 0.0834318890441888, 0.08339538346984364, 0.08325439427428692, 0.08301218623060098, 0.0829811359653644, 0.08264462809917356, 0.08231491768508231, 0.0827917208279172, 0.08266508266508267, 0.08263895696500344, 0.08241918260363072, 0.08239592346889722, 0.08256356537472621, 0.0827280445241015, 0.08288944958415101, 0.0829552819183409, 0.0830199064306027, 0.0829924552313426, 0.08278533465453562, 0.08249263458619766, 0.08255906556941864, 0.08262433119901763, 0.08251456395096078, 0.0823204896129644, 0.08272797196820784, 0.08278959410219473, 0.08276615410469708, 0.0828264311307391, 0.08288571192463433, 0.08302598147692812, 0.08308267620518657, 0.08329973389242804, 0.08327333813294936, 0.08364415522577573, 0.08353672939138651, 0.08366533864541832, 0.0834819006278583, 0.08345511883701254, 0.08335241584611862, 0.08340277251723355, 0.0834523720021051, 0.08350123125139915, 0.0834012295385527, 0.08322917432541725, 0.08313261805707613, 0.08303746105354684, 0.08287173584634198, 0.08285122491250625, 0.08297283880575845, 0.08267023449052883, 0.0825117124676596, 0.08270259009790987, 0.08275291359216606, 0.08252859393192247, 0.08223930344874499, 0.08195392203229511, 0.0817394805717737, 0.0814612359176055, 0.08138533871929012, 0.08124465495691073, 0.08123652048885693, 0.08148821505097072, 0.08147861428294949, 0.08134093968335362, 0.08171454047512897, 0.0816404025061705, 0.08156719703163323, 0.0815574026623336, 0.08185826967269114, 0.08197024875007716, 0.08183547021655113, 0.08164136333150418, 0.08163141627780135, 0.08180230106620083, 0.08209089276091253, 0.08213796797809654, 0.0824211585113307, 0.08252455737897771, 0.0825097947488451, 0.08261147607697227, 0.08253858158487949, 0.08275386472041836, 0.08262385006571053, 0.08272257258110334, 0.08287667363425795, 0.08291669007359137, 0.08290039662588682, 0.08288428420643297, 0.08314457764764378, 0.08318224273391572, 0.08305557073383968, 0.08303896527362643, 0.08296848818982758, 0.08327509273694962, 0.08315063365595422, 0.08313387585766714, 0.08295857362044336, 0.08310088942687227, 0.0828228888539867, 0.08275610645278891, 0.08294906999637325, 0.08314004432761198, 0.08332906004820266, 0.08321004030406612, 0.08334602304451551, 0.0832281197919297, 0.08341289382443093, 0.08334583270836458, 0.0833789363713248, 0.08331270729171823, 0.08309935471159056, 0.08298612813097397, 0.08306911857958148, 0.08319984466773457, 0.08328100091783006, 0.0834094514686794, 0.08344098368499114, 0.08337698204847388, 0.0834083692715985, 0.08348662798924579, 0.08347025961222478, 0.0834540442035419, 0.08334496069950235, 0.08346835794639137, 0.08336021381503156, 0.08339067015274529, 0.08319254828546642, 0.08313258488250534, 0.08320890457445365, 0.08332957974865997, 0.08335949060580243, 0.08338913441364225, 0.08341851473267854, 0.08331489757090395, 0.08330029514118321, 0.0832419630717951, 0.08314047421509978, 0.08312682057301857, 0.08306999696982814, 0.08322917115641568, 0.08338697909960946, 0.08345797188154352, 0.08348580911450576, 0.0832591839328842, 0.08349858655752922, 0.08352590227301374, 0.08334379314673027, 0.08320486646389734, 0.08315007676030041, 0.08313706045204744, 0.08320645240936587, 0.08319331174951847, 0.08318027835598547, 0.0831267021665786, 0.08303307558398446, 0.08310148784323212, 0.08304887353921529, 0.0829966801327947, 0.08294490259352218, 0.08301257886591802, 0.08300067191020118, 0.08291012164875398, 0.08274185326065644, 0.08277020428889496, 0.08275942570328003, 0.0827487306693539, 0.08266090112350874, 0.08257374716357063, 0.08248726102448183, 0.08255410098851189, 0.08269647541918558, 0.08279989394341124, 0.08267612542922909, 0.08277884290064283, 0.08261862851578593, 0.08264616991903287, 0.08252481320397011, 0.08240435539424466, 0.08235858455407549, 0.08231315025182898, 0.08237793487418044, 0.08244224663333455, 0.0825788153158067, 0.08249701097786312, 0.08263239594238475, 0.08255098737455487, 0.08236263933192359, 0.0821756365844077, 0.08216789438098289, 0.08226658629126626, 0.08222324299494717, 0.08225062497799374, 0.08227781481351532, 0.08230481451697493, 0.08233162607574648, 0.08232353043297108, 0.08228088993460433, 0.08223854349850006, 0.08209339885227311, 0.08205198452107805, 0.08204498139995221, 0.08200401346892963, 0.08186163180909121, 0.08161886422755987, 0.08157974478973772, 0.08144022012684138, 0.08140195980067556, 0.08153061564614512, 0.08145908773794891, 0.0812224760769511, 0.08128444605788587, 0.08104996546166245, 0.08107930887511886, 0.08104310316656319, 0.08100713331813296, 0.08113372942436933, 0.08109769910358888, 0.0811909293248605, 0.08128356001414745, 0.08118329540719849, 0.08121146289255934, 0.08130314321199962, 0.0813624964286848, 0.08126325116293788, 0.08122772152298034, 0.08122386088487783, 0.08112598351148867, 0.08096621980563107, 0.08099436154636927, 0.08096021862675072, 0.08101916349339029, 0.0810777445140582, 0.08101289191101813, 0.0808257415416705, 0.08076205620623222, 0.08066827230877108, 0.08048387587003435, 0.080512711736008, 0.0805111628047491, 0.08056986235354356, 0.08047806372181016, 0.08035687554264842, 0.08023641085340737, 0.08017618523258237, 0.08017566244325094, 0.08002721812964113, 0.08005663549747795, 0.08017411252610217, 0.08017360194715697, 0.08034852782082395, 0.08046412641030874, 0.08054998401209267, 0.08063534390307528, 0.08063350770208953, 0.08074695253739085, 0.08071607137725928, 0.08068536718145612, 0.08079769149452873, 0.08076692971710207, 0.08070793443368086, 0.08067760120109913, 0.08061919154826135, 0.08044843807216698, 0.08053144574590601, 0.08055796756393378, 0.08050054467752298, 0.08058271357343806, 0.08060887197577846, 0.0806071853965264, 0.0805778845888235, 0.08063138756508086, 0.08057470948600313, 0.08049094545354922, 0.08051692576705555, 0.08051551728835726, 0.0805684628135105, 0.0805940218422265, 0.08061944271776439, 0.08064472655723566, 0.08056235047444961, 0.08050722500737245, 0.08053260608005133, 0.08055785179061892, 0.08052977314433127, 0.08058141693854275, 0.08052697018597392, 0.08047281074377985, 0.08052419673166496, 0.08054906695362327, 0.08049527499280124, 0.08049398188036866, 0.08044061352568943, 0.0804654424560401, 0.08056786093624517, 0.08064391101005142, 0.08071956908327105, 0.0807691318989229, 0.0806902387118279, 0.08079077261451113, 0.08083977449554858, 0.080837637719142, 0.08083551178904089, 0.08083339662287031, 0.08075553647635161, 0.08072844512732677, 0.08067636491545438, 0.08062454575073306, 0.08069798255043624, 0.08067130495498866, 0.08071938508992314, 0.08079203989975435, 0.08079007945347888, 0.08076343793980395, 0.08063840792098717, 0.08068597823149308, 0.08058626014068283, 0.08065817461675753, 0.08075412794809883, 0.08072796282328897, 0.08065338219946118, 0.08055495024333552, 0.08060191782807179, 0.08062456326353581, 0.08064709982933102, 0.08071748878923767, 0.08069184947728524, 0.08069019832462232, 0.08059331920668555, 0.0804969003111565, 0.08051941897111443, 0.08047091085317132, 0.08044621589113464, 0.0804216371379497, 0.08044412103002277, 0.080489918268893, 0.08046540968668957, 0.08051094380084381, 0.08043998976767983, 0.08046217025127027, 0.0803916576005185, 0.08036765894552089, 0.0804359346558835, 0.08045792050757454, 0.08043393500149079, 0.08050159035262351, 0.08056893678226525, 0.08059041935263433, 0.08058907752096543, 0.08056506655177888, 0.080518540304518, 0.08056251551883704, 0.08049368257471679, 0.08055998741601313, 0.0805587318669985, 0.08053511107134069, 0.08053391665364612, 0.0804436426805639, 0.08046487855825427, 0.08033081306401188, 0.0803079577885445, 0.08030727798503344, 0.08039470496244576, 0.08039383749807696, 0.08039297383829302, 0.08034835123957901, 0.08041309141721796, 0.08041219145552385, 0.08041129540662159, 0.08045378625192512, 0.08047444860500855, 0.0804518260944688, 0.08045085235232, 0.08040687297047375, 0.08042745863822665, 0.08042654332883664, 0.08042563193094164, 0.08048868894053432, 0.08044509691283164, 0.0803379970701259, 0.08031609499798734, 0.08035770913934166, 0.0803358578932934, 0.0802298898970548, 0.08022940694523224, 0.08020796209723066, 0.08022844710361708, 0.08024884657940336, 0.0802066623612008, 0.08018544313008046, 0.0801643119437356, 0.0801225647502122, 0.0801223115224892, 0.08016329560215253, 0.0801012324849283, 0.0800599577010739, 0.08014180037294318, 0.08030510623504632, 0.08036570682230974, 0.08032422964909065, 0.08034389544927949, 0.08036348147096407, 0.08026153316734479, 0.08018019837983072, 0.08015967420011694, 0.08015935293052454, 0.08011887311499769, 0.0801386745756598, 0.08009839803203936, 0.08007824195125846, 0.0800581661719886, 0.0800779308562454, 0.08009761711077161, 0.0801766301657393, 0.08011699373530168, 0.08003786907556064, 0.08001810987972678, 0.07997878234219367, 0.07999843140330581, 0.07993972720690397, 0.07993984492490382, 0.07995945498138438, 0.07992062411237136, 0.07995961243471, 0.08001782911183891, 0.08005647859809288, 0.08005636956815505, 0.08001772605537466, 0.07996000076921597, 0.07990249707299284, 0.07996015402003794, 0.0800940708590658, 0.08007480773267686, 0.08001752347574331, 0.08007452329803616, 0.0800554069182748, 0.080055301982917, 0.08011190714731291, 0.0800928284371993, 0.08009265362234233, 0.08007368282551079, 0.07999849909007335, 0.07999850190071348, 0.07996112222201454, 0.07994253838547788, 0.07999851026982738, 0.08001710005390235, 0.08001706832897348, 0.08005407307272087, 0.08005397312434151, 0.08007232338886737, 0.08007219019907552, 0.08014558555908899, 0.08012697014733675, 0.08018168165418216, 0.08018134951829034, 0.08012627506797321, 0.08010783045846159, 0.08007127143142852, 0.08001669661167674, 0.0800710132062825, 0.08005280193848212, 0.08007075684554431, 0.07998054089115511, 0.08005251704106041, 0.07999856376007612, 0.08010609128868658, 0.08014167903973095, 0.08019499651791932, 0.08023029892515285, 0.08021209587018024, 0.08019395747855278, 0.08019361358841155, 0.08026406612272349, 0.08026359958304624, 0.08028077106223876, 0.08028027675569092, 0.08027978418656966, 0.08024420624199576, 0.08017372725521445, 0.08015594132969703, 0.08013821748311548, 0.08012055539102106, 0.08012034573311769, 0.08008541518376418, 0.08013725931959585, 0.08010242037334994, 0.08010224348456849, 0.08017103153393906, 0.08018794857231373, 0.08013608013608013, 0.08013584672647124, 0.08006712213831955, 0.08010119485137006, 0.08004982850122011, 0.08003270813103695, 0.08004965901940443, 0.08006655235055432, 0.08010033728241894, 0.080100167509856, 0.08009999831083935, 0.08006610343839059, 0.08008282688843622, 0.08013310700660493, 0.0801832184023758, 0.08013266109445404, 0.0800989950000836, 0.08011552394784728, 0.08004866585556908, 0.08004858488211511, 0.08004850417767147, 0.07998208984925623, 0.07999867551861724, 0.07994909175054958, 0.07994917575617565, 0.07993278529184034, 0.07991644874261937, 0.07994942611779773, 0.07993311585055983, 0.07994959165971097, 0.0799823532295224, 0.07991713022626058, 0.07990097881142001, 0.07986862002243866, 0.0799013003035665, 0.07985283868981054, 0.07990161971489135, 0.07988562381867821, 0.07991806583764778, 0.07990209497431604, 0.07987009855147023, 0.07985425595094782, 0.07987051489559462, 0.0799027215564551, 0.07995079950799508, 0.0799349292674758, 0.07995095619496505, 0.07996693216324065, 0.08007809399850796, 0.08009381784757769, 0.08009366940396513, 0.08003033127438745, 0.07999873819024937, 0.07998299239382058, 0.08001446518136507, 0.08004583915480133, 0.0799830723656369, 0.07999874806341059, 0.0800612490429837, 0.08007675387279449, 0.08009221040170714, 0.08018537814341924, 0.08020061800282605, 0.08020030697198494, 0.08018451726753456, 0.08013786494799154, 0.08012222033610593, 0.08012203201799664, 0.08010645990061692, 0.0800909356231087, 0.08018281928191286, 0.08015191191559087, 0.08018226021008854, 0.08021251583945284, 0.08027316656758281, 0.08039451454315764, 0.08040911232352092, 0.08043884007829927, 0.08042302389357738, 0.08036187047094598, 0.0803613238470718, 0.0802853652282771, 0.08028493546783934, 0.08023939489631735, 0.08023903544991817, 0.08026866163925578, 0.08028322929297466, 0.08026785847745176, 0.08025253354427546, 0.08022235138075438, 0.08020713977470573, 0.08025140785426665, 0.08029554457648996, 0.08036917971585607, 0.08033904823893137, 0.08030900577539475, 0.08027905193138744, 0.08027864096257788, 0.08026352553638917, 0.08026313857358923, 0.08024809020395596, 0.08027700912138915, 0.08029122381251737, 0.08023240536634502, 0.08021748954096879, 0.08020261713803292, 0.08021685731312045, 0.08015848826577263, 0.08020173620672164, 0.08027380211574363, 0.08033120908657389, 0.08034516096448825, 0.08038789066439965, 0.08043049740291507, 0.080401143661729, 0.08042926213397225, 0.08047162648099597, 0.08045664582767056, 0.08049885001642834, 0.08044107787335417, 0.08044044956624549, 0.08039714940043527, 0.08038238093208903, 0.08032510177160608, 0.08026798487273551, 0.08029589397603994, 0.08022485558113586, 0.08021043426749976, 0.08019605357671018, 0.08019577783716123, 0.08019550287215067, 0.08015315353220852, 0.0801809498466408, 0.08022265422861219, 0.08022234326336225, 0.0802080863586282, 0.08019386916616761, 0.08015187549547294, 0.08012388716823378, 0.0801237153437539, 0.0800958435478733, 0.08006804885132986, 0.0801232027181945, 0.08017820443855947, 0.08023305464112064, 0.08020522413721957, 0.08025988654002006, 0.08023209558167926, 0.080300269859317, 0.08029985909905474, 0.08025846641439324, 0.08025811380472299, 0.08024413836323756, 0.08018938517843295, 0.08016195432127281, 0.08014816623926406, 0.08010731561902955, 0.08008010717040365, 0.08006648558803259, 0.0800529007705699, 0.08005282947669169, 0.07999892329847512, 0.08003924678431741, 0.08005261674339942, 0.08003914156646694, 0.08001231576551854, 0.07999893049558161, 0.07993217714049211, 0.07995893388088159, 0.07995898856206975, 0.0799324477068124, 0.07990597734425837, 0.07990610204108699, 0.07990622640759724, 0.07987989576857449, 0.0798404248292625, 0.07985382778591311, 0.07986719542562022, 0.0798542124445731, 0.07988068487930514, 0.07982834870933453, 0.07986789163969017, 0.07988115338804466, 0.0798682370165096, 0.07994673698776779, 0.0799598440698296, 0.07990781370034244, 0.07986892238072327, 0.0798041583875534, 0.07973956239218687, 0.0797528529423194, 0.07970142688969095, 0.0796759731786411, 0.07967639127237068, 0.07967680828855299, 0.07963861468964363, 0.07967763910489582, 0.07963954249624523, 0.07967846566069665, 0.07970448521785893, 0.07974322578995154, 0.07974355372217469, 0.07976939069654723, 0.07975694577139145, 0.07983358990343635, 0.07983380134941107, 0.07980863187015393, 0.07979620030164383, 0.07982177440791889, 0.07977143146104347, 0.07979697226045125, 0.079822448645036, 0.07979748365889598, 0.07978515993509516, 0.07978542983128353, 0.07986098041429844, 0.07986115462212252, 0.07982378193013855, 0.0798240021999725, 0.07982422191982622, 0.07984937843667785, 0.0797873002826864, 0.07978756483128319, 0.0797629843107539, 0.07978809195915683, 0.07982552880385621, 0.07981336864642764, 0.07980123855082137, 0.079826174985494, 0.07981405901283585, 0.0798142880013793, 0.07981451642661222, 0.07977788970651466, 0.07981497159544054, 0.07975392458425755, 0.07979094503127257, 0.07975452622828572, 0.07977924567465598, 0.07974292996426872, 0.07977978343747336, 0.07975572073332442, 0.07974386702470201, 0.07973204208686788, 0.07973236688040145, 0.07972058449655574, 0.07975719761550647, 0.07972125940507965, 0.07974572079950784, 0.07972193106107155, 0.07969819857763444, 0.07966250405644162, 0.0796989231821947, 0.07971127444515054, 0.07969964431563693, 0.07966411885025299, 0.07966452013715487, 0.07965298743451749, 0.07964148222309626, 0.07967762288544183, 0.07967800620682275, 0.07971401764824645, 0.07966690786586161, 0.07965545431926162, 0.07966769624028118, 0.0796680890296805, 0.07969209336371472, 0.07970424877065128, 0.07969281869471502, 0.07969318008023435, 0.07968178987320948, 0.0797173742092229, 0.07971770553686358, 0.07970632662381003, 0.07968327855814551, 0.07967196644899008, 0.07968401768940853, 0.07960280183214648, 0.07963818814682018, 0.07967349216869571, 0.07968548565057317, 0.07961624575120939, 0.0796282777719841, 0.07965185588129767, 0.07972162171535589, 0.07973349037539983, 0.07971072998004637, 0.07974562505040264, 0.07978043981081921, 0.07980368041746647, 0.07983834858382798, 0.07985000172016377, 0.07980435504747942, 0.07982746192835322, 0.07986194443492074, 0.07989634821520303, 0.07986225926728316, 0.07988519492944272, 0.07989670197153616, 0.07989681935432552, 0.07985153403480097, 0.0798403646217163, 0.07979524580695575, 0.07977285324826643, 0.07977310990836262, 0.07976207943476936, 0.0797848953224879, 0.0797626152858639, 0.07977413077468196, 0.07975191289985506, 0.07972974489624135, 0.07971883723276645, 0.07968555783249907, 0.07964116732475028, 0.07963039519111519, 0.07956384415352508, 0.07956433038650629, 0.07954254406966516, 0.07956529960734586, 0.07955467161475983, 0.07955516586941322, 0.07951131362180021, 0.07955615109467226, 0.07956770389708079, 0.07960133037204009, 0.0796238452114215, 0.07958015898391418, 0.07958062135879561, 0.07957008173727462, 0.07958154305996637, 0.07954907190919967, 0.07957149592657975, 0.07958291804032815, 0.07955055196332644, 0.07954011431569054, 0.07955153328020437, 0.07954111732696481, 0.07957429657629002, 0.07960740361911187, 0.07962956924381256, 0.0796516867352146, 0.07968460211928287, 0.07967410970628704, 0.07969610718498718, 0.07971805710208538, 0.07970756255332016, 0.07966472853583025, 0.07963276257798946, 0.07962239373096092, 0.07962279975484135, 0.07962320490649939, 0.07959142069291102, 0.07959185860816069, 0.07961370863266988, 0.07962481684687864, 0.07964658497238278, 0.0796149454114684, 0.07958337331158516, 0.07957316748490431, 0.07956298337251731, 0.0795209402663096, 0.07954268001401259, 0.0795537693131568, 0.07956483511827205, 0.07957587750394175, 0.07958689654443399, 0.07959789231370312, 0.0796088648853915, 0.07965142622311672, 0.07958863590909569, 0.07959958360059305, 0.07964202056701085, 0.07966338233596709, 0.07964277104013585, 0.07961173181432656, 0.07960167780671751, 0.0795602971755781, 0.07958163275957454, 0.07956121416877822, 0.07961375402339559, 0.07961415594010468, 0.079593767216557, 0.07959418905307318, 0.07954274333253804, 0.0795328545818178, 0.0795229863044896, 0.07954416190111788, 0.07953430233158748, 0.07958638197748218, 0.07958680838341872, 0.07953574113551869, 0.07953621876318145, 0.07950586324909302, 0.07952690424122956, 0.07953764576773571, 0.07953811948648067, 0.0794771803768641, 0.0795083894847701, 0.0795395348362121, 0.07955020867134009, 0.07953028001753296, 0.0794798423641307, 0.07951089002146469, 0.0795215495777482, 0.07956264403407072, 0.07957322948043123, 0.07954326703883446, 0.07956397202457464, 0.07959474626141293, 0.07954465106413067, 0.07953501982825602, 0.0795254080099999, 0.07951581555069939, 0.07955654369674349, 0.07952683892624195, 0.07950723386311383, 0.0794575781586945, 0.07940802196370778, 0.07937858479895096]\n"
          ]
        }
      ]
    }
  ],
  "metadata": {
    "colab": {
      "provenance": []
    },
    "kernelspec": {
      "display_name": "Python 3",
      "name": "python3"
    },
    "language_info": {
      "name": "python"
    }
  },
  "nbformat": 4,
  "nbformat_minor": 0
}